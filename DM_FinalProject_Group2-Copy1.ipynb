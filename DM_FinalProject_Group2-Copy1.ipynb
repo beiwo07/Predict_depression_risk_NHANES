{
 "cells": [
  {
   "cell_type": "code",
   "execution_count": null,
   "id": "a64a2c7a",
   "metadata": {},
   "outputs": [],
   "source": []
  },
  {
   "cell_type": "markdown",
   "metadata": {},
   "source": [
    "# MSCA 31008 Data Mining Principles: Final Project"
   ]
  },
  {
   "cell_type": "markdown",
   "metadata": {},
   "source": [
    "## Developing Depression Risk Prediction Models with the National Health and Nutrition Examination Survey Data 2013-2014"
   ]
  },
  {
   "cell_type": "markdown",
   "metadata": {},
   "source": [
    "### Group 2: Amro Hassan, Kat Hutcheson, Bei Wang, Fangyuan Zhao"
   ]
  },
  {
   "cell_type": "markdown",
   "metadata": {},
   "source": [
    "## 1. Introduction"
   ]
  },
  {
   "cell_type": "markdown",
   "metadata": {},
   "source": [
    "According to WHO, depression has become one of the leading causes of disability worldwide (Santomauro et al., 2020). In the United States, it is also estimated that almost ten million people suffer from depression, while only one-third of them received appropriate treatment (Bailey et al., 2019). Moreover, as the COVID-19 pandemic continues to threat people's mental wellbeing, the burden of major depressive disorder is expected to grow (Santomauro et al., 2020). \n",
    "\n",
    "Meanwhile, the risk factors of depression are multifactoral, including genetics, lifestyle, socioeconomic status, environmental stressors, and other structural factors (Bailey et al., 2019). This makes machine learning techniques extremely helpful in developing a comprehensive depression risk prediction model. With such a model, companies in the healthcare industry can better target people with higher risks of depression, and provide self-testing resources and counseling service to them.   \n",
    "\n",
    "In this regards, the National Health and Nutrition Examination Survey (NHANES) is a great dataset to work on as it contains a rich sample of many critical demographic, socioeconomic and behavioral risk factors as well as measures of depression. In fact, a model with similar intent has been built using the NHANES dataset previously (Oh et al., 2019). However, this model does not take into account the reality that people of different racial/ethnic backgrounds can have very different experiences and stressors in life, which means different risk factors of depression (Bailey et al., 2019). This means that having only one model without including race/ethnicity as a variable might not be a good solution. Fortunately, the NHANES dataset is also multiethnic by design. Therefore, the first objective of our study is to see whether different racial/ethnic populations should use different depression risk prediction models, and if so, build these models accordingly. \n",
    "\n",
    "Another aim of the study is to use only variables that can be easily measured to build the model. This is because the existing model contains many biomarker variables (e.g. blood pressure, Creatinine level in urine, cadmium and Glycohemoglobin level in blood, FVC) that needs to be collected physically. This makes implementation of the current model for business use very difficult and expensive. Therefore, we would like to build the model(s) using only variables that are collected through questionnaire in NHANES. The performance of the risk prediction model(s) will be measured by metrics including overall accuracy, specificity and sensitivity. The existing risk prediction model that used serial datasets from 1999 to 2012 and all available variables had an AUC of 0.92. Thus, an acceptable performance of our model should be at least 0.85."
   ]
  },
  {
   "cell_type": "markdown",
   "metadata": {},
   "source": [
    "## 2. Dataset description"
   ]
  },
  {
   "cell_type": "markdown",
   "metadata": {},
   "source": [
    "The dataset we will be using is the National Health and Nutrition Examination Survey (NHANES, 2013-2014). The NHANES survey is conducted by the Centers for Disease Control and Prevention (CDC) along with the National Center for Health Statistics (NCHS), aiming at providing information on the prevalence of multiple diseases as well as associated risk factors. The survey collected data through survey interviews as well as physical examinations. Starting from 2011, the study intentionally oversampled non-Hispanic Asians, in addition to the ongoing oversample of Hispanics and non-Hispanic blacks, forming a very diverse dataset.\n",
    "\n",
    "In the data, depression is measured using Patient Health Questionnaire (PHQ-9). PHQ-9 comprises five categories, where a cut-off point of 0–4 indicates no depressive symptoms, 5–9 mild depressive symptoms, 10–14 moderate depressive symptoms, 15–19 moderately-severe depressive symptoms, and 20–27 severe depressive symptoms."
   ]
  },
  {
   "cell_type": "markdown",
   "metadata": {},
   "source": [
    "## 3. Prepare and explore the data"
   ]
  },
  {
   "cell_type": "markdown",
   "metadata": {},
   "source": [
    "###  3.1 Data preparation"
   ]
  },
  {
   "cell_type": "code",
   "execution_count": 1,
   "metadata": {},
   "outputs": [
    {
     "name": "stdout",
     "output_type": "stream",
     "text": [
      "no display found. Using non-interactive Agg backend\n"
     ]
    }
   ],
   "source": [
    "import sklearn \n",
    "import pandas as pd \n",
    "import numpy as np\n",
    "import matplotlib.pyplot as plt \n",
    "import seaborn as sns \n",
    "from functools import reduce\n",
    "import os\n",
    "from dmba import classificationSummary\n",
    "%matplotlib inline"
   ]
  },
  {
   "cell_type": "code",
   "execution_count": 3,
   "metadata": {},
   "outputs": [],
   "source": [
    "#not including medications or labs because they are hard to collect in reality\n",
    "os.chdir('/Users/beiw/Google Drive/PHS@UChicago/2021 Autumn/data mining/project/Depression-risk-main/data')\n",
    "files= ['demographic.csv', 'diet.csv', 'questionnaire.csv'] \n",
    "demo= pd.read_csv('demographic.csv')\n",
    "diet= pd.read_csv('diet.csv')\n",
    "exam= pd.read_csv('examination.csv')\n",
    "lab= pd.read_csv('labs.csv')\n",
    "med= pd.read_csv('medications.csv')\n",
    "qr= pd.read_csv('questionnaire.csv')"
   ]
  },
  {
   "cell_type": "code",
   "execution_count": 4,
   "metadata": {},
   "outputs": [
    {
     "name": "stdout",
     "output_type": "stream",
     "text": [
      "demo (10175, 47)\n",
      "diet (9813, 168)\n",
      "exam (9813, 224)\n",
      "lab (9813, 424)\n",
      "med (20194, 13)\n",
      "ques (10175, 953)\n"
     ]
    }
   ],
   "source": [
    "print('demo', demo.shape)\n",
    "print('diet', diet.shape)\n",
    "print('exam', exam.shape)\n",
    "print('lab', lab.shape)\n",
    "print('med', med.shape)\n",
    "print('ques', qr.shape)"
   ]
  },
  {
   "cell_type": "code",
   "execution_count": 8,
   "metadata": {
    "scrolled": true
   },
   "outputs": [
    {
     "name": "stdout",
     "output_type": "stream",
     "text": [
      "merged df shape: (9813, 1166)\n"
     ]
    }
   ],
   "source": [
    "ls=[]\n",
    "for file in files: \n",
    "    df= pd.read_csv(file)\n",
    "    ls.append(df)\n",
    "df_merge= reduce(lambda x,y: pd.merge(x, y,  how='inner', on= 'SEQN', suffixes=('', '_drop')), ls)\n",
    "df_merge.drop([col for col in df_merge.columns if 'drop' in col], axis=1, inplace=True)\n",
    "print(\"merged df shape:\", df_merge.shape)"
   ]
  },
  {
   "cell_type": "code",
   "execution_count": 9,
   "metadata": {
    "scrolled": true
   },
   "outputs": [
    {
     "data": {
      "text/plain": [
       "False    9813\n",
       "Name: SEQN, dtype: int64"
      ]
     },
     "execution_count": 9,
     "metadata": {},
     "output_type": "execute_result"
    }
   ],
   "source": [
    "#check for duplicated SEQN\n",
    "df_merge.SEQN.duplicated().value_counts()"
   ]
  },
  {
   "cell_type": "code",
   "execution_count": 10,
   "metadata": {},
   "outputs": [],
   "source": [
    "#Get codebook for the dataset: for meaning of features\n",
    "#This was done in a seperate files; \n",
    "#some of the variables names are inconsistent, resulting in NaN, so changed them manually.\n",
    "cbook= pd.read_csv('nhanes_2013_2014_codebook.csv')"
   ]
  },
  {
   "cell_type": "markdown",
   "metadata": {},
   "source": [
    "### 3.2 Missing data cleaning\n",
    "Missing data in the dataset are all represented in 7s and 9s. We drop observations that have missing data in the target variable (phq9), which results in 3657 unique observations. Among the rest of the features, we drop those with more than 20% missing data or those are non-numeric, which results in 502 features. Within the dataset that has minimized missingness, we further prepare the data set by imputing the rest of the missingness using the most_frequent method in each column. "
   ]
  },
  {
   "cell_type": "code",
   "execution_count": 11,
   "metadata": {},
   "outputs": [],
   "source": [
    "#replace all 7s and 9s as null \n",
    "df_merge.replace({7:None, 9:None, 77:None,99:None,777:None,999:None,7777:None,9999:None,77777:None,99999:None,\n",
    "            777777:None,999999:None,55:None,555:None,5555:None,8:None,88:None}, inplace=True)"
   ]
  },
  {
   "cell_type": "markdown",
   "metadata": {},
   "source": [
    "#### Drop observations with missingness in target feature\n",
    "The target feature is PHQ9, which consists of 10 features from DPQ010 to DPQ100."
   ]
  },
  {
   "cell_type": "code",
   "execution_count": 12,
   "metadata": {},
   "outputs": [
    {
     "data": {
      "text/plain": [
       "<bound method NDFrame.describe of 0       0.0\n",
       "1       0.0\n",
       "2       0.0\n",
       "3       NaN\n",
       "4       3.0\n",
       "       ... \n",
       "9808    0.0\n",
       "9809    NaN\n",
       "9810    NaN\n",
       "9811    NaN\n",
       "9812    NaN\n",
       "Name: DPQ050, Length: 9813, dtype: float64>"
      ]
     },
     "execution_count": 12,
     "metadata": {},
     "output_type": "execute_result"
    }
   ],
   "source": [
    "#test\n",
    "df_merge.DPQ050.describe"
   ]
  },
  {
   "cell_type": "code",
   "execution_count": 13,
   "metadata": {
    "scrolled": true
   },
   "outputs": [
    {
     "name": "stdout",
     "output_type": "stream",
     "text": [
      "(3657, 1167)\n"
     ]
    }
   ],
   "source": [
    "#create phq9 scores and drop rows with any item missing \n",
    "df_merge['phq9']= df_merge[['DPQ010','DPQ020','DPQ030','DPQ040', 'DPQ050', 'DPQ060', 'DPQ070', 'DPQ080', 'DPQ090', 'DPQ100']].sum(axis=1, skipna=False)\n",
    "df_merge= df_merge[df_merge['phq9'].notna()]\n",
    "print(df_merge.shape)"
   ]
  },
  {
   "cell_type": "code",
   "execution_count": 14,
   "metadata": {
    "scrolled": true
   },
   "outputs": [
    {
     "data": {
      "text/plain": [
       "count    3657.000000\n",
       "mean        5.202625\n",
       "std         4.997506\n",
       "min         1.000000\n",
       "25%         2.000000\n",
       "50%         3.000000\n",
       "75%         7.000000\n",
       "max        30.000000\n",
       "Name: phq9, dtype: float64"
      ]
     },
     "execution_count": 14,
     "metadata": {},
     "output_type": "execute_result"
    }
   ],
   "source": [
    "df_merge.phq9.describe()"
   ]
  },
  {
   "cell_type": "markdown",
   "metadata": {},
   "source": [
    "#### Drop feature columns with more than 20% missing data "
   ]
  },
  {
   "cell_type": "code",
   "execution_count": 15,
   "metadata": {
    "scrolled": true
   },
   "outputs": [],
   "source": [
    "#drop columns with more than no missing data\n",
    "df_merge= df_merge.dropna(thresh= 0.8*len(df_merge), axis=1)"
   ]
  },
  {
   "cell_type": "markdown",
   "metadata": {},
   "source": [
    "#### Drop non-numeric columns"
   ]
  },
  {
   "cell_type": "code",
   "execution_count": 16,
   "metadata": {
    "scrolled": true
   },
   "outputs": [
    {
     "name": "stdout",
     "output_type": "stream",
     "text": [
      "292 columns left\n"
     ]
    }
   ],
   "source": [
    "# exclude non-numeric values\n",
    "df_merge = df_merge.select_dtypes(['number'])\n",
    "print(len(df_merge.columns), 'columns left')"
   ]
  },
  {
   "cell_type": "code",
   "execution_count": 17,
   "metadata": {
    "scrolled": true
   },
   "outputs": [
    {
     "name": "stdout",
     "output_type": "stream",
     "text": [
      "<class 'pandas.core.frame.DataFrame'>\n",
      "Int64Index: 3657 entries, 0 to 9805\n",
      "Columns: 292 entries, SEQN to phq9\n",
      "dtypes: float64(279), int64(13)\n",
      "memory usage: 8.2 MB\n"
     ]
    }
   ],
   "source": [
    "df_merge.info()"
   ]
  },
  {
   "cell_type": "markdown",
   "metadata": {},
   "source": [
    "#### Impute missing values "
   ]
  },
  {
   "cell_type": "code",
   "execution_count": 18,
   "metadata": {},
   "outputs": [],
   "source": [
    "#imputation \n",
    "from sklearn.impute import SimpleImputer\n",
    "imp_mode=SimpleImputer(strategy='most_frequent')\n",
    "\n",
    "df_merge = pd.DataFrame(imp_mode.fit_transform(df_merge), columns=df_merge.columns)\n",
    "#could try other imputation method KNN"
   ]
  },
  {
   "cell_type": "markdown",
   "metadata": {},
   "source": [
    "### 3.3 Variable Selection\n",
    "Since we want to build model(s) that uses only variables that can be measured easily, we will first do some initial selection of the variables."
   ]
  },
  {
   "cell_type": "code",
   "execution_count": 19,
   "metadata": {},
   "outputs": [],
   "source": [
    "#go over the dictionary manually and drop the unwanted variables\n",
    "col = df_merge.columns\n",
    "df_col = cbook[cbook['variable'].isin(col)]\n",
    "df_col.to_csv(r'df_col.csv') #done in excel"
   ]
  },
  {
   "cell_type": "code",
   "execution_count": 20,
   "metadata": {},
   "outputs": [],
   "source": [
    "#remove variables that are related to administration/operation (e.g. language of interview, interpreter code)\n",
    "admin = pd.read_csv('administrative_col.csv')\n",
    "admin_col = admin.columns\n",
    "df_merge = df_merge.drop(admin.columns, 1)"
   ]
  },
  {
   "cell_type": "code",
   "execution_count": 21,
   "metadata": {},
   "outputs": [],
   "source": [
    "#remove variables that are collected and calculated after very detailed Dietary Interviews\n",
    "#(e.g. total dietary fiber)\n",
    "#Can keep variables that can be easily answered\n",
    "#(e.g. Total bottled water drank yesterday)\n",
    "dietary = pd.read_csv('diet_col.csv')\n",
    "diet_col = dietary.columns\n",
    "df_merge = df_merge.drop(dietary.columns, 1)"
   ]
  },
  {
   "cell_type": "code",
   "execution_count": 22,
   "metadata": {},
   "outputs": [],
   "source": [
    "# remove one of HUQ010 and HSD010 (identical question asked in different surveys, highly correlated)\n",
    "df_merge = df_merge.drop('HUQ010', 1)"
   ]
  },
  {
   "cell_type": "code",
   "execution_count": 23,
   "metadata": {},
   "outputs": [
    {
     "name": "stdout",
     "output_type": "stream",
     "text": [
      "<class 'pandas.core.frame.DataFrame'>\n",
      "RangeIndex: 3657 entries, 0 to 3656\n",
      "Columns: 212 entries, SEQN to phq9\n",
      "dtypes: float64(212)\n",
      "memory usage: 5.9 MB\n"
     ]
    }
   ],
   "source": [
    "df_merge.info()"
   ]
  },
  {
   "cell_type": "code",
   "execution_count": 24,
   "metadata": {},
   "outputs": [],
   "source": [
    "df_merge.to_csv(r'df_merge.csv')"
   ]
  },
  {
   "cell_type": "code",
   "execution_count": 26,
   "metadata": {},
   "outputs": [
    {
     "data": {
      "text/plain": [
       "(3657, 212)"
      ]
     },
     "execution_count": 26,
     "metadata": {},
     "output_type": "execute_result"
    }
   ],
   "source": [
    "df_merge.shape"
   ]
  },
  {
   "cell_type": "markdown",
   "metadata": {},
   "source": [
    "Now, after cleaning, only 212 columns left"
   ]
  },
  {
   "cell_type": "markdown",
   "metadata": {},
   "source": [
    "### 3.4 Target features (PHQ9) visualization\n",
    "\n",
    "The target feature was looked at in a few different ways: \n",
    "\n",
    "#### PHQ9 itself is a numeric feature with a possible range from 0 to 30\n",
    "\n",
    "#### PHQ9 was dichotomized in the follow ways according to exisitng literature  \n",
    "\n",
    "* Mild depression: phq9>=5\n",
    "\n",
    "* Moderate depression: phq9>=15  \n",
    "\n",
    "* Severe depression: phq9>=20 \n",
    "\n",
    "#### Suicidal ideation was added as a potential target\n",
    "\n",
    "* Suicidal ideation: DPQ090 >0\n"
   ]
  },
  {
   "cell_type": "markdown",
   "metadata": {},
   "source": [
    "#### Numeric PHQ9 "
   ]
  },
  {
   "cell_type": "code",
   "execution_count": 25,
   "metadata": {
    "scrolled": true
   },
   "outputs": [
    {
     "data": {
      "text/plain": [
       "(array([1866.,  800.,  411.,  236.,  135.,   93.,   63.,   32.,   16.,\n",
       "           5.]),\n",
       " array([ 1. ,  3.9,  6.8,  9.7, 12.6, 15.5, 18.4, 21.3, 24.2, 27.1, 30. ]),\n",
       " <BarContainer object of 10 artists>)"
      ]
     },
     "execution_count": 25,
     "metadata": {},
     "output_type": "execute_result"
    },
    {
     "data": {
      "image/png": "[encoded data removed]",
      "text/plain": [
       "<Figure size 432x288 with 1 Axes>"
      ]
     },
     "metadata": {
      "needs_background": "light"
     },
     "output_type": "display_data"
    }
   ],
   "source": [
    "plt.hist(df_merge.phq9)"
   ]
  },
  {
   "cell_type": "markdown",
   "metadata": {},
   "source": [
    "#### Mild depression"
   ]
  },
  {
   "cell_type": "code",
   "execution_count": 27,
   "metadata": {},
   "outputs": [
    {
     "name": "stdout",
     "output_type": "stream",
     "text": [
      "mild 0    2228\n",
      "1    1429\n",
      "Name: mild_dep, dtype: int64\n"
     ]
    }
   ],
   "source": [
    "df_merge['mild_dep']= np.where(df_merge['phq9']>=5,1,0)\n",
    "print('mild', df_merge['mild_dep'].value_counts())"
   ]
  },
  {
   "cell_type": "code",
   "execution_count": 28,
   "metadata": {},
   "outputs": [
    {
     "data": {
      "text/plain": [
       "(array([2228.,    0.,    0.,    0.,    0.,    0.,    0.,    0.,    0.,\n",
       "        1429.]),\n",
       " array([0. , 0.1, 0.2, 0.3, 0.4, 0.5, 0.6, 0.7, 0.8, 0.9, 1. ]),\n",
       " <BarContainer object of 10 artists>)"
      ]
     },
     "execution_count": 28,
     "metadata": {},
     "output_type": "execute_result"
    },
    {
     "data": {
      "image/png": "[encoded data removed]",
      "text/plain": [
       "<Figure size 432x288 with 1 Axes>"
      ]
     },
     "metadata": {
      "needs_background": "light"
     },
     "output_type": "display_data"
    }
   ],
   "source": [
    "plt.hist(df_merge.mild_dep)"
   ]
  },
  {
   "cell_type": "markdown",
   "metadata": {},
   "source": [
    "#### Moderate depression"
   ]
  },
  {
   "cell_type": "code",
   "execution_count": 29,
   "metadata": {},
   "outputs": [
    {
     "name": "stdout",
     "output_type": "stream",
     "text": [
      "modereate 0    3402\n",
      "1     255\n",
      "Name: mod_dep, dtype: int64\n"
     ]
    }
   ],
   "source": [
    "df_merge['mod_dep']= np.where(df_merge['phq9']>=15,1,0)\n",
    "print('modereate', df_merge['mod_dep'].value_counts())"
   ]
  },
  {
   "cell_type": "code",
   "execution_count": 30,
   "metadata": {},
   "outputs": [
    {
     "data": {
      "text/plain": [
       "(array([3402.,    0.,    0.,    0.,    0.,    0.,    0.,    0.,    0.,\n",
       "         255.]),\n",
       " array([0. , 0.1, 0.2, 0.3, 0.4, 0.5, 0.6, 0.7, 0.8, 0.9, 1. ]),\n",
       " <BarContainer object of 10 artists>)"
      ]
     },
     "execution_count": 30,
     "metadata": {},
     "output_type": "execute_result"
    },
    {
     "data": {
      "image/png": "[encoded data removed]",
      "text/plain": [
       "<Figure size 432x288 with 1 Axes>"
      ]
     },
     "metadata": {
      "needs_background": "light"
     },
     "output_type": "display_data"
    }
   ],
   "source": [
    "plt.hist(df_merge.mod_dep)"
   ]
  },
  {
   "cell_type": "markdown",
   "metadata": {},
   "source": [
    "#### Severe depression"
   ]
  },
  {
   "cell_type": "code",
   "execution_count": 31,
   "metadata": {},
   "outputs": [
    {
     "name": "stdout",
     "output_type": "stream",
     "text": [
      "severe 0    3564\n",
      "1      93\n",
      "Name: sev_dep, dtype: int64\n"
     ]
    }
   ],
   "source": [
    "df_merge['sev_dep']= np.where(df_merge['phq9']>=20,1,0)\n",
    "print('severe', df_merge['sev_dep'].value_counts())"
   ]
  },
  {
   "cell_type": "code",
   "execution_count": 32,
   "metadata": {
    "scrolled": true
   },
   "outputs": [
    {
     "data": {
      "text/plain": [
       "(array([3564.,    0.,    0.,    0.,    0.,    0.,    0.,    0.,    0.,\n",
       "          93.]),\n",
       " array([0. , 0.1, 0.2, 0.3, 0.4, 0.5, 0.6, 0.7, 0.8, 0.9, 1. ]),\n",
       " <BarContainer object of 10 artists>)"
      ]
     },
     "execution_count": 32,
     "metadata": {},
     "output_type": "execute_result"
    },
    {
     "data": {
      "image/png": "[encoded data removed]",
      "text/plain": [
       "<Figure size 432x288 with 1 Axes>"
      ]
     },
     "metadata": {
      "needs_background": "light"
     },
     "output_type": "display_data"
    }
   ],
   "source": [
    "plt.hist(df_merge.sev_dep)"
   ]
  },
  {
   "cell_type": "markdown",
   "metadata": {},
   "source": [
    "#### Suicidal ideation"
   ]
  },
  {
   "cell_type": "code",
   "execution_count": 33,
   "metadata": {
    "scrolled": true
   },
   "outputs": [
    {
     "name": "stdout",
     "output_type": "stream",
     "text": [
      "suicidal 0    3474\n",
      "1     183\n",
      "Name: suicidal, dtype: int64\n"
     ]
    }
   ],
   "source": [
    "df_merge['suicidal']= np.where(df_merge['DPQ090']>0,1,0)\n",
    "print('suicidal', df_merge['suicidal'].value_counts())"
   ]
  },
  {
   "cell_type": "code",
   "execution_count": 34,
   "metadata": {
    "scrolled": true
   },
   "outputs": [
    {
     "data": {
      "text/plain": [
       "(array([3474.,    0.,    0.,    0.,    0.,    0.,    0.,    0.,    0.,\n",
       "         183.]),\n",
       " array([0. , 0.1, 0.2, 0.3, 0.4, 0.5, 0.6, 0.7, 0.8, 0.9, 1. ]),\n",
       " <BarContainer object of 10 artists>)"
      ]
     },
     "execution_count": 34,
     "metadata": {},
     "output_type": "execute_result"
    },
    {
     "data": {
      "image/png": "[encoded data removed]",
      "text/plain": [
       "<Figure size 432x288 with 1 Axes>"
      ]
     },
     "metadata": {
      "needs_background": "light"
     },
     "output_type": "display_data"
    }
   ],
   "source": [
    "plt.hist(df_merge.suicidal)"
   ]
  },
  {
   "cell_type": "markdown",
   "metadata": {},
   "source": [
    "## 3.4 Other key features exploration\n",
    "We explored other key demographic features to describe this population. \n",
    "\n",
    "* A large proportion of the population is non-Hispanic white while there are also Hispanics, non-Hispanic blacks, and non-Hispanic Asians. \n",
    "\n",
    "* People's age ranges from 18 to 80 with larger proportions of the youngest and the oldest group. \n",
    "\n",
    "* There are more females than males. This population is also highly educated. About a quarter of the population was not US-born. \n",
    "\n",
    "*note: could some visualization of depression outcomes by these features*"
   ]
  },
  {
   "cell_type": "markdown",
   "metadata": {},
   "source": [
    "### Race and ethnicity \n",
    "1(Mexican American), 2(Other Hispanic); 3(non-H white); 4(non-H black); 6(non-H Asian)\n",
    "\n",
    "https://wwwn.cdc.gov/Nchs/Nhanes/2013-2014/DEMO_H.htm\n"
   ]
  },
  {
   "cell_type": "code",
   "execution_count": 36,
   "metadata": {
    "scrolled": false
   },
   "outputs": [
    {
     "data": {
      "text/plain": [
       "(array([ 489.,    0.,  333.,    0., 1772.,    0.,  712.,    0.,    0.,\n",
       "         351.]),\n",
       " array([1. , 1.5, 2. , 2.5, 3. , 3.5, 4. , 4.5, 5. , 5.5, 6. ]),\n",
       " <BarContainer object of 10 artists>)"
      ]
     },
     "execution_count": 36,
     "metadata": {},
     "output_type": "execute_result"
    },
    {
     "data": {
      "image/png": "[encoded data removed]",
      "text/plain": [
       "<Figure size 432x288 with 1 Axes>"
      ]
     },
     "metadata": {
      "needs_background": "light"
     },
     "output_type": "display_data"
    }
   ],
   "source": [
    "plt.hist(df_merge.RIDRETH3)"
   ]
  },
  {
   "cell_type": "markdown",
   "metadata": {},
   "source": [
    "### Age"
   ]
  },
  {
   "cell_type": "code",
   "execution_count": 37,
   "metadata": {},
   "outputs": [
    {
     "data": {
      "text/plain": [
       "(array([569., 336., 346., 349., 328., 318., 355., 373., 264., 419.]),\n",
       " array([18. , 24.2, 30.4, 36.6, 42.8, 49. , 55.2, 61.4, 67.6, 73.8, 80. ]),\n",
       " <BarContainer object of 10 artists>)"
      ]
     },
     "execution_count": 37,
     "metadata": {},
     "output_type": "execute_result"
    },
    {
     "data": {
      "image/png": "[encoded data removed]",
      "text/plain": [
       "<Figure size 432x288 with 1 Axes>"
      ]
     },
     "metadata": {
      "needs_background": "light"
     },
     "output_type": "display_data"
    }
   ],
   "source": [
    "plt.hist(df_merge.RIDAGEYR)"
   ]
  },
  {
   "cell_type": "code",
   "execution_count": 38,
   "metadata": {
    "scrolled": true
   },
   "outputs": [
    {
     "data": {
      "text/plain": [
       "count    3657.000000\n",
       "mean       47.581624\n",
       "std        19.245747\n",
       "min        18.000000\n",
       "25%        31.000000\n",
       "50%        47.000000\n",
       "75%        64.000000\n",
       "max        80.000000\n",
       "Name: RIDAGEYR, dtype: float64"
      ]
     },
     "execution_count": 38,
     "metadata": {},
     "output_type": "execute_result"
    }
   ],
   "source": [
    "df_merge.RIDAGEYR.describe()"
   ]
  },
  {
   "cell_type": "markdown",
   "metadata": {},
   "source": [
    "### Gender (1: male; 2: female)"
   ]
  },
  {
   "cell_type": "code",
   "execution_count": 39,
   "metadata": {},
   "outputs": [
    {
     "data": {
      "text/plain": [
       "(array([1582.,    0.,    0.,    0.,    0.,    0.,    0.,    0.,    0.,\n",
       "        2075.]),\n",
       " array([1. , 1.1, 1.2, 1.3, 1.4, 1.5, 1.6, 1.7, 1.8, 1.9, 2. ]),\n",
       " <BarContainer object of 10 artists>)"
      ]
     },
     "execution_count": 39,
     "metadata": {},
     "output_type": "execute_result"
    },
    {
     "data": {
      "image/png": "[encoded data removed]",
      "text/plain": [
       "<Figure size 432x288 with 1 Axes>"
      ]
     },
     "metadata": {
      "needs_background": "light"
     },
     "output_type": "display_data"
    }
   ],
   "source": [
    "plt.hist(df_merge.RIAGENDR)"
   ]
  },
  {
   "cell_type": "markdown",
   "metadata": {},
   "source": [
    "### Education attainment \n",
    "1(less than high school); 2(some high school); 3(high school graduate/GED or equivalent); 4(some college or AA degree); 5(college graduate or above)"
   ]
  },
  {
   "cell_type": "code",
   "execution_count": 40,
   "metadata": {},
   "outputs": [
    {
     "data": {
      "text/plain": [
       "(array([ 225.,    0.,  478.,    0.,    0.,  807.,    0., 1335.,    0.,\n",
       "         812.]),\n",
       " array([1. , 1.4, 1.8, 2.2, 2.6, 3. , 3.4, 3.8, 4.2, 4.6, 5. ]),\n",
       " <BarContainer object of 10 artists>)"
      ]
     },
     "execution_count": 40,
     "metadata": {},
     "output_type": "execute_result"
    },
    {
     "data": {
      "image/png": "[encoded data removed]",
      "text/plain": [
       "<Figure size 432x288 with 1 Axes>"
      ]
     },
     "metadata": {
      "needs_background": "light"
     },
     "output_type": "display_data"
    }
   ],
   "source": [
    "plt.hist(df_merge.DMDEDUC2)"
   ]
  },
  {
   "cell_type": "markdown",
   "metadata": {},
   "source": [
    "### Country of birth (1: born in the US; 2: not born in the US)"
   ]
  },
  {
   "cell_type": "code",
   "execution_count": 41,
   "metadata": {},
   "outputs": [
    {
     "data": {
      "text/plain": [
       "(array([2749.,    0.,    0.,    0.,    0.,    0.,    0.,    0.,    0.,\n",
       "         908.]),\n",
       " array([1. , 1.1, 1.2, 1.3, 1.4, 1.5, 1.6, 1.7, 1.8, 1.9, 2. ]),\n",
       " <BarContainer object of 10 artists>)"
      ]
     },
     "execution_count": 41,
     "metadata": {},
     "output_type": "execute_result"
    },
    {
     "data": {
      "image/png": "[encoded data removed]",
      "text/plain": [
       "<Figure size 432x288 with 1 Axes>"
      ]
     },
     "metadata": {
      "needs_background": "light"
     },
     "output_type": "display_data"
    }
   ],
   "source": [
    "plt.hist(df_merge.DMDBORN4)"
   ]
  },
  {
   "cell_type": "markdown",
   "metadata": {},
   "source": [
    "## 3.5 Feature selection (feature importance)"
   ]
  },
  {
   "cell_type": "markdown",
   "metadata": {},
   "source": [
    "### Create a function for normalize data "
   ]
  },
  {
   "cell_type": "code",
   "execution_count": 42,
   "metadata": {},
   "outputs": [],
   "source": [
    "from sklearn.preprocessing import StandardScaler \n",
    "def normalize_data(X): \n",
    "    X_std= pd.DataFrame(StandardScaler().fit_transform(X))\n",
    "    X_std.columns= X.columns\n",
    "    return X_std"
   ]
  },
  {
   "cell_type": "markdown",
   "metadata": {},
   "source": [
    "### Linear regression using phq9 as a numeric target\n",
    "\n",
    "Coefficients of regressions can be used directly as some crude type of feature importance score. So I'm starting with regression models and use their coefficients for insights on feature selection.\n",
    "\n",
    "This is an overfitting and naiive model that I use to get some sense of the top ranked coefficients for feature selection."
   ]
  },
  {
   "cell_type": "code",
   "execution_count": 43,
   "metadata": {},
   "outputs": [
    {
     "name": "stdout",
     "output_type": "stream",
     "text": [
      "Training_X:  (2194, 200)\n",
      "Validation_X:  (1463, 200)\n",
      "Training_y:  (2194, 1)\n",
      "Validation_y:  (1463, 1)\n"
     ]
    },
    {
     "data": {
      "text/plain": [
       "LinearRegression()"
      ]
     },
     "execution_count": 43,
     "metadata": {},
     "output_type": "execute_result"
    }
   ],
   "source": [
    "from sklearn.linear_model import LinearRegression\n",
    "from sklearn.metrics import accuracy_score\n",
    "from matplotlib import pyplot\n",
    "from sklearn.model_selection import train_test_split\n",
    "#partition into X and y\n",
    "target=['phq9']\n",
    "drop_features= ['phq9',\n",
    "                'SEQN',\n",
    "                'DPQ010', 'DPQ020', 'DPQ030', 'DPQ040', 'DPQ050', 'DPQ060','DPQ070','DPQ080', 'DPQ090', 'DPQ100',\n",
    "               'mild_dep', 'mod_dep', 'sev_dep', 'suicidal']\n",
    "X = df_merge[df_merge.columns.drop(drop_features)]\n",
    "y= df_merge[target]\n",
    "X_scaled= normalize_data(X)\n",
    "y_scaled= normalize_data(y)\n",
    "# #normalize data\n",
    "# X_scaled= normalize_data(X)\n",
    "# y_scaled= normalize_data(y)\n",
    "# #training and validation sets split based on normalized data\n",
    "train_X, valid_X, train_y, valid_y = train_test_split(X_scaled, y_scaled, test_size=0.4, random_state=42)\n",
    "print('Training_X: ', train_X.shape)\n",
    "print('Validation_X: ', valid_X.shape)\n",
    "print('Training_y: ', train_y.shape)\n",
    "print('Validation_y: ', valid_y.shape)\n",
    "lr=LinearRegression()\n",
    "lr.fit(train_X, train_y)"
   ]
  },
  {
   "cell_type": "code",
   "execution_count": 44,
   "metadata": {},
   "outputs": [],
   "source": [
    "importance= lr.coef_\n",
    "importance= importance.flatten()\n",
    "columns= df_merge.columns\n",
    "df = pd.DataFrame({'feature': train_X.columns, 'importance': importance})\n",
    "df = df.sort_values('importance', ascending=False)"
   ]
  },
  {
   "cell_type": "code",
   "execution_count": 45,
   "metadata": {
    "scrolled": true
   },
   "outputs": [
    {
     "name": "stderr",
     "output_type": "stream",
     "text": [
      "<ipython-input-45-d343ccd9b52f>:4: SettingWithCopyWarning: \n",
      "A value is trying to be set on a copy of a slice from a DataFrame.\n",
      "Try using .loc[row_indexer,col_indexer] = value instead\n",
      "\n",
      "See the caveats in the documentation: https://pandas.pydata.org/pandas-docs/stable/user_guide/indexing.html#returning-a-view-versus-a-copy\n",
      "  df30['variable'] = df30['variable'].apply(lambda x: x.upper())\n"
     ]
    }
   ],
   "source": [
    "#select top 30 features \n",
    "df30= df[:30]\n",
    "df30.columns=['variable', 'importance']\n",
    "df30['variable'] = df30['variable'].apply(lambda x: x.upper())\n",
    "df30 = pd.merge(left=df30, right=cbook, left_on='variable', right_on='variable', how='left')"
   ]
  },
  {
   "cell_type": "code",
   "execution_count": 46,
   "metadata": {},
   "outputs": [
    {
     "data": {
      "text/html": [
       "<div>\n",
       "<style scoped>\n",
       "    .dataframe tbody tr th:only-of-type {\n",
       "        vertical-align: middle;\n",
       "    }\n",
       "\n",
       "    .dataframe tbody tr th {\n",
       "        vertical-align: top;\n",
       "    }\n",
       "\n",
       "    .dataframe thead th {\n",
       "        text-align: right;\n",
       "    }\n",
       "</style>\n",
       "<table border=\"1\" class=\"dataframe\">\n",
       "  <thead>\n",
       "    <tr style=\"text-align: right;\">\n",
       "      <th></th>\n",
       "      <th>variable</th>\n",
       "      <th>importance</th>\n",
       "      <th>label</th>\n",
       "    </tr>\n",
       "  </thead>\n",
       "  <tbody>\n",
       "    <tr>\n",
       "      <th>0</th>\n",
       "      <td>DRABF</td>\n",
       "      <td>3.388439e+11</td>\n",
       "      <td>Breast-fed infant (either day)</td>\n",
       "    </tr>\n",
       "    <tr>\n",
       "      <th>1</th>\n",
       "      <td>HSAQUEX</td>\n",
       "      <td>7.690430e+10</td>\n",
       "      <td>Source of Health Status Data</td>\n",
       "    </tr>\n",
       "    <tr>\n",
       "      <th>2</th>\n",
       "      <td>RIDSTATR</td>\n",
       "      <td>1.459828e+05</td>\n",
       "      <td>Interview/Examination status</td>\n",
       "    </tr>\n",
       "    <tr>\n",
       "      <th>3</th>\n",
       "      <td>DR1.320Z</td>\n",
       "      <td>1.889268e+00</td>\n",
       "      <td>NaN</td>\n",
       "    </tr>\n",
       "    <tr>\n",
       "      <th>4</th>\n",
       "      <td>WTINT2YR</td>\n",
       "      <td>5.060547e-01</td>\n",
       "      <td>Full sample 2 year interview weight</td>\n",
       "    </tr>\n",
       "    <tr>\n",
       "      <th>5</th>\n",
       "      <td>HSD010</td>\n",
       "      <td>1.753291e-01</td>\n",
       "      <td>General health condition</td>\n",
       "    </tr>\n",
       "    <tr>\n",
       "      <th>6</th>\n",
       "      <td>SMDANY</td>\n",
       "      <td>1.204273e-01</td>\n",
       "      <td>Used any tobacco product last 5 days?</td>\n",
       "    </tr>\n",
       "    <tr>\n",
       "      <th>7</th>\n",
       "      <td>RIDRETH1</td>\n",
       "      <td>1.112498e-01</td>\n",
       "      <td>Race/Hispanic origin</td>\n",
       "    </tr>\n",
       "    <tr>\n",
       "      <th>8</th>\n",
       "      <td>RIAGENDR</td>\n",
       "      <td>1.067921e-01</td>\n",
       "      <td>Gender</td>\n",
       "    </tr>\n",
       "    <tr>\n",
       "      <th>9</th>\n",
       "      <td>HIQ011</td>\n",
       "      <td>7.578373e-02</td>\n",
       "      <td>Covered by health insurance</td>\n",
       "    </tr>\n",
       "    <tr>\n",
       "      <th>10</th>\n",
       "      <td>DR1HELPD</td>\n",
       "      <td>7.438582e-02</td>\n",
       "      <td>Helped in responding for this interview</td>\n",
       "    </tr>\n",
       "    <tr>\n",
       "      <th>11</th>\n",
       "      <td>DR1MNRSP</td>\n",
       "      <td>7.014623e-02</td>\n",
       "      <td>Main respondent for this interview</td>\n",
       "    </tr>\n",
       "    <tr>\n",
       "      <th>12</th>\n",
       "      <td>DMDFMSIZ</td>\n",
       "      <td>6.398622e-02</td>\n",
       "      <td>Total number of people in the Family</td>\n",
       "    </tr>\n",
       "    <tr>\n",
       "      <th>13</th>\n",
       "      <td>MCQ370C</td>\n",
       "      <td>6.340114e-02</td>\n",
       "      <td>NaN</td>\n",
       "    </tr>\n",
       "    <tr>\n",
       "      <th>14</th>\n",
       "      <td>FSDAD</td>\n",
       "      <td>5.602407e-02</td>\n",
       "      <td>Adult food security category</td>\n",
       "    </tr>\n",
       "    <tr>\n",
       "      <th>15</th>\n",
       "      <td>WHQ030</td>\n",
       "      <td>4.998999e-02</td>\n",
       "      <td>How do you consider your weight</td>\n",
       "    </tr>\n",
       "    <tr>\n",
       "      <th>16</th>\n",
       "      <td>CBQ545</td>\n",
       "      <td>4.910927e-02</td>\n",
       "      <td>Would use fast food nutrition info</td>\n",
       "    </tr>\n",
       "    <tr>\n",
       "      <th>17</th>\n",
       "      <td>CBD120</td>\n",
       "      <td>4.528822e-02</td>\n",
       "      <td>Money spent on eating out</td>\n",
       "    </tr>\n",
       "    <tr>\n",
       "      <th>18</th>\n",
       "      <td>MCQ160L</td>\n",
       "      <td>4.518674e-02</td>\n",
       "      <td>Ever told you had any liver condition</td>\n",
       "    </tr>\n",
       "    <tr>\n",
       "      <th>19</th>\n",
       "      <td>INDFMPIR</td>\n",
       "      <td>4.477191e-02</td>\n",
       "      <td>Ratio of family income to poverty</td>\n",
       "    </tr>\n",
       "    <tr>\n",
       "      <th>20</th>\n",
       "      <td>WHD020</td>\n",
       "      <td>4.414011e-02</td>\n",
       "      <td>Current self-reported weight (pounds)</td>\n",
       "    </tr>\n",
       "    <tr>\n",
       "      <th>21</th>\n",
       "      <td>WHQ070</td>\n",
       "      <td>4.120782e-02</td>\n",
       "      <td>Tried to lose weight in past year</td>\n",
       "    </tr>\n",
       "    <tr>\n",
       "      <th>22</th>\n",
       "      <td>DRD340</td>\n",
       "      <td>4.089848e-02</td>\n",
       "      <td>Shellfish eaten during past 30 days</td>\n",
       "    </tr>\n",
       "    <tr>\n",
       "      <th>23</th>\n",
       "      <td>DMDMARTL</td>\n",
       "      <td>3.879930e-02</td>\n",
       "      <td>Marital status</td>\n",
       "    </tr>\n",
       "    <tr>\n",
       "      <th>24</th>\n",
       "      <td>DIQ010</td>\n",
       "      <td>3.783762e-02</td>\n",
       "      <td>Doctor told you have diabetes</td>\n",
       "    </tr>\n",
       "    <tr>\n",
       "      <th>25</th>\n",
       "      <td>FSD032B</td>\n",
       "      <td>3.709435e-02</td>\n",
       "      <td>HH Food didn't last</td>\n",
       "    </tr>\n",
       "    <tr>\n",
       "      <th>26</th>\n",
       "      <td>MCQ092</td>\n",
       "      <td>3.459632e-02</td>\n",
       "      <td>Ever receive blood transfusion</td>\n",
       "    </tr>\n",
       "    <tr>\n",
       "      <th>27</th>\n",
       "      <td>INQ080</td>\n",
       "      <td>3.178903e-02</td>\n",
       "      <td>Income from retirement/survivor pension</td>\n",
       "    </tr>\n",
       "    <tr>\n",
       "      <th>28</th>\n",
       "      <td>MCQ160G</td>\n",
       "      <td>3.155798e-02</td>\n",
       "      <td>NaN</td>\n",
       "    </tr>\n",
       "    <tr>\n",
       "      <th>29</th>\n",
       "      <td>INQ132</td>\n",
       "      <td>3.147046e-02</td>\n",
       "      <td>Income from state/county cash assistance</td>\n",
       "    </tr>\n",
       "  </tbody>\n",
       "</table>\n",
       "</div>"
      ],
      "text/plain": [
       "    variable    importance                                     label\n",
       "0      DRABF  3.388439e+11            Breast-fed infant (either day)\n",
       "1    HSAQUEX  7.690430e+10              Source of Health Status Data\n",
       "2   RIDSTATR  1.459828e+05              Interview/Examination status\n",
       "3   DR1.320Z  1.889268e+00                                       NaN\n",
       "4   WTINT2YR  5.060547e-01       Full sample 2 year interview weight\n",
       "5     HSD010  1.753291e-01                  General health condition\n",
       "6     SMDANY  1.204273e-01     Used any tobacco product last 5 days?\n",
       "7   RIDRETH1  1.112498e-01                      Race/Hispanic origin\n",
       "8   RIAGENDR  1.067921e-01                                    Gender\n",
       "9     HIQ011  7.578373e-02               Covered by health insurance\n",
       "10  DR1HELPD  7.438582e-02   Helped in responding for this interview\n",
       "11  DR1MNRSP  7.014623e-02        Main respondent for this interview\n",
       "12  DMDFMSIZ  6.398622e-02      Total number of people in the Family\n",
       "13   MCQ370C  6.340114e-02                                       NaN\n",
       "14     FSDAD  5.602407e-02              Adult food security category\n",
       "15    WHQ030  4.998999e-02           How do you consider your weight\n",
       "16    CBQ545  4.910927e-02        Would use fast food nutrition info\n",
       "17    CBD120  4.528822e-02                 Money spent on eating out\n",
       "18   MCQ160L  4.518674e-02     Ever told you had any liver condition\n",
       "19  INDFMPIR  4.477191e-02         Ratio of family income to poverty\n",
       "20    WHD020  4.414011e-02     Current self-reported weight (pounds)\n",
       "21    WHQ070  4.120782e-02         Tried to lose weight in past year\n",
       "22    DRD340  4.089848e-02       Shellfish eaten during past 30 days\n",
       "23  DMDMARTL  3.879930e-02                            Marital status\n",
       "24    DIQ010  3.783762e-02             Doctor told you have diabetes\n",
       "25   FSD032B  3.709435e-02                       HH Food didn't last\n",
       "26    MCQ092  3.459632e-02            Ever receive blood transfusion\n",
       "27    INQ080  3.178903e-02   Income from retirement/survivor pension\n",
       "28   MCQ160G  3.155798e-02                                       NaN\n",
       "29    INQ132  3.147046e-02  Income from state/county cash assistance"
      ]
     },
     "execution_count": 46,
     "metadata": {},
     "output_type": "execute_result"
    }
   ],
   "source": [
    "df30"
   ]
  },
  {
   "cell_type": "markdown",
   "metadata": {},
   "source": [
    "### Logistic regression: moderate depression\n",
    "This is an overfitting and naiive model that I use to get some sense of the top ranked coefficients for feature selection."
   ]
  },
  {
   "cell_type": "code",
   "execution_count": 47,
   "metadata": {},
   "outputs": [
    {
     "name": "stdout",
     "output_type": "stream",
     "text": [
      "Training_X:  (2194, 200)\n",
      "Validation_X:  (1463, 200)\n",
      "Training_y:  (2194, 1)\n",
      "Validation_y:  (1463, 1)\n"
     ]
    },
    {
     "name": "stderr",
     "output_type": "stream",
     "text": [
      "/Users/beiw/opt/anaconda3/lib/python3.8/site-packages/sklearn/utils/validation.py:63: DataConversionWarning: A column-vector y was passed when a 1d array was expected. Please change the shape of y to (n_samples, ), for example using ravel().\n",
      "  return f(*args, **kwargs)\n",
      "/Users/beiw/opt/anaconda3/lib/python3.8/site-packages/sklearn/linear_model/_logistic.py:763: ConvergenceWarning: lbfgs failed to converge (status=1):\n",
      "STOP: TOTAL NO. of ITERATIONS REACHED LIMIT.\n",
      "\n",
      "Increase the number of iterations (max_iter) or scale the data as shown in:\n",
      "    https://scikit-learn.org/stable/modules/preprocessing.html\n",
      "Please also refer to the documentation for alternative solver options:\n",
      "    https://scikit-learn.org/stable/modules/linear_model.html#logistic-regression\n",
      "  n_iter_i = _check_optimize_result(\n"
     ]
    },
    {
     "data": {
      "text/plain": [
       "LogisticRegression()"
      ]
     },
     "execution_count": 47,
     "metadata": {},
     "output_type": "execute_result"
    }
   ],
   "source": [
    "from sklearn.linear_model import LogisticRegression\n",
    "from sklearn.metrics import accuracy_score\n",
    "from matplotlib import pyplot\n",
    "#partition into X and y\n",
    "target=['mod_dep']\n",
    "drop_features= ['phq9',\n",
    "                'SEQN',\n",
    "                'DPQ010', 'DPQ020', 'DPQ030', 'DPQ040', 'DPQ050', 'DPQ060','DPQ070','DPQ080', 'DPQ090', 'DPQ100',\n",
    "               'mild_dep', 'sev_dep', 'suicidal', 'mod_dep']\n",
    "X = df_merge[df_merge.columns.drop(drop_features)]\n",
    "y= df_merge[target]\n",
    "X_scaled= normalize_data(X)\n",
    "# training and validation sets split, predictors are scaled\n",
    "train_X, valid_X, train_y, valid_y = train_test_split(X_scaled, y, test_size=0.4, random_state=42, stratify=y)\n",
    "print('Training_X: ', train_X.shape)\n",
    "print('Validation_X: ', valid_X.shape)\n",
    "print('Training_y: ', train_y.shape)\n",
    "print('Validation_y: ', valid_y.shape)\n",
    "\n",
    "#fit the model \n",
    "logit=LogisticRegression()\n",
    "logit.fit(train_X, train_y)"
   ]
  },
  {
   "cell_type": "code",
   "execution_count": 48,
   "metadata": {},
   "outputs": [],
   "source": [
    "importance= logit.coef_\n",
    "importance= importance.flatten()\n",
    "columns= df_merge.columns\n",
    "df = pd.DataFrame({'feature': train_X.columns, 'importance': importance})\n",
    "df = df.sort_values('importance', ascending=False)"
   ]
  },
  {
   "cell_type": "code",
   "execution_count": 49,
   "metadata": {
    "scrolled": false
   },
   "outputs": [
    {
     "name": "stderr",
     "output_type": "stream",
     "text": [
      "<ipython-input-49-d343ccd9b52f>:4: SettingWithCopyWarning: \n",
      "A value is trying to be set on a copy of a slice from a DataFrame.\n",
      "Try using .loc[row_indexer,col_indexer] = value instead\n",
      "\n",
      "See the caveats in the documentation: https://pandas.pydata.org/pandas-docs/stable/user_guide/indexing.html#returning-a-view-versus-a-copy\n",
      "  df30['variable'] = df30['variable'].apply(lambda x: x.upper())\n"
     ]
    }
   ],
   "source": [
    "#select top 30 features \n",
    "df30= df[:30]\n",
    "df30.columns=['variable', 'importance']\n",
    "df30['variable'] = df30['variable'].apply(lambda x: x.upper())\n",
    "df30 = pd.merge(left=df30, right=cbook, left_on='variable', right_on='variable', how='left')"
   ]
  },
  {
   "cell_type": "code",
   "execution_count": 50,
   "metadata": {
    "scrolled": true
   },
   "outputs": [
    {
     "data": {
      "text/html": [
       "<div>\n",
       "<style scoped>\n",
       "    .dataframe tbody tr th:only-of-type {\n",
       "        vertical-align: middle;\n",
       "    }\n",
       "\n",
       "    .dataframe tbody tr th {\n",
       "        vertical-align: top;\n",
       "    }\n",
       "\n",
       "    .dataframe thead th {\n",
       "        text-align: right;\n",
       "    }\n",
       "</style>\n",
       "<table border=\"1\" class=\"dataframe\">\n",
       "  <thead>\n",
       "    <tr style=\"text-align: right;\">\n",
       "      <th></th>\n",
       "      <th>variable</th>\n",
       "      <th>importance</th>\n",
       "      <th>label</th>\n",
       "    </tr>\n",
       "  </thead>\n",
       "  <tbody>\n",
       "    <tr>\n",
       "      <th>0</th>\n",
       "      <td>HSD010</td>\n",
       "      <td>0.917464</td>\n",
       "      <td>General health condition</td>\n",
       "    </tr>\n",
       "    <tr>\n",
       "      <th>1</th>\n",
       "      <td>PFQ054</td>\n",
       "      <td>0.461042</td>\n",
       "      <td>Need special equipment to walk</td>\n",
       "    </tr>\n",
       "    <tr>\n",
       "      <th>2</th>\n",
       "      <td>FSDAD</td>\n",
       "      <td>0.457527</td>\n",
       "      <td>Adult food security category</td>\n",
       "    </tr>\n",
       "    <tr>\n",
       "      <th>3</th>\n",
       "      <td>MCQ082</td>\n",
       "      <td>0.433019</td>\n",
       "      <td>Ever been told you have celiac disease?</td>\n",
       "    </tr>\n",
       "    <tr>\n",
       "      <th>4</th>\n",
       "      <td>CBD120</td>\n",
       "      <td>0.420447</td>\n",
       "      <td>Money spent on eating out</td>\n",
       "    </tr>\n",
       "    <tr>\n",
       "      <th>5</th>\n",
       "      <td>HEQ030</td>\n",
       "      <td>0.395274</td>\n",
       "      <td>Ever told you have Hepatitis C?</td>\n",
       "    </tr>\n",
       "    <tr>\n",
       "      <th>6</th>\n",
       "      <td>CBQ545</td>\n",
       "      <td>0.360942</td>\n",
       "      <td>Would use fast food nutrition info</td>\n",
       "    </tr>\n",
       "    <tr>\n",
       "      <th>7</th>\n",
       "      <td>FSD032A</td>\n",
       "      <td>0.354912</td>\n",
       "      <td>HH Worried run out of food</td>\n",
       "    </tr>\n",
       "    <tr>\n",
       "      <th>8</th>\n",
       "      <td>DR1.320Z</td>\n",
       "      <td>0.347366</td>\n",
       "      <td>NaN</td>\n",
       "    </tr>\n",
       "    <tr>\n",
       "      <th>9</th>\n",
       "      <td>MCQ160B</td>\n",
       "      <td>0.296165</td>\n",
       "      <td>Ever told had congestive heart failure</td>\n",
       "    </tr>\n",
       "    <tr>\n",
       "      <th>10</th>\n",
       "      <td>WTDRD1</td>\n",
       "      <td>0.291360</td>\n",
       "      <td>Dietary day one sample weight</td>\n",
       "    </tr>\n",
       "    <tr>\n",
       "      <th>11</th>\n",
       "      <td>PFQ051</td>\n",
       "      <td>0.273792</td>\n",
       "      <td>Limited in amount of work you can do</td>\n",
       "    </tr>\n",
       "    <tr>\n",
       "      <th>12</th>\n",
       "      <td>INDFMPIR</td>\n",
       "      <td>0.263603</td>\n",
       "      <td>Ratio of family income to poverty</td>\n",
       "    </tr>\n",
       "    <tr>\n",
       "      <th>13</th>\n",
       "      <td>DMDHRBR4</td>\n",
       "      <td>0.260791</td>\n",
       "      <td>HH ref person's country of birth</td>\n",
       "    </tr>\n",
       "    <tr>\n",
       "      <th>14</th>\n",
       "      <td>SXD021</td>\n",
       "      <td>0.245593</td>\n",
       "      <td>Ever had vaginal, anal, or oral sex</td>\n",
       "    </tr>\n",
       "    <tr>\n",
       "      <th>15</th>\n",
       "      <td>PAQ710</td>\n",
       "      <td>0.243760</td>\n",
       "      <td>Hours watch TV or videos past 30 days</td>\n",
       "    </tr>\n",
       "    <tr>\n",
       "      <th>16</th>\n",
       "      <td>CBQ596</td>\n",
       "      <td>0.240556</td>\n",
       "      <td>Heard of My Plate</td>\n",
       "    </tr>\n",
       "    <tr>\n",
       "      <th>17</th>\n",
       "      <td>MCQ086</td>\n",
       "      <td>0.237773</td>\n",
       "      <td>Are you on a gluten-free diet?</td>\n",
       "    </tr>\n",
       "    <tr>\n",
       "      <th>18</th>\n",
       "      <td>SMQ878</td>\n",
       "      <td>0.217616</td>\n",
       "      <td>Last 7-d in other indoor area?</td>\n",
       "    </tr>\n",
       "    <tr>\n",
       "      <th>19</th>\n",
       "      <td>HIQ011</td>\n",
       "      <td>0.215910</td>\n",
       "      <td>Covered by health insurance</td>\n",
       "    </tr>\n",
       "    <tr>\n",
       "      <th>20</th>\n",
       "      <td>SDMVSTRA</td>\n",
       "      <td>0.213798</td>\n",
       "      <td>Masked variance pseudo-stratum</td>\n",
       "    </tr>\n",
       "    <tr>\n",
       "      <th>21</th>\n",
       "      <td>MCQ365A</td>\n",
       "      <td>0.213724</td>\n",
       "      <td>Doctor told you to lose weight</td>\n",
       "    </tr>\n",
       "    <tr>\n",
       "      <th>22</th>\n",
       "      <td>HUQ030</td>\n",
       "      <td>0.202599</td>\n",
       "      <td>Routine place to go for healthcare</td>\n",
       "    </tr>\n",
       "    <tr>\n",
       "      <th>23</th>\n",
       "      <td>DMDCITZN</td>\n",
       "      <td>0.202361</td>\n",
       "      <td>Citizenship status</td>\n",
       "    </tr>\n",
       "    <tr>\n",
       "      <th>24</th>\n",
       "      <td>WHD140</td>\n",
       "      <td>0.201081</td>\n",
       "      <td>Self-reported greatest weight (pounds)</td>\n",
       "    </tr>\n",
       "    <tr>\n",
       "      <th>25</th>\n",
       "      <td>INQ132</td>\n",
       "      <td>0.184534</td>\n",
       "      <td>Income from state/county cash assistance</td>\n",
       "    </tr>\n",
       "    <tr>\n",
       "      <th>26</th>\n",
       "      <td>DR1TCAFF</td>\n",
       "      <td>0.179806</td>\n",
       "      <td>Caffeine (mg)</td>\n",
       "    </tr>\n",
       "    <tr>\n",
       "      <th>27</th>\n",
       "      <td>MCQ370B</td>\n",
       "      <td>0.179742</td>\n",
       "      <td>Are you now increasing exercise</td>\n",
       "    </tr>\n",
       "    <tr>\n",
       "      <th>28</th>\n",
       "      <td>HOQ065</td>\n",
       "      <td>0.176748</td>\n",
       "      <td>Home owned, bought, rented, other</td>\n",
       "    </tr>\n",
       "    <tr>\n",
       "      <th>29</th>\n",
       "      <td>PAQ650</td>\n",
       "      <td>0.175745</td>\n",
       "      <td>Vigorous recreational activities</td>\n",
       "    </tr>\n",
       "  </tbody>\n",
       "</table>\n",
       "</div>"
      ],
      "text/plain": [
       "    variable  importance                                     label\n",
       "0     HSD010    0.917464                  General health condition\n",
       "1     PFQ054    0.461042            Need special equipment to walk\n",
       "2      FSDAD    0.457527              Adult food security category\n",
       "3     MCQ082    0.433019   Ever been told you have celiac disease?\n",
       "4     CBD120    0.420447                 Money spent on eating out\n",
       "5     HEQ030    0.395274           Ever told you have Hepatitis C?\n",
       "6     CBQ545    0.360942        Would use fast food nutrition info\n",
       "7    FSD032A    0.354912                HH Worried run out of food\n",
       "8   DR1.320Z    0.347366                                       NaN\n",
       "9    MCQ160B    0.296165    Ever told had congestive heart failure\n",
       "10    WTDRD1    0.291360             Dietary day one sample weight\n",
       "11    PFQ051    0.273792      Limited in amount of work you can do\n",
       "12  INDFMPIR    0.263603         Ratio of family income to poverty\n",
       "13  DMDHRBR4    0.260791          HH ref person's country of birth\n",
       "14    SXD021    0.245593       Ever had vaginal, anal, or oral sex\n",
       "15    PAQ710    0.243760     Hours watch TV or videos past 30 days\n",
       "16    CBQ596    0.240556                         Heard of My Plate\n",
       "17    MCQ086    0.237773            Are you on a gluten-free diet?\n",
       "18    SMQ878    0.217616            Last 7-d in other indoor area?\n",
       "19    HIQ011    0.215910               Covered by health insurance\n",
       "20  SDMVSTRA    0.213798            Masked variance pseudo-stratum\n",
       "21   MCQ365A    0.213724            Doctor told you to lose weight\n",
       "22    HUQ030    0.202599        Routine place to go for healthcare\n",
       "23  DMDCITZN    0.202361                        Citizenship status\n",
       "24    WHD140    0.201081    Self-reported greatest weight (pounds)\n",
       "25    INQ132    0.184534  Income from state/county cash assistance\n",
       "26  DR1TCAFF    0.179806                             Caffeine (mg)\n",
       "27   MCQ370B    0.179742           Are you now increasing exercise\n",
       "28    HOQ065    0.176748         Home owned, bought, rented, other\n",
       "29    PAQ650    0.175745          Vigorous recreational activities"
      ]
     },
     "execution_count": 50,
     "metadata": {},
     "output_type": "execute_result"
    }
   ],
   "source": [
    "df30"
   ]
  },
  {
   "cell_type": "markdown",
   "metadata": {},
   "source": [
    "#### Performance in the test set\n",
    "The accuracy of the overfitting model is not bad as expected. The actual and predicted 1 are unreasonably small. This might be because of the imbalanced dataset we have. So we will need to balance the sample with sampling techniques. "
   ]
  },
  {
   "cell_type": "code",
   "execution_count": 51,
   "metadata": {},
   "outputs": [
    {
     "name": "stdout",
     "output_type": "stream",
     "text": [
      "Confusion Matrix (Accuracy 0.9146)\n",
      "\n",
      "       Prediction\n",
      "Actual    0    1\n",
      "     0 1320   41\n",
      "     1   84   18\n"
     ]
    }
   ],
   "source": [
    "classificationSummary(valid_y, logit.predict(valid_X))"
   ]
  },
  {
   "cell_type": "markdown",
   "metadata": {},
   "source": [
    "### note: \n",
    "*we could replicate this on suicidal ideation*\n",
    "\n",
    "*we need to balance sampling at some point*\n",
    "\n",
    "*we could rank the abosulte values for linear regression*\n"
   ]
  },
  {
   "cell_type": "markdown",
   "metadata": {},
   "source": [
    "### Decision tree classification: moderate depression"
   ]
  },
  {
   "cell_type": "code",
   "execution_count": 52,
   "metadata": {
    "scrolled": true
   },
   "outputs": [],
   "source": [
    "from sklearn.tree import DecisionTreeClassifier\n",
    "from matplotlib import pyplot\n",
    "tree= DecisionTreeClassifier()\n",
    "tree.fit(train_X, train_y)\n",
    "importance= tree.feature_importances_\n",
    "importance= importance.flatten()\n",
    "columns= df_merge.columns\n",
    "df = pd.DataFrame({'feature': train_X.columns, 'importance': importance})\n",
    "df = df.sort_values('importance', ascending=False)"
   ]
  },
  {
   "cell_type": "code",
   "execution_count": 53,
   "metadata": {
    "scrolled": true
   },
   "outputs": [
    {
     "name": "stderr",
     "output_type": "stream",
     "text": [
      "<ipython-input-53-d343ccd9b52f>:4: SettingWithCopyWarning: \n",
      "A value is trying to be set on a copy of a slice from a DataFrame.\n",
      "Try using .loc[row_indexer,col_indexer] = value instead\n",
      "\n",
      "See the caveats in the documentation: https://pandas.pydata.org/pandas-docs/stable/user_guide/indexing.html#returning-a-view-versus-a-copy\n",
      "  df30['variable'] = df30['variable'].apply(lambda x: x.upper())\n"
     ]
    }
   ],
   "source": [
    "#select top 30 features \n",
    "df30= df[:30]\n",
    "df30.columns=['variable', 'importance']\n",
    "df30['variable'] = df30['variable'].apply(lambda x: x.upper())\n",
    "df30 = pd.merge(left=df30, right=cbook, left_on='variable', right_on='variable', how='left')"
   ]
  },
  {
   "cell_type": "code",
   "execution_count": 54,
   "metadata": {},
   "outputs": [
    {
     "data": {
      "text/html": [
       "<div>\n",
       "<style scoped>\n",
       "    .dataframe tbody tr th:only-of-type {\n",
       "        vertical-align: middle;\n",
       "    }\n",
       "\n",
       "    .dataframe tbody tr th {\n",
       "        vertical-align: top;\n",
       "    }\n",
       "\n",
       "    .dataframe thead th {\n",
       "        text-align: right;\n",
       "    }\n",
       "</style>\n",
       "<table border=\"1\" class=\"dataframe\">\n",
       "  <thead>\n",
       "    <tr style=\"text-align: right;\">\n",
       "      <th></th>\n",
       "      <th>variable</th>\n",
       "      <th>importance</th>\n",
       "      <th>label</th>\n",
       "    </tr>\n",
       "  </thead>\n",
       "  <tbody>\n",
       "    <tr>\n",
       "      <th>0</th>\n",
       "      <td>HSD010</td>\n",
       "      <td>0.085172</td>\n",
       "      <td>General health condition</td>\n",
       "    </tr>\n",
       "    <tr>\n",
       "      <th>1</th>\n",
       "      <td>DLQ040</td>\n",
       "      <td>0.046876</td>\n",
       "      <td>Have serious difficulty concentrating ?</td>\n",
       "    </tr>\n",
       "    <tr>\n",
       "      <th>2</th>\n",
       "      <td>DR1BWATZ</td>\n",
       "      <td>0.043139</td>\n",
       "      <td>Total bottled water drank yesterday (gm)</td>\n",
       "    </tr>\n",
       "    <tr>\n",
       "      <th>3</th>\n",
       "      <td>WTDRD1</td>\n",
       "      <td>0.036916</td>\n",
       "      <td>Dietary day one sample weight</td>\n",
       "    </tr>\n",
       "    <tr>\n",
       "      <th>4</th>\n",
       "      <td>WHQ150</td>\n",
       "      <td>0.036902</td>\n",
       "      <td>Age when heaviest weight</td>\n",
       "    </tr>\n",
       "    <tr>\n",
       "      <th>5</th>\n",
       "      <td>PAD680</td>\n",
       "      <td>0.035584</td>\n",
       "      <td>Minutes sedentary activity</td>\n",
       "    </tr>\n",
       "    <tr>\n",
       "      <th>6</th>\n",
       "      <td>PFQ049</td>\n",
       "      <td>0.033463</td>\n",
       "      <td>Limitations keeping you from working</td>\n",
       "    </tr>\n",
       "    <tr>\n",
       "      <th>7</th>\n",
       "      <td>MCQ300C</td>\n",
       "      <td>0.028039</td>\n",
       "      <td>NaN</td>\n",
       "    </tr>\n",
       "    <tr>\n",
       "      <th>8</th>\n",
       "      <td>OHQ845</td>\n",
       "      <td>0.027548</td>\n",
       "      <td>Rate the health of your teeth and gums</td>\n",
       "    </tr>\n",
       "    <tr>\n",
       "      <th>9</th>\n",
       "      <td>CBD130</td>\n",
       "      <td>0.024982</td>\n",
       "      <td>Money spent on carryout/delivered foods</td>\n",
       "    </tr>\n",
       "    <tr>\n",
       "      <th>10</th>\n",
       "      <td>DBD895</td>\n",
       "      <td>0.021364</td>\n",
       "      <td># of meals not home prepared</td>\n",
       "    </tr>\n",
       "    <tr>\n",
       "      <th>11</th>\n",
       "      <td>DBQ095Z</td>\n",
       "      <td>0.020989</td>\n",
       "      <td>Type of table salt used</td>\n",
       "    </tr>\n",
       "    <tr>\n",
       "      <th>12</th>\n",
       "      <td>WHD050</td>\n",
       "      <td>0.020463</td>\n",
       "      <td>Self-reported weight - 1 yr ago (pounds)</td>\n",
       "    </tr>\n",
       "    <tr>\n",
       "      <th>13</th>\n",
       "      <td>DMDHRMAR</td>\n",
       "      <td>0.019653</td>\n",
       "      <td>HH ref person's marital status</td>\n",
       "    </tr>\n",
       "    <tr>\n",
       "      <th>14</th>\n",
       "      <td>WHD010</td>\n",
       "      <td>0.019087</td>\n",
       "      <td>Current self-reported height (inches)</td>\n",
       "    </tr>\n",
       "    <tr>\n",
       "      <th>15</th>\n",
       "      <td>FSD151</td>\n",
       "      <td>0.018956</td>\n",
       "      <td>HH Emergency food received</td>\n",
       "    </tr>\n",
       "    <tr>\n",
       "      <th>16</th>\n",
       "      <td>WTMEC2YR</td>\n",
       "      <td>0.018891</td>\n",
       "      <td>Full sample 2 year MEC exam weight</td>\n",
       "    </tr>\n",
       "    <tr>\n",
       "      <th>17</th>\n",
       "      <td>WHD020</td>\n",
       "      <td>0.018626</td>\n",
       "      <td>Current self-reported weight (pounds)</td>\n",
       "    </tr>\n",
       "    <tr>\n",
       "      <th>18</th>\n",
       "      <td>INDFMMPI</td>\n",
       "      <td>0.018443</td>\n",
       "      <td>Family monthly poverty level index</td>\n",
       "    </tr>\n",
       "    <tr>\n",
       "      <th>19</th>\n",
       "      <td>WHQ030</td>\n",
       "      <td>0.017884</td>\n",
       "      <td>How do you consider your weight</td>\n",
       "    </tr>\n",
       "    <tr>\n",
       "      <th>20</th>\n",
       "      <td>HSQ500</td>\n",
       "      <td>0.017712</td>\n",
       "      <td>SP have head cold or chest cold</td>\n",
       "    </tr>\n",
       "    <tr>\n",
       "      <th>21</th>\n",
       "      <td>WTDR2D</td>\n",
       "      <td>0.016756</td>\n",
       "      <td>Dietary two-day sample weight</td>\n",
       "    </tr>\n",
       "    <tr>\n",
       "      <th>22</th>\n",
       "      <td>MCQ203</td>\n",
       "      <td>0.015295</td>\n",
       "      <td>Ever been told you have jaundice?</td>\n",
       "    </tr>\n",
       "    <tr>\n",
       "      <th>23</th>\n",
       "      <td>MCQ365A</td>\n",
       "      <td>0.014599</td>\n",
       "      <td>Doctor told you to lose weight</td>\n",
       "    </tr>\n",
       "    <tr>\n",
       "      <th>24</th>\n",
       "      <td>DMDHHSZA</td>\n",
       "      <td>0.014303</td>\n",
       "      <td># of children 5 years or younger in HH</td>\n",
       "    </tr>\n",
       "    <tr>\n",
       "      <th>25</th>\n",
       "      <td>HUQ051</td>\n",
       "      <td>0.013393</td>\n",
       "      <td>#times receive healthcare over past year</td>\n",
       "    </tr>\n",
       "    <tr>\n",
       "      <th>26</th>\n",
       "      <td>CBD120</td>\n",
       "      <td>0.011958</td>\n",
       "      <td>Money spent on eating out</td>\n",
       "    </tr>\n",
       "    <tr>\n",
       "      <th>27</th>\n",
       "      <td>HUQ020</td>\n",
       "      <td>0.011241</td>\n",
       "      <td>Health now compared with 1 year ago</td>\n",
       "    </tr>\n",
       "    <tr>\n",
       "      <th>28</th>\n",
       "      <td>MCQ370C</td>\n",
       "      <td>0.011124</td>\n",
       "      <td>NaN</td>\n",
       "    </tr>\n",
       "    <tr>\n",
       "      <th>29</th>\n",
       "      <td>FSD032C</td>\n",
       "      <td>0.010602</td>\n",
       "      <td>HH Couldn't afford balanced meals</td>\n",
       "    </tr>\n",
       "  </tbody>\n",
       "</table>\n",
       "</div>"
      ],
      "text/plain": [
       "    variable  importance                                     label\n",
       "0     HSD010    0.085172                  General health condition\n",
       "1     DLQ040    0.046876   Have serious difficulty concentrating ?\n",
       "2   DR1BWATZ    0.043139  Total bottled water drank yesterday (gm)\n",
       "3     WTDRD1    0.036916             Dietary day one sample weight\n",
       "4     WHQ150    0.036902                  Age when heaviest weight\n",
       "5     PAD680    0.035584                Minutes sedentary activity\n",
       "6     PFQ049    0.033463      Limitations keeping you from working\n",
       "7    MCQ300C    0.028039                                       NaN\n",
       "8     OHQ845    0.027548    Rate the health of your teeth and gums\n",
       "9     CBD130    0.024982   Money spent on carryout/delivered foods\n",
       "10    DBD895    0.021364              # of meals not home prepared\n",
       "11   DBQ095Z    0.020989                   Type of table salt used\n",
       "12    WHD050    0.020463  Self-reported weight - 1 yr ago (pounds)\n",
       "13  DMDHRMAR    0.019653            HH ref person's marital status\n",
       "14    WHD010    0.019087     Current self-reported height (inches)\n",
       "15    FSD151    0.018956                HH Emergency food received\n",
       "16  WTMEC2YR    0.018891        Full sample 2 year MEC exam weight\n",
       "17    WHD020    0.018626     Current self-reported weight (pounds)\n",
       "18  INDFMMPI    0.018443        Family monthly poverty level index\n",
       "19    WHQ030    0.017884           How do you consider your weight\n",
       "20    HSQ500    0.017712           SP have head cold or chest cold\n",
       "21    WTDR2D    0.016756             Dietary two-day sample weight\n",
       "22    MCQ203    0.015295         Ever been told you have jaundice?\n",
       "23   MCQ365A    0.014599            Doctor told you to lose weight\n",
       "24  DMDHHSZA    0.014303    # of children 5 years or younger in HH\n",
       "25    HUQ051    0.013393  #times receive healthcare over past year\n",
       "26    CBD120    0.011958                 Money spent on eating out\n",
       "27    HUQ020    0.011241       Health now compared with 1 year ago\n",
       "28   MCQ370C    0.011124                                       NaN\n",
       "29   FSD032C    0.010602         HH Couldn't afford balanced meals"
      ]
     },
     "execution_count": 54,
     "metadata": {},
     "output_type": "execute_result"
    }
   ],
   "source": [
    "df30"
   ]
  },
  {
   "cell_type": "markdown",
   "metadata": {},
   "source": [
    "### Random forest feature selection: moderate depression"
   ]
  },
  {
   "cell_type": "code",
   "execution_count": 55,
   "metadata": {},
   "outputs": [
    {
     "name": "stderr",
     "output_type": "stream",
     "text": [
      "<ipython-input-55-29a88de639b7>:3: DataConversionWarning: A column-vector y was passed when a 1d array was expected. Please change the shape of y to (n_samples,), for example using ravel().\n",
      "  forest.fit(train_X, train_y)\n"
     ]
    }
   ],
   "source": [
    "from sklearn.ensemble import RandomForestClassifier\n",
    "forest= RandomForestClassifier()\n",
    "forest.fit(train_X, train_y)\n",
    "importance= forest.feature_importances_\n",
    "importance= importance.flatten()\n",
    "columns= df_merge.columns\n",
    "df = pd.DataFrame({'feature': train_X.columns, 'importance': importance})\n",
    "df = df.sort_values('importance', ascending=False)"
   ]
  },
  {
   "cell_type": "code",
   "execution_count": 56,
   "metadata": {
    "scrolled": true
   },
   "outputs": [
    {
     "name": "stderr",
     "output_type": "stream",
     "text": [
      "<ipython-input-56-d343ccd9b52f>:4: SettingWithCopyWarning: \n",
      "A value is trying to be set on a copy of a slice from a DataFrame.\n",
      "Try using .loc[row_indexer,col_indexer] = value instead\n",
      "\n",
      "See the caveats in the documentation: https://pandas.pydata.org/pandas-docs/stable/user_guide/indexing.html#returning-a-view-versus-a-copy\n",
      "  df30['variable'] = df30['variable'].apply(lambda x: x.upper())\n"
     ]
    }
   ],
   "source": [
    "#select top 30 features \n",
    "df30= df[:30]\n",
    "df30.columns=['variable', 'importance']\n",
    "df30['variable'] = df30['variable'].apply(lambda x: x.upper())\n",
    "df30 = pd.merge(left=df30, right=cbook, left_on='variable', right_on='variable', how='left')"
   ]
  },
  {
   "cell_type": "code",
   "execution_count": 57,
   "metadata": {},
   "outputs": [
    {
     "data": {
      "text/html": [
       "<div>\n",
       "<style scoped>\n",
       "    .dataframe tbody tr th:only-of-type {\n",
       "        vertical-align: middle;\n",
       "    }\n",
       "\n",
       "    .dataframe tbody tr th {\n",
       "        vertical-align: top;\n",
       "    }\n",
       "\n",
       "    .dataframe thead th {\n",
       "        text-align: right;\n",
       "    }\n",
       "</style>\n",
       "<table border=\"1\" class=\"dataframe\">\n",
       "  <thead>\n",
       "    <tr style=\"text-align: right;\">\n",
       "      <th></th>\n",
       "      <th>variable</th>\n",
       "      <th>importance</th>\n",
       "      <th>label</th>\n",
       "    </tr>\n",
       "  </thead>\n",
       "  <tbody>\n",
       "    <tr>\n",
       "      <th>0</th>\n",
       "      <td>HSD010</td>\n",
       "      <td>0.036771</td>\n",
       "      <td>General health condition</td>\n",
       "    </tr>\n",
       "    <tr>\n",
       "      <th>1</th>\n",
       "      <td>WTMEC2YR</td>\n",
       "      <td>0.021712</td>\n",
       "      <td>Full sample 2 year MEC exam weight</td>\n",
       "    </tr>\n",
       "    <tr>\n",
       "      <th>2</th>\n",
       "      <td>DR1TKCAL</td>\n",
       "      <td>0.020674</td>\n",
       "      <td>Energy (kcal)</td>\n",
       "    </tr>\n",
       "    <tr>\n",
       "      <th>3</th>\n",
       "      <td>PFQ049</td>\n",
       "      <td>0.019951</td>\n",
       "      <td>Limitations keeping you from working</td>\n",
       "    </tr>\n",
       "    <tr>\n",
       "      <th>4</th>\n",
       "      <td>WTINT2YR</td>\n",
       "      <td>0.019234</td>\n",
       "      <td>Full sample 2 year interview weight</td>\n",
       "    </tr>\n",
       "    <tr>\n",
       "      <th>5</th>\n",
       "      <td>WHD050</td>\n",
       "      <td>0.017995</td>\n",
       "      <td>Self-reported weight - 1 yr ago (pounds)</td>\n",
       "    </tr>\n",
       "    <tr>\n",
       "      <th>6</th>\n",
       "      <td>INDFMMPI</td>\n",
       "      <td>0.017846</td>\n",
       "      <td>Family monthly poverty level index</td>\n",
       "    </tr>\n",
       "    <tr>\n",
       "      <th>7</th>\n",
       "      <td>RIDAGEYR</td>\n",
       "      <td>0.017691</td>\n",
       "      <td>Age in years at screening</td>\n",
       "    </tr>\n",
       "    <tr>\n",
       "      <th>8</th>\n",
       "      <td>DLQ040</td>\n",
       "      <td>0.017673</td>\n",
       "      <td>Have serious difficulty concentrating ?</td>\n",
       "    </tr>\n",
       "    <tr>\n",
       "      <th>9</th>\n",
       "      <td>INDFMPIR</td>\n",
       "      <td>0.017601</td>\n",
       "      <td>Ratio of family income to poverty</td>\n",
       "    </tr>\n",
       "    <tr>\n",
       "      <th>10</th>\n",
       "      <td>WHQ150</td>\n",
       "      <td>0.016860</td>\n",
       "      <td>Age when heaviest weight</td>\n",
       "    </tr>\n",
       "    <tr>\n",
       "      <th>11</th>\n",
       "      <td>DR1.320Z</td>\n",
       "      <td>0.016732</td>\n",
       "      <td>NaN</td>\n",
       "    </tr>\n",
       "    <tr>\n",
       "      <th>12</th>\n",
       "      <td>WHD020</td>\n",
       "      <td>0.016403</td>\n",
       "      <td>Current self-reported weight (pounds)</td>\n",
       "    </tr>\n",
       "    <tr>\n",
       "      <th>13</th>\n",
       "      <td>WHD140</td>\n",
       "      <td>0.016235</td>\n",
       "      <td>Self-reported greatest weight (pounds)</td>\n",
       "    </tr>\n",
       "    <tr>\n",
       "      <th>14</th>\n",
       "      <td>WTDRD1</td>\n",
       "      <td>0.015883</td>\n",
       "      <td>Dietary day one sample weight</td>\n",
       "    </tr>\n",
       "    <tr>\n",
       "      <th>15</th>\n",
       "      <td>DMDHRAGE</td>\n",
       "      <td>0.014706</td>\n",
       "      <td>HH ref person's age in years</td>\n",
       "    </tr>\n",
       "    <tr>\n",
       "      <th>16</th>\n",
       "      <td>PFQ057</td>\n",
       "      <td>0.014382</td>\n",
       "      <td>Experience confusion/memory problems</td>\n",
       "    </tr>\n",
       "    <tr>\n",
       "      <th>17</th>\n",
       "      <td>PAD680</td>\n",
       "      <td>0.013953</td>\n",
       "      <td>Minutes sedentary activity</td>\n",
       "    </tr>\n",
       "    <tr>\n",
       "      <th>18</th>\n",
       "      <td>CBD120</td>\n",
       "      <td>0.013650</td>\n",
       "      <td>Money spent on eating out</td>\n",
       "    </tr>\n",
       "    <tr>\n",
       "      <th>19</th>\n",
       "      <td>WTDR2D</td>\n",
       "      <td>0.013433</td>\n",
       "      <td>Dietary two-day sample weight</td>\n",
       "    </tr>\n",
       "    <tr>\n",
       "      <th>20</th>\n",
       "      <td>DR1TCAFF</td>\n",
       "      <td>0.012727</td>\n",
       "      <td>Caffeine (mg)</td>\n",
       "    </tr>\n",
       "    <tr>\n",
       "      <th>21</th>\n",
       "      <td>WHD010</td>\n",
       "      <td>0.012155</td>\n",
       "      <td>Current self-reported height (inches)</td>\n",
       "    </tr>\n",
       "    <tr>\n",
       "      <th>22</th>\n",
       "      <td>OHQ845</td>\n",
       "      <td>0.012023</td>\n",
       "      <td>Rate the health of your teeth and gums</td>\n",
       "    </tr>\n",
       "    <tr>\n",
       "      <th>23</th>\n",
       "      <td>DBD895</td>\n",
       "      <td>0.011584</td>\n",
       "      <td># of meals not home prepared</td>\n",
       "    </tr>\n",
       "    <tr>\n",
       "      <th>24</th>\n",
       "      <td>CBD070</td>\n",
       "      <td>0.011205</td>\n",
       "      <td>Money spent at supermarket/grocery store</td>\n",
       "    </tr>\n",
       "    <tr>\n",
       "      <th>25</th>\n",
       "      <td>CBD110</td>\n",
       "      <td>0.010938</td>\n",
       "      <td>Money spent on food at other stores</td>\n",
       "    </tr>\n",
       "    <tr>\n",
       "      <th>26</th>\n",
       "      <td>SDMVSTRA</td>\n",
       "      <td>0.010089</td>\n",
       "      <td>Masked variance pseudo-stratum</td>\n",
       "    </tr>\n",
       "    <tr>\n",
       "      <th>27</th>\n",
       "      <td>DBQ700</td>\n",
       "      <td>0.009609</td>\n",
       "      <td>How healthy is the diet</td>\n",
       "    </tr>\n",
       "    <tr>\n",
       "      <th>28</th>\n",
       "      <td>DMDEDUC2</td>\n",
       "      <td>0.009035</td>\n",
       "      <td>Education level - Adults 20+</td>\n",
       "    </tr>\n",
       "    <tr>\n",
       "      <th>29</th>\n",
       "      <td>DMDHREDU</td>\n",
       "      <td>0.009028</td>\n",
       "      <td>HH ref person's education level</td>\n",
       "    </tr>\n",
       "  </tbody>\n",
       "</table>\n",
       "</div>"
      ],
      "text/plain": [
       "    variable  importance                                     label\n",
       "0     HSD010    0.036771                  General health condition\n",
       "1   WTMEC2YR    0.021712        Full sample 2 year MEC exam weight\n",
       "2   DR1TKCAL    0.020674                             Energy (kcal)\n",
       "3     PFQ049    0.019951      Limitations keeping you from working\n",
       "4   WTINT2YR    0.019234       Full sample 2 year interview weight\n",
       "5     WHD050    0.017995  Self-reported weight - 1 yr ago (pounds)\n",
       "6   INDFMMPI    0.017846        Family monthly poverty level index\n",
       "7   RIDAGEYR    0.017691                 Age in years at screening\n",
       "8     DLQ040    0.017673   Have serious difficulty concentrating ?\n",
       "9   INDFMPIR    0.017601         Ratio of family income to poverty\n",
       "10    WHQ150    0.016860                  Age when heaviest weight\n",
       "11  DR1.320Z    0.016732                                       NaN\n",
       "12    WHD020    0.016403     Current self-reported weight (pounds)\n",
       "13    WHD140    0.016235    Self-reported greatest weight (pounds)\n",
       "14    WTDRD1    0.015883             Dietary day one sample weight\n",
       "15  DMDHRAGE    0.014706              HH ref person's age in years\n",
       "16    PFQ057    0.014382      Experience confusion/memory problems\n",
       "17    PAD680    0.013953                Minutes sedentary activity\n",
       "18    CBD120    0.013650                 Money spent on eating out\n",
       "19    WTDR2D    0.013433             Dietary two-day sample weight\n",
       "20  DR1TCAFF    0.012727                             Caffeine (mg)\n",
       "21    WHD010    0.012155     Current self-reported height (inches)\n",
       "22    OHQ845    0.012023    Rate the health of your teeth and gums\n",
       "23    DBD895    0.011584              # of meals not home prepared\n",
       "24    CBD070    0.011205  Money spent at supermarket/grocery store\n",
       "25    CBD110    0.010938       Money spent on food at other stores\n",
       "26  SDMVSTRA    0.010089            Masked variance pseudo-stratum\n",
       "27    DBQ700    0.009609                   How healthy is the diet\n",
       "28  DMDEDUC2    0.009035              Education level - Adults 20+\n",
       "29  DMDHREDU    0.009028           HH ref person's education level"
      ]
     },
     "execution_count": 57,
     "metadata": {},
     "output_type": "execute_result"
    }
   ],
   "source": [
    "df30"
   ]
  },
  {
   "cell_type": "markdown",
   "metadata": {},
   "source": [
    "### XGboost for feature selection"
   ]
  },
  {
   "cell_type": "code",
   "execution_count": 58,
   "metadata": {
    "scrolled": true
   },
   "outputs": [
    {
     "name": "stderr",
     "output_type": "stream",
     "text": [
      "/Users/beiw/opt/anaconda3/lib/python3.8/site-packages/xgboost/sklearn.py:1224: UserWarning: The use of label encoder in XGBClassifier is deprecated and will be removed in a future release. To remove this warning, do the following: 1) Pass option use_label_encoder=False when constructing XGBClassifier object; and 2) Encode your labels (y) as integers starting with 0, i.e. 0, 1, 2, ..., [num_class - 1].\n",
      "  warnings.warn(label_encoder_deprecation_msg, UserWarning)\n",
      "/Users/beiw/opt/anaconda3/lib/python3.8/site-packages/sklearn/utils/validation.py:63: DataConversionWarning: A column-vector y was passed when a 1d array was expected. Please change the shape of y to (n_samples, ), for example using ravel().\n",
      "  return f(*args, **kwargs)\n"
     ]
    },
    {
     "name": "stdout",
     "output_type": "stream",
     "text": [
      "[20:39:30] WARNING: /Users/travis/build/dmlc/xgboost/src/learner.cc:1115: Starting in XGBoost 1.3.0, the default evaluation metric used with the objective 'binary:logistic' was changed from 'error' to 'logloss'. Explicitly set eval_metric if you'd like to restore the old behavior.\n"
     ]
    }
   ],
   "source": [
    "from xgboost import XGBClassifier\n",
    "from sklearn.metrics import classification_report, accuracy_score, confusion_matrix\n",
    "xgboost = XGBClassifier()\n",
    "xgboost.fit(train_X, train_y)\n",
    "importance= xgboost.feature_importances_\n",
    "columns= df_merge.columns\n",
    "df = pd.DataFrame({'feature': train_X.columns, 'importance': importance})\n",
    "df = df.sort_values('importance', ascending=False)"
   ]
  },
  {
   "cell_type": "code",
   "execution_count": 59,
   "metadata": {
    "scrolled": true
   },
   "outputs": [
    {
     "name": "stderr",
     "output_type": "stream",
     "text": [
      "<ipython-input-59-d343ccd9b52f>:4: SettingWithCopyWarning: \n",
      "A value is trying to be set on a copy of a slice from a DataFrame.\n",
      "Try using .loc[row_indexer,col_indexer] = value instead\n",
      "\n",
      "See the caveats in the documentation: https://pandas.pydata.org/pandas-docs/stable/user_guide/indexing.html#returning-a-view-versus-a-copy\n",
      "  df30['variable'] = df30['variable'].apply(lambda x: x.upper())\n"
     ]
    }
   ],
   "source": [
    "#select top 30 features \n",
    "df30= df[:30]\n",
    "df30.columns=['variable', 'importance']\n",
    "df30['variable'] = df30['variable'].apply(lambda x: x.upper())\n",
    "df30 = pd.merge(left=df30, right=cbook, left_on='variable', right_on='variable', how='left')"
   ]
  },
  {
   "cell_type": "code",
   "execution_count": 60,
   "metadata": {
    "scrolled": true
   },
   "outputs": [
    {
     "data": {
      "text/html": [
       "<div>\n",
       "<style scoped>\n",
       "    .dataframe tbody tr th:only-of-type {\n",
       "        vertical-align: middle;\n",
       "    }\n",
       "\n",
       "    .dataframe tbody tr th {\n",
       "        vertical-align: top;\n",
       "    }\n",
       "\n",
       "    .dataframe thead th {\n",
       "        text-align: right;\n",
       "    }\n",
       "</style>\n",
       "<table border=\"1\" class=\"dataframe\">\n",
       "  <thead>\n",
       "    <tr style=\"text-align: right;\">\n",
       "      <th></th>\n",
       "      <th>variable</th>\n",
       "      <th>importance</th>\n",
       "      <th>label</th>\n",
       "    </tr>\n",
       "  </thead>\n",
       "  <tbody>\n",
       "    <tr>\n",
       "      <th>0</th>\n",
       "      <td>MCQ203</td>\n",
       "      <td>0.043139</td>\n",
       "      <td>Ever been told you have jaundice?</td>\n",
       "    </tr>\n",
       "    <tr>\n",
       "      <th>1</th>\n",
       "      <td>HSQ500</td>\n",
       "      <td>0.035404</td>\n",
       "      <td>SP have head cold or chest cold</td>\n",
       "    </tr>\n",
       "    <tr>\n",
       "      <th>2</th>\n",
       "      <td>PFQ049</td>\n",
       "      <td>0.029739</td>\n",
       "      <td>Limitations keeping you from working</td>\n",
       "    </tr>\n",
       "    <tr>\n",
       "      <th>3</th>\n",
       "      <td>DR1TWS</td>\n",
       "      <td>0.023696</td>\n",
       "      <td>Tap water source</td>\n",
       "    </tr>\n",
       "    <tr>\n",
       "      <th>4</th>\n",
       "      <td>DLQ040</td>\n",
       "      <td>0.022258</td>\n",
       "      <td>Have serious difficulty concentrating ?</td>\n",
       "    </tr>\n",
       "    <tr>\n",
       "      <th>5</th>\n",
       "      <td>DIQ170</td>\n",
       "      <td>0.018620</td>\n",
       "      <td>Ever told have health risk for diabetes</td>\n",
       "    </tr>\n",
       "    <tr>\n",
       "      <th>6</th>\n",
       "      <td>BPQ059</td>\n",
       "      <td>0.017708</td>\n",
       "      <td>Doctor tell you to take BP at home?</td>\n",
       "    </tr>\n",
       "    <tr>\n",
       "      <th>7</th>\n",
       "      <td>INQ080</td>\n",
       "      <td>0.016506</td>\n",
       "      <td>Income from retirement/survivor pension</td>\n",
       "    </tr>\n",
       "    <tr>\n",
       "      <th>8</th>\n",
       "      <td>MCQ160D</td>\n",
       "      <td>0.015881</td>\n",
       "      <td>NaN</td>\n",
       "    </tr>\n",
       "    <tr>\n",
       "      <th>9</th>\n",
       "      <td>HSD010</td>\n",
       "      <td>0.015816</td>\n",
       "      <td>General health condition</td>\n",
       "    </tr>\n",
       "    <tr>\n",
       "      <th>10</th>\n",
       "      <td>SXD021</td>\n",
       "      <td>0.015786</td>\n",
       "      <td>Ever had vaginal, anal, or oral sex</td>\n",
       "    </tr>\n",
       "    <tr>\n",
       "      <th>11</th>\n",
       "      <td>HSQ520</td>\n",
       "      <td>0.014198</td>\n",
       "      <td>SP have flu, pneumonia, ear infection?</td>\n",
       "    </tr>\n",
       "    <tr>\n",
       "      <th>12</th>\n",
       "      <td>MCQ070</td>\n",
       "      <td>0.013631</td>\n",
       "      <td>Ever been told you have psoriasis?</td>\n",
       "    </tr>\n",
       "    <tr>\n",
       "      <th>13</th>\n",
       "      <td>MCQ365C</td>\n",
       "      <td>0.012882</td>\n",
       "      <td>Doctor told you to reduce salt in diet</td>\n",
       "    </tr>\n",
       "    <tr>\n",
       "      <th>14</th>\n",
       "      <td>RIDRETH3</td>\n",
       "      <td>0.011773</td>\n",
       "      <td>Race/Hispanic origin w/ NH Asian</td>\n",
       "    </tr>\n",
       "    <tr>\n",
       "      <th>15</th>\n",
       "      <td>MCQ300C</td>\n",
       "      <td>0.011193</td>\n",
       "      <td>NaN</td>\n",
       "    </tr>\n",
       "    <tr>\n",
       "      <th>16</th>\n",
       "      <td>SMQ681</td>\n",
       "      <td>0.011085</td>\n",
       "      <td>Smoked tobacco last 5 days?</td>\n",
       "    </tr>\n",
       "    <tr>\n",
       "      <th>17</th>\n",
       "      <td>DBQ700</td>\n",
       "      <td>0.010397</td>\n",
       "      <td>How healthy is the diet</td>\n",
       "    </tr>\n",
       "    <tr>\n",
       "      <th>18</th>\n",
       "      <td>MCQ160C</td>\n",
       "      <td>0.010286</td>\n",
       "      <td>Ever told you had coronary heart disease</td>\n",
       "    </tr>\n",
       "    <tr>\n",
       "      <th>19</th>\n",
       "      <td>SLQ050</td>\n",
       "      <td>0.010106</td>\n",
       "      <td>Ever told doctor had trouble sleeping?</td>\n",
       "    </tr>\n",
       "    <tr>\n",
       "      <th>20</th>\n",
       "      <td>MCQ160F</td>\n",
       "      <td>0.009906</td>\n",
       "      <td>Ever told you had a stroke</td>\n",
       "    </tr>\n",
       "    <tr>\n",
       "      <th>21</th>\n",
       "      <td>DLQ080</td>\n",
       "      <td>0.009462</td>\n",
       "      <td>Have difficulty doing errands alone ?</td>\n",
       "    </tr>\n",
       "    <tr>\n",
       "      <th>22</th>\n",
       "      <td>DR1BWATZ</td>\n",
       "      <td>0.009453</td>\n",
       "      <td>Total bottled water drank yesterday (gm)</td>\n",
       "    </tr>\n",
       "    <tr>\n",
       "      <th>23</th>\n",
       "      <td>PUQ110</td>\n",
       "      <td>0.009447</td>\n",
       "      <td>Products used to kill weeds?</td>\n",
       "    </tr>\n",
       "    <tr>\n",
       "      <th>24</th>\n",
       "      <td>DRD360</td>\n",
       "      <td>0.009438</td>\n",
       "      <td>Fish eaten during past 30 days</td>\n",
       "    </tr>\n",
       "    <tr>\n",
       "      <th>25</th>\n",
       "      <td>IMQ020</td>\n",
       "      <td>0.009264</td>\n",
       "      <td>Received Hepatitis B 3 dose series</td>\n",
       "    </tr>\n",
       "    <tr>\n",
       "      <th>26</th>\n",
       "      <td>INQ150</td>\n",
       "      <td>0.008957</td>\n",
       "      <td>Income from other sources</td>\n",
       "    </tr>\n",
       "    <tr>\n",
       "      <th>27</th>\n",
       "      <td>CBQ505</td>\n",
       "      <td>0.008913</td>\n",
       "      <td>Eat at fast food/pizza places</td>\n",
       "    </tr>\n",
       "    <tr>\n",
       "      <th>28</th>\n",
       "      <td>CBQ550</td>\n",
       "      <td>0.008895</td>\n",
       "      <td>Eat at restaurants w/ waiter</td>\n",
       "    </tr>\n",
       "    <tr>\n",
       "      <th>29</th>\n",
       "      <td>MCQ300B</td>\n",
       "      <td>0.008836</td>\n",
       "      <td>NaN</td>\n",
       "    </tr>\n",
       "  </tbody>\n",
       "</table>\n",
       "</div>"
      ],
      "text/plain": [
       "    variable  importance                                     label\n",
       "0     MCQ203    0.043139         Ever been told you have jaundice?\n",
       "1     HSQ500    0.035404           SP have head cold or chest cold\n",
       "2     PFQ049    0.029739      Limitations keeping you from working\n",
       "3     DR1TWS    0.023696                          Tap water source\n",
       "4     DLQ040    0.022258   Have serious difficulty concentrating ?\n",
       "5     DIQ170    0.018620   Ever told have health risk for diabetes\n",
       "6     BPQ059    0.017708       Doctor tell you to take BP at home?\n",
       "7     INQ080    0.016506   Income from retirement/survivor pension\n",
       "8    MCQ160D    0.015881                                       NaN\n",
       "9     HSD010    0.015816                  General health condition\n",
       "10    SXD021    0.015786       Ever had vaginal, anal, or oral sex\n",
       "11    HSQ520    0.014198    SP have flu, pneumonia, ear infection?\n",
       "12    MCQ070    0.013631        Ever been told you have psoriasis?\n",
       "13   MCQ365C    0.012882    Doctor told you to reduce salt in diet\n",
       "14  RIDRETH3    0.011773          Race/Hispanic origin w/ NH Asian\n",
       "15   MCQ300C    0.011193                                       NaN\n",
       "16    SMQ681    0.011085               Smoked tobacco last 5 days?\n",
       "17    DBQ700    0.010397                   How healthy is the diet\n",
       "18   MCQ160C    0.010286  Ever told you had coronary heart disease\n",
       "19    SLQ050    0.010106    Ever told doctor had trouble sleeping?\n",
       "20   MCQ160F    0.009906                Ever told you had a stroke\n",
       "21    DLQ080    0.009462     Have difficulty doing errands alone ?\n",
       "22  DR1BWATZ    0.009453  Total bottled water drank yesterday (gm)\n",
       "23    PUQ110    0.009447              Products used to kill weeds?\n",
       "24    DRD360    0.009438            Fish eaten during past 30 days\n",
       "25    IMQ020    0.009264        Received Hepatitis B 3 dose series\n",
       "26    INQ150    0.008957                 Income from other sources\n",
       "27    CBQ505    0.008913             Eat at fast food/pizza places\n",
       "28    CBQ550    0.008895              Eat at restaurants w/ waiter\n",
       "29   MCQ300B    0.008836                                       NaN"
      ]
     },
     "execution_count": 60,
     "metadata": {},
     "output_type": "execute_result"
    }
   ],
   "source": [
    "df30"
   ]
  },
  {
   "cell_type": "code",
   "execution_count": 61,
   "metadata": {
    "scrolled": true
   },
   "outputs": [
    {
     "name": "stdout",
     "output_type": "stream",
     "text": [
      "Confusion Matrix (Accuracy 0.9310)\n",
      "\n",
      "       Prediction\n",
      "Actual    0    1\n",
      "     0 1351   10\n",
      "     1   91   11\n"
     ]
    }
   ],
   "source": [
    "#confusion matrix\n",
    "classificationSummary(valid_y, xgboost.predict(valid_X))"
   ]
  },
  {
   "cell_type": "markdown",
   "metadata": {},
   "source": [
    "## 3.6 Oversampling using synthetic minority over-sampling technique (SMOTE) \n",
    "A problem with imbalanced classification is that there are too few examples of the minority class for a model to effectively learn the decision boundary. One way to solve this problem is to oversample the examples in the minority class. SMOTE works by selecting examples that are close in the feature space, drawing a line between the examples in the feature space and drawing a new sample at a point along that line. Specifically, a random example from the minority class is first chosen. Then k of the nearest neighbors for that example are found (typically k=5). A randomly selected neighbor is chosen and a synthetic example is created at a randomly selected point between the two examples in feature space. (https://machinelearningmastery.com/smote-oversampling-for-imbalanced-classification/)"
   ]
  },
  {
   "cell_type": "code",
   "execution_count": 62,
   "metadata": {},
   "outputs": [
    {
     "name": "stdout",
     "output_type": "stream",
     "text": [
      "0.8.1\n"
     ]
    }
   ],
   "source": [
    "import imblearn\n",
    "from collections import Counter\n",
    "from sklearn.datasets import make_classification\n",
    "print(imblearn.__version__)"
   ]
  },
  {
   "cell_type": "code",
   "execution_count": 63,
   "metadata": {},
   "outputs": [],
   "source": [
    "#recreate X,y for moderate depression\n",
    "target=['mod_dep']\n",
    "drop_features= ['phq9',\n",
    "                'SEQN',\n",
    "                'DPQ010', 'DPQ020', 'DPQ030', 'DPQ040', 'DPQ050', 'DPQ060','DPQ070','DPQ080', 'DPQ090', 'DPQ100',\n",
    "               'mild_dep', 'sev_dep', 'suicidal', 'mod_dep']\n",
    "X = df_merge[df_merge.columns.drop(drop_features)]\n",
    "y= df_merge[target]"
   ]
  },
  {
   "cell_type": "code",
   "execution_count": 64,
   "metadata": {
    "scrolled": true
   },
   "outputs": [
    {
     "data": {
      "text/plain": [
       "mod_dep\n",
       "0          3402\n",
       "1           255\n",
       "dtype: int64"
      ]
     },
     "execution_count": 64,
     "metadata": {},
     "output_type": "execute_result"
    }
   ],
   "source": [
    "y.value_counts()"
   ]
  },
  {
   "cell_type": "markdown",
   "metadata": {},
   "source": [
    "### The combination of SMOTE and under-sampling (to trim the number of examples in the majority class) performs bettern than plain under-sampling (https://arxiv.org/abs/1106.1813)"
   ]
  },
  {
   "cell_type": "code",
   "execution_count": 65,
   "metadata": {},
   "outputs": [],
   "source": [
    "from imblearn.over_sampling import SMOTE\n",
    "from imblearn.under_sampling import RandomUnderSampler\n",
    "from imblearn.pipeline import Pipeline"
   ]
  },
  {
   "cell_type": "code",
   "execution_count": 66,
   "metadata": {},
   "outputs": [],
   "source": [
    "#oversample the minority class to have 30% the number of examples of the majority class\n",
    "over = SMOTE(sampling_strategy=0.3)\n",
    "#reduce the number of examples in the majority class to have 50% more than the minority class\n",
    "under = RandomUnderSampler(sampling_strategy=0.5)\n",
    "steps = [('o', over), ('u', under)]\n",
    "pipeline = Pipeline(steps=steps)"
   ]
  },
  {
   "cell_type": "code",
   "execution_count": 67,
   "metadata": {},
   "outputs": [],
   "source": [
    "X, y=pipeline.fit_resample(X, y)"
   ]
  },
  {
   "cell_type": "code",
   "execution_count": 68,
   "metadata": {},
   "outputs": [
    {
     "data": {
      "text/plain": [
       "mod_dep\n",
       "0          2040\n",
       "1          1020\n",
       "dtype: int64"
      ]
     },
     "execution_count": 68,
     "metadata": {},
     "output_type": "execute_result"
    }
   ],
   "source": [
    "y.value_counts()"
   ]
  },
  {
   "cell_type": "markdown",
   "metadata": {},
   "source": [
    "### Re-run feature selection using the more balanced data "
   ]
  },
  {
   "cell_type": "code",
   "execution_count": 69,
   "metadata": {},
   "outputs": [
    {
     "name": "stdout",
     "output_type": "stream",
     "text": [
      "Training_X:  (1836, 200)\n",
      "Validation_X:  (1224, 200)\n",
      "Training_y:  (1836, 1)\n",
      "Validation_y:  (1224, 1)\n"
     ]
    }
   ],
   "source": [
    "X_scaled= normalize_data(X)\n",
    "# training and validation sets split, predictors are scaled\n",
    "train_X, valid_X, train_y, valid_y = train_test_split(X_scaled, y, test_size=0.4, random_state=42, stratify=y)\n",
    "print('Training_X: ', train_X.shape)\n",
    "print('Validation_X: ', valid_X.shape)\n",
    "print('Training_y: ', train_y.shape)\n",
    "print('Validation_y: ', valid_y.shape)"
   ]
  },
  {
   "cell_type": "code",
   "execution_count": 70,
   "metadata": {},
   "outputs": [
    {
     "name": "stderr",
     "output_type": "stream",
     "text": [
      "/Users/beiw/opt/anaconda3/lib/python3.8/site-packages/xgboost/sklearn.py:1224: UserWarning: The use of label encoder in XGBClassifier is deprecated and will be removed in a future release. To remove this warning, do the following: 1) Pass option use_label_encoder=False when constructing XGBClassifier object; and 2) Encode your labels (y) as integers starting with 0, i.e. 0, 1, 2, ..., [num_class - 1].\n",
      "  warnings.warn(label_encoder_deprecation_msg, UserWarning)\n",
      "/Users/beiw/opt/anaconda3/lib/python3.8/site-packages/sklearn/utils/validation.py:63: DataConversionWarning: A column-vector y was passed when a 1d array was expected. Please change the shape of y to (n_samples, ), for example using ravel().\n",
      "  return f(*args, **kwargs)\n"
     ]
    },
    {
     "name": "stdout",
     "output_type": "stream",
     "text": [
      "[20:39:46] WARNING: /Users/travis/build/dmlc/xgboost/src/learner.cc:1115: Starting in XGBoost 1.3.0, the default evaluation metric used with the objective 'binary:logistic' was changed from 'error' to 'logloss'. Explicitly set eval_metric if you'd like to restore the old behavior.\n"
     ]
    },
    {
     "name": "stderr",
     "output_type": "stream",
     "text": [
      "<ipython-input-70-1ac33277e18d>:9: SettingWithCopyWarning: \n",
      "A value is trying to be set on a copy of a slice from a DataFrame.\n",
      "Try using .loc[row_indexer,col_indexer] = value instead\n",
      "\n",
      "See the caveats in the documentation: https://pandas.pydata.org/pandas-docs/stable/user_guide/indexing.html#returning-a-view-versus-a-copy\n",
      "  df20['variable'] = df20['variable'].apply(lambda x: x.upper())\n"
     ]
    }
   ],
   "source": [
    "xgboost.fit(train_X, train_y)\n",
    "importance= xgboost.feature_importances_\n",
    "columns= df_merge.columns\n",
    "df = pd.DataFrame({'feature': train_X.columns, 'importance': importance})\n",
    "df = df.sort_values('importance', ascending=False)\n",
    "#select top 20 features \n",
    "df20= df[:20]\n",
    "df20.columns=['variable', 'importance']\n",
    "df20['variable'] = df20['variable'].apply(lambda x: x.upper())\n",
    "df20 = pd.merge(left=df20, right=cbook, left_on='variable', right_on='variable', how='left')"
   ]
  },
  {
   "cell_type": "code",
   "execution_count": 71,
   "metadata": {
    "scrolled": true
   },
   "outputs": [
    {
     "data": {
      "text/html": [
       "<div>\n",
       "<style scoped>\n",
       "    .dataframe tbody tr th:only-of-type {\n",
       "        vertical-align: middle;\n",
       "    }\n",
       "\n",
       "    .dataframe tbody tr th {\n",
       "        vertical-align: top;\n",
       "    }\n",
       "\n",
       "    .dataframe thead th {\n",
       "        text-align: right;\n",
       "    }\n",
       "</style>\n",
       "<table border=\"1\" class=\"dataframe\">\n",
       "  <thead>\n",
       "    <tr style=\"text-align: right;\">\n",
       "      <th></th>\n",
       "      <th>variable</th>\n",
       "      <th>importance</th>\n",
       "      <th>label</th>\n",
       "    </tr>\n",
       "  </thead>\n",
       "  <tbody>\n",
       "    <tr>\n",
       "      <th>0</th>\n",
       "      <td>PFQ049</td>\n",
       "      <td>0.107207</td>\n",
       "      <td>Limitations keeping you from working</td>\n",
       "    </tr>\n",
       "    <tr>\n",
       "      <th>1</th>\n",
       "      <td>DLQ040</td>\n",
       "      <td>0.095892</td>\n",
       "      <td>Have serious difficulty concentrating ?</td>\n",
       "    </tr>\n",
       "    <tr>\n",
       "      <th>2</th>\n",
       "      <td>DIQ170</td>\n",
       "      <td>0.038328</td>\n",
       "      <td>Ever told have health risk for diabetes</td>\n",
       "    </tr>\n",
       "    <tr>\n",
       "      <th>3</th>\n",
       "      <td>HSD010</td>\n",
       "      <td>0.024268</td>\n",
       "      <td>General health condition</td>\n",
       "    </tr>\n",
       "    <tr>\n",
       "      <th>4</th>\n",
       "      <td>MCQ160O</td>\n",
       "      <td>0.021322</td>\n",
       "      <td>Ever told you had COPD?</td>\n",
       "    </tr>\n",
       "    <tr>\n",
       "      <th>5</th>\n",
       "      <td>HIQ011</td>\n",
       "      <td>0.020620</td>\n",
       "      <td>Covered by health insurance</td>\n",
       "    </tr>\n",
       "    <tr>\n",
       "      <th>6</th>\n",
       "      <td>PUQ100</td>\n",
       "      <td>0.019582</td>\n",
       "      <td>Products used in home to control insects</td>\n",
       "    </tr>\n",
       "    <tr>\n",
       "      <th>7</th>\n",
       "      <td>FSD032C</td>\n",
       "      <td>0.018863</td>\n",
       "      <td>HH Couldn't afford balanced meals</td>\n",
       "    </tr>\n",
       "    <tr>\n",
       "      <th>8</th>\n",
       "      <td>SXD021</td>\n",
       "      <td>0.017569</td>\n",
       "      <td>Ever had vaginal, anal, or oral sex</td>\n",
       "    </tr>\n",
       "    <tr>\n",
       "      <th>9</th>\n",
       "      <td>DLQ010</td>\n",
       "      <td>0.016537</td>\n",
       "      <td>Have serious difficulty hearing?</td>\n",
       "    </tr>\n",
       "    <tr>\n",
       "      <th>10</th>\n",
       "      <td>INQ150</td>\n",
       "      <td>0.016190</td>\n",
       "      <td>Income from other sources</td>\n",
       "    </tr>\n",
       "    <tr>\n",
       "      <th>11</th>\n",
       "      <td>DUQ370</td>\n",
       "      <td>0.015779</td>\n",
       "      <td>Ever use a needle to inject illegal drug</td>\n",
       "    </tr>\n",
       "    <tr>\n",
       "      <th>12</th>\n",
       "      <td>HSQ520</td>\n",
       "      <td>0.012819</td>\n",
       "      <td>SP have flu, pneumonia, ear infection?</td>\n",
       "    </tr>\n",
       "    <tr>\n",
       "      <th>13</th>\n",
       "      <td>DMQMILIZ</td>\n",
       "      <td>0.012276</td>\n",
       "      <td>Served active duty in US Armed Forces</td>\n",
       "    </tr>\n",
       "    <tr>\n",
       "      <th>14</th>\n",
       "      <td>SMQ872</td>\n",
       "      <td>0.012148</td>\n",
       "      <td>Last 7-d someone smoked in car?</td>\n",
       "    </tr>\n",
       "    <tr>\n",
       "      <th>15</th>\n",
       "      <td>OHQ770</td>\n",
       "      <td>0.011225</td>\n",
       "      <td>Past yr need dental but couldn't get it</td>\n",
       "    </tr>\n",
       "    <tr>\n",
       "      <th>16</th>\n",
       "      <td>DLQ050</td>\n",
       "      <td>0.010293</td>\n",
       "      <td>Have serious difficulty walking ?</td>\n",
       "    </tr>\n",
       "    <tr>\n",
       "      <th>17</th>\n",
       "      <td>CBQ580</td>\n",
       "      <td>0.009765</td>\n",
       "      <td>Saw nutrition info on restaurant menu</td>\n",
       "    </tr>\n",
       "    <tr>\n",
       "      <th>18</th>\n",
       "      <td>HSQ571</td>\n",
       "      <td>0.009315</td>\n",
       "      <td>SP donated blood in past 12 months?</td>\n",
       "    </tr>\n",
       "    <tr>\n",
       "      <th>19</th>\n",
       "      <td>PFQ057</td>\n",
       "      <td>0.009110</td>\n",
       "      <td>Experience confusion/memory problems</td>\n",
       "    </tr>\n",
       "  </tbody>\n",
       "</table>\n",
       "</div>"
      ],
      "text/plain": [
       "    variable  importance                                     label\n",
       "0     PFQ049    0.107207      Limitations keeping you from working\n",
       "1     DLQ040    0.095892   Have serious difficulty concentrating ?\n",
       "2     DIQ170    0.038328   Ever told have health risk for diabetes\n",
       "3     HSD010    0.024268                  General health condition\n",
       "4    MCQ160O    0.021322                   Ever told you had COPD?\n",
       "5     HIQ011    0.020620               Covered by health insurance\n",
       "6     PUQ100    0.019582  Products used in home to control insects\n",
       "7    FSD032C    0.018863         HH Couldn't afford balanced meals\n",
       "8     SXD021    0.017569       Ever had vaginal, anal, or oral sex\n",
       "9     DLQ010    0.016537          Have serious difficulty hearing?\n",
       "10    INQ150    0.016190                 Income from other sources\n",
       "11    DUQ370    0.015779  Ever use a needle to inject illegal drug\n",
       "12    HSQ520    0.012819    SP have flu, pneumonia, ear infection?\n",
       "13  DMQMILIZ    0.012276     Served active duty in US Armed Forces\n",
       "14    SMQ872    0.012148           Last 7-d someone smoked in car?\n",
       "15    OHQ770    0.011225   Past yr need dental but couldn't get it\n",
       "16    DLQ050    0.010293         Have serious difficulty walking ?\n",
       "17    CBQ580    0.009765     Saw nutrition info on restaurant menu\n",
       "18    HSQ571    0.009315       SP donated blood in past 12 months?\n",
       "19    PFQ057    0.009110      Experience confusion/memory problems"
      ]
     },
     "execution_count": 71,
     "metadata": {},
     "output_type": "execute_result"
    }
   ],
   "source": [
    "df20"
   ]
  },
  {
   "cell_type": "markdown",
   "metadata": {},
   "source": [
    "### The classification results are more reasonable after balancing data"
   ]
  },
  {
   "cell_type": "code",
   "execution_count": 72,
   "metadata": {
    "scrolled": true
   },
   "outputs": [
    {
     "name": "stdout",
     "output_type": "stream",
     "text": [
      "Confusion Matrix (Accuracy 0.9265)\n",
      "\n",
      "       Prediction\n",
      "Actual   0   1\n",
      "     0 787  29\n",
      "     1  61 347\n"
     ]
    }
   ],
   "source": [
    "classificationSummary(valid_y, xgboost.predict(valid_X))"
   ]
  },
  {
   "cell_type": "markdown",
   "metadata": {},
   "source": [
    "## 3.7 Selected variables and correlation matrix "
   ]
  },
  {
   "cell_type": "code",
   "execution_count": 73,
   "metadata": {},
   "outputs": [
    {
     "name": "stdout",
     "output_type": "stream",
     "text": [
      "['PFQ049', 'DLQ040', 'DIQ170', 'HSD010', 'MCQ160O', 'HIQ011', 'PUQ100', 'FSD032C', 'SXD021', 'DLQ010', 'INQ150', 'DUQ370', 'HSQ520', 'DMQMILIZ', 'SMQ872', 'OHQ770', 'DLQ050', 'CBQ580', 'HSQ571', 'PFQ057', 'mod_dep']\n"
     ]
    }
   ],
   "source": [
    "var_list= df20.variable.tolist()\n",
    "var_list.append('mod_dep')\n",
    "print(var_list)"
   ]
  },
  {
   "cell_type": "code",
   "execution_count": 74,
   "metadata": {},
   "outputs": [],
   "source": [
    "#final df\n",
    "y_final= y.filter(var_list)\n",
    "X_final= X.filter(var_list)"
   ]
  },
  {
   "cell_type": "code",
   "execution_count": 75,
   "metadata": {},
   "outputs": [
    {
     "name": "stdout",
     "output_type": "stream",
     "text": [
      "<class 'pandas.core.frame.DataFrame'>\n",
      "RangeIndex: 3060 entries, 0 to 3059\n",
      "Data columns (total 20 columns):\n",
      " #   Column    Non-Null Count  Dtype  \n",
      "---  ------    --------------  -----  \n",
      " 0   PFQ049    3060 non-null   float64\n",
      " 1   DLQ040    3060 non-null   float64\n",
      " 2   DIQ170    3060 non-null   float64\n",
      " 3   HSD010    3060 non-null   float64\n",
      " 4   MCQ160O   3060 non-null   float64\n",
      " 5   HIQ011    3060 non-null   float64\n",
      " 6   PUQ100    3060 non-null   float64\n",
      " 7   FSD032C   3060 non-null   float64\n",
      " 8   SXD021    3060 non-null   float64\n",
      " 9   DLQ010    3060 non-null   float64\n",
      " 10  INQ150    3060 non-null   float64\n",
      " 11  DUQ370    3060 non-null   float64\n",
      " 12  HSQ520    3060 non-null   float64\n",
      " 13  DMQMILIZ  3060 non-null   float64\n",
      " 14  SMQ872    3060 non-null   float64\n",
      " 15  OHQ770    3060 non-null   float64\n",
      " 16  DLQ050    3060 non-null   float64\n",
      " 17  CBQ580    3060 non-null   float64\n",
      " 18  HSQ571    3060 non-null   float64\n",
      " 19  PFQ057    3060 non-null   float64\n",
      "dtypes: float64(20)\n",
      "memory usage: 478.2 KB\n"
     ]
    }
   ],
   "source": [
    "X_final.info()"
   ]
  },
  {
   "cell_type": "code",
   "execution_count": 97,
   "metadata": {},
   "outputs": [
    {
     "data": {
      "text/plain": [
       "<AxesSubplot:>"
      ]
     },
     "execution_count": 97,
     "metadata": {},
     "output_type": "execute_result"
    },
    {
     "data": {
      "image/png": "[encoded data removed]",
      "text/plain": [
       "<Figure size 432x432 with 2 Axes>"
      ]
     },
     "metadata": {
      "needs_background": "light"
     },
     "output_type": "display_data"
    }
   ],
   "source": [
    "ax=plt.subplots(figsize=(6,6))\n",
    "corr=X_final.corr()\n",
    "sns.heatmap(corr, cmap=sns.cm.rocket_r)"
   ]
  },
  {
   "cell_type": "code",
   "execution_count": 77,
   "metadata": {},
   "outputs": [],
   "source": [
    "#get highly correlated pairs, ranked by absolute correlation values \n",
    "def get_redundant_pairs(df):\n",
    "    '''Get diagonal and lower triangular pairs of correlation matrix'''\n",
    "    pairs_to_drop = set()\n",
    "    cols = df.columns\n",
    "    for i in range(0, df.shape[1]):\n",
    "        for j in range(0, i+1):\n",
    "            pairs_to_drop.add((cols[i], cols[j]))\n",
    "    return pairs_to_drop\n",
    "\n",
    "def get_top_abs_correlations(df, n=5):\n",
    "    au_corr = df.corr().abs().unstack()\n",
    "    labels_to_drop = get_redundant_pairs(df)\n",
    "    au_corr = au_corr.drop(labels=labels_to_drop).sort_values(ascending=False)\n",
    "    return au_corr[0:n]"
   ]
  },
  {
   "cell_type": "code",
   "execution_count": 78,
   "metadata": {},
   "outputs": [
    {
     "data": {
      "text/plain": [
       "DLQ040  PFQ057    0.610007\n",
       "PFQ049  DLQ050    0.526456\n",
       "        PFQ057    0.497671\n",
       "        DLQ040    0.444378\n",
       "DLQ050  PFQ057    0.431400\n",
       "HSD010  DLQ050    0.417874\n",
       "PFQ049  HSD010    0.397053\n",
       "DLQ040  DLQ050    0.359252\n",
       "HSD010  PFQ057    0.343616\n",
       "DLQ040  HSD010    0.286647\n",
       "dtype: float64"
      ]
     },
     "execution_count": 78,
     "metadata": {},
     "output_type": "execute_result"
    }
   ],
   "source": [
    "get_top_abs_correlations(X_final, 10)"
   ]
  },
  {
   "cell_type": "markdown",
   "metadata": {},
   "source": [
    "### Narrowed down to 20 predictors; some of them are correlated but we can drop later."
   ]
  },
  {
   "cell_type": "code",
   "execution_count": 79,
   "metadata": {},
   "outputs": [
    {
     "data": {
      "text/plain": [
       "(3060, 20)"
      ]
     },
     "execution_count": 79,
     "metadata": {},
     "output_type": "execute_result"
    }
   ],
   "source": [
    "X_final.shape"
   ]
  },
  {
   "cell_type": "markdown",
   "metadata": {},
   "source": [
    "note: \n",
    "delete general health duplicate \n"
   ]
  },
  {
   "cell_type": "markdown",
   "metadata": {},
   "source": [
    "# 4. Shortlist promising models "
   ]
  },
  {
   "cell_type": "code",
   "execution_count": 80,
   "metadata": {},
   "outputs": [
    {
     "name": "stdout",
     "output_type": "stream",
     "text": [
      "Training_X:  (1836, 20)\n",
      "Validation_X:  (1224, 20)\n",
      "Training_y:  (1836, 1)\n",
      "Validation_y:  (1224, 1)\n"
     ]
    }
   ],
   "source": [
    "#final dataset (after balancing and feature selection)\n",
    "train_X, valid_X, train_y, valid_y = train_test_split(X_final, y_final, test_size=0.4, random_state=42, stratify=y)\n",
    "print('Training_X: ', train_X.shape)\n",
    "print('Validation_X: ', valid_X.shape)\n",
    "print('Training_y: ', train_y.shape)\n",
    "print('Validation_y: ', valid_y.shape)"
   ]
  },
  {
   "cell_type": "markdown",
   "metadata": {},
   "source": [
    "## 4.1 Baseline model: logistic regression "
   ]
  },
  {
   "cell_type": "code",
   "execution_count": 81,
   "metadata": {},
   "outputs": [
    {
     "name": "stderr",
     "output_type": "stream",
     "text": [
      "/Users/beiw/opt/anaconda3/lib/python3.8/site-packages/sklearn/utils/validation.py:63: DataConversionWarning: A column-vector y was passed when a 1d array was expected. Please change the shape of y to (n_samples, ), for example using ravel().\n",
      "  return f(*args, **kwargs)\n"
     ]
    },
    {
     "data": {
      "text/plain": [
       "LogisticRegression()"
      ]
     },
     "execution_count": 81,
     "metadata": {},
     "output_type": "execute_result"
    }
   ],
   "source": [
    "logit=LogisticRegression()\n",
    "logit.fit(train_X, train_y)"
   ]
  },
  {
   "cell_type": "code",
   "execution_count": 82,
   "metadata": {},
   "outputs": [],
   "source": [
    "coef= logit.coef_\n",
    "coef= coef.flatten()\n",
    "columns= train_X.columns\n",
    "df = pd.DataFrame({'feature': columns, \n",
    "                   'coefficients': coef})\n",
    "df = df.sort_values('coefficients', ascending=False)\n",
    "df.columns=['variable', 'coefficients']\n",
    "df['variable'] = df['variable'].apply(lambda x: x.upper())\n",
    "df = pd.merge(left=df, right=cbook, left_on='variable', right_on='variable', how='left')"
   ]
  },
  {
   "cell_type": "code",
   "execution_count": 83,
   "metadata": {
    "scrolled": true
   },
   "outputs": [
    {
     "data": {
      "text/html": [
       "<div>\n",
       "<style scoped>\n",
       "    .dataframe tbody tr th:only-of-type {\n",
       "        vertical-align: middle;\n",
       "    }\n",
       "\n",
       "    .dataframe tbody tr th {\n",
       "        vertical-align: top;\n",
       "    }\n",
       "\n",
       "    .dataframe thead th {\n",
       "        text-align: right;\n",
       "    }\n",
       "</style>\n",
       "<table border=\"1\" class=\"dataframe\">\n",
       "  <thead>\n",
       "    <tr style=\"text-align: right;\">\n",
       "      <th></th>\n",
       "      <th>variable</th>\n",
       "      <th>coefficients</th>\n",
       "      <th>label</th>\n",
       "    </tr>\n",
       "  </thead>\n",
       "  <tbody>\n",
       "    <tr>\n",
       "      <th>0</th>\n",
       "      <td>HSD010</td>\n",
       "      <td>0.916561</td>\n",
       "      <td>General health condition</td>\n",
       "    </tr>\n",
       "    <tr>\n",
       "      <th>1</th>\n",
       "      <td>DMQMILIZ</td>\n",
       "      <td>0.411408</td>\n",
       "      <td>Served active duty in US Armed Forces</td>\n",
       "    </tr>\n",
       "    <tr>\n",
       "      <th>2</th>\n",
       "      <td>DIQ170</td>\n",
       "      <td>0.291755</td>\n",
       "      <td>Ever told have health risk for diabetes</td>\n",
       "    </tr>\n",
       "    <tr>\n",
       "      <th>3</th>\n",
       "      <td>SXD021</td>\n",
       "      <td>0.247878</td>\n",
       "      <td>Ever had vaginal, anal, or oral sex</td>\n",
       "    </tr>\n",
       "    <tr>\n",
       "      <th>4</th>\n",
       "      <td>MCQ160O</td>\n",
       "      <td>0.212367</td>\n",
       "      <td>Ever told you had COPD?</td>\n",
       "    </tr>\n",
       "    <tr>\n",
       "      <th>5</th>\n",
       "      <td>HIQ011</td>\n",
       "      <td>0.167882</td>\n",
       "      <td>Covered by health insurance</td>\n",
       "    </tr>\n",
       "    <tr>\n",
       "      <th>6</th>\n",
       "      <td>CBQ580</td>\n",
       "      <td>-0.124723</td>\n",
       "      <td>Saw nutrition info on restaurant menu</td>\n",
       "    </tr>\n",
       "    <tr>\n",
       "      <th>7</th>\n",
       "      <td>DLQ010</td>\n",
       "      <td>-0.229625</td>\n",
       "      <td>Have serious difficulty hearing?</td>\n",
       "    </tr>\n",
       "    <tr>\n",
       "      <th>8</th>\n",
       "      <td>SMQ872</td>\n",
       "      <td>-0.245834</td>\n",
       "      <td>Last 7-d someone smoked in car?</td>\n",
       "    </tr>\n",
       "    <tr>\n",
       "      <th>9</th>\n",
       "      <td>DLQ050</td>\n",
       "      <td>-0.256699</td>\n",
       "      <td>Have serious difficulty walking ?</td>\n",
       "    </tr>\n",
       "    <tr>\n",
       "      <th>10</th>\n",
       "      <td>PFQ057</td>\n",
       "      <td>-0.328201</td>\n",
       "      <td>Experience confusion/memory problems</td>\n",
       "    </tr>\n",
       "    <tr>\n",
       "      <th>11</th>\n",
       "      <td>INQ150</td>\n",
       "      <td>-0.356926</td>\n",
       "      <td>Income from other sources</td>\n",
       "    </tr>\n",
       "    <tr>\n",
       "      <th>12</th>\n",
       "      <td>FSD032C</td>\n",
       "      <td>-0.474513</td>\n",
       "      <td>HH Couldn't afford balanced meals</td>\n",
       "    </tr>\n",
       "    <tr>\n",
       "      <th>13</th>\n",
       "      <td>DUQ370</td>\n",
       "      <td>-0.491993</td>\n",
       "      <td>Ever use a needle to inject illegal drug</td>\n",
       "    </tr>\n",
       "    <tr>\n",
       "      <th>14</th>\n",
       "      <td>OHQ770</td>\n",
       "      <td>-0.562209</td>\n",
       "      <td>Past yr need dental but couldn't get it</td>\n",
       "    </tr>\n",
       "    <tr>\n",
       "      <th>15</th>\n",
       "      <td>HSQ571</td>\n",
       "      <td>-0.564398</td>\n",
       "      <td>SP donated blood in past 12 months?</td>\n",
       "    </tr>\n",
       "    <tr>\n",
       "      <th>16</th>\n",
       "      <td>PUQ100</td>\n",
       "      <td>-0.566737</td>\n",
       "      <td>Products used in home to control insects</td>\n",
       "    </tr>\n",
       "    <tr>\n",
       "      <th>17</th>\n",
       "      <td>HSQ520</td>\n",
       "      <td>-0.771149</td>\n",
       "      <td>SP have flu, pneumonia, ear infection?</td>\n",
       "    </tr>\n",
       "    <tr>\n",
       "      <th>18</th>\n",
       "      <td>PFQ049</td>\n",
       "      <td>-0.892056</td>\n",
       "      <td>Limitations keeping you from working</td>\n",
       "    </tr>\n",
       "    <tr>\n",
       "      <th>19</th>\n",
       "      <td>DLQ040</td>\n",
       "      <td>-1.545103</td>\n",
       "      <td>Have serious difficulty concentrating ?</td>\n",
       "    </tr>\n",
       "  </tbody>\n",
       "</table>\n",
       "</div>"
      ],
      "text/plain": [
       "    variable  coefficients                                     label\n",
       "0     HSD010      0.916561                  General health condition\n",
       "1   DMQMILIZ      0.411408     Served active duty in US Armed Forces\n",
       "2     DIQ170      0.291755   Ever told have health risk for diabetes\n",
       "3     SXD021      0.247878       Ever had vaginal, anal, or oral sex\n",
       "4    MCQ160O      0.212367                   Ever told you had COPD?\n",
       "5     HIQ011      0.167882               Covered by health insurance\n",
       "6     CBQ580     -0.124723     Saw nutrition info on restaurant menu\n",
       "7     DLQ010     -0.229625          Have serious difficulty hearing?\n",
       "8     SMQ872     -0.245834           Last 7-d someone smoked in car?\n",
       "9     DLQ050     -0.256699         Have serious difficulty walking ?\n",
       "10    PFQ057     -0.328201      Experience confusion/memory problems\n",
       "11    INQ150     -0.356926                 Income from other sources\n",
       "12   FSD032C     -0.474513         HH Couldn't afford balanced meals\n",
       "13    DUQ370     -0.491993  Ever use a needle to inject illegal drug\n",
       "14    OHQ770     -0.562209   Past yr need dental but couldn't get it\n",
       "15    HSQ571     -0.564398       SP donated blood in past 12 months?\n",
       "16    PUQ100     -0.566737  Products used in home to control insects\n",
       "17    HSQ520     -0.771149    SP have flu, pneumonia, ear infection?\n",
       "18    PFQ049     -0.892056      Limitations keeping you from working\n",
       "19    DLQ040     -1.545103   Have serious difficulty concentrating ?"
      ]
     },
     "execution_count": 83,
     "metadata": {},
     "output_type": "execute_result"
    }
   ],
   "source": [
    "df"
   ]
  },
  {
   "cell_type": "code",
   "execution_count": 86,
   "metadata": {},
   "outputs": [
    {
     "ename": "TypeError",
     "evalue": "estimator should be an estimator implementing 'fit' method, <statsmodels.discrete.discrete_model.BinaryResultsWrapper object at 0x7facad4c7b20> was passed",
     "output_type": "error",
     "traceback": [
      "\u001b[0;31m---------------------------------------------------------------------------\u001b[0m",
      "\u001b[0;31mTypeError\u001b[0m                                 Traceback (most recent call last)",
      "\u001b[0;32m<ipython-input-86-31dc60179358>\u001b[0m in \u001b[0;36m<module>\u001b[0;34m\u001b[0m\n\u001b[1;32m      5\u001b[0m \u001b[0mcv\u001b[0m \u001b[0;34m=\u001b[0m \u001b[0mKFold\u001b[0m\u001b[0;34m(\u001b[0m\u001b[0mn_splits\u001b[0m\u001b[0;34m=\u001b[0m\u001b[0;36m10\u001b[0m\u001b[0;34m,\u001b[0m \u001b[0mrandom_state\u001b[0m\u001b[0;34m=\u001b[0m\u001b[0;36m1\u001b[0m\u001b[0;34m,\u001b[0m \u001b[0mshuffle\u001b[0m\u001b[0;34m=\u001b[0m\u001b[0;32mTrue\u001b[0m\u001b[0;34m)\u001b[0m\u001b[0;34m\u001b[0m\u001b[0;34m\u001b[0m\u001b[0m\n\u001b[1;32m      6\u001b[0m \u001b[0;31m# evaluate model\u001b[0m\u001b[0;34m\u001b[0m\u001b[0;34m\u001b[0m\u001b[0;34m\u001b[0m\u001b[0m\n\u001b[0;32m----> 7\u001b[0;31m \u001b[0mscores\u001b[0m \u001b[0;34m=\u001b[0m \u001b[0mcross_val_score\u001b[0m\u001b[0;34m(\u001b[0m\u001b[0mlogit\u001b[0m\u001b[0;34m,\u001b[0m \u001b[0mtrain_X\u001b[0m\u001b[0;34m,\u001b[0m\u001b[0mtrain_y\u001b[0m\u001b[0;34m,\u001b[0m \u001b[0mscoring\u001b[0m\u001b[0;34m=\u001b[0m\u001b[0;34m'accuracy'\u001b[0m\u001b[0;34m,\u001b[0m \u001b[0mcv\u001b[0m\u001b[0;34m=\u001b[0m\u001b[0mcv\u001b[0m\u001b[0;34m,\u001b[0m \u001b[0mn_jobs\u001b[0m\u001b[0;34m=\u001b[0m\u001b[0;34m-\u001b[0m\u001b[0;36m1\u001b[0m\u001b[0;34m)\u001b[0m\u001b[0;34m\u001b[0m\u001b[0;34m\u001b[0m\u001b[0m\n\u001b[0m\u001b[1;32m      8\u001b[0m \u001b[0;31m# report performance\u001b[0m\u001b[0;34m\u001b[0m\u001b[0;34m\u001b[0m\u001b[0;34m\u001b[0m\u001b[0m\n\u001b[1;32m      9\u001b[0m \u001b[0mprint\u001b[0m\u001b[0;34m(\u001b[0m\u001b[0;34m'Accuracy: %.3f (%.3f)'\u001b[0m \u001b[0;34m%\u001b[0m \u001b[0;34m(\u001b[0m\u001b[0mmean\u001b[0m\u001b[0;34m(\u001b[0m\u001b[0mscores\u001b[0m\u001b[0;34m)\u001b[0m\u001b[0;34m,\u001b[0m \u001b[0mstd\u001b[0m\u001b[0;34m(\u001b[0m\u001b[0mscores\u001b[0m\u001b[0;34m)\u001b[0m\u001b[0;34m)\u001b[0m\u001b[0;34m)\u001b[0m\u001b[0;34m\u001b[0m\u001b[0;34m\u001b[0m\u001b[0m\n",
      "\u001b[0;32m~/opt/anaconda3/lib/python3.8/site-packages/sklearn/utils/validation.py\u001b[0m in \u001b[0;36minner_f\u001b[0;34m(*args, **kwargs)\u001b[0m\n\u001b[1;32m     61\u001b[0m             \u001b[0mextra_args\u001b[0m \u001b[0;34m=\u001b[0m \u001b[0mlen\u001b[0m\u001b[0;34m(\u001b[0m\u001b[0margs\u001b[0m\u001b[0;34m)\u001b[0m \u001b[0;34m-\u001b[0m \u001b[0mlen\u001b[0m\u001b[0;34m(\u001b[0m\u001b[0mall_args\u001b[0m\u001b[0;34m)\u001b[0m\u001b[0;34m\u001b[0m\u001b[0;34m\u001b[0m\u001b[0m\n\u001b[1;32m     62\u001b[0m             \u001b[0;32mif\u001b[0m \u001b[0mextra_args\u001b[0m \u001b[0;34m<=\u001b[0m \u001b[0;36m0\u001b[0m\u001b[0;34m:\u001b[0m\u001b[0;34m\u001b[0m\u001b[0;34m\u001b[0m\u001b[0m\n\u001b[0;32m---> 63\u001b[0;31m                 \u001b[0;32mreturn\u001b[0m \u001b[0mf\u001b[0m\u001b[0;34m(\u001b[0m\u001b[0;34m*\u001b[0m\u001b[0margs\u001b[0m\u001b[0;34m,\u001b[0m \u001b[0;34m**\u001b[0m\u001b[0mkwargs\u001b[0m\u001b[0;34m)\u001b[0m\u001b[0;34m\u001b[0m\u001b[0;34m\u001b[0m\u001b[0m\n\u001b[0m\u001b[1;32m     64\u001b[0m \u001b[0;34m\u001b[0m\u001b[0m\n\u001b[1;32m     65\u001b[0m             \u001b[0;31m# extra_args > 0\u001b[0m\u001b[0;34m\u001b[0m\u001b[0;34m\u001b[0m\u001b[0;34m\u001b[0m\u001b[0m\n",
      "\u001b[0;32m~/opt/anaconda3/lib/python3.8/site-packages/sklearn/model_selection/_validation.py\u001b[0m in \u001b[0;36mcross_val_score\u001b[0;34m(estimator, X, y, groups, scoring, cv, n_jobs, verbose, fit_params, pre_dispatch, error_score)\u001b[0m\n\u001b[1;32m    436\u001b[0m     \"\"\"\n\u001b[1;32m    437\u001b[0m     \u001b[0;31m# To ensure multimetric format is not supported\u001b[0m\u001b[0;34m\u001b[0m\u001b[0;34m\u001b[0m\u001b[0;34m\u001b[0m\u001b[0m\n\u001b[0;32m--> 438\u001b[0;31m     \u001b[0mscorer\u001b[0m \u001b[0;34m=\u001b[0m \u001b[0mcheck_scoring\u001b[0m\u001b[0;34m(\u001b[0m\u001b[0mestimator\u001b[0m\u001b[0;34m,\u001b[0m \u001b[0mscoring\u001b[0m\u001b[0;34m=\u001b[0m\u001b[0mscoring\u001b[0m\u001b[0;34m)\u001b[0m\u001b[0;34m\u001b[0m\u001b[0;34m\u001b[0m\u001b[0m\n\u001b[0m\u001b[1;32m    439\u001b[0m \u001b[0;34m\u001b[0m\u001b[0m\n\u001b[1;32m    440\u001b[0m     cv_results = cross_validate(estimator=estimator, X=X, y=y, groups=groups,\n",
      "\u001b[0;32m~/opt/anaconda3/lib/python3.8/site-packages/sklearn/utils/validation.py\u001b[0m in \u001b[0;36minner_f\u001b[0;34m(*args, **kwargs)\u001b[0m\n\u001b[1;32m     61\u001b[0m             \u001b[0mextra_args\u001b[0m \u001b[0;34m=\u001b[0m \u001b[0mlen\u001b[0m\u001b[0;34m(\u001b[0m\u001b[0margs\u001b[0m\u001b[0;34m)\u001b[0m \u001b[0;34m-\u001b[0m \u001b[0mlen\u001b[0m\u001b[0;34m(\u001b[0m\u001b[0mall_args\u001b[0m\u001b[0;34m)\u001b[0m\u001b[0;34m\u001b[0m\u001b[0;34m\u001b[0m\u001b[0m\n\u001b[1;32m     62\u001b[0m             \u001b[0;32mif\u001b[0m \u001b[0mextra_args\u001b[0m \u001b[0;34m<=\u001b[0m \u001b[0;36m0\u001b[0m\u001b[0;34m:\u001b[0m\u001b[0;34m\u001b[0m\u001b[0;34m\u001b[0m\u001b[0m\n\u001b[0;32m---> 63\u001b[0;31m                 \u001b[0;32mreturn\u001b[0m \u001b[0mf\u001b[0m\u001b[0;34m(\u001b[0m\u001b[0;34m*\u001b[0m\u001b[0margs\u001b[0m\u001b[0;34m,\u001b[0m \u001b[0;34m**\u001b[0m\u001b[0mkwargs\u001b[0m\u001b[0;34m)\u001b[0m\u001b[0;34m\u001b[0m\u001b[0;34m\u001b[0m\u001b[0m\n\u001b[0m\u001b[1;32m     64\u001b[0m \u001b[0;34m\u001b[0m\u001b[0m\n\u001b[1;32m     65\u001b[0m             \u001b[0;31m# extra_args > 0\u001b[0m\u001b[0;34m\u001b[0m\u001b[0;34m\u001b[0m\u001b[0;34m\u001b[0m\u001b[0m\n",
      "\u001b[0;32m~/opt/anaconda3/lib/python3.8/site-packages/sklearn/metrics/_scorer.py\u001b[0m in \u001b[0;36mcheck_scoring\u001b[0;34m(estimator, scoring, allow_none)\u001b[0m\n\u001b[1;32m    425\u001b[0m     \"\"\"\n\u001b[1;32m    426\u001b[0m     \u001b[0;32mif\u001b[0m \u001b[0;32mnot\u001b[0m \u001b[0mhasattr\u001b[0m\u001b[0;34m(\u001b[0m\u001b[0mestimator\u001b[0m\u001b[0;34m,\u001b[0m \u001b[0;34m'fit'\u001b[0m\u001b[0;34m)\u001b[0m\u001b[0;34m:\u001b[0m\u001b[0;34m\u001b[0m\u001b[0;34m\u001b[0m\u001b[0m\n\u001b[0;32m--> 427\u001b[0;31m         raise TypeError(\"estimator should be an estimator implementing \"\n\u001b[0m\u001b[1;32m    428\u001b[0m                         \"'fit' method, %r was passed\" % estimator)\n\u001b[1;32m    429\u001b[0m     \u001b[0;32mif\u001b[0m \u001b[0misinstance\u001b[0m\u001b[0;34m(\u001b[0m\u001b[0mscoring\u001b[0m\u001b[0;34m,\u001b[0m \u001b[0mstr\u001b[0m\u001b[0;34m)\u001b[0m\u001b[0;34m:\u001b[0m\u001b[0;34m\u001b[0m\u001b[0;34m\u001b[0m\u001b[0m\n",
      "\u001b[0;31mTypeError\u001b[0m: estimator should be an estimator implementing 'fit' method, <statsmodels.discrete.discrete_model.BinaryResultsWrapper object at 0x7facad4c7b20> was passed"
     ]
    }
   ],
   "source": [
    "from sklearn.model_selection import KFold, cross_val_score\n",
    "from numpy import mean\n",
    "from numpy import std\n",
    "#cross-validation \n",
    "cv = KFold(n_splits=10, random_state=1, shuffle=True)\n",
    "# evaluate model\n",
    "scores = cross_val_score(logit, train_X,train_y, scoring='accuracy', cv=cv, n_jobs=-1)\n",
    "# report performance\n",
    "print('Accuracy: %.3f (%.3f)' % (mean(scores), std(scores)))"
   ]
  },
  {
   "cell_type": "code",
   "execution_count": 87,
   "metadata": {},
   "outputs": [
    {
     "name": "stdout",
     "output_type": "stream",
     "text": [
      "Optimization terminated successfully.\n",
      "         Current function value: 0.417333\n",
      "         Iterations 7\n"
     ]
    },
    {
     "data": {
      "text/html": [
       "<table class=\"simpletable\">\n",
       "<caption>Logit Regression Results</caption>\n",
       "<tr>\n",
       "  <th>Dep. Variable:</th>        <td>mod_dep</td>     <th>  No. Observations:  </th>   <td>  1836</td>  \n",
       "</tr>\n",
       "<tr>\n",
       "  <th>Model:</th>                 <td>Logit</td>      <th>  Df Residuals:      </th>   <td>  1816</td>  \n",
       "</tr>\n",
       "<tr>\n",
       "  <th>Method:</th>                 <td>MLE</td>       <th>  Df Model:          </th>   <td>    19</td>  \n",
       "</tr>\n",
       "<tr>\n",
       "  <th>Date:</th>            <td>Tue, 30 Nov 2021</td> <th>  Pseudo R-squ.:     </th>   <td>0.3443</td>  \n",
       "</tr>\n",
       "<tr>\n",
       "  <th>Time:</th>                <td>20:41:55</td>     <th>  Log-Likelihood:    </th>  <td> -766.22</td> \n",
       "</tr>\n",
       "<tr>\n",
       "  <th>converged:</th>             <td>True</td>       <th>  LL-Null:           </th>  <td> -1168.6</td> \n",
       "</tr>\n",
       "<tr>\n",
       "  <th>Covariance Type:</th>     <td>nonrobust</td>    <th>  LLR p-value:       </th> <td>2.019e-158</td>\n",
       "</tr>\n",
       "</table>\n",
       "<table class=\"simpletable\">\n",
       "<tr>\n",
       "      <td></td>        <th>coef</th>     <th>std err</th>      <th>z</th>      <th>P>|z|</th>  <th>[0.025</th>    <th>0.975]</th>  \n",
       "</tr>\n",
       "<tr>\n",
       "  <th>PFQ049</th>   <td>   -0.9349</td> <td>    0.175</td> <td>   -5.353</td> <td> 0.000</td> <td>   -1.277</td> <td>   -0.593</td>\n",
       "</tr>\n",
       "<tr>\n",
       "  <th>DLQ040</th>   <td>   -1.6194</td> <td>    0.191</td> <td>   -8.475</td> <td> 0.000</td> <td>   -1.994</td> <td>   -1.245</td>\n",
       "</tr>\n",
       "<tr>\n",
       "  <th>DIQ170</th>   <td>    0.4601</td> <td>    0.199</td> <td>    2.309</td> <td> 0.021</td> <td>    0.070</td> <td>    0.851</td>\n",
       "</tr>\n",
       "<tr>\n",
       "  <th>HSD010</th>   <td>    1.0172</td> <td>    0.084</td> <td>   12.087</td> <td> 0.000</td> <td>    0.852</td> <td>    1.182</td>\n",
       "</tr>\n",
       "<tr>\n",
       "  <th>MCQ160O</th>  <td>    0.7479</td> <td>    0.314</td> <td>    2.378</td> <td> 0.017</td> <td>    0.132</td> <td>    1.364</td>\n",
       "</tr>\n",
       "<tr>\n",
       "  <th>HIQ011</th>   <td>    0.2726</td> <td>    0.166</td> <td>    1.646</td> <td> 0.100</td> <td>   -0.052</td> <td>    0.597</td>\n",
       "</tr>\n",
       "<tr>\n",
       "  <th>PUQ100</th>   <td>   -0.4977</td> <td>    0.179</td> <td>   -2.776</td> <td> 0.006</td> <td>   -0.849</td> <td>   -0.146</td>\n",
       "</tr>\n",
       "<tr>\n",
       "  <th>FSD032C</th>  <td>   -0.4202</td> <td>    0.107</td> <td>   -3.924</td> <td> 0.000</td> <td>   -0.630</td> <td>   -0.210</td>\n",
       "</tr>\n",
       "<tr>\n",
       "  <th>SXD021</th>   <td>    0.5433</td> <td>    0.321</td> <td>    1.692</td> <td> 0.091</td> <td>   -0.086</td> <td>    1.173</td>\n",
       "</tr>\n",
       "<tr>\n",
       "  <th>DLQ010</th>   <td>   -0.0574</td> <td>    0.239</td> <td>   -0.241</td> <td> 0.810</td> <td>   -0.525</td> <td>    0.410</td>\n",
       "</tr>\n",
       "<tr>\n",
       "  <th>INQ150</th>   <td>   -0.2686</td> <td>    0.191</td> <td>   -1.408</td> <td> 0.159</td> <td>   -0.643</td> <td>    0.105</td>\n",
       "</tr>\n",
       "<tr>\n",
       "  <th>DUQ370</th>   <td>    0.1992</td> <td>    0.373</td> <td>    0.534</td> <td> 0.593</td> <td>   -0.532</td> <td>    0.930</td>\n",
       "</tr>\n",
       "<tr>\n",
       "  <th>HSQ520</th>   <td>   -0.4262</td> <td>    0.267</td> <td>   -1.598</td> <td> 0.110</td> <td>   -0.949</td> <td>    0.096</td>\n",
       "</tr>\n",
       "<tr>\n",
       "  <th>DMQMILIZ</th> <td>    0.7361</td> <td>    0.278</td> <td>    2.649</td> <td> 0.008</td> <td>    0.191</td> <td>    1.281</td>\n",
       "</tr>\n",
       "<tr>\n",
       "  <th>SMQ872</th>   <td>   -0.1825</td> <td>    0.171</td> <td>   -1.069</td> <td> 0.285</td> <td>   -0.517</td> <td>    0.152</td>\n",
       "</tr>\n",
       "<tr>\n",
       "  <th>OHQ770</th>   <td>   -0.4548</td> <td>    0.149</td> <td>   -3.052</td> <td> 0.002</td> <td>   -0.747</td> <td>   -0.163</td>\n",
       "</tr>\n",
       "<tr>\n",
       "  <th>DLQ050</th>   <td>   -0.1761</td> <td>    0.184</td> <td>   -0.956</td> <td> 0.339</td> <td>   -0.537</td> <td>    0.185</td>\n",
       "</tr>\n",
       "<tr>\n",
       "  <th>CBQ580</th>   <td>   -0.0320</td> <td>    0.163</td> <td>   -0.196</td> <td> 0.844</td> <td>   -0.352</td> <td>    0.288</td>\n",
       "</tr>\n",
       "<tr>\n",
       "  <th>HSQ571</th>   <td>    0.2220</td> <td>    0.367</td> <td>    0.605</td> <td> 0.545</td> <td>   -0.497</td> <td>    0.941</td>\n",
       "</tr>\n",
       "<tr>\n",
       "  <th>PFQ057</th>   <td>   -0.1935</td> <td>    0.216</td> <td>   -0.897</td> <td> 0.370</td> <td>   -0.616</td> <td>    0.229</td>\n",
       "</tr>\n",
       "</table>"
      ],
      "text/plain": [
       "<class 'statsmodels.iolib.summary.Summary'>\n",
       "\"\"\"\n",
       "                           Logit Regression Results                           \n",
       "==============================================================================\n",
       "Dep. Variable:                mod_dep   No. Observations:                 1836\n",
       "Model:                          Logit   Df Residuals:                     1816\n",
       "Method:                           MLE   Df Model:                           19\n",
       "Date:                Tue, 30 Nov 2021   Pseudo R-squ.:                  0.3443\n",
       "Time:                        20:41:55   Log-Likelihood:                -766.22\n",
       "converged:                       True   LL-Null:                       -1168.6\n",
       "Covariance Type:            nonrobust   LLR p-value:                2.019e-158\n",
       "==============================================================================\n",
       "                 coef    std err          z      P>|z|      [0.025      0.975]\n",
       "------------------------------------------------------------------------------\n",
       "PFQ049        -0.9349      0.175     -5.353      0.000      -1.277      -0.593\n",
       "DLQ040        -1.6194      0.191     -8.475      0.000      -1.994      -1.245\n",
       "DIQ170         0.4601      0.199      2.309      0.021       0.070       0.851\n",
       "HSD010         1.0172      0.084     12.087      0.000       0.852       1.182\n",
       "MCQ160O        0.7479      0.314      2.378      0.017       0.132       1.364\n",
       "HIQ011         0.2726      0.166      1.646      0.100      -0.052       0.597\n",
       "PUQ100        -0.4977      0.179     -2.776      0.006      -0.849      -0.146\n",
       "FSD032C       -0.4202      0.107     -3.924      0.000      -0.630      -0.210\n",
       "SXD021         0.5433      0.321      1.692      0.091      -0.086       1.173\n",
       "DLQ010        -0.0574      0.239     -0.241      0.810      -0.525       0.410\n",
       "INQ150        -0.2686      0.191     -1.408      0.159      -0.643       0.105\n",
       "DUQ370         0.1992      0.373      0.534      0.593      -0.532       0.930\n",
       "HSQ520        -0.4262      0.267     -1.598      0.110      -0.949       0.096\n",
       "DMQMILIZ       0.7361      0.278      2.649      0.008       0.191       1.281\n",
       "SMQ872        -0.1825      0.171     -1.069      0.285      -0.517       0.152\n",
       "OHQ770        -0.4548      0.149     -3.052      0.002      -0.747      -0.163\n",
       "DLQ050        -0.1761      0.184     -0.956      0.339      -0.537       0.185\n",
       "CBQ580        -0.0320      0.163     -0.196      0.844      -0.352       0.288\n",
       "HSQ571         0.2220      0.367      0.605      0.545      -0.497       0.941\n",
       "PFQ057        -0.1935      0.216     -0.897      0.370      -0.616       0.229\n",
       "==============================================================================\n",
       "\"\"\""
      ]
     },
     "execution_count": 87,
     "metadata": {},
     "output_type": "execute_result"
    }
   ],
   "source": [
    "import statsmodels.api as sm\n",
    "logit= sm.Logit(train_y, train_X).fit()\n",
    "logit.summary()"
   ]
  },
  {
   "cell_type": "markdown",
   "metadata": {},
   "source": [
    "note: add p values"
   ]
  },
  {
   "cell_type": "markdown",
   "metadata": {},
   "source": [
    "## Cross-validation steps\n",
    "https://machinelearningmastery.com/how-to-configure-k-fold-cross-validation/\n",
    "cross-validation steps: first 3 steps are done using the training set; the test set will be held out till the end\n",
    "1. training dataset is used to train a few candidate models \n",
    "2. validation dataset is used to evaluate the candidate models\n",
    "3. one of the candidates is chosen\n",
    "4. the chosen model is trained with a new training dataset\n",
    "5. the trained model is evaluated with the test dataset"
   ]
  },
  {
   "cell_type": "markdown",
   "metadata": {},
   "source": [
    "## 4.2 Decision tree classifier"
   ]
  },
  {
   "cell_type": "code",
   "execution_count": 88,
   "metadata": {},
   "outputs": [
    {
     "name": "stdout",
     "output_type": "stream",
     "text": [
      "initial score:  0.9063173794574103\n",
      "parameters:  {'criterion': 'gini', 'max_depth': 7, 'min_samples_split': 5, 'splitter': 'best'}\n"
     ]
    }
   ],
   "source": [
    "from sklearn.tree import DecisionTreeClassifier\n",
    "from sklearn.model_selection import train_test_split,cross_val_score,GridSearchCV,RandomizedSearchCV \n",
    "\n",
    "param_grid = {\n",
    "    'criterion': ['gini', 'entropy'],\n",
    "    'splitter': ['best', 'random'],\n",
    "    'max_depth': list(range(2,10)), \n",
    "    'min_samples_split': list(range(2,6))\n",
    "}\n",
    "\n",
    "gridSearch = GridSearchCV(DecisionTreeClassifier(random_state=42), param_grid, cv=5, \n",
    "                          n_jobs=-1)\n",
    "gridSearch.fit(train_X, train_y)\n",
    "print('initial score: ', gridSearch.best_score_)\n",
    "print('parameters: ', gridSearch.best_params_)\n",
    "\n",
    "bestClassTree = gridSearch.best_estimator_"
   ]
  },
  {
   "cell_type": "code",
   "execution_count": 89,
   "metadata": {},
   "outputs": [
    {
     "name": "stdout",
     "output_type": "stream",
     "text": [
      "Accuracy: 0.892 (0.020)\n"
     ]
    }
   ],
   "source": [
    "#cross-validation using training set\n",
    "cv = KFold(n_splits=10, random_state=1, shuffle=True)\n",
    "# evaluate model\n",
    "scores = cross_val_score(bestClassTree, train_X,train_y, scoring='accuracy', cv=cv, n_jobs=-1)\n",
    "# report performance\n",
    "print('Accuracy: %.3f (%.3f)' % (mean(scores), std(scores)))"
   ]
  },
  {
   "cell_type": "markdown",
   "metadata": {},
   "source": [
    "## 4.3 Nearest neighbor"
   ]
  },
  {
   "cell_type": "code",
   "execution_count": 90,
   "metadata": {},
   "outputs": [
    {
     "ename": "TypeError",
     "evalue": "If no scoring is specified, the estimator passed should have a 'score' method. The estimator NearestNeighbors() does not.",
     "output_type": "error",
     "traceback": [
      "\u001b[0;31m---------------------------------------------------------------------------\u001b[0m",
      "\u001b[0;31mTypeError\u001b[0m                                 Traceback (most recent call last)",
      "\u001b[0;32m<ipython-input-90-43672797d650>\u001b[0m in \u001b[0;36m<module>\u001b[0;34m\u001b[0m\n\u001b[1;32m      9\u001b[0m gridSearch = GridSearchCV(NearestNeighbors(), param_grid, cv=5, \n\u001b[1;32m     10\u001b[0m                           n_jobs=-1)\n\u001b[0;32m---> 11\u001b[0;31m \u001b[0mgridSearch\u001b[0m\u001b[0;34m.\u001b[0m\u001b[0mfit\u001b[0m\u001b[0;34m(\u001b[0m\u001b[0mtrain_X\u001b[0m\u001b[0;34m,\u001b[0m \u001b[0mtrain_y\u001b[0m\u001b[0;34m)\u001b[0m\u001b[0;34m\u001b[0m\u001b[0;34m\u001b[0m\u001b[0m\n\u001b[0m\u001b[1;32m     12\u001b[0m \u001b[0mprint\u001b[0m\u001b[0;34m(\u001b[0m\u001b[0;34m'initial score: '\u001b[0m\u001b[0;34m,\u001b[0m \u001b[0mgridSearch\u001b[0m\u001b[0;34m.\u001b[0m\u001b[0mbest_score_\u001b[0m\u001b[0;34m)\u001b[0m\u001b[0;34m\u001b[0m\u001b[0;34m\u001b[0m\u001b[0m\n\u001b[1;32m     13\u001b[0m \u001b[0mprint\u001b[0m\u001b[0;34m(\u001b[0m\u001b[0;34m'parameters: '\u001b[0m\u001b[0;34m,\u001b[0m \u001b[0mgridSearch\u001b[0m\u001b[0;34m.\u001b[0m\u001b[0mbest_params_\u001b[0m\u001b[0;34m)\u001b[0m\u001b[0;34m\u001b[0m\u001b[0;34m\u001b[0m\u001b[0m\n",
      "\u001b[0;32m~/opt/anaconda3/lib/python3.8/site-packages/sklearn/utils/validation.py\u001b[0m in \u001b[0;36minner_f\u001b[0;34m(*args, **kwargs)\u001b[0m\n\u001b[1;32m     61\u001b[0m             \u001b[0mextra_args\u001b[0m \u001b[0;34m=\u001b[0m \u001b[0mlen\u001b[0m\u001b[0;34m(\u001b[0m\u001b[0margs\u001b[0m\u001b[0;34m)\u001b[0m \u001b[0;34m-\u001b[0m \u001b[0mlen\u001b[0m\u001b[0;34m(\u001b[0m\u001b[0mall_args\u001b[0m\u001b[0;34m)\u001b[0m\u001b[0;34m\u001b[0m\u001b[0;34m\u001b[0m\u001b[0m\n\u001b[1;32m     62\u001b[0m             \u001b[0;32mif\u001b[0m \u001b[0mextra_args\u001b[0m \u001b[0;34m<=\u001b[0m \u001b[0;36m0\u001b[0m\u001b[0;34m:\u001b[0m\u001b[0;34m\u001b[0m\u001b[0;34m\u001b[0m\u001b[0m\n\u001b[0;32m---> 63\u001b[0;31m                 \u001b[0;32mreturn\u001b[0m \u001b[0mf\u001b[0m\u001b[0;34m(\u001b[0m\u001b[0;34m*\u001b[0m\u001b[0margs\u001b[0m\u001b[0;34m,\u001b[0m \u001b[0;34m**\u001b[0m\u001b[0mkwargs\u001b[0m\u001b[0;34m)\u001b[0m\u001b[0;34m\u001b[0m\u001b[0;34m\u001b[0m\u001b[0m\n\u001b[0m\u001b[1;32m     64\u001b[0m \u001b[0;34m\u001b[0m\u001b[0m\n\u001b[1;32m     65\u001b[0m             \u001b[0;31m# extra_args > 0\u001b[0m\u001b[0;34m\u001b[0m\u001b[0;34m\u001b[0m\u001b[0;34m\u001b[0m\u001b[0m\n",
      "\u001b[0;32m~/opt/anaconda3/lib/python3.8/site-packages/sklearn/model_selection/_search.py\u001b[0m in \u001b[0;36mfit\u001b[0;34m(self, X, y, groups, **fit_params)\u001b[0m\n\u001b[1;32m    751\u001b[0m             \u001b[0mscorers\u001b[0m \u001b[0;34m=\u001b[0m \u001b[0mself\u001b[0m\u001b[0;34m.\u001b[0m\u001b[0mscoring\u001b[0m\u001b[0;34m\u001b[0m\u001b[0;34m\u001b[0m\u001b[0m\n\u001b[1;32m    752\u001b[0m         \u001b[0;32melif\u001b[0m \u001b[0mself\u001b[0m\u001b[0;34m.\u001b[0m\u001b[0mscoring\u001b[0m \u001b[0;32mis\u001b[0m \u001b[0;32mNone\u001b[0m \u001b[0;32mor\u001b[0m \u001b[0misinstance\u001b[0m\u001b[0;34m(\u001b[0m\u001b[0mself\u001b[0m\u001b[0;34m.\u001b[0m\u001b[0mscoring\u001b[0m\u001b[0;34m,\u001b[0m \u001b[0mstr\u001b[0m\u001b[0;34m)\u001b[0m\u001b[0;34m:\u001b[0m\u001b[0;34m\u001b[0m\u001b[0;34m\u001b[0m\u001b[0m\n\u001b[0;32m--> 753\u001b[0;31m             \u001b[0mscorers\u001b[0m \u001b[0;34m=\u001b[0m \u001b[0mcheck_scoring\u001b[0m\u001b[0;34m(\u001b[0m\u001b[0mself\u001b[0m\u001b[0;34m.\u001b[0m\u001b[0mestimator\u001b[0m\u001b[0;34m,\u001b[0m \u001b[0mself\u001b[0m\u001b[0;34m.\u001b[0m\u001b[0mscoring\u001b[0m\u001b[0;34m)\u001b[0m\u001b[0;34m\u001b[0m\u001b[0;34m\u001b[0m\u001b[0m\n\u001b[0m\u001b[1;32m    754\u001b[0m         \u001b[0;32melse\u001b[0m\u001b[0;34m:\u001b[0m\u001b[0;34m\u001b[0m\u001b[0;34m\u001b[0m\u001b[0m\n\u001b[1;32m    755\u001b[0m             \u001b[0mscorers\u001b[0m \u001b[0;34m=\u001b[0m \u001b[0m_check_multimetric_scoring\u001b[0m\u001b[0;34m(\u001b[0m\u001b[0mself\u001b[0m\u001b[0;34m.\u001b[0m\u001b[0mestimator\u001b[0m\u001b[0;34m,\u001b[0m \u001b[0mself\u001b[0m\u001b[0;34m.\u001b[0m\u001b[0mscoring\u001b[0m\u001b[0;34m)\u001b[0m\u001b[0;34m\u001b[0m\u001b[0;34m\u001b[0m\u001b[0m\n",
      "\u001b[0;32m~/opt/anaconda3/lib/python3.8/site-packages/sklearn/utils/validation.py\u001b[0m in \u001b[0;36minner_f\u001b[0;34m(*args, **kwargs)\u001b[0m\n\u001b[1;32m     61\u001b[0m             \u001b[0mextra_args\u001b[0m \u001b[0;34m=\u001b[0m \u001b[0mlen\u001b[0m\u001b[0;34m(\u001b[0m\u001b[0margs\u001b[0m\u001b[0;34m)\u001b[0m \u001b[0;34m-\u001b[0m \u001b[0mlen\u001b[0m\u001b[0;34m(\u001b[0m\u001b[0mall_args\u001b[0m\u001b[0;34m)\u001b[0m\u001b[0;34m\u001b[0m\u001b[0;34m\u001b[0m\u001b[0m\n\u001b[1;32m     62\u001b[0m             \u001b[0;32mif\u001b[0m \u001b[0mextra_args\u001b[0m \u001b[0;34m<=\u001b[0m \u001b[0;36m0\u001b[0m\u001b[0;34m:\u001b[0m\u001b[0;34m\u001b[0m\u001b[0;34m\u001b[0m\u001b[0m\n\u001b[0;32m---> 63\u001b[0;31m                 \u001b[0;32mreturn\u001b[0m \u001b[0mf\u001b[0m\u001b[0;34m(\u001b[0m\u001b[0;34m*\u001b[0m\u001b[0margs\u001b[0m\u001b[0;34m,\u001b[0m \u001b[0;34m**\u001b[0m\u001b[0mkwargs\u001b[0m\u001b[0;34m)\u001b[0m\u001b[0;34m\u001b[0m\u001b[0;34m\u001b[0m\u001b[0m\n\u001b[0m\u001b[1;32m     64\u001b[0m \u001b[0;34m\u001b[0m\u001b[0m\n\u001b[1;32m     65\u001b[0m             \u001b[0;31m# extra_args > 0\u001b[0m\u001b[0;34m\u001b[0m\u001b[0;34m\u001b[0m\u001b[0;34m\u001b[0m\u001b[0m\n",
      "\u001b[0;32m~/opt/anaconda3/lib/python3.8/site-packages/sklearn/metrics/_scorer.py\u001b[0m in \u001b[0;36mcheck_scoring\u001b[0;34m(estimator, scoring, allow_none)\u001b[0m\n\u001b[1;32m    448\u001b[0m             \u001b[0;32mreturn\u001b[0m \u001b[0;32mNone\u001b[0m\u001b[0;34m\u001b[0m\u001b[0;34m\u001b[0m\u001b[0m\n\u001b[1;32m    449\u001b[0m         \u001b[0;32melse\u001b[0m\u001b[0;34m:\u001b[0m\u001b[0;34m\u001b[0m\u001b[0;34m\u001b[0m\u001b[0m\n\u001b[0;32m--> 450\u001b[0;31m             raise TypeError(\n\u001b[0m\u001b[1;32m    451\u001b[0m                 \u001b[0;34m\"If no scoring is specified, the estimator passed should \"\u001b[0m\u001b[0;34m\u001b[0m\u001b[0;34m\u001b[0m\u001b[0m\n\u001b[1;32m    452\u001b[0m                 \u001b[0;34m\"have a 'score' method. The estimator %r does not.\"\u001b[0m\u001b[0;34m\u001b[0m\u001b[0;34m\u001b[0m\u001b[0m\n",
      "\u001b[0;31mTypeError\u001b[0m: If no scoring is specified, the estimator passed should have a 'score' method. The estimator NearestNeighbors() does not."
     ]
    }
   ],
   "source": [
    "from sklearn.neighbors import NearestNeighbors\n",
    "\n",
    "param_grid = {\n",
    "    'n_neighbors': list(range(2,7)),\n",
    "    'radius': [1, 1.2, 1.5, 2],\n",
    "    'leaf_size': [25,30, 35] \n",
    "}\n",
    "\n",
    "gridSearch = GridSearchCV(NearestNeighbors(), param_grid, cv=5, \n",
    "                          n_jobs=-1)\n",
    "gridSearch.fit(train_X, train_y)\n",
    "print('initial score: ', gridSearch.best_score_)\n",
    "print('parameters: ', gridSearch.best_params_)\n",
    "\n",
    "bestClassTree = gridSearch.best_estimator_"
   ]
  },
  {
   "cell_type": "markdown",
   "metadata": {},
   "source": [
    "## 4.4 SMV classification"
   ]
  },
  {
   "cell_type": "code",
   "execution_count": 91,
   "metadata": {
    "scrolled": true
   },
   "outputs": [
    {
     "name": "stdout",
     "output_type": "stream",
     "text": [
      "initial score:  0.8142814832365832\n",
      "parameters:  {'C': 2, 'loss': 'squared_hinge', 'penalty': 'l2'}\n"
     ]
    },
    {
     "name": "stderr",
     "output_type": "stream",
     "text": [
      "/Users/beiw/opt/anaconda3/lib/python3.8/site-packages/sklearn/model_selection/_search.py:918: UserWarning: One or more of the test scores are non-finite: [       nan 0.81046973        nan 0.81156113        nan 0.80883633\n",
      "        nan 0.81101617        nan 0.81156113        nan 0.81101617\n",
      "        nan 0.81046973        nan 0.81428148]\n",
      "  warnings.warn(\n",
      "/Users/beiw/opt/anaconda3/lib/python3.8/site-packages/sklearn/utils/validation.py:63: DataConversionWarning: A column-vector y was passed when a 1d array was expected. Please change the shape of y to (n_samples, ), for example using ravel().\n",
      "  return f(*args, **kwargs)\n",
      "/Users/beiw/opt/anaconda3/lib/python3.8/site-packages/sklearn/svm/_base.py:985: ConvergenceWarning: Liblinear failed to converge, increase the number of iterations.\n",
      "  warnings.warn(\"Liblinear failed to converge, increase \"\n"
     ]
    }
   ],
   "source": [
    "from sklearn.svm import LinearSVC\n",
    "from scipy.stats import uniform\n",
    "\n",
    "param_grid = {\n",
    "    'penalty': ['l1', 'l2'],\n",
    "    'loss': ['hinge', 'squared_hinge'],\n",
    "    'C': [1, 1.2, 1.5, 2]\n",
    "}\n",
    "\n",
    "gridSearch = GridSearchCV(LinearSVC(random_state=42), param_grid, cv=5, \n",
    "                          n_jobs=-1)\n",
    "gridSearch.fit(train_X, train_y)\n",
    "print('initial score: ', gridSearch.best_score_)\n",
    "print('parameters: ', gridSearch.best_params_)\n",
    "\n",
    "bestClassTree = gridSearch.best_estimator_"
   ]
  },
  {
   "cell_type": "code",
   "execution_count": 92,
   "metadata": {},
   "outputs": [
    {
     "name": "stdout",
     "output_type": "stream",
     "text": [
      "Accuracy: 0.813 (0.026)\n"
     ]
    }
   ],
   "source": [
    "#cross-validation using training set\n",
    "cv = KFold(n_splits=10, random_state=1, shuffle=True)\n",
    "# evaluate model\n",
    "scores = cross_val_score(bestClassTree, train_X,train_y, scoring='accuracy', cv=cv, n_jobs=-1)\n",
    "# report performance\n",
    "print('Accuracy: %.3f (%.3f)' % (mean(scores), std(scores)))"
   ]
  },
  {
   "cell_type": "markdown",
   "metadata": {},
   "source": [
    "## 4.5 ensemble: random forest classificaion"
   ]
  },
  {
   "cell_type": "code",
   "execution_count": 93,
   "metadata": {},
   "outputs": [
    {
     "name": "stderr",
     "output_type": "stream",
     "text": [
      "/Users/beiw/opt/anaconda3/lib/python3.8/site-packages/sklearn/model_selection/_search.py:880: DataConversionWarning: A column-vector y was passed when a 1d array was expected. Please change the shape of y to (n_samples,), for example using ravel().\n",
      "  self.best_estimator_.fit(X, y, **fit_params)\n"
     ]
    },
    {
     "name": "stdout",
     "output_type": "stream",
     "text": [
      "initial score:  0.912856888994195\n",
      "parameters:  {'max_leaf_nodes': 87, 'min_samples_split': 7}\n"
     ]
    }
   ],
   "source": [
    "from sklearn.ensemble import RandomForestClassifier\n",
    "from sklearn.model_selection import train_test_split,cross_val_score,GridSearchCV,RandomizedSearchCV \n",
    "\n",
    "param_grid = {\n",
    "    'max_leaf_nodes': list(range(2, 100)),\n",
    "    'min_samples_split': [4,5,7,9]\n",
    "}\n",
    "gridSearch = GridSearchCV(RandomForestClassifier(random_state=42), param_grid, cv=5, \n",
    "                          n_jobs=-1)\n",
    "gridSearch.fit(train_X, train_y)\n",
    "print('initial score: ', gridSearch.best_score_)\n",
    "print('parameters: ', gridSearch.best_params_)\n",
    "\n",
    "bestClassTree = gridSearch.best_estimator_"
   ]
  },
  {
   "cell_type": "code",
   "execution_count": 94,
   "metadata": {},
   "outputs": [
    {
     "name": "stdout",
     "output_type": "stream",
     "text": [
      "Accuracy: 0.908 (0.020)\n"
     ]
    }
   ],
   "source": [
    "#cross-validation using training set\n",
    "cv = KFold(n_splits=10, random_state=1, shuffle=True)\n",
    "# evaluate model\n",
    "scores = cross_val_score(bestClassTree, train_X,train_y, scoring='accuracy', cv=cv, n_jobs=-1)\n",
    "# report performance\n",
    "print('Accuracy: %.3f (%.3f)' % (mean(scores), std(scores)))"
   ]
  },
  {
   "cell_type": "code",
   "execution_count": 96,
   "metadata": {},
   "outputs": [
    {
     "name": "stdout",
     "output_type": "stream",
     "text": [
      "Confusion Matrix (Accuracy 0.9077)\n",
      "\n",
      "       Prediction\n",
      "Actual   0   1\n",
      "     0 779  37\n",
      "     1  76 332\n"
     ]
    }
   ],
   "source": [
    "# this looks like the best one so far, evaludate accuracy in test set \n",
    "classificationSummary(valid_y, bestClassTree.predict(valid_X))"
   ]
  },
  {
   "cell_type": "markdown",
   "metadata": {},
   "source": [
    "next steps: \n",
    "1.classification tree \n",
    "2."
   ]
  },
  {
   "cell_type": "markdown",
   "metadata": {},
   "source": [
    "## 4.6 ensemble: boosting/bagging "
   ]
  },
  {
   "cell_type": "code",
   "execution_count": null,
   "id": "d7dc1235",
   "metadata": {},
   "outputs": [],
   "source": []
  },
  {
   "cell_type": "code",
   "execution_count": null,
   "id": "bdaabf11",
   "metadata": {},
   "outputs": [],
   "source": []
  },
  {
   "cell_type": "code",
   "execution_count": null,
   "id": "9405dfe1",
   "metadata": {},
   "outputs": [],
   "source": []
  },
  {
   "cell_type": "code",
   "execution_count": null,
   "id": "08d03389",
   "metadata": {},
   "outputs": [],
   "source": []
  },
  {
   "cell_type": "code",
   "execution_count": null,
   "id": "ee62fe42",
   "metadata": {},
   "outputs": [],
   "source": []
  },
  {
   "cell_type": "code",
   "execution_count": null,
   "id": "359157e8",
   "metadata": {},
   "outputs": [],
   "source": []
  }
 ],
 "metadata": {
  "kernelspec": {
   "display_name": "Python 3",
   "language": "python",
   "name": "python3"
  },
  "language_info": {
   "codemirror_mode": {
    "name": "ipython",
    "version": 3
   },
   "file_extension": ".py",
   "mimetype": "text/x-python",
   "name": "python",
   "nbconvert_exporter": "python",
   "pygments_lexer": "ipython3",
   "version": "3.8.8"
  }
 },
 "nbformat": 4,
 "nbformat_minor": 4
}
