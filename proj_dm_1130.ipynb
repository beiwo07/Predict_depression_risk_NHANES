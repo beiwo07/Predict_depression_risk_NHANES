{
 "cells": [
  {
   "cell_type": "markdown",
   "id": "174dbb32",
   "metadata": {},
   "source": [
    "# Depression prediction \n",
    "\n",
    "Regarding severity, PHQ-9 comprises five categories, where a cut-off point of 0–4 indicates no depressive symptoms, 5–9 mild depressive symptoms, 10–14 moderate depressive symptoms, 15–19 moderately-severe depressive symptoms, and 20–27 severe depressive symptoms \n",
    "\n",
    "link to search variables: https://wwwn.cdc.gov/nchs/nhanes/search/default.aspx"
   ]
  },
  {
   "cell_type": "markdown",
   "id": "08a12f59",
   "metadata": {},
   "source": [
    "# 3. Prepare and explore the data"
   ]
  },
  {
   "cell_type": "markdown",
   "id": "0f5ba2f6",
   "metadata": {},
   "source": [
    "##  3.1 Merge data "
   ]
  },
  {
   "cell_type": "code",
   "execution_count": 1,
   "id": "edb86118",
   "metadata": {},
   "outputs": [
    {
     "name": "stdout",
     "output_type": "stream",
     "text": [
      "no display found. Using non-interactive Agg backend\n"
     ]
    }
   ],
   "source": [
    "import sklearn \n",
    "import pandas as pd \n",
    "import numpy as np\n",
    "import matplotlib.pyplot as plt \n",
    "import seaborn as sns \n",
    "from functools import reduce\n",
    "import os\n",
    "from dmba import classificationSummary\n",
    "%matplotlib inline"
   ]
  },
  {
   "cell_type": "code",
   "execution_count": 2,
   "id": "0ccd8d7b",
   "metadata": {},
   "outputs": [],
   "source": [
    "#not including medications\n",
    "os.chdir('/Users/beiw/Google Drive/PHS@UChicago/2021 Autumn/data mining/project/data')\n",
    "files= ['demographic.csv', 'diet.csv', 'questionnaire.csv'] #only use demo, diet, and questionnaire \n",
    "demo= pd.read_csv('demographic.csv')\n",
    "diet= pd.read_csv('diet.csv')\n",
    "exam= pd.read_csv('examination.csv')\n",
    "lab= pd.read_csv('labs.csv')\n",
    "med= pd.read_csv('medications.csv')\n",
    "qr= pd.read_csv('questionnaire.csv')"
   ]
  },
  {
   "cell_type": "code",
   "execution_count": 3,
   "id": "c94d6cb8",
   "metadata": {},
   "outputs": [
    {
     "name": "stdout",
     "output_type": "stream",
     "text": [
      "demo (10175, 47)\n",
      "diet (9813, 168)\n",
      "exam (9813, 224)\n",
      "lab (9813, 424)\n",
      "med (20194, 13)\n",
      "ques (10175, 953)\n"
     ]
    }
   ],
   "source": [
    "print('demo', demo.shape)\n",
    "print('diet', diet.shape)\n",
    "print('exam', exam.shape)\n",
    "print('lab', lab.shape)\n",
    "print('med', med.shape)\n",
    "print('ques', qr.shape)"
   ]
  },
  {
   "cell_type": "code",
   "execution_count": 4,
   "id": "05123d59",
   "metadata": {
    "scrolled": true
   },
   "outputs": [
    {
     "name": "stdout",
     "output_type": "stream",
     "text": [
      "merged df shape: (9813, 1166)\n"
     ]
    }
   ],
   "source": [
    "ls=[]\n",
    "for file in files: \n",
    "    df= pd.read_csv(file)\n",
    "    ls.append(df)\n",
    "df_merge= reduce(lambda x,y: pd.merge(x, y,  how='inner', on= 'SEQN', suffixes=('', '_drop')), ls)\n",
    "df_merge.drop([col for col in df_merge.columns if 'drop' in col], axis=1, inplace=True)\n",
    "print(\"merged df shape:\", df_merge.shape)"
   ]
  },
  {
   "cell_type": "code",
   "execution_count": 5,
   "id": "e5e0c15e",
   "metadata": {
    "scrolled": true
   },
   "outputs": [
    {
     "data": {
      "text/plain": [
       "False    9813\n",
       "Name: SEQN, dtype: int64"
      ]
     },
     "execution_count": 5,
     "metadata": {},
     "output_type": "execute_result"
    }
   ],
   "source": [
    "#check for duplicated SEQN\n",
    "df_merge.SEQN.duplicated().value_counts()"
   ]
  },
  {
   "cell_type": "markdown",
   "id": "555a4fc8",
   "metadata": {},
   "source": [
    "### Get codebook for the dataset: for meaning of features\n",
    "This was done in a seperate files; some of the variables names are inconsistent, resulting in NaN, so I changed them manually. "
   ]
  },
  {
   "cell_type": "code",
   "execution_count": 6,
   "id": "fefd8fb4",
   "metadata": {},
   "outputs": [],
   "source": [
    "cbook= pd.read_csv('nhanes_2013_2014_codebook.csv')"
   ]
  },
  {
   "cell_type": "markdown",
   "id": "147d09e9",
   "metadata": {},
   "source": [
    "## 3.2 Missingness \n",
    "Missing data in the dataset are all represented in 7s and 9s. We drop observations that have missing data in the target variable (phq9), which results in 3657 unique observations. Among the rest of the features, we drop those with more than 20% missing data or those are non-numeric, which results in 502 features. Within the dataset that has minimized missingness, we further prepare the data set by imputing the rest of the missingness using the most_frequent method in each column. "
   ]
  },
  {
   "cell_type": "code",
   "execution_count": 7,
   "id": "d7a5b3a8",
   "metadata": {},
   "outputs": [],
   "source": [
    "#replace all 7s and 9s as null \n",
    "df_merge.replace({7:None, 9:None, 77:None,99:None,777:None,999:None,7777:None,9999:None,77777:None,99999:None,\n",
    "            777777:None,999999:None,55:None,555:None,5555:None,8:None,88:None}, inplace=True)"
   ]
  },
  {
   "cell_type": "markdown",
   "id": "92af9c52",
   "metadata": {},
   "source": [
    "### Drop observations with missingness in target feature\n",
    "The target feature is PHQ9, which consists of 10 features from DPQ010 to DPQ100."
   ]
  },
  {
   "cell_type": "code",
   "execution_count": 8,
   "id": "c22b2443",
   "metadata": {},
   "outputs": [
    {
     "data": {
      "text/plain": [
       "<bound method NDFrame.describe of 0       0.0\n",
       "1       0.0\n",
       "2       0.0\n",
       "3       NaN\n",
       "4       3.0\n",
       "       ... \n",
       "9808    0.0\n",
       "9809    NaN\n",
       "9810    NaN\n",
       "9811    NaN\n",
       "9812    NaN\n",
       "Name: DPQ050, Length: 9813, dtype: float64>"
      ]
     },
     "execution_count": 8,
     "metadata": {},
     "output_type": "execute_result"
    }
   ],
   "source": [
    "#test\n",
    "df_merge.DPQ050.describe"
   ]
  },
  {
   "cell_type": "code",
   "execution_count": 9,
   "id": "184f8daf",
   "metadata": {
    "scrolled": true
   },
   "outputs": [
    {
     "name": "stdout",
     "output_type": "stream",
     "text": [
      "(3657, 1167)\n"
     ]
    }
   ],
   "source": [
    "#create phq9 scores and drop rows with any item missing \n",
    "df_merge['phq9']= df_merge[['DPQ010','DPQ020','DPQ030','DPQ040', 'DPQ050', 'DPQ060', 'DPQ070', 'DPQ080', 'DPQ090', 'DPQ100']].sum(axis=1, skipna=False)\n",
    "df_merge= df_merge[df_merge['phq9'].notna()]\n",
    "print(df_merge.shape)"
   ]
  },
  {
   "cell_type": "code",
   "execution_count": 10,
   "id": "02fa043b",
   "metadata": {
    "scrolled": true
   },
   "outputs": [
    {
     "data": {
      "text/plain": [
       "count    3657.000000\n",
       "mean        5.202625\n",
       "std         4.997506\n",
       "min         1.000000\n",
       "25%         2.000000\n",
       "50%         3.000000\n",
       "75%         7.000000\n",
       "max        30.000000\n",
       "Name: phq9, dtype: float64"
      ]
     },
     "execution_count": 10,
     "metadata": {},
     "output_type": "execute_result"
    }
   ],
   "source": [
    "df_merge.phq9.describe()"
   ]
  },
  {
   "cell_type": "markdown",
   "id": "ea0a51cd",
   "metadata": {},
   "source": [
    "### Drop feature columns with more than 20% missing data "
   ]
  },
  {
   "cell_type": "code",
   "execution_count": 11,
   "id": "9ad3ec33",
   "metadata": {
    "scrolled": true
   },
   "outputs": [],
   "source": [
    "#drop columns with more than no missing data\n",
    "df_merge= df_merge.dropna(thresh= 0.8*len(df_merge), axis=1)"
   ]
  },
  {
   "cell_type": "markdown",
   "id": "60fec0c7",
   "metadata": {},
   "source": [
    "### Drop non-numeric columns"
   ]
  },
  {
   "cell_type": "code",
   "execution_count": 12,
   "id": "735f81c0",
   "metadata": {
    "scrolled": true
   },
   "outputs": [
    {
     "name": "stdout",
     "output_type": "stream",
     "text": [
      "292 columns left\n"
     ]
    }
   ],
   "source": [
    "# exclude non-numeric values\n",
    "df_merge = df_merge.select_dtypes(['number'])\n",
    "print(len(df_merge.columns), 'columns left')"
   ]
  },
  {
   "cell_type": "code",
   "execution_count": 13,
   "id": "1db8e0cf",
   "metadata": {
    "scrolled": true
   },
   "outputs": [
    {
     "name": "stdout",
     "output_type": "stream",
     "text": [
      "<class 'pandas.core.frame.DataFrame'>\n",
      "Int64Index: 3657 entries, 0 to 9805\n",
      "Columns: 292 entries, SEQN to phq9\n",
      "dtypes: float64(279), int64(13)\n",
      "memory usage: 8.2 MB\n"
     ]
    }
   ],
   "source": [
    "df_merge.info()"
   ]
  },
  {
   "cell_type": "markdown",
   "id": "51135f27",
   "metadata": {},
   "source": [
    "### Impute missing values "
   ]
  },
  {
   "cell_type": "code",
   "execution_count": 14,
   "id": "71ff59c4",
   "metadata": {},
   "outputs": [],
   "source": [
    "#imputation \n",
    "from sklearn.impute import SimpleImputer\n",
    "imp_mode=SimpleImputer(strategy='most_frequent')\n",
    "\n",
    "df_merge = pd.DataFrame(imp_mode.fit_transform(df_merge), columns=df_merge.columns)\n",
    "#could try other imputation method KNN"
   ]
  },
  {
   "cell_type": "markdown",
   "id": "3a2184c4",
   "metadata": {},
   "source": [
    "## 3.3 Target features (PHQ9) visualization\n",
    "\n",
    "The target feature was looked at in a few different ways: \n",
    "\n",
    "#### PHQ9 itself is a numeric feature with a possible range from 0 to 30\n",
    "\n",
    "#### PHQ9 was dichotomized in the follow ways according to exisitng literature  \n",
    "\n",
    "* Mild depression: phq9>=5\n",
    "\n",
    "* Moderate depression: phq9>=15  \n",
    "\n",
    "* Severe depression: phq9>=20 \n",
    "\n",
    "#### Suicidal ideation was added as a potential target\n",
    "\n",
    "* Suicidal ideation: DPQ090 >0\n"
   ]
  },
  {
   "cell_type": "markdown",
   "id": "6578764f",
   "metadata": {},
   "source": [
    "#### Numeric PHQ9 "
   ]
  },
  {
   "cell_type": "code",
   "execution_count": 15,
   "id": "4aac1ee0",
   "metadata": {
    "scrolled": true
   },
   "outputs": [
    {
     "data": {
      "text/plain": [
       "(array([1866.,  800.,  411.,  236.,  135.,   93.,   63.,   32.,   16.,\n",
       "           5.]),\n",
       " array([ 1. ,  3.9,  6.8,  9.7, 12.6, 15.5, 18.4, 21.3, 24.2, 27.1, 30. ]),\n",
       " <BarContainer object of 10 artists>)"
      ]
     },
     "execution_count": 15,
     "metadata": {},
     "output_type": "execute_result"
    },
    {
     "data": {
      "image/png": "[encoded data removed]",
      "text/plain": [
       "<Figure size 432x288 with 1 Axes>"
      ]
     },
     "metadata": {
      "needs_background": "light"
     },
     "output_type": "display_data"
    }
   ],
   "source": [
    "plt.hist(df_merge.phq9)"
   ]
  },
  {
   "cell_type": "markdown",
   "id": "2507d356",
   "metadata": {},
   "source": [
    "#### Mild depression"
   ]
  },
  {
   "cell_type": "code",
   "execution_count": 16,
   "id": "b76f34e3",
   "metadata": {},
   "outputs": [
    {
     "name": "stdout",
     "output_type": "stream",
     "text": [
      "mild 0    2228\n",
      "1    1429\n",
      "Name: mild_dep, dtype: int64\n"
     ]
    }
   ],
   "source": [
    "df_merge['mild_dep']= np.where(df_merge['phq9']>=5,1,0)\n",
    "print('mild', df_merge['mild_dep'].value_counts())"
   ]
  },
  {
   "cell_type": "code",
   "execution_count": 17,
   "id": "9cdb78d3",
   "metadata": {},
   "outputs": [
    {
     "data": {
      "text/plain": [
       "(array([2228.,    0.,    0.,    0.,    0.,    0.,    0.,    0.,    0.,\n",
       "        1429.]),\n",
       " array([0. , 0.1, 0.2, 0.3, 0.4, 0.5, 0.6, 0.7, 0.8, 0.9, 1. ]),\n",
       " <BarContainer object of 10 artists>)"
      ]
     },
     "execution_count": 17,
     "metadata": {},
     "output_type": "execute_result"
    },
    {
     "data": {
      "image/png": "[encoded data removed]",
      "text/plain": [
       "<Figure size 432x288 with 1 Axes>"
      ]
     },
     "metadata": {
      "needs_background": "light"
     },
     "output_type": "display_data"
    }
   ],
   "source": [
    "plt.hist(df_merge.mild_dep)"
   ]
  },
  {
   "cell_type": "markdown",
   "id": "944dddbc",
   "metadata": {},
   "source": [
    "#### Moderate depression"
   ]
  },
  {
   "cell_type": "code",
   "execution_count": 18,
   "id": "5519a08b",
   "metadata": {},
   "outputs": [
    {
     "name": "stdout",
     "output_type": "stream",
     "text": [
      "modereate 0    3402\n",
      "1     255\n",
      "Name: mod_dep, dtype: int64\n"
     ]
    }
   ],
   "source": [
    "df_merge['mod_dep']= np.where(df_merge['phq9']>=15,1,0)\n",
    "print('modereate', df_merge['mod_dep'].value_counts())"
   ]
  },
  {
   "cell_type": "code",
   "execution_count": 19,
   "id": "d1c599c8",
   "metadata": {},
   "outputs": [
    {
     "data": {
      "text/plain": [
       "(array([3402.,    0.,    0.,    0.,    0.,    0.,    0.,    0.,    0.,\n",
       "         255.]),\n",
       " array([0. , 0.1, 0.2, 0.3, 0.4, 0.5, 0.6, 0.7, 0.8, 0.9, 1. ]),\n",
       " <BarContainer object of 10 artists>)"
      ]
     },
     "execution_count": 19,
     "metadata": {},
     "output_type": "execute_result"
    },
    {
     "data": {
      "image/png": "[encoded data removed]",
      "text/plain": [
       "<Figure size 432x288 with 1 Axes>"
      ]
     },
     "metadata": {
      "needs_background": "light"
     },
     "output_type": "display_data"
    }
   ],
   "source": [
    "plt.hist(df_merge.mod_dep)"
   ]
  },
  {
   "cell_type": "markdown",
   "id": "84d4336e",
   "metadata": {},
   "source": [
    "#### Severe depression"
   ]
  },
  {
   "cell_type": "code",
   "execution_count": 20,
   "id": "7a0b504e",
   "metadata": {},
   "outputs": [
    {
     "name": "stdout",
     "output_type": "stream",
     "text": [
      "severe 0    3564\n",
      "1      93\n",
      "Name: sev_dep, dtype: int64\n"
     ]
    }
   ],
   "source": [
    "df_merge['sev_dep']= np.where(df_merge['phq9']>=20,1,0)\n",
    "print('severe', df_merge['sev_dep'].value_counts())"
   ]
  },
  {
   "cell_type": "code",
   "execution_count": 21,
   "id": "059cbf5b",
   "metadata": {},
   "outputs": [
    {
     "data": {
      "text/plain": [
       "(array([3564.,    0.,    0.,    0.,    0.,    0.,    0.,    0.,    0.,\n",
       "          93.]),\n",
       " array([0. , 0.1, 0.2, 0.3, 0.4, 0.5, 0.6, 0.7, 0.8, 0.9, 1. ]),\n",
       " <BarContainer object of 10 artists>)"
      ]
     },
     "execution_count": 21,
     "metadata": {},
     "output_type": "execute_result"
    },
    {
     "data": {
      "image/png": "[encoded data removed]",
      "text/plain": [
       "<Figure size 432x288 with 1 Axes>"
      ]
     },
     "metadata": {
      "needs_background": "light"
     },
     "output_type": "display_data"
    }
   ],
   "source": [
    "plt.hist(df_merge.sev_dep)"
   ]
  },
  {
   "cell_type": "markdown",
   "id": "ad6a1488",
   "metadata": {},
   "source": [
    "#### Suicidal ideation"
   ]
  },
  {
   "cell_type": "code",
   "execution_count": 22,
   "id": "1bf99e15",
   "metadata": {
    "scrolled": true
   },
   "outputs": [
    {
     "name": "stdout",
     "output_type": "stream",
     "text": [
      "suicidal 0    3474\n",
      "1     183\n",
      "Name: suicidal, dtype: int64\n"
     ]
    }
   ],
   "source": [
    "df_merge['suicidal']= np.where(df_merge['DPQ090']>0,1,0)\n",
    "print('suicidal', df_merge['suicidal'].value_counts())"
   ]
  },
  {
   "cell_type": "code",
   "execution_count": 23,
   "id": "b07d2afe",
   "metadata": {
    "scrolled": true
   },
   "outputs": [
    {
     "data": {
      "text/plain": [
       "(array([3474.,    0.,    0.,    0.,    0.,    0.,    0.,    0.,    0.,\n",
       "         183.]),\n",
       " array([0. , 0.1, 0.2, 0.3, 0.4, 0.5, 0.6, 0.7, 0.8, 0.9, 1. ]),\n",
       " <BarContainer object of 10 artists>)"
      ]
     },
     "execution_count": 23,
     "metadata": {},
     "output_type": "execute_result"
    },
    {
     "data": {
      "image/png": "[encoded data removed]",
      "text/plain": [
       "<Figure size 432x288 with 1 Axes>"
      ]
     },
     "metadata": {
      "needs_background": "light"
     },
     "output_type": "display_data"
    }
   ],
   "source": [
    "plt.hist(df_merge.suicidal)"
   ]
  },
  {
   "cell_type": "markdown",
   "id": "473699c9",
   "metadata": {},
   "source": [
    "## 3.4 Other key features exploration\n",
    "We explored other key demographic features to describe this population. \n",
    "\n",
    "* A large proportion of the population is non-Hispanic white while there are also Hispanics, non-Hispanic blacks, and non-Hispanic Asians. \n",
    "\n",
    "* People's age ranges from 18 to 80 with larger proportions of the youngest and the oldest group. \n",
    "\n",
    "* There are more females than males. This population is also highly educated. About a quarter of the population was not US-born. \n",
    "\n",
    "*note: could some visualization of depression outcomes by these features*"
   ]
  },
  {
   "cell_type": "markdown",
   "id": "25724382",
   "metadata": {},
   "source": [
    "### Race and ethnicity \n",
    "1(Mexican American), 2(Other Hispanic); 3(non-H white); 4(non-H black); 6(non-H Asian)\n",
    "\n",
    "https://wwwn.cdc.gov/Nchs/Nhanes/2013-2014/DEMO_H.htm\n"
   ]
  },
  {
   "cell_type": "code",
   "execution_count": 24,
   "id": "2c862f39",
   "metadata": {
    "scrolled": false
   },
   "outputs": [
    {
     "data": {
      "text/plain": [
       "(array([ 489.,    0.,  333.,    0., 1772.,    0.,  712.,    0.,    0.,\n",
       "         351.]),\n",
       " array([1. , 1.5, 2. , 2.5, 3. , 3.5, 4. , 4.5, 5. , 5.5, 6. ]),\n",
       " <BarContainer object of 10 artists>)"
      ]
     },
     "execution_count": 24,
     "metadata": {},
     "output_type": "execute_result"
    },
    {
     "data": {
      "image/png": "[encoded data removed]",
      "text/plain": [
       "<Figure size 432x288 with 1 Axes>"
      ]
     },
     "metadata": {
      "needs_background": "light"
     },
     "output_type": "display_data"
    }
   ],
   "source": [
    "plt.hist(df_merge.RIDRETH3)"
   ]
  },
  {
   "cell_type": "markdown",
   "id": "e1504190",
   "metadata": {},
   "source": [
    "### Age"
   ]
  },
  {
   "cell_type": "code",
   "execution_count": 25,
   "id": "73e26c97",
   "metadata": {},
   "outputs": [
    {
     "data": {
      "text/plain": [
       "(array([569., 336., 346., 349., 328., 318., 355., 373., 264., 419.]),\n",
       " array([18. , 24.2, 30.4, 36.6, 42.8, 49. , 55.2, 61.4, 67.6, 73.8, 80. ]),\n",
       " <BarContainer object of 10 artists>)"
      ]
     },
     "execution_count": 25,
     "metadata": {},
     "output_type": "execute_result"
    },
    {
     "data": {
      "image/png": "[encoded data removed]",
      "text/plain": [
       "<Figure size 432x288 with 1 Axes>"
      ]
     },
     "metadata": {
      "needs_background": "light"
     },
     "output_type": "display_data"
    }
   ],
   "source": [
    "plt.hist(df_merge.RIDAGEYR)"
   ]
  },
  {
   "cell_type": "code",
   "execution_count": 26,
   "id": "7a6f297d",
   "metadata": {
    "scrolled": true
   },
   "outputs": [
    {
     "data": {
      "text/plain": [
       "count    3657.000000\n",
       "mean       47.581624\n",
       "std        19.245747\n",
       "min        18.000000\n",
       "25%        31.000000\n",
       "50%        47.000000\n",
       "75%        64.000000\n",
       "max        80.000000\n",
       "Name: RIDAGEYR, dtype: float64"
      ]
     },
     "execution_count": 26,
     "metadata": {},
     "output_type": "execute_result"
    }
   ],
   "source": [
    "df_merge.RIDAGEYR.describe()"
   ]
  },
  {
   "cell_type": "markdown",
   "id": "7fe95ad9",
   "metadata": {},
   "source": [
    "### Gender (1: male; 2: female)"
   ]
  },
  {
   "cell_type": "code",
   "execution_count": 27,
   "id": "b9bbdf72",
   "metadata": {},
   "outputs": [
    {
     "data": {
      "text/plain": [
       "(array([1582.,    0.,    0.,    0.,    0.,    0.,    0.,    0.,    0.,\n",
       "        2075.]),\n",
       " array([1. , 1.1, 1.2, 1.3, 1.4, 1.5, 1.6, 1.7, 1.8, 1.9, 2. ]),\n",
       " <BarContainer object of 10 artists>)"
      ]
     },
     "execution_count": 27,
     "metadata": {},
     "output_type": "execute_result"
    },
    {
     "data": {
      "image/png": "[encoded data removed]",
      "text/plain": [
       "<Figure size 432x288 with 1 Axes>"
      ]
     },
     "metadata": {
      "needs_background": "light"
     },
     "output_type": "display_data"
    }
   ],
   "source": [
    "plt.hist(df_merge.RIAGENDR)"
   ]
  },
  {
   "cell_type": "markdown",
   "id": "926755c5",
   "metadata": {},
   "source": [
    "### Education attainment \n",
    "1(less than high school); 2(some high school); 3(high school graduate/GED or equivalent); 4(some college or AA degree); 5(college graduate or above)"
   ]
  },
  {
   "cell_type": "code",
   "execution_count": 28,
   "id": "e1f39a68",
   "metadata": {},
   "outputs": [
    {
     "data": {
      "text/plain": [
       "(array([ 225.,    0.,  478.,    0.,    0.,  807.,    0., 1335.,    0.,\n",
       "         812.]),\n",
       " array([1. , 1.4, 1.8, 2.2, 2.6, 3. , 3.4, 3.8, 4.2, 4.6, 5. ]),\n",
       " <BarContainer object of 10 artists>)"
      ]
     },
     "execution_count": 28,
     "metadata": {},
     "output_type": "execute_result"
    },
    {
     "data": {
      "image/png": "[encoded data removed]",
      "text/plain": [
       "<Figure size 432x288 with 1 Axes>"
      ]
     },
     "metadata": {
      "needs_background": "light"
     },
     "output_type": "display_data"
    }
   ],
   "source": [
    "plt.hist(df_merge.DMDEDUC2)"
   ]
  },
  {
   "cell_type": "markdown",
   "id": "f0c1d017",
   "metadata": {},
   "source": [
    "### Country of birth (1: born in the US; 2: not born in the US)"
   ]
  },
  {
   "cell_type": "code",
   "execution_count": 29,
   "id": "0c8f6659",
   "metadata": {},
   "outputs": [
    {
     "data": {
      "text/plain": [
       "(array([2749.,    0.,    0.,    0.,    0.,    0.,    0.,    0.,    0.,\n",
       "         908.]),\n",
       " array([1. , 1.1, 1.2, 1.3, 1.4, 1.5, 1.6, 1.7, 1.8, 1.9, 2. ]),\n",
       " <BarContainer object of 10 artists>)"
      ]
     },
     "execution_count": 29,
     "metadata": {},
     "output_type": "execute_result"
    },
    {
     "data": {
      "image/png": "[encoded data removed]",
      "text/plain": [
       "<Figure size 432x288 with 1 Axes>"
      ]
     },
     "metadata": {
      "needs_background": "light"
     },
     "output_type": "display_data"
    }
   ],
   "source": [
    "plt.hist(df_merge.DMDBORN4)"
   ]
  },
  {
   "cell_type": "markdown",
   "id": "06ce2a66",
   "metadata": {},
   "source": [
    "## 3.5 Feature selection (feature importance)"
   ]
  },
  {
   "cell_type": "markdown",
   "id": "62f7c359",
   "metadata": {},
   "source": [
    "### Create a function for normalize data "
   ]
  },
  {
   "cell_type": "code",
   "execution_count": 30,
   "id": "2aca7463",
   "metadata": {},
   "outputs": [],
   "source": [
    "from sklearn.preprocessing import StandardScaler \n",
    "def normalize_data(X): \n",
    "    X_std= pd.DataFrame(StandardScaler().fit_transform(X))\n",
    "    X_std.columns= X.columns\n",
    "    return X_std"
   ]
  },
  {
   "cell_type": "markdown",
   "id": "12e1efc1",
   "metadata": {},
   "source": [
    "### Linear regression using phq9 as a numeric target\n",
    "\n",
    "Coefficients of regressions can be used directly as some crude type of feature importance score. So I'm starting with regression models and use their coefficients for insights on feature selection.\n",
    "\n",
    "This is an overfitting and naiive model that I use to get some sense of the top ranked coefficients for feature selection."
   ]
  },
  {
   "cell_type": "code",
   "execution_count": 31,
   "id": "f42cdec1",
   "metadata": {},
   "outputs": [
    {
     "name": "stdout",
     "output_type": "stream",
     "text": [
      "Training_X:  (2194, 280)\n",
      "Validation_X:  (1463, 280)\n",
      "Training_y:  (2194, 1)\n",
      "Validation_y:  (1463, 1)\n"
     ]
    },
    {
     "data": {
      "text/plain": [
       "LinearRegression()"
      ]
     },
     "execution_count": 31,
     "metadata": {},
     "output_type": "execute_result"
    }
   ],
   "source": [
    "from sklearn.linear_model import LinearRegression\n",
    "from sklearn.metrics import accuracy_score\n",
    "from matplotlib import pyplot\n",
    "from sklearn.model_selection import train_test_split\n",
    "#partition into X and y\n",
    "target=['phq9']\n",
    "drop_features= ['phq9',\n",
    "                'SEQN',\n",
    "                'DPQ010', 'DPQ020', 'DPQ030', 'DPQ040', 'DPQ050', 'DPQ060','DPQ070','DPQ080', 'DPQ090', 'DPQ100',\n",
    "               'mild_dep', 'mod_dep', 'sev_dep', 'suicidal']\n",
    "X = df_merge[df_merge.columns.drop(drop_features)]\n",
    "y= df_merge[target]\n",
    "X_scaled= normalize_data(X)\n",
    "y_scaled= normalize_data(y)\n",
    "# #normalize data\n",
    "# X_scaled= normalize_data(X)\n",
    "# y_scaled= normalize_data(y)\n",
    "# #training and validation sets split based on normalized data\n",
    "train_X, valid_X, train_y, valid_y = train_test_split(X_scaled, y_scaled, test_size=0.4, random_state=42)\n",
    "print('Training_X: ', train_X.shape)\n",
    "print('Validation_X: ', valid_X.shape)\n",
    "print('Training_y: ', train_y.shape)\n",
    "print('Validation_y: ', valid_y.shape)\n",
    "lr=LinearRegression()\n",
    "lr.fit(train_X, train_y)"
   ]
  },
  {
   "cell_type": "code",
   "execution_count": 32,
   "id": "0ac1933b",
   "metadata": {},
   "outputs": [],
   "source": [
    "importance= lr.coef_\n",
    "importance= importance.flatten()\n",
    "columns= df_merge.columns\n",
    "df = pd.DataFrame({'feature': train_X.columns, 'importance': importance})\n",
    "df = df.sort_values('importance', ascending=False)"
   ]
  },
  {
   "cell_type": "code",
   "execution_count": 33,
   "id": "1e0fa04f",
   "metadata": {
    "scrolled": true
   },
   "outputs": [
    {
     "name": "stderr",
     "output_type": "stream",
     "text": [
      "<ipython-input-33-d343ccd9b52f>:4: SettingWithCopyWarning: \n",
      "A value is trying to be set on a copy of a slice from a DataFrame.\n",
      "Try using .loc[row_indexer,col_indexer] = value instead\n",
      "\n",
      "See the caveats in the documentation: https://pandas.pydata.org/pandas-docs/stable/user_guide/indexing.html#returning-a-view-versus-a-copy\n",
      "  df30['variable'] = df30['variable'].apply(lambda x: x.upper())\n"
     ]
    }
   ],
   "source": [
    "#select top 30 features \n",
    "df30= df[:30]\n",
    "df30.columns=['variable', 'importance']\n",
    "df30['variable'] = df30['variable'].apply(lambda x: x.upper())\n",
    "df30 = pd.merge(left=df30, right=cbook, left_on='variable', right_on='variable', how='left')"
   ]
  },
  {
   "cell_type": "code",
   "execution_count": 34,
   "id": "63429582",
   "metadata": {},
   "outputs": [
    {
     "data": {
      "text/html": [
       "<div>\n",
       "<style scoped>\n",
       "    .dataframe tbody tr th:only-of-type {\n",
       "        vertical-align: middle;\n",
       "    }\n",
       "\n",
       "    .dataframe tbody tr th {\n",
       "        vertical-align: top;\n",
       "    }\n",
       "\n",
       "    .dataframe thead th {\n",
       "        text-align: right;\n",
       "    }\n",
       "</style>\n",
       "<table border=\"1\" class=\"dataframe\">\n",
       "  <thead>\n",
       "    <tr style=\"text-align: right;\">\n",
       "      <th></th>\n",
       "      <th>variable</th>\n",
       "      <th>importance</th>\n",
       "      <th>label</th>\n",
       "    </tr>\n",
       "  </thead>\n",
       "  <tbody>\n",
       "    <tr>\n",
       "      <th>0</th>\n",
       "      <td>DRABF</td>\n",
       "      <td>1.124152e+13</td>\n",
       "      <td>Breast-fed infant (either day)</td>\n",
       "    </tr>\n",
       "    <tr>\n",
       "      <th>1</th>\n",
       "      <td>MIAPROXY</td>\n",
       "      <td>1.416622e+12</td>\n",
       "      <td>Proxy used in MEC Interview?</td>\n",
       "    </tr>\n",
       "    <tr>\n",
       "      <th>2</th>\n",
       "      <td>HSAQUEX</td>\n",
       "      <td>1.954397e+11</td>\n",
       "      <td>Source of Health Status Data</td>\n",
       "    </tr>\n",
       "    <tr>\n",
       "      <th>3</th>\n",
       "      <td>DR1.320Z</td>\n",
       "      <td>1.781679e+00</td>\n",
       "      <td>NaN</td>\n",
       "    </tr>\n",
       "    <tr>\n",
       "      <th>4</th>\n",
       "      <td>DR1TPFAT</td>\n",
       "      <td>1.101523e+00</td>\n",
       "      <td>Total polyunsaturated fatty acids (gm)</td>\n",
       "    </tr>\n",
       "    <tr>\n",
       "      <th>5</th>\n",
       "      <td>DR1TCARB</td>\n",
       "      <td>7.129679e-01</td>\n",
       "      <td>Carbohydrate (gm)</td>\n",
       "    </tr>\n",
       "    <tr>\n",
       "      <th>6</th>\n",
       "      <td>WTINT2YR</td>\n",
       "      <td>5.791300e-01</td>\n",
       "      <td>Full sample 2 year interview weight</td>\n",
       "    </tr>\n",
       "    <tr>\n",
       "      <th>7</th>\n",
       "      <td>DR1TSFAT</td>\n",
       "      <td>5.093896e-01</td>\n",
       "      <td>Total saturated fatty acids (gm)</td>\n",
       "    </tr>\n",
       "    <tr>\n",
       "      <th>8</th>\n",
       "      <td>DR1TPROT</td>\n",
       "      <td>3.597458e-01</td>\n",
       "      <td>Protein (gm)</td>\n",
       "    </tr>\n",
       "    <tr>\n",
       "      <th>9</th>\n",
       "      <td>DR1TRET</td>\n",
       "      <td>2.826115e-01</td>\n",
       "      <td>Retinol (mcg)</td>\n",
       "    </tr>\n",
       "    <tr>\n",
       "      <th>10</th>\n",
       "      <td>DR1TTFAT</td>\n",
       "      <td>2.574263e-01</td>\n",
       "      <td>Total fat (gm)</td>\n",
       "    </tr>\n",
       "    <tr>\n",
       "      <th>11</th>\n",
       "      <td>DR1TALCO</td>\n",
       "      <td>2.435469e-01</td>\n",
       "      <td>Alcohol (gm)</td>\n",
       "    </tr>\n",
       "    <tr>\n",
       "      <th>12</th>\n",
       "      <td>DR1TFOLA</td>\n",
       "      <td>2.351013e-01</td>\n",
       "      <td>Total folate (mcg)</td>\n",
       "    </tr>\n",
       "    <tr>\n",
       "      <th>13</th>\n",
       "      <td>DR1TBCAR</td>\n",
       "      <td>1.863093e-01</td>\n",
       "      <td>Beta-carotene (mcg)</td>\n",
       "    </tr>\n",
       "    <tr>\n",
       "      <th>14</th>\n",
       "      <td>DR1TS100</td>\n",
       "      <td>1.832336e-01</td>\n",
       "      <td>SFA 10:0 (Decanoic) (gm)</td>\n",
       "    </tr>\n",
       "    <tr>\n",
       "      <th>15</th>\n",
       "      <td>HSD010</td>\n",
       "      <td>1.577956e-01</td>\n",
       "      <td>General health condition</td>\n",
       "    </tr>\n",
       "    <tr>\n",
       "      <th>16</th>\n",
       "      <td>SMDANY</td>\n",
       "      <td>1.386781e-01</td>\n",
       "      <td>Used any tobacco product last 5 days?</td>\n",
       "    </tr>\n",
       "    <tr>\n",
       "      <th>17</th>\n",
       "      <td>DR1TCHOL</td>\n",
       "      <td>1.258361e-01</td>\n",
       "      <td>Cholesterol (mg)</td>\n",
       "    </tr>\n",
       "    <tr>\n",
       "      <th>18</th>\n",
       "      <td>RIDRETH1</td>\n",
       "      <td>1.074949e-01</td>\n",
       "      <td>Race/Hispanic origin</td>\n",
       "    </tr>\n",
       "    <tr>\n",
       "      <th>19</th>\n",
       "      <td>RIAGENDR</td>\n",
       "      <td>1.031921e-01</td>\n",
       "      <td>Gender</td>\n",
       "    </tr>\n",
       "    <tr>\n",
       "      <th>20</th>\n",
       "      <td>DR1DRSTZ</td>\n",
       "      <td>8.479927e-02</td>\n",
       "      <td>Dietary recall status</td>\n",
       "    </tr>\n",
       "    <tr>\n",
       "      <th>21</th>\n",
       "      <td>DMDFMSIZ</td>\n",
       "      <td>7.594207e-02</td>\n",
       "      <td>Total number of people in the Family</td>\n",
       "    </tr>\n",
       "    <tr>\n",
       "      <th>22</th>\n",
       "      <td>HIQ011</td>\n",
       "      <td>7.496693e-02</td>\n",
       "      <td>Covered by health insurance</td>\n",
       "    </tr>\n",
       "    <tr>\n",
       "      <th>23</th>\n",
       "      <td>DR1TVB6</td>\n",
       "      <td>7.426730e-02</td>\n",
       "      <td>Vitamin B6 (mg)</td>\n",
       "    </tr>\n",
       "    <tr>\n",
       "      <th>24</th>\n",
       "      <td>DR1HELPD</td>\n",
       "      <td>7.317260e-02</td>\n",
       "      <td>Helped in responding for this interview</td>\n",
       "    </tr>\n",
       "    <tr>\n",
       "      <th>25</th>\n",
       "      <td>FSDAD</td>\n",
       "      <td>6.975462e-02</td>\n",
       "      <td>Adult food security category</td>\n",
       "    </tr>\n",
       "    <tr>\n",
       "      <th>26</th>\n",
       "      <td>DR1TVB2</td>\n",
       "      <td>6.274768e-02</td>\n",
       "      <td>Riboflavin (Vitamin B2) (mg)</td>\n",
       "    </tr>\n",
       "    <tr>\n",
       "      <th>27</th>\n",
       "      <td>DR1MNRSP</td>\n",
       "      <td>6.200170e-02</td>\n",
       "      <td>Main respondent for this interview</td>\n",
       "    </tr>\n",
       "    <tr>\n",
       "      <th>28</th>\n",
       "      <td>DR1TATOC</td>\n",
       "      <td>5.882393e-02</td>\n",
       "      <td>Vitamin E as alpha-tocopherol (mg)</td>\n",
       "    </tr>\n",
       "    <tr>\n",
       "      <th>29</th>\n",
       "      <td>DR1TSODI</td>\n",
       "      <td>5.057885e-02</td>\n",
       "      <td>Sodium (mg)</td>\n",
       "    </tr>\n",
       "  </tbody>\n",
       "</table>\n",
       "</div>"
      ],
      "text/plain": [
       "    variable    importance                                    label\n",
       "0      DRABF  1.124152e+13           Breast-fed infant (either day)\n",
       "1   MIAPROXY  1.416622e+12             Proxy used in MEC Interview?\n",
       "2    HSAQUEX  1.954397e+11             Source of Health Status Data\n",
       "3   DR1.320Z  1.781679e+00                                      NaN\n",
       "4   DR1TPFAT  1.101523e+00   Total polyunsaturated fatty acids (gm)\n",
       "5   DR1TCARB  7.129679e-01                        Carbohydrate (gm)\n",
       "6   WTINT2YR  5.791300e-01      Full sample 2 year interview weight\n",
       "7   DR1TSFAT  5.093896e-01         Total saturated fatty acids (gm)\n",
       "8   DR1TPROT  3.597458e-01                             Protein (gm)\n",
       "9    DR1TRET  2.826115e-01                            Retinol (mcg)\n",
       "10  DR1TTFAT  2.574263e-01                           Total fat (gm)\n",
       "11  DR1TALCO  2.435469e-01                             Alcohol (gm)\n",
       "12  DR1TFOLA  2.351013e-01                       Total folate (mcg)\n",
       "13  DR1TBCAR  1.863093e-01                      Beta-carotene (mcg)\n",
       "14  DR1TS100  1.832336e-01                 SFA 10:0 (Decanoic) (gm)\n",
       "15    HSD010  1.577956e-01                 General health condition\n",
       "16    SMDANY  1.386781e-01    Used any tobacco product last 5 days?\n",
       "17  DR1TCHOL  1.258361e-01                         Cholesterol (mg)\n",
       "18  RIDRETH1  1.074949e-01                     Race/Hispanic origin\n",
       "19  RIAGENDR  1.031921e-01                                   Gender\n",
       "20  DR1DRSTZ  8.479927e-02                    Dietary recall status\n",
       "21  DMDFMSIZ  7.594207e-02     Total number of people in the Family\n",
       "22    HIQ011  7.496693e-02              Covered by health insurance\n",
       "23   DR1TVB6  7.426730e-02                          Vitamin B6 (mg)\n",
       "24  DR1HELPD  7.317260e-02  Helped in responding for this interview\n",
       "25     FSDAD  6.975462e-02             Adult food security category\n",
       "26   DR1TVB2  6.274768e-02             Riboflavin (Vitamin B2) (mg)\n",
       "27  DR1MNRSP  6.200170e-02       Main respondent for this interview\n",
       "28  DR1TATOC  5.882393e-02       Vitamin E as alpha-tocopherol (mg)\n",
       "29  DR1TSODI  5.057885e-02                              Sodium (mg)"
      ]
     },
     "execution_count": 34,
     "metadata": {},
     "output_type": "execute_result"
    }
   ],
   "source": [
    "df30"
   ]
  },
  {
   "cell_type": "markdown",
   "id": "2abd9e0e",
   "metadata": {},
   "source": [
    "### Logistic regression: moderate depression\n",
    "This is an overfitting and naiive model that I use to get some sense of the top ranked coefficients for feature selection."
   ]
  },
  {
   "cell_type": "code",
   "execution_count": 35,
   "id": "b5fae17d",
   "metadata": {},
   "outputs": [
    {
     "name": "stdout",
     "output_type": "stream",
     "text": [
      "Training_X:  (2194, 280)\n",
      "Validation_X:  (1463, 280)\n",
      "Training_y:  (2194, 1)\n",
      "Validation_y:  (1463, 1)\n"
     ]
    },
    {
     "name": "stderr",
     "output_type": "stream",
     "text": [
      "/Users/beiw/opt/anaconda3/lib/python3.8/site-packages/sklearn/utils/validation.py:63: DataConversionWarning: A column-vector y was passed when a 1d array was expected. Please change the shape of y to (n_samples, ), for example using ravel().\n",
      "  return f(*args, **kwargs)\n",
      "/Users/beiw/opt/anaconda3/lib/python3.8/site-packages/sklearn/linear_model/_logistic.py:763: ConvergenceWarning: lbfgs failed to converge (status=1):\n",
      "STOP: TOTAL NO. of ITERATIONS REACHED LIMIT.\n",
      "\n",
      "Increase the number of iterations (max_iter) or scale the data as shown in:\n",
      "    https://scikit-learn.org/stable/modules/preprocessing.html\n",
      "Please also refer to the documentation for alternative solver options:\n",
      "    https://scikit-learn.org/stable/modules/linear_model.html#logistic-regression\n",
      "  n_iter_i = _check_optimize_result(\n"
     ]
    },
    {
     "data": {
      "text/plain": [
       "LogisticRegression()"
      ]
     },
     "execution_count": 35,
     "metadata": {},
     "output_type": "execute_result"
    }
   ],
   "source": [
    "from sklearn.linear_model import LogisticRegression\n",
    "from sklearn.metrics import accuracy_score\n",
    "from matplotlib import pyplot\n",
    "#partition into X and y\n",
    "target=['mod_dep']\n",
    "drop_features= ['phq9',\n",
    "                'SEQN',\n",
    "                'DPQ010', 'DPQ020', 'DPQ030', 'DPQ040', 'DPQ050', 'DPQ060','DPQ070','DPQ080', 'DPQ090', 'DPQ100',\n",
    "               'mild_dep', 'sev_dep', 'suicidal', 'mod_dep']\n",
    "X = df_merge[df_merge.columns.drop(drop_features)]\n",
    "y= df_merge[target]\n",
    "X_scaled= normalize_data(X)\n",
    "# training and validation sets split, predictors are scaled\n",
    "train_X, valid_X, train_y, valid_y = train_test_split(X_scaled, y, test_size=0.4, random_state=42, stratify=y)\n",
    "print('Training_X: ', train_X.shape)\n",
    "print('Validation_X: ', valid_X.shape)\n",
    "print('Training_y: ', train_y.shape)\n",
    "print('Validation_y: ', valid_y.shape)\n",
    "\n",
    "#fit the model \n",
    "logit=LogisticRegression()\n",
    "logit.fit(train_X, train_y)"
   ]
  },
  {
   "cell_type": "code",
   "execution_count": 36,
   "id": "ecec2ecf",
   "metadata": {},
   "outputs": [],
   "source": [
    "importance= logit.coef_\n",
    "importance= importance.flatten()\n",
    "columns= df_merge.columns\n",
    "df = pd.DataFrame({'feature': train_X.columns, 'importance': importance})\n",
    "df = df.sort_values('importance', ascending=False)"
   ]
  },
  {
   "cell_type": "code",
   "execution_count": 37,
   "id": "e657dec3",
   "metadata": {
    "scrolled": false
   },
   "outputs": [
    {
     "name": "stderr",
     "output_type": "stream",
     "text": [
      "<ipython-input-37-d343ccd9b52f>:4: SettingWithCopyWarning: \n",
      "A value is trying to be set on a copy of a slice from a DataFrame.\n",
      "Try using .loc[row_indexer,col_indexer] = value instead\n",
      "\n",
      "See the caveats in the documentation: https://pandas.pydata.org/pandas-docs/stable/user_guide/indexing.html#returning-a-view-versus-a-copy\n",
      "  df30['variable'] = df30['variable'].apply(lambda x: x.upper())\n"
     ]
    }
   ],
   "source": [
    "#select top 30 features \n",
    "df30= df[:30]\n",
    "df30.columns=['variable', 'importance']\n",
    "df30['variable'] = df30['variable'].apply(lambda x: x.upper())\n",
    "df30 = pd.merge(left=df30, right=cbook, left_on='variable', right_on='variable', how='left')"
   ]
  },
  {
   "cell_type": "code",
   "execution_count": 38,
   "id": "4c7f36a9",
   "metadata": {
    "scrolled": true
   },
   "outputs": [
    {
     "data": {
      "text/html": [
       "<div>\n",
       "<style scoped>\n",
       "    .dataframe tbody tr th:only-of-type {\n",
       "        vertical-align: middle;\n",
       "    }\n",
       "\n",
       "    .dataframe tbody tr th {\n",
       "        vertical-align: top;\n",
       "    }\n",
       "\n",
       "    .dataframe thead th {\n",
       "        text-align: right;\n",
       "    }\n",
       "</style>\n",
       "<table border=\"1\" class=\"dataframe\">\n",
       "  <thead>\n",
       "    <tr style=\"text-align: right;\">\n",
       "      <th></th>\n",
       "      <th>variable</th>\n",
       "      <th>importance</th>\n",
       "      <th>label</th>\n",
       "    </tr>\n",
       "  </thead>\n",
       "  <tbody>\n",
       "    <tr>\n",
       "      <th>0</th>\n",
       "      <td>HSD010</td>\n",
       "      <td>0.788445</td>\n",
       "      <td>General health condition</td>\n",
       "    </tr>\n",
       "    <tr>\n",
       "      <th>1</th>\n",
       "      <td>WTDRD1</td>\n",
       "      <td>0.716010</td>\n",
       "      <td>Dietary day one sample weight</td>\n",
       "    </tr>\n",
       "    <tr>\n",
       "      <th>2</th>\n",
       "      <td>DR1TSELE</td>\n",
       "      <td>0.582252</td>\n",
       "      <td>Selenium (mcg)</td>\n",
       "    </tr>\n",
       "    <tr>\n",
       "      <th>3</th>\n",
       "      <td>DR1TZINC</td>\n",
       "      <td>0.552436</td>\n",
       "      <td>Zinc (mg)</td>\n",
       "    </tr>\n",
       "    <tr>\n",
       "      <th>4</th>\n",
       "      <td>DR1TMOIS</td>\n",
       "      <td>0.533266</td>\n",
       "      <td>Moisture (gm)</td>\n",
       "    </tr>\n",
       "    <tr>\n",
       "      <th>5</th>\n",
       "      <td>HEQ030</td>\n",
       "      <td>0.517417</td>\n",
       "      <td>Ever told you have Hepatitis C?</td>\n",
       "    </tr>\n",
       "    <tr>\n",
       "      <th>6</th>\n",
       "      <td>MCQ082</td>\n",
       "      <td>0.516062</td>\n",
       "      <td>Ever been told you have celiac disease?</td>\n",
       "    </tr>\n",
       "    <tr>\n",
       "      <th>7</th>\n",
       "      <td>FSD032A</td>\n",
       "      <td>0.516050</td>\n",
       "      <td>HH Worried run out of food</td>\n",
       "    </tr>\n",
       "    <tr>\n",
       "      <th>8</th>\n",
       "      <td>PFQ054</td>\n",
       "      <td>0.502239</td>\n",
       "      <td>Need special equipment to walk</td>\n",
       "    </tr>\n",
       "    <tr>\n",
       "      <th>9</th>\n",
       "      <td>DR1TSFAT</td>\n",
       "      <td>0.496148</td>\n",
       "      <td>Total saturated fatty acids (gm)</td>\n",
       "    </tr>\n",
       "    <tr>\n",
       "      <th>10</th>\n",
       "      <td>FSDAD</td>\n",
       "      <td>0.495843</td>\n",
       "      <td>Adult food security category</td>\n",
       "    </tr>\n",
       "    <tr>\n",
       "      <th>11</th>\n",
       "      <td>CBD120</td>\n",
       "      <td>0.482233</td>\n",
       "      <td>Money spent on eating out</td>\n",
       "    </tr>\n",
       "    <tr>\n",
       "      <th>12</th>\n",
       "      <td>DR1TP182</td>\n",
       "      <td>0.470733</td>\n",
       "      <td>PFA 18:2 (Octadecadienoic) (gm)</td>\n",
       "    </tr>\n",
       "    <tr>\n",
       "      <th>13</th>\n",
       "      <td>DR1TPFAT</td>\n",
       "      <td>0.464320</td>\n",
       "      <td>Total polyunsaturated fatty acids (gm)</td>\n",
       "    </tr>\n",
       "    <tr>\n",
       "      <th>14</th>\n",
       "      <td>DMDCITZN</td>\n",
       "      <td>0.462168</td>\n",
       "      <td>Citizenship status</td>\n",
       "    </tr>\n",
       "    <tr>\n",
       "      <th>15</th>\n",
       "      <td>DR1TS160</td>\n",
       "      <td>0.448928</td>\n",
       "      <td>SFA 16:0 (Hexadecanoic) (gm)</td>\n",
       "    </tr>\n",
       "    <tr>\n",
       "      <th>16</th>\n",
       "      <td>DMDHRBR4</td>\n",
       "      <td>0.446928</td>\n",
       "      <td>HH ref person's country of birth</td>\n",
       "    </tr>\n",
       "    <tr>\n",
       "      <th>17</th>\n",
       "      <td>CBQ545</td>\n",
       "      <td>0.420088</td>\n",
       "      <td>Would use fast food nutrition info</td>\n",
       "    </tr>\n",
       "    <tr>\n",
       "      <th>18</th>\n",
       "      <td>DR1TP226</td>\n",
       "      <td>0.393768</td>\n",
       "      <td>PFA 22:6 (Docosahexaenoic) (gm)</td>\n",
       "    </tr>\n",
       "    <tr>\n",
       "      <th>19</th>\n",
       "      <td>HUQ010</td>\n",
       "      <td>0.383348</td>\n",
       "      <td>General health condition</td>\n",
       "    </tr>\n",
       "    <tr>\n",
       "      <th>20</th>\n",
       "      <td>DR1TCARB</td>\n",
       "      <td>0.371230</td>\n",
       "      <td>Carbohydrate (gm)</td>\n",
       "    </tr>\n",
       "    <tr>\n",
       "      <th>21</th>\n",
       "      <td>DRDINT</td>\n",
       "      <td>0.354794</td>\n",
       "      <td>Number of days of intake</td>\n",
       "    </tr>\n",
       "    <tr>\n",
       "      <th>22</th>\n",
       "      <td>MCQ160B</td>\n",
       "      <td>0.348725</td>\n",
       "      <td>Ever told had congestive heart failure</td>\n",
       "    </tr>\n",
       "    <tr>\n",
       "      <th>23</th>\n",
       "      <td>DR1TS060</td>\n",
       "      <td>0.348129</td>\n",
       "      <td>SFA 6:0 (Hexanoic) (gm)</td>\n",
       "    </tr>\n",
       "    <tr>\n",
       "      <th>24</th>\n",
       "      <td>PFQ051</td>\n",
       "      <td>0.343649</td>\n",
       "      <td>Limited in amount of work you can do</td>\n",
       "    </tr>\n",
       "    <tr>\n",
       "      <th>25</th>\n",
       "      <td>DR1TPOTA</td>\n",
       "      <td>0.324975</td>\n",
       "      <td>Potassium (mg)</td>\n",
       "    </tr>\n",
       "    <tr>\n",
       "      <th>26</th>\n",
       "      <td>SMQ878</td>\n",
       "      <td>0.318092</td>\n",
       "      <td>Last 7-d in other indoor area?</td>\n",
       "    </tr>\n",
       "    <tr>\n",
       "      <th>27</th>\n",
       "      <td>DR1TVK</td>\n",
       "      <td>0.306320</td>\n",
       "      <td>Vitamin K (mcg)</td>\n",
       "    </tr>\n",
       "    <tr>\n",
       "      <th>28</th>\n",
       "      <td>PAQ710</td>\n",
       "      <td>0.306262</td>\n",
       "      <td>Hours watch TV or videos past 30 days</td>\n",
       "    </tr>\n",
       "    <tr>\n",
       "      <th>29</th>\n",
       "      <td>INDFMPIR</td>\n",
       "      <td>0.278450</td>\n",
       "      <td>Ratio of family income to poverty</td>\n",
       "    </tr>\n",
       "  </tbody>\n",
       "</table>\n",
       "</div>"
      ],
      "text/plain": [
       "    variable  importance                                    label\n",
       "0     HSD010    0.788445                 General health condition\n",
       "1     WTDRD1    0.716010            Dietary day one sample weight\n",
       "2   DR1TSELE    0.582252                           Selenium (mcg)\n",
       "3   DR1TZINC    0.552436                                Zinc (mg)\n",
       "4   DR1TMOIS    0.533266                            Moisture (gm)\n",
       "5     HEQ030    0.517417          Ever told you have Hepatitis C?\n",
       "6     MCQ082    0.516062  Ever been told you have celiac disease?\n",
       "7    FSD032A    0.516050               HH Worried run out of food\n",
       "8     PFQ054    0.502239           Need special equipment to walk\n",
       "9   DR1TSFAT    0.496148         Total saturated fatty acids (gm)\n",
       "10     FSDAD    0.495843             Adult food security category\n",
       "11    CBD120    0.482233                Money spent on eating out\n",
       "12  DR1TP182    0.470733          PFA 18:2 (Octadecadienoic) (gm)\n",
       "13  DR1TPFAT    0.464320   Total polyunsaturated fatty acids (gm)\n",
       "14  DMDCITZN    0.462168                       Citizenship status\n",
       "15  DR1TS160    0.448928             SFA 16:0 (Hexadecanoic) (gm)\n",
       "16  DMDHRBR4    0.446928         HH ref person's country of birth\n",
       "17    CBQ545    0.420088       Would use fast food nutrition info\n",
       "18  DR1TP226    0.393768          PFA 22:6 (Docosahexaenoic) (gm)\n",
       "19    HUQ010    0.383348                 General health condition\n",
       "20  DR1TCARB    0.371230                        Carbohydrate (gm)\n",
       "21    DRDINT    0.354794                 Number of days of intake\n",
       "22   MCQ160B    0.348725   Ever told had congestive heart failure\n",
       "23  DR1TS060    0.348129                  SFA 6:0 (Hexanoic) (gm)\n",
       "24    PFQ051    0.343649     Limited in amount of work you can do\n",
       "25  DR1TPOTA    0.324975                           Potassium (mg)\n",
       "26    SMQ878    0.318092           Last 7-d in other indoor area?\n",
       "27    DR1TVK    0.306320                          Vitamin K (mcg)\n",
       "28    PAQ710    0.306262    Hours watch TV or videos past 30 days\n",
       "29  INDFMPIR    0.278450        Ratio of family income to poverty"
      ]
     },
     "execution_count": 38,
     "metadata": {},
     "output_type": "execute_result"
    }
   ],
   "source": [
    "df30"
   ]
  },
  {
   "cell_type": "markdown",
   "id": "74fc9e95",
   "metadata": {},
   "source": [
    "#### Performance in the test set\n",
    "The accuracy of the overfitting model is not bad as expected. The actual and predicted 1 are unreasonably small. This might be because of the imbalanced dataset we have. So we will need to balance the sample with sampling techniques. "
   ]
  },
  {
   "cell_type": "code",
   "execution_count": 39,
   "id": "a26d2165",
   "metadata": {},
   "outputs": [
    {
     "name": "stdout",
     "output_type": "stream",
     "text": [
      "Confusion Matrix (Accuracy 0.9057)\n",
      "\n",
      "       Prediction\n",
      "Actual    0    1\n",
      "     0 1301   60\n",
      "     1   78   24\n"
     ]
    }
   ],
   "source": [
    "classificationSummary(valid_y, logit.predict(valid_X))"
   ]
  },
  {
   "cell_type": "markdown",
   "id": "0864e991",
   "metadata": {},
   "source": [
    "### note: \n",
    "*we could replicate this on suicidal ideation*\n",
    "\n",
    "*we need to balance sampling at some point*\n",
    "\n",
    "*we could rank the abosulte values for linear regression*\n"
   ]
  },
  {
   "cell_type": "markdown",
   "id": "7c3205e4",
   "metadata": {},
   "source": [
    "### Decision tree classification: moderate depression"
   ]
  },
  {
   "cell_type": "code",
   "execution_count": 40,
   "id": "c4f79dd9",
   "metadata": {
    "scrolled": true
   },
   "outputs": [],
   "source": [
    "from sklearn.tree import DecisionTreeClassifier\n",
    "from matplotlib import pyplot\n",
    "tree= DecisionTreeClassifier()\n",
    "tree.fit(train_X, train_y)\n",
    "importance= tree.feature_importances_\n",
    "importance= importance.flatten()\n",
    "columns= df_merge.columns\n",
    "df = pd.DataFrame({'feature': train_X.columns, 'importance': importance})\n",
    "df = df.sort_values('importance', ascending=False)"
   ]
  },
  {
   "cell_type": "code",
   "execution_count": 41,
   "id": "d3a6526d",
   "metadata": {
    "scrolled": true
   },
   "outputs": [
    {
     "name": "stderr",
     "output_type": "stream",
     "text": [
      "<ipython-input-41-d343ccd9b52f>:4: SettingWithCopyWarning: \n",
      "A value is trying to be set on a copy of a slice from a DataFrame.\n",
      "Try using .loc[row_indexer,col_indexer] = value instead\n",
      "\n",
      "See the caveats in the documentation: https://pandas.pydata.org/pandas-docs/stable/user_guide/indexing.html#returning-a-view-versus-a-copy\n",
      "  df30['variable'] = df30['variable'].apply(lambda x: x.upper())\n"
     ]
    }
   ],
   "source": [
    "#select top 30 features \n",
    "df30= df[:30]\n",
    "df30.columns=['variable', 'importance']\n",
    "df30['variable'] = df30['variable'].apply(lambda x: x.upper())\n",
    "df30 = pd.merge(left=df30, right=cbook, left_on='variable', right_on='variable', how='left')"
   ]
  },
  {
   "cell_type": "code",
   "execution_count": 42,
   "id": "5c024e81",
   "metadata": {},
   "outputs": [
    {
     "data": {
      "text/html": [
       "<div>\n",
       "<style scoped>\n",
       "    .dataframe tbody tr th:only-of-type {\n",
       "        vertical-align: middle;\n",
       "    }\n",
       "\n",
       "    .dataframe tbody tr th {\n",
       "        vertical-align: top;\n",
       "    }\n",
       "\n",
       "    .dataframe thead th {\n",
       "        text-align: right;\n",
       "    }\n",
       "</style>\n",
       "<table border=\"1\" class=\"dataframe\">\n",
       "  <thead>\n",
       "    <tr style=\"text-align: right;\">\n",
       "      <th></th>\n",
       "      <th>variable</th>\n",
       "      <th>importance</th>\n",
       "      <th>label</th>\n",
       "    </tr>\n",
       "  </thead>\n",
       "  <tbody>\n",
       "    <tr>\n",
       "      <th>0</th>\n",
       "      <td>HSD010</td>\n",
       "      <td>0.079946</td>\n",
       "      <td>General health condition</td>\n",
       "    </tr>\n",
       "    <tr>\n",
       "      <th>1</th>\n",
       "      <td>DLQ040</td>\n",
       "      <td>0.046876</td>\n",
       "      <td>Have serious difficulty concentrating ?</td>\n",
       "    </tr>\n",
       "    <tr>\n",
       "      <th>2</th>\n",
       "      <td>DR1TFIBE</td>\n",
       "      <td>0.041821</td>\n",
       "      <td>Dietary fiber (gm)</td>\n",
       "    </tr>\n",
       "    <tr>\n",
       "      <th>3</th>\n",
       "      <td>MCQ300C</td>\n",
       "      <td>0.028039</td>\n",
       "      <td>NaN</td>\n",
       "    </tr>\n",
       "    <tr>\n",
       "      <th>4</th>\n",
       "      <td>WTDR2D</td>\n",
       "      <td>0.027921</td>\n",
       "      <td>Dietary two-day sample weight</td>\n",
       "    </tr>\n",
       "    <tr>\n",
       "      <th>5</th>\n",
       "      <td>ALQ101</td>\n",
       "      <td>0.023754</td>\n",
       "      <td>Had at least 12 alcohol drinks/1 yr?</td>\n",
       "    </tr>\n",
       "    <tr>\n",
       "      <th>6</th>\n",
       "      <td>DR1TIRON</td>\n",
       "      <td>0.022105</td>\n",
       "      <td>Iron (mg)</td>\n",
       "    </tr>\n",
       "    <tr>\n",
       "      <th>7</th>\n",
       "      <td>PAD680</td>\n",
       "      <td>0.021869</td>\n",
       "      <td>Minutes sedentary activity</td>\n",
       "    </tr>\n",
       "    <tr>\n",
       "      <th>8</th>\n",
       "      <td>DR1TCHL</td>\n",
       "      <td>0.021412</td>\n",
       "      <td>Total choline (mg)</td>\n",
       "    </tr>\n",
       "    <tr>\n",
       "      <th>9</th>\n",
       "      <td>PFQ049</td>\n",
       "      <td>0.021047</td>\n",
       "      <td>Limitations keeping you from working</td>\n",
       "    </tr>\n",
       "    <tr>\n",
       "      <th>10</th>\n",
       "      <td>WHQ150</td>\n",
       "      <td>0.020518</td>\n",
       "      <td>Age when heaviest weight</td>\n",
       "    </tr>\n",
       "    <tr>\n",
       "      <th>11</th>\n",
       "      <td>DR1TLYCO</td>\n",
       "      <td>0.018994</td>\n",
       "      <td>Lycopene (mcg)</td>\n",
       "    </tr>\n",
       "    <tr>\n",
       "      <th>12</th>\n",
       "      <td>WHD010</td>\n",
       "      <td>0.018768</td>\n",
       "      <td>Current self-reported height (inches)</td>\n",
       "    </tr>\n",
       "    <tr>\n",
       "      <th>13</th>\n",
       "      <td>DR1TCOPP</td>\n",
       "      <td>0.018628</td>\n",
       "      <td>Copper (mg)</td>\n",
       "    </tr>\n",
       "    <tr>\n",
       "      <th>14</th>\n",
       "      <td>DR1BWATZ</td>\n",
       "      <td>0.018048</td>\n",
       "      <td>Total bottled water drank yesterday (gm)</td>\n",
       "    </tr>\n",
       "    <tr>\n",
       "      <th>15</th>\n",
       "      <td>DR1TVK</td>\n",
       "      <td>0.017479</td>\n",
       "      <td>Vitamin K (mcg)</td>\n",
       "    </tr>\n",
       "    <tr>\n",
       "      <th>16</th>\n",
       "      <td>DR1TCALC</td>\n",
       "      <td>0.017346</td>\n",
       "      <td>Calcium (mg)</td>\n",
       "    </tr>\n",
       "    <tr>\n",
       "      <th>17</th>\n",
       "      <td>DIQ170</td>\n",
       "      <td>0.015798</td>\n",
       "      <td>Ever told have health risk for diabetes</td>\n",
       "    </tr>\n",
       "    <tr>\n",
       "      <th>18</th>\n",
       "      <td>SMQ860</td>\n",
       "      <td>0.015419</td>\n",
       "      <td>Last 7-d spent time in a restaurant?</td>\n",
       "    </tr>\n",
       "    <tr>\n",
       "      <th>19</th>\n",
       "      <td>OHQ845</td>\n",
       "      <td>0.015387</td>\n",
       "      <td>Rate the health of your teeth and gums</td>\n",
       "    </tr>\n",
       "    <tr>\n",
       "      <th>20</th>\n",
       "      <td>CBQ545</td>\n",
       "      <td>0.015387</td>\n",
       "      <td>Would use fast food nutrition info</td>\n",
       "    </tr>\n",
       "    <tr>\n",
       "      <th>21</th>\n",
       "      <td>MCQ203</td>\n",
       "      <td>0.015295</td>\n",
       "      <td>Ever been told you have jaundice?</td>\n",
       "    </tr>\n",
       "    <tr>\n",
       "      <th>22</th>\n",
       "      <td>WHD140</td>\n",
       "      <td>0.015066</td>\n",
       "      <td>Self-reported greatest weight (pounds)</td>\n",
       "    </tr>\n",
       "    <tr>\n",
       "      <th>23</th>\n",
       "      <td>DR1TCRYP</td>\n",
       "      <td>0.014754</td>\n",
       "      <td>Beta-cryptoxanthin (mcg)</td>\n",
       "    </tr>\n",
       "    <tr>\n",
       "      <th>24</th>\n",
       "      <td>DR1TATOC</td>\n",
       "      <td>0.013590</td>\n",
       "      <td>Vitamin E as alpha-tocopherol (mg)</td>\n",
       "    </tr>\n",
       "    <tr>\n",
       "      <th>25</th>\n",
       "      <td>SMQ878</td>\n",
       "      <td>0.013174</td>\n",
       "      <td>Last 7-d in other indoor area?</td>\n",
       "    </tr>\n",
       "    <tr>\n",
       "      <th>26</th>\n",
       "      <td>CBD120</td>\n",
       "      <td>0.013051</td>\n",
       "      <td>Money spent on eating out</td>\n",
       "    </tr>\n",
       "    <tr>\n",
       "      <th>27</th>\n",
       "      <td>HUQ051</td>\n",
       "      <td>0.013001</td>\n",
       "      <td>#times receive healthcare over past year</td>\n",
       "    </tr>\n",
       "    <tr>\n",
       "      <th>28</th>\n",
       "      <td>DR1TP204</td>\n",
       "      <td>0.012480</td>\n",
       "      <td>PFA 20:4 (Eicosatetraenoic) (gm)</td>\n",
       "    </tr>\n",
       "    <tr>\n",
       "      <th>29</th>\n",
       "      <td>DR1TPROT</td>\n",
       "      <td>0.012268</td>\n",
       "      <td>Protein (gm)</td>\n",
       "    </tr>\n",
       "  </tbody>\n",
       "</table>\n",
       "</div>"
      ],
      "text/plain": [
       "    variable  importance                                     label\n",
       "0     HSD010    0.079946                  General health condition\n",
       "1     DLQ040    0.046876   Have serious difficulty concentrating ?\n",
       "2   DR1TFIBE    0.041821                        Dietary fiber (gm)\n",
       "3    MCQ300C    0.028039                                       NaN\n",
       "4     WTDR2D    0.027921             Dietary two-day sample weight\n",
       "5     ALQ101    0.023754      Had at least 12 alcohol drinks/1 yr?\n",
       "6   DR1TIRON    0.022105                                 Iron (mg)\n",
       "7     PAD680    0.021869                Minutes sedentary activity\n",
       "8    DR1TCHL    0.021412                        Total choline (mg)\n",
       "9     PFQ049    0.021047      Limitations keeping you from working\n",
       "10    WHQ150    0.020518                  Age when heaviest weight\n",
       "11  DR1TLYCO    0.018994                            Lycopene (mcg)\n",
       "12    WHD010    0.018768     Current self-reported height (inches)\n",
       "13  DR1TCOPP    0.018628                               Copper (mg)\n",
       "14  DR1BWATZ    0.018048  Total bottled water drank yesterday (gm)\n",
       "15    DR1TVK    0.017479                           Vitamin K (mcg)\n",
       "16  DR1TCALC    0.017346                              Calcium (mg)\n",
       "17    DIQ170    0.015798   Ever told have health risk for diabetes\n",
       "18    SMQ860    0.015419      Last 7-d spent time in a restaurant?\n",
       "19    OHQ845    0.015387    Rate the health of your teeth and gums\n",
       "20    CBQ545    0.015387        Would use fast food nutrition info\n",
       "21    MCQ203    0.015295         Ever been told you have jaundice?\n",
       "22    WHD140    0.015066    Self-reported greatest weight (pounds)\n",
       "23  DR1TCRYP    0.014754                  Beta-cryptoxanthin (mcg)\n",
       "24  DR1TATOC    0.013590        Vitamin E as alpha-tocopherol (mg)\n",
       "25    SMQ878    0.013174            Last 7-d in other indoor area?\n",
       "26    CBD120    0.013051                 Money spent on eating out\n",
       "27    HUQ051    0.013001  #times receive healthcare over past year\n",
       "28  DR1TP204    0.012480          PFA 20:4 (Eicosatetraenoic) (gm)\n",
       "29  DR1TPROT    0.012268                              Protein (gm)"
      ]
     },
     "execution_count": 42,
     "metadata": {},
     "output_type": "execute_result"
    }
   ],
   "source": [
    "df30"
   ]
  },
  {
   "cell_type": "markdown",
   "id": "ef9a9724",
   "metadata": {},
   "source": [
    "### Random forest feature selection: moderate depression"
   ]
  },
  {
   "cell_type": "code",
   "execution_count": 43,
   "id": "1b68339d",
   "metadata": {},
   "outputs": [
    {
     "name": "stderr",
     "output_type": "stream",
     "text": [
      "<ipython-input-43-29a88de639b7>:3: DataConversionWarning: A column-vector y was passed when a 1d array was expected. Please change the shape of y to (n_samples,), for example using ravel().\n",
      "  forest.fit(train_X, train_y)\n"
     ]
    }
   ],
   "source": [
    "from sklearn.ensemble import RandomForestClassifier\n",
    "forest= RandomForestClassifier()\n",
    "forest.fit(train_X, train_y)\n",
    "importance= forest.feature_importances_\n",
    "importance= importance.flatten()\n",
    "columns= df_merge.columns\n",
    "df = pd.DataFrame({'feature': train_X.columns, 'importance': importance})\n",
    "df = df.sort_values('importance', ascending=False)"
   ]
  },
  {
   "cell_type": "code",
   "execution_count": 44,
   "id": "e0ac6d3a",
   "metadata": {
    "scrolled": true
   },
   "outputs": [
    {
     "name": "stderr",
     "output_type": "stream",
     "text": [
      "<ipython-input-44-d343ccd9b52f>:4: SettingWithCopyWarning: \n",
      "A value is trying to be set on a copy of a slice from a DataFrame.\n",
      "Try using .loc[row_indexer,col_indexer] = value instead\n",
      "\n",
      "See the caveats in the documentation: https://pandas.pydata.org/pandas-docs/stable/user_guide/indexing.html#returning-a-view-versus-a-copy\n",
      "  df30['variable'] = df30['variable'].apply(lambda x: x.upper())\n"
     ]
    }
   ],
   "source": [
    "#select top 30 features \n",
    "df30= df[:30]\n",
    "df30.columns=['variable', 'importance']\n",
    "df30['variable'] = df30['variable'].apply(lambda x: x.upper())\n",
    "df30 = pd.merge(left=df30, right=cbook, left_on='variable', right_on='variable', how='left')"
   ]
  },
  {
   "cell_type": "code",
   "execution_count": 45,
   "id": "5ef92b7b",
   "metadata": {},
   "outputs": [
    {
     "data": {
      "text/html": [
       "<div>\n",
       "<style scoped>\n",
       "    .dataframe tbody tr th:only-of-type {\n",
       "        vertical-align: middle;\n",
       "    }\n",
       "\n",
       "    .dataframe tbody tr th {\n",
       "        vertical-align: top;\n",
       "    }\n",
       "\n",
       "    .dataframe thead th {\n",
       "        text-align: right;\n",
       "    }\n",
       "</style>\n",
       "<table border=\"1\" class=\"dataframe\">\n",
       "  <thead>\n",
       "    <tr style=\"text-align: right;\">\n",
       "      <th></th>\n",
       "      <th>variable</th>\n",
       "      <th>importance</th>\n",
       "      <th>label</th>\n",
       "    </tr>\n",
       "  </thead>\n",
       "  <tbody>\n",
       "    <tr>\n",
       "      <th>0</th>\n",
       "      <td>HUQ010</td>\n",
       "      <td>0.019234</td>\n",
       "      <td>General health condition</td>\n",
       "    </tr>\n",
       "    <tr>\n",
       "      <th>1</th>\n",
       "      <td>HSD010</td>\n",
       "      <td>0.019095</td>\n",
       "      <td>General health condition</td>\n",
       "    </tr>\n",
       "    <tr>\n",
       "      <th>2</th>\n",
       "      <td>PFQ057</td>\n",
       "      <td>0.016077</td>\n",
       "      <td>Experience confusion/memory problems</td>\n",
       "    </tr>\n",
       "    <tr>\n",
       "      <th>3</th>\n",
       "      <td>DLQ040</td>\n",
       "      <td>0.013739</td>\n",
       "      <td>Have serious difficulty concentrating ?</td>\n",
       "    </tr>\n",
       "    <tr>\n",
       "      <th>4</th>\n",
       "      <td>WHD020</td>\n",
       "      <td>0.012034</td>\n",
       "      <td>Current self-reported weight (pounds)</td>\n",
       "    </tr>\n",
       "    <tr>\n",
       "      <th>5</th>\n",
       "      <td>DR1TSUGR</td>\n",
       "      <td>0.010764</td>\n",
       "      <td>Total sugars (gm)</td>\n",
       "    </tr>\n",
       "    <tr>\n",
       "      <th>6</th>\n",
       "      <td>WTINT2YR</td>\n",
       "      <td>0.010746</td>\n",
       "      <td>Full sample 2 year interview weight</td>\n",
       "    </tr>\n",
       "    <tr>\n",
       "      <th>7</th>\n",
       "      <td>PFQ049</td>\n",
       "      <td>0.010745</td>\n",
       "      <td>Limitations keeping you from working</td>\n",
       "    </tr>\n",
       "    <tr>\n",
       "      <th>8</th>\n",
       "      <td>DR1TFDFE</td>\n",
       "      <td>0.010178</td>\n",
       "      <td>Folate, DFE (mcg)</td>\n",
       "    </tr>\n",
       "    <tr>\n",
       "      <th>9</th>\n",
       "      <td>WTMEC2YR</td>\n",
       "      <td>0.010039</td>\n",
       "      <td>Full sample 2 year MEC exam weight</td>\n",
       "    </tr>\n",
       "    <tr>\n",
       "      <th>10</th>\n",
       "      <td>WTDRD1</td>\n",
       "      <td>0.009861</td>\n",
       "      <td>Dietary day one sample weight</td>\n",
       "    </tr>\n",
       "    <tr>\n",
       "      <th>11</th>\n",
       "      <td>DR1TSODI</td>\n",
       "      <td>0.009602</td>\n",
       "      <td>Sodium (mg)</td>\n",
       "    </tr>\n",
       "    <tr>\n",
       "      <th>12</th>\n",
       "      <td>DR1TFIBE</td>\n",
       "      <td>0.009478</td>\n",
       "      <td>Dietary fiber (gm)</td>\n",
       "    </tr>\n",
       "    <tr>\n",
       "      <th>13</th>\n",
       "      <td>INDFMPIR</td>\n",
       "      <td>0.009427</td>\n",
       "      <td>Ratio of family income to poverty</td>\n",
       "    </tr>\n",
       "    <tr>\n",
       "      <th>14</th>\n",
       "      <td>DR1TPFAT</td>\n",
       "      <td>0.009097</td>\n",
       "      <td>Total polyunsaturated fatty acids (gm)</td>\n",
       "    </tr>\n",
       "    <tr>\n",
       "      <th>15</th>\n",
       "      <td>WHD050</td>\n",
       "      <td>0.009081</td>\n",
       "      <td>Self-reported weight - 1 yr ago (pounds)</td>\n",
       "    </tr>\n",
       "    <tr>\n",
       "      <th>16</th>\n",
       "      <td>INDFMMPI</td>\n",
       "      <td>0.009022</td>\n",
       "      <td>Family monthly poverty level index</td>\n",
       "    </tr>\n",
       "    <tr>\n",
       "      <th>17</th>\n",
       "      <td>DR1TVB6</td>\n",
       "      <td>0.008890</td>\n",
       "      <td>Vitamin B6 (mg)</td>\n",
       "    </tr>\n",
       "    <tr>\n",
       "      <th>18</th>\n",
       "      <td>DR1TP182</td>\n",
       "      <td>0.008858</td>\n",
       "      <td>PFA 18:2 (Octadecadienoic) (gm)</td>\n",
       "    </tr>\n",
       "    <tr>\n",
       "      <th>19</th>\n",
       "      <td>DR1TLZ</td>\n",
       "      <td>0.008799</td>\n",
       "      <td>Lutein + zeaxanthin (mcg)</td>\n",
       "    </tr>\n",
       "    <tr>\n",
       "      <th>20</th>\n",
       "      <td>DR1TM201</td>\n",
       "      <td>0.008693</td>\n",
       "      <td>MFA 20:1 (Eicosenoic) (gm)</td>\n",
       "    </tr>\n",
       "    <tr>\n",
       "      <th>21</th>\n",
       "      <td>WHD140</td>\n",
       "      <td>0.008533</td>\n",
       "      <td>Self-reported greatest weight (pounds)</td>\n",
       "    </tr>\n",
       "    <tr>\n",
       "      <th>22</th>\n",
       "      <td>DMDHRAGE</td>\n",
       "      <td>0.008472</td>\n",
       "      <td>HH ref person's age in years</td>\n",
       "    </tr>\n",
       "    <tr>\n",
       "      <th>23</th>\n",
       "      <td>DR1TP183</td>\n",
       "      <td>0.008366</td>\n",
       "      <td>PFA 18:3 (Octadecatrienoic) (gm)</td>\n",
       "    </tr>\n",
       "    <tr>\n",
       "      <th>24</th>\n",
       "      <td>DR1TFF</td>\n",
       "      <td>0.008279</td>\n",
       "      <td>Food folate (mcg)</td>\n",
       "    </tr>\n",
       "    <tr>\n",
       "      <th>25</th>\n",
       "      <td>DR1TVB12</td>\n",
       "      <td>0.008234</td>\n",
       "      <td>Vitamin B12 (mcg)</td>\n",
       "    </tr>\n",
       "    <tr>\n",
       "      <th>26</th>\n",
       "      <td>DR1TNIAC</td>\n",
       "      <td>0.008174</td>\n",
       "      <td>Niacin (mg)</td>\n",
       "    </tr>\n",
       "    <tr>\n",
       "      <th>27</th>\n",
       "      <td>DR1TVK</td>\n",
       "      <td>0.008156</td>\n",
       "      <td>Vitamin K (mcg)</td>\n",
       "    </tr>\n",
       "    <tr>\n",
       "      <th>28</th>\n",
       "      <td>DR1TPROT</td>\n",
       "      <td>0.008152</td>\n",
       "      <td>Protein (gm)</td>\n",
       "    </tr>\n",
       "    <tr>\n",
       "      <th>29</th>\n",
       "      <td>DR1TM181</td>\n",
       "      <td>0.008075</td>\n",
       "      <td>MFA 18:1 (Octadecenoic) (gm)</td>\n",
       "    </tr>\n",
       "  </tbody>\n",
       "</table>\n",
       "</div>"
      ],
      "text/plain": [
       "    variable  importance                                     label\n",
       "0     HUQ010    0.019234                  General health condition\n",
       "1     HSD010    0.019095                  General health condition\n",
       "2     PFQ057    0.016077      Experience confusion/memory problems\n",
       "3     DLQ040    0.013739   Have serious difficulty concentrating ?\n",
       "4     WHD020    0.012034     Current self-reported weight (pounds)\n",
       "5   DR1TSUGR    0.010764                         Total sugars (gm)\n",
       "6   WTINT2YR    0.010746       Full sample 2 year interview weight\n",
       "7     PFQ049    0.010745      Limitations keeping you from working\n",
       "8   DR1TFDFE    0.010178                         Folate, DFE (mcg)\n",
       "9   WTMEC2YR    0.010039        Full sample 2 year MEC exam weight\n",
       "10    WTDRD1    0.009861             Dietary day one sample weight\n",
       "11  DR1TSODI    0.009602                               Sodium (mg)\n",
       "12  DR1TFIBE    0.009478                        Dietary fiber (gm)\n",
       "13  INDFMPIR    0.009427         Ratio of family income to poverty\n",
       "14  DR1TPFAT    0.009097    Total polyunsaturated fatty acids (gm)\n",
       "15    WHD050    0.009081  Self-reported weight - 1 yr ago (pounds)\n",
       "16  INDFMMPI    0.009022        Family monthly poverty level index\n",
       "17   DR1TVB6    0.008890                           Vitamin B6 (mg)\n",
       "18  DR1TP182    0.008858           PFA 18:2 (Octadecadienoic) (gm)\n",
       "19    DR1TLZ    0.008799                 Lutein + zeaxanthin (mcg)\n",
       "20  DR1TM201    0.008693                MFA 20:1 (Eicosenoic) (gm)\n",
       "21    WHD140    0.008533    Self-reported greatest weight (pounds)\n",
       "22  DMDHRAGE    0.008472              HH ref person's age in years\n",
       "23  DR1TP183    0.008366          PFA 18:3 (Octadecatrienoic) (gm)\n",
       "24    DR1TFF    0.008279                         Food folate (mcg)\n",
       "25  DR1TVB12    0.008234                         Vitamin B12 (mcg)\n",
       "26  DR1TNIAC    0.008174                               Niacin (mg)\n",
       "27    DR1TVK    0.008156                           Vitamin K (mcg)\n",
       "28  DR1TPROT    0.008152                              Protein (gm)\n",
       "29  DR1TM181    0.008075              MFA 18:1 (Octadecenoic) (gm)"
      ]
     },
     "execution_count": 45,
     "metadata": {},
     "output_type": "execute_result"
    }
   ],
   "source": [
    "df30"
   ]
  },
  {
   "cell_type": "markdown",
   "id": "988194be",
   "metadata": {},
   "source": [
    "### XGboost for feature selection"
   ]
  },
  {
   "cell_type": "code",
   "execution_count": 46,
   "id": "1cf03274",
   "metadata": {
    "scrolled": true
   },
   "outputs": [
    {
     "name": "stderr",
     "output_type": "stream",
     "text": [
      "/Users/beiw/opt/anaconda3/lib/python3.8/site-packages/xgboost/sklearn.py:1224: UserWarning: The use of label encoder in XGBClassifier is deprecated and will be removed in a future release. To remove this warning, do the following: 1) Pass option use_label_encoder=False when constructing XGBClassifier object; and 2) Encode your labels (y) as integers starting with 0, i.e. 0, 1, 2, ..., [num_class - 1].\n",
      "  warnings.warn(label_encoder_deprecation_msg, UserWarning)\n",
      "/Users/beiw/opt/anaconda3/lib/python3.8/site-packages/sklearn/utils/validation.py:63: DataConversionWarning: A column-vector y was passed when a 1d array was expected. Please change the shape of y to (n_samples, ), for example using ravel().\n",
      "  return f(*args, **kwargs)\n"
     ]
    },
    {
     "name": "stdout",
     "output_type": "stream",
     "text": [
      "[09:25:05] WARNING: /Users/travis/build/dmlc/xgboost/src/learner.cc:1115: Starting in XGBoost 1.3.0, the default evaluation metric used with the objective 'binary:logistic' was changed from 'error' to 'logloss'. Explicitly set eval_metric if you'd like to restore the old behavior.\n"
     ]
    }
   ],
   "source": [
    "from xgboost import XGBClassifier\n",
    "from sklearn.metrics import classification_report, accuracy_score, confusion_matrix\n",
    "xgboost = XGBClassifier()\n",
    "xgboost.fit(train_X, train_y)\n",
    "importance= xgboost.feature_importances_\n",
    "columns= df_merge.columns\n",
    "df = pd.DataFrame({'feature': train_X.columns, 'importance': importance})\n",
    "df = df.sort_values('importance', ascending=False)"
   ]
  },
  {
   "cell_type": "code",
   "execution_count": 47,
   "id": "cb394f37",
   "metadata": {
    "scrolled": true
   },
   "outputs": [
    {
     "name": "stderr",
     "output_type": "stream",
     "text": [
      "<ipython-input-47-d343ccd9b52f>:4: SettingWithCopyWarning: \n",
      "A value is trying to be set on a copy of a slice from a DataFrame.\n",
      "Try using .loc[row_indexer,col_indexer] = value instead\n",
      "\n",
      "See the caveats in the documentation: https://pandas.pydata.org/pandas-docs/stable/user_guide/indexing.html#returning-a-view-versus-a-copy\n",
      "  df30['variable'] = df30['variable'].apply(lambda x: x.upper())\n"
     ]
    }
   ],
   "source": [
    "#select top 30 features \n",
    "df30= df[:30]\n",
    "df30.columns=['variable', 'importance']\n",
    "df30['variable'] = df30['variable'].apply(lambda x: x.upper())\n",
    "df30 = pd.merge(left=df30, right=cbook, left_on='variable', right_on='variable', how='left')"
   ]
  },
  {
   "cell_type": "code",
   "execution_count": 48,
   "id": "13fb977d",
   "metadata": {
    "scrolled": true
   },
   "outputs": [
    {
     "data": {
      "text/html": [
       "<div>\n",
       "<style scoped>\n",
       "    .dataframe tbody tr th:only-of-type {\n",
       "        vertical-align: middle;\n",
       "    }\n",
       "\n",
       "    .dataframe tbody tr th {\n",
       "        vertical-align: top;\n",
       "    }\n",
       "\n",
       "    .dataframe thead th {\n",
       "        text-align: right;\n",
       "    }\n",
       "</style>\n",
       "<table border=\"1\" class=\"dataframe\">\n",
       "  <thead>\n",
       "    <tr style=\"text-align: right;\">\n",
       "      <th></th>\n",
       "      <th>variable</th>\n",
       "      <th>importance</th>\n",
       "      <th>label</th>\n",
       "    </tr>\n",
       "  </thead>\n",
       "  <tbody>\n",
       "    <tr>\n",
       "      <th>0</th>\n",
       "      <td>MCQ203</td>\n",
       "      <td>0.032410</td>\n",
       "      <td>Ever been told you have jaundice?</td>\n",
       "    </tr>\n",
       "    <tr>\n",
       "      <th>1</th>\n",
       "      <td>DIQ180</td>\n",
       "      <td>0.024421</td>\n",
       "      <td>Had blood tested past three years</td>\n",
       "    </tr>\n",
       "    <tr>\n",
       "      <th>2</th>\n",
       "      <td>PFQ049</td>\n",
       "      <td>0.024374</td>\n",
       "      <td>Limitations keeping you from working</td>\n",
       "    </tr>\n",
       "    <tr>\n",
       "      <th>3</th>\n",
       "      <td>INQ090</td>\n",
       "      <td>0.023546</td>\n",
       "      <td>Income from Supplemental Security Income</td>\n",
       "    </tr>\n",
       "    <tr>\n",
       "      <th>4</th>\n",
       "      <td>SXD021</td>\n",
       "      <td>0.020442</td>\n",
       "      <td>Ever had vaginal, anal, or oral sex</td>\n",
       "    </tr>\n",
       "    <tr>\n",
       "      <th>5</th>\n",
       "      <td>DLQ040</td>\n",
       "      <td>0.016088</td>\n",
       "      <td>Have serious difficulty concentrating ?</td>\n",
       "    </tr>\n",
       "    <tr>\n",
       "      <th>6</th>\n",
       "      <td>MCQ053</td>\n",
       "      <td>0.014161</td>\n",
       "      <td>Taking treatment for anemia/past 3 mos</td>\n",
       "    </tr>\n",
       "    <tr>\n",
       "      <th>7</th>\n",
       "      <td>DR1TPROT</td>\n",
       "      <td>0.013444</td>\n",
       "      <td>Protein (gm)</td>\n",
       "    </tr>\n",
       "    <tr>\n",
       "      <th>8</th>\n",
       "      <td>MCQ300C</td>\n",
       "      <td>0.013102</td>\n",
       "      <td>NaN</td>\n",
       "    </tr>\n",
       "    <tr>\n",
       "      <th>9</th>\n",
       "      <td>HUQ010</td>\n",
       "      <td>0.012820</td>\n",
       "      <td>General health condition</td>\n",
       "    </tr>\n",
       "    <tr>\n",
       "      <th>10</th>\n",
       "      <td>HSQ520</td>\n",
       "      <td>0.012729</td>\n",
       "      <td>SP have flu, pneumonia, ear infection?</td>\n",
       "    </tr>\n",
       "    <tr>\n",
       "      <th>11</th>\n",
       "      <td>HSD010</td>\n",
       "      <td>0.012642</td>\n",
       "      <td>General health condition</td>\n",
       "    </tr>\n",
       "    <tr>\n",
       "      <th>12</th>\n",
       "      <td>HSQ590</td>\n",
       "      <td>0.012171</td>\n",
       "      <td>Blood ever tested for HIV virus?</td>\n",
       "    </tr>\n",
       "    <tr>\n",
       "      <th>13</th>\n",
       "      <td>MCQ300A</td>\n",
       "      <td>0.012094</td>\n",
       "      <td>NaN</td>\n",
       "    </tr>\n",
       "    <tr>\n",
       "      <th>14</th>\n",
       "      <td>DR1TKCAL</td>\n",
       "      <td>0.011823</td>\n",
       "      <td>Energy (kcal)</td>\n",
       "    </tr>\n",
       "    <tr>\n",
       "      <th>15</th>\n",
       "      <td>DR1TNIAC</td>\n",
       "      <td>0.011164</td>\n",
       "      <td>Niacin (mg)</td>\n",
       "    </tr>\n",
       "    <tr>\n",
       "      <th>16</th>\n",
       "      <td>DR1TTFAT</td>\n",
       "      <td>0.010444</td>\n",
       "      <td>Total fat (gm)</td>\n",
       "    </tr>\n",
       "    <tr>\n",
       "      <th>17</th>\n",
       "      <td>DR1TS140</td>\n",
       "      <td>0.010167</td>\n",
       "      <td>SFA 14:0 (Tetradecanoic) (gm)</td>\n",
       "    </tr>\n",
       "    <tr>\n",
       "      <th>18</th>\n",
       "      <td>HUQ041</td>\n",
       "      <td>0.009862</td>\n",
       "      <td>Type place most often go for healthcare</td>\n",
       "    </tr>\n",
       "    <tr>\n",
       "      <th>19</th>\n",
       "      <td>IMQ020</td>\n",
       "      <td>0.008794</td>\n",
       "      <td>Received Hepatitis B 3 dose series</td>\n",
       "    </tr>\n",
       "    <tr>\n",
       "      <th>20</th>\n",
       "      <td>DR1TALCO</td>\n",
       "      <td>0.008750</td>\n",
       "      <td>Alcohol (gm)</td>\n",
       "    </tr>\n",
       "    <tr>\n",
       "      <th>21</th>\n",
       "      <td>FSDAD</td>\n",
       "      <td>0.008715</td>\n",
       "      <td>Adult food security category</td>\n",
       "    </tr>\n",
       "    <tr>\n",
       "      <th>22</th>\n",
       "      <td>DR1TS120</td>\n",
       "      <td>0.008693</td>\n",
       "      <td>SFA 12:0 (Dodecanoic) (gm)</td>\n",
       "    </tr>\n",
       "    <tr>\n",
       "      <th>23</th>\n",
       "      <td>DMDHREDU</td>\n",
       "      <td>0.008150</td>\n",
       "      <td>HH ref person's education level</td>\n",
       "    </tr>\n",
       "    <tr>\n",
       "      <th>24</th>\n",
       "      <td>CBQ545</td>\n",
       "      <td>0.007789</td>\n",
       "      <td>Would use fast food nutrition info</td>\n",
       "    </tr>\n",
       "    <tr>\n",
       "      <th>25</th>\n",
       "      <td>MCQ092</td>\n",
       "      <td>0.007604</td>\n",
       "      <td>Ever receive blood transfusion</td>\n",
       "    </tr>\n",
       "    <tr>\n",
       "      <th>26</th>\n",
       "      <td>DR1TLZ</td>\n",
       "      <td>0.007599</td>\n",
       "      <td>Lutein + zeaxanthin (mcg)</td>\n",
       "    </tr>\n",
       "    <tr>\n",
       "      <th>27</th>\n",
       "      <td>DR1BWATZ</td>\n",
       "      <td>0.007540</td>\n",
       "      <td>Total bottled water drank yesterday (gm)</td>\n",
       "    </tr>\n",
       "    <tr>\n",
       "      <th>28</th>\n",
       "      <td>DR1TVB6</td>\n",
       "      <td>0.007532</td>\n",
       "      <td>Vitamin B6 (mg)</td>\n",
       "    </tr>\n",
       "    <tr>\n",
       "      <th>29</th>\n",
       "      <td>ALQ101</td>\n",
       "      <td>0.007507</td>\n",
       "      <td>Had at least 12 alcohol drinks/1 yr?</td>\n",
       "    </tr>\n",
       "  </tbody>\n",
       "</table>\n",
       "</div>"
      ],
      "text/plain": [
       "    variable  importance                                     label\n",
       "0     MCQ203    0.032410         Ever been told you have jaundice?\n",
       "1     DIQ180    0.024421         Had blood tested past three years\n",
       "2     PFQ049    0.024374      Limitations keeping you from working\n",
       "3     INQ090    0.023546  Income from Supplemental Security Income\n",
       "4     SXD021    0.020442       Ever had vaginal, anal, or oral sex\n",
       "5     DLQ040    0.016088   Have serious difficulty concentrating ?\n",
       "6     MCQ053    0.014161    Taking treatment for anemia/past 3 mos\n",
       "7   DR1TPROT    0.013444                              Protein (gm)\n",
       "8    MCQ300C    0.013102                                       NaN\n",
       "9     HUQ010    0.012820                  General health condition\n",
       "10    HSQ520    0.012729    SP have flu, pneumonia, ear infection?\n",
       "11    HSD010    0.012642                  General health condition\n",
       "12    HSQ590    0.012171          Blood ever tested for HIV virus?\n",
       "13   MCQ300A    0.012094                                       NaN\n",
       "14  DR1TKCAL    0.011823                             Energy (kcal)\n",
       "15  DR1TNIAC    0.011164                               Niacin (mg)\n",
       "16  DR1TTFAT    0.010444                            Total fat (gm)\n",
       "17  DR1TS140    0.010167             SFA 14:0 (Tetradecanoic) (gm)\n",
       "18    HUQ041    0.009862   Type place most often go for healthcare\n",
       "19    IMQ020    0.008794        Received Hepatitis B 3 dose series\n",
       "20  DR1TALCO    0.008750                              Alcohol (gm)\n",
       "21     FSDAD    0.008715              Adult food security category\n",
       "22  DR1TS120    0.008693                SFA 12:0 (Dodecanoic) (gm)\n",
       "23  DMDHREDU    0.008150           HH ref person's education level\n",
       "24    CBQ545    0.007789        Would use fast food nutrition info\n",
       "25    MCQ092    0.007604            Ever receive blood transfusion\n",
       "26    DR1TLZ    0.007599                 Lutein + zeaxanthin (mcg)\n",
       "27  DR1BWATZ    0.007540  Total bottled water drank yesterday (gm)\n",
       "28   DR1TVB6    0.007532                           Vitamin B6 (mg)\n",
       "29    ALQ101    0.007507      Had at least 12 alcohol drinks/1 yr?"
      ]
     },
     "execution_count": 48,
     "metadata": {},
     "output_type": "execute_result"
    }
   ],
   "source": [
    "df30"
   ]
  },
  {
   "cell_type": "code",
   "execution_count": 49,
   "id": "031ccb7c",
   "metadata": {
    "scrolled": true
   },
   "outputs": [
    {
     "name": "stdout",
     "output_type": "stream",
     "text": [
      "Confusion Matrix (Accuracy 0.9262)\n",
      "\n",
      "       Prediction\n",
      "Actual    0    1\n",
      "     0 1347   14\n",
      "     1   94    8\n"
     ]
    }
   ],
   "source": [
    "#confusion matrix\n",
    "classificationSummary(valid_y, xgboost.predict(valid_X))"
   ]
  },
  {
   "cell_type": "markdown",
   "id": "6adb2f02",
   "metadata": {},
   "source": [
    "## 3.6 Oversampling using synthetic minority over-sampling technique (SMOTE) \n",
    "A problem with imbalanced classification is that there are too few examples of the minority class for a model to effectively learn the decision boundary. One way to solve this problem is to oversample the examples in the minority class. SMOTE works by selecting examples that are close in the feature space, drawing a line between the examples in the feature space and drawing a new sample at a point along that line. Specifically, a random example from the minority class is first chosen. Then k of the nearest neighbors for that example are found (typically k=5). A randomly selected neighbor is chosen and a synthetic example is created at a randomly selected point between the two examples in feature space. (https://machinelearningmastery.com/smote-oversampling-for-imbalanced-classification/)"
   ]
  },
  {
   "cell_type": "code",
   "execution_count": 50,
   "id": "9f94c6a8",
   "metadata": {},
   "outputs": [
    {
     "name": "stdout",
     "output_type": "stream",
     "text": [
      "0.8.1\n"
     ]
    }
   ],
   "source": [
    "import imblearn\n",
    "from collections import Counter\n",
    "from sklearn.datasets import make_classification\n",
    "print(imblearn.__version__)"
   ]
  },
  {
   "cell_type": "code",
   "execution_count": 51,
   "id": "779b90fc",
   "metadata": {},
   "outputs": [],
   "source": [
    "#recreate X,y for moderate depression\n",
    "target=['mod_dep']\n",
    "drop_features= ['phq9',\n",
    "                'SEQN',\n",
    "                'DPQ010', 'DPQ020', 'DPQ030', 'DPQ040', 'DPQ050', 'DPQ060','DPQ070','DPQ080', 'DPQ090', 'DPQ100',\n",
    "               'mild_dep', 'sev_dep', 'suicidal', 'mod_dep']\n",
    "X = df_merge[df_merge.columns.drop(drop_features)]\n",
    "y= df_merge[target]"
   ]
  },
  {
   "cell_type": "code",
   "execution_count": 52,
   "id": "ce41a925",
   "metadata": {
    "scrolled": true
   },
   "outputs": [
    {
     "data": {
      "text/plain": [
       "mod_dep\n",
       "0          3402\n",
       "1           255\n",
       "dtype: int64"
      ]
     },
     "execution_count": 52,
     "metadata": {},
     "output_type": "execute_result"
    }
   ],
   "source": [
    "y.value_counts()"
   ]
  },
  {
   "cell_type": "markdown",
   "id": "d524d823",
   "metadata": {},
   "source": [
    "### The combination of SMOTE and under-sampling (to trim the number of examples in the majority class) performs bettern than plain under-sampling (https://arxiv.org/abs/1106.1813)"
   ]
  },
  {
   "cell_type": "code",
   "execution_count": 53,
   "id": "98dbea68",
   "metadata": {},
   "outputs": [],
   "source": [
    "from imblearn.over_sampling import SMOTE\n",
    "from imblearn.under_sampling import RandomUnderSampler\n",
    "from imblearn.pipeline import Pipeline"
   ]
  },
  {
   "cell_type": "code",
   "execution_count": 54,
   "id": "26ac53c0",
   "metadata": {},
   "outputs": [],
   "source": [
    "#oversample the minority class to have 30% the number of examples of the majority class\n",
    "over = SMOTE(sampling_strategy=0.3)\n",
    "#reduce the number of examples in the majority class to have 50% more than the minority class\n",
    "under = RandomUnderSampler(sampling_strategy=0.5)\n",
    "steps = [('o', over), ('u', under)]\n",
    "pipeline = Pipeline(steps=steps)"
   ]
  },
  {
   "cell_type": "code",
   "execution_count": 55,
   "id": "9fe5ffa6",
   "metadata": {},
   "outputs": [],
   "source": [
    "X, y=pipeline.fit_resample(X, y)"
   ]
  },
  {
   "cell_type": "code",
   "execution_count": 56,
   "id": "3c0a3019",
   "metadata": {},
   "outputs": [
    {
     "data": {
      "text/plain": [
       "mod_dep\n",
       "0          2040\n",
       "1          1020\n",
       "dtype: int64"
      ]
     },
     "execution_count": 56,
     "metadata": {},
     "output_type": "execute_result"
    }
   ],
   "source": [
    "y.value_counts()"
   ]
  },
  {
   "cell_type": "markdown",
   "id": "c7615f49",
   "metadata": {},
   "source": [
    "### Re-run feature selection using the more balanced data "
   ]
  },
  {
   "cell_type": "code",
   "execution_count": 57,
   "id": "ea79dd05",
   "metadata": {},
   "outputs": [
    {
     "name": "stdout",
     "output_type": "stream",
     "text": [
      "Training_X:  (1836, 280)\n",
      "Validation_X:  (1224, 280)\n",
      "Training_y:  (1836, 1)\n",
      "Validation_y:  (1224, 1)\n"
     ]
    }
   ],
   "source": [
    "X_scaled= normalize_data(X)\n",
    "# training and validation sets split, predictors are scaled\n",
    "train_X, valid_X, train_y, valid_y = train_test_split(X_scaled, y, test_size=0.4, random_state=42, stratify=y)\n",
    "print('Training_X: ', train_X.shape)\n",
    "print('Validation_X: ', valid_X.shape)\n",
    "print('Training_y: ', train_y.shape)\n",
    "print('Validation_y: ', valid_y.shape)"
   ]
  },
  {
   "cell_type": "code",
   "execution_count": 58,
   "id": "4930aba6",
   "metadata": {},
   "outputs": [
    {
     "name": "stdout",
     "output_type": "stream",
     "text": [
      "[09:25:06] WARNING: /Users/travis/build/dmlc/xgboost/src/learner.cc:1115: Starting in XGBoost 1.3.0, the default evaluation metric used with the objective 'binary:logistic' was changed from 'error' to 'logloss'. Explicitly set eval_metric if you'd like to restore the old behavior.\n"
     ]
    },
    {
     "name": "stderr",
     "output_type": "stream",
     "text": [
      "/Users/beiw/opt/anaconda3/lib/python3.8/site-packages/xgboost/sklearn.py:1224: UserWarning: The use of label encoder in XGBClassifier is deprecated and will be removed in a future release. To remove this warning, do the following: 1) Pass option use_label_encoder=False when constructing XGBClassifier object; and 2) Encode your labels (y) as integers starting with 0, i.e. 0, 1, 2, ..., [num_class - 1].\n",
      "  warnings.warn(label_encoder_deprecation_msg, UserWarning)\n",
      "/Users/beiw/opt/anaconda3/lib/python3.8/site-packages/sklearn/utils/validation.py:63: DataConversionWarning: A column-vector y was passed when a 1d array was expected. Please change the shape of y to (n_samples, ), for example using ravel().\n",
      "  return f(*args, **kwargs)\n",
      "<ipython-input-58-1ac33277e18d>:9: SettingWithCopyWarning: \n",
      "A value is trying to be set on a copy of a slice from a DataFrame.\n",
      "Try using .loc[row_indexer,col_indexer] = value instead\n",
      "\n",
      "See the caveats in the documentation: https://pandas.pydata.org/pandas-docs/stable/user_guide/indexing.html#returning-a-view-versus-a-copy\n",
      "  df20['variable'] = df20['variable'].apply(lambda x: x.upper())\n"
     ]
    }
   ],
   "source": [
    "xgboost.fit(train_X, train_y)\n",
    "importance= xgboost.feature_importances_\n",
    "columns= df_merge.columns\n",
    "df = pd.DataFrame({'feature': train_X.columns, 'importance': importance})\n",
    "df = df.sort_values('importance', ascending=False)\n",
    "#select top 20 features \n",
    "df20= df[:20]\n",
    "df20.columns=['variable', 'importance']\n",
    "df20['variable'] = df20['variable'].apply(lambda x: x.upper())\n",
    "df20 = pd.merge(left=df20, right=cbook, left_on='variable', right_on='variable', how='left')"
   ]
  },
  {
   "cell_type": "code",
   "execution_count": 59,
   "id": "7bb6ce3c",
   "metadata": {
    "scrolled": true
   },
   "outputs": [
    {
     "data": {
      "text/html": [
       "<div>\n",
       "<style scoped>\n",
       "    .dataframe tbody tr th:only-of-type {\n",
       "        vertical-align: middle;\n",
       "    }\n",
       "\n",
       "    .dataframe tbody tr th {\n",
       "        vertical-align: top;\n",
       "    }\n",
       "\n",
       "    .dataframe thead th {\n",
       "        text-align: right;\n",
       "    }\n",
       "</style>\n",
       "<table border=\"1\" class=\"dataframe\">\n",
       "  <thead>\n",
       "    <tr style=\"text-align: right;\">\n",
       "      <th></th>\n",
       "      <th>variable</th>\n",
       "      <th>importance</th>\n",
       "      <th>label</th>\n",
       "    </tr>\n",
       "  </thead>\n",
       "  <tbody>\n",
       "    <tr>\n",
       "      <th>0</th>\n",
       "      <td>PFQ049</td>\n",
       "      <td>0.139191</td>\n",
       "      <td>Limitations keeping you from working</td>\n",
       "    </tr>\n",
       "    <tr>\n",
       "      <th>1</th>\n",
       "      <td>HSQ520</td>\n",
       "      <td>0.045024</td>\n",
       "      <td>SP have flu, pneumonia, ear infection?</td>\n",
       "    </tr>\n",
       "    <tr>\n",
       "      <th>2</th>\n",
       "      <td>PFQ051</td>\n",
       "      <td>0.036570</td>\n",
       "      <td>Limited in amount of work you can do</td>\n",
       "    </tr>\n",
       "    <tr>\n",
       "      <th>3</th>\n",
       "      <td>HSD010</td>\n",
       "      <td>0.025326</td>\n",
       "      <td>General health condition</td>\n",
       "    </tr>\n",
       "    <tr>\n",
       "      <th>4</th>\n",
       "      <td>DLQ040</td>\n",
       "      <td>0.024613</td>\n",
       "      <td>Have serious difficulty concentrating ?</td>\n",
       "    </tr>\n",
       "    <tr>\n",
       "      <th>5</th>\n",
       "      <td>INQ020</td>\n",
       "      <td>0.024356</td>\n",
       "      <td>Income from wages/salaries</td>\n",
       "    </tr>\n",
       "    <tr>\n",
       "      <th>6</th>\n",
       "      <td>HUQ010</td>\n",
       "      <td>0.023286</td>\n",
       "      <td>General health condition</td>\n",
       "    </tr>\n",
       "    <tr>\n",
       "      <th>7</th>\n",
       "      <td>SLQ060</td>\n",
       "      <td>0.020664</td>\n",
       "      <td>Ever told by doctor have sleep disorder?</td>\n",
       "    </tr>\n",
       "    <tr>\n",
       "      <th>8</th>\n",
       "      <td>MCQ300B</td>\n",
       "      <td>0.015472</td>\n",
       "      <td>NaN</td>\n",
       "    </tr>\n",
       "    <tr>\n",
       "      <th>9</th>\n",
       "      <td>FSDHH</td>\n",
       "      <td>0.014184</td>\n",
       "      <td>Household food security category</td>\n",
       "    </tr>\n",
       "    <tr>\n",
       "      <th>10</th>\n",
       "      <td>DLQ080</td>\n",
       "      <td>0.014038</td>\n",
       "      <td>Have difficulty doing errands alone ?</td>\n",
       "    </tr>\n",
       "    <tr>\n",
       "      <th>11</th>\n",
       "      <td>PFQ057</td>\n",
       "      <td>0.011967</td>\n",
       "      <td>Experience confusion/memory problems</td>\n",
       "    </tr>\n",
       "    <tr>\n",
       "      <th>12</th>\n",
       "      <td>SMQ856</td>\n",
       "      <td>0.011592</td>\n",
       "      <td>Last 7-d worked at job not at home?</td>\n",
       "    </tr>\n",
       "    <tr>\n",
       "      <th>13</th>\n",
       "      <td>FSDAD</td>\n",
       "      <td>0.011337</td>\n",
       "      <td>Adult food security category</td>\n",
       "    </tr>\n",
       "    <tr>\n",
       "      <th>14</th>\n",
       "      <td>SMQ870</td>\n",
       "      <td>0.011324</td>\n",
       "      <td>Last 7-d rode in a car?</td>\n",
       "    </tr>\n",
       "    <tr>\n",
       "      <th>15</th>\n",
       "      <td>MCQ080</td>\n",
       "      <td>0.011252</td>\n",
       "      <td>Doctor ever said you were overweight</td>\n",
       "    </tr>\n",
       "    <tr>\n",
       "      <th>16</th>\n",
       "      <td>MCQ365D</td>\n",
       "      <td>0.010690</td>\n",
       "      <td>Doctor told you to reduce fat/calories</td>\n",
       "    </tr>\n",
       "    <tr>\n",
       "      <th>17</th>\n",
       "      <td>DR1TSELE</td>\n",
       "      <td>0.010578</td>\n",
       "      <td>Selenium (mcg)</td>\n",
       "    </tr>\n",
       "    <tr>\n",
       "      <th>18</th>\n",
       "      <td>HIQ011</td>\n",
       "      <td>0.009609</td>\n",
       "      <td>Covered by health insurance</td>\n",
       "    </tr>\n",
       "    <tr>\n",
       "      <th>19</th>\n",
       "      <td>MCQ053</td>\n",
       "      <td>0.008765</td>\n",
       "      <td>Taking treatment for anemia/past 3 mos</td>\n",
       "    </tr>\n",
       "  </tbody>\n",
       "</table>\n",
       "</div>"
      ],
      "text/plain": [
       "    variable  importance                                     label\n",
       "0     PFQ049    0.139191      Limitations keeping you from working\n",
       "1     HSQ520    0.045024    SP have flu, pneumonia, ear infection?\n",
       "2     PFQ051    0.036570      Limited in amount of work you can do\n",
       "3     HSD010    0.025326                  General health condition\n",
       "4     DLQ040    0.024613   Have serious difficulty concentrating ?\n",
       "5     INQ020    0.024356                Income from wages/salaries\n",
       "6     HUQ010    0.023286                  General health condition\n",
       "7     SLQ060    0.020664  Ever told by doctor have sleep disorder?\n",
       "8    MCQ300B    0.015472                                       NaN\n",
       "9      FSDHH    0.014184          Household food security category\n",
       "10    DLQ080    0.014038     Have difficulty doing errands alone ?\n",
       "11    PFQ057    0.011967      Experience confusion/memory problems\n",
       "12    SMQ856    0.011592       Last 7-d worked at job not at home?\n",
       "13     FSDAD    0.011337              Adult food security category\n",
       "14    SMQ870    0.011324                   Last 7-d rode in a car?\n",
       "15    MCQ080    0.011252      Doctor ever said you were overweight\n",
       "16   MCQ365D    0.010690    Doctor told you to reduce fat/calories\n",
       "17  DR1TSELE    0.010578                            Selenium (mcg)\n",
       "18    HIQ011    0.009609               Covered by health insurance\n",
       "19    MCQ053    0.008765    Taking treatment for anemia/past 3 mos"
      ]
     },
     "execution_count": 59,
     "metadata": {},
     "output_type": "execute_result"
    }
   ],
   "source": [
    "df20"
   ]
  },
  {
   "cell_type": "markdown",
   "id": "16c51ecd",
   "metadata": {},
   "source": [
    "### The classification results are more reasonable after balancing data"
   ]
  },
  {
   "cell_type": "code",
   "execution_count": 60,
   "id": "992d7efc",
   "metadata": {
    "scrolled": true
   },
   "outputs": [
    {
     "name": "stdout",
     "output_type": "stream",
     "text": [
      "Confusion Matrix (Accuracy 0.9338)\n",
      "\n",
      "       Prediction\n",
      "Actual   0   1\n",
      "     0 788  28\n",
      "     1  53 355\n"
     ]
    }
   ],
   "source": [
    "classificationSummary(valid_y, xgboost.predict(valid_X))"
   ]
  },
  {
   "cell_type": "markdown",
   "id": "93ae3a5b",
   "metadata": {},
   "source": [
    "## 3.7 Selected variables and correlation matrix "
   ]
  },
  {
   "cell_type": "code",
   "execution_count": 61,
   "id": "36227111",
   "metadata": {},
   "outputs": [
    {
     "name": "stdout",
     "output_type": "stream",
     "text": [
      "['PFQ049', 'HSQ520', 'PFQ051', 'HSD010', 'DLQ040', 'INQ020', 'HUQ010', 'SLQ060', 'MCQ300B', 'FSDHH', 'DLQ080', 'PFQ057', 'SMQ856', 'FSDAD', 'SMQ870', 'MCQ080', 'MCQ365D', 'DR1TSELE', 'HIQ011', 'MCQ053', 'mod_dep']\n"
     ]
    }
   ],
   "source": [
    "var_list= df20.variable.tolist()\n",
    "var_list.append('mod_dep')\n",
    "print(var_list)"
   ]
  },
  {
   "cell_type": "code",
   "execution_count": 62,
   "id": "1c110af3",
   "metadata": {},
   "outputs": [],
   "source": [
    "#final df\n",
    "y_final= y.filter(var_list)\n",
    "X_final= X.filter(var_list)"
   ]
  },
  {
   "cell_type": "code",
   "execution_count": 63,
   "id": "b2209b7d",
   "metadata": {},
   "outputs": [
    {
     "name": "stdout",
     "output_type": "stream",
     "text": [
      "<class 'pandas.core.frame.DataFrame'>\n",
      "RangeIndex: 3060 entries, 0 to 3059\n",
      "Data columns (total 20 columns):\n",
      " #   Column    Non-Null Count  Dtype  \n",
      "---  ------    --------------  -----  \n",
      " 0   PFQ049    3060 non-null   float64\n",
      " 1   HSQ520    3060 non-null   float64\n",
      " 2   PFQ051    3060 non-null   float64\n",
      " 3   HSD010    3060 non-null   float64\n",
      " 4   DLQ040    3060 non-null   float64\n",
      " 5   INQ020    3060 non-null   float64\n",
      " 6   HUQ010    3060 non-null   float64\n",
      " 7   SLQ060    3060 non-null   float64\n",
      " 8   MCQ300B   3060 non-null   float64\n",
      " 9   FSDHH     3060 non-null   float64\n",
      " 10  DLQ080    3060 non-null   float64\n",
      " 11  PFQ057    3060 non-null   float64\n",
      " 12  SMQ856    3060 non-null   float64\n",
      " 13  FSDAD     3060 non-null   float64\n",
      " 14  SMQ870    3060 non-null   float64\n",
      " 15  MCQ080    3060 non-null   float64\n",
      " 16  MCQ365D   3060 non-null   float64\n",
      " 17  DR1TSELE  3060 non-null   float64\n",
      " 18  HIQ011    3060 non-null   float64\n",
      " 19  MCQ053    3060 non-null   float64\n",
      "dtypes: float64(20)\n",
      "memory usage: 478.2 KB\n"
     ]
    }
   ],
   "source": [
    "X_final.info()"
   ]
  },
  {
   "cell_type": "code",
   "execution_count": 64,
   "id": "c8ddd8bd",
   "metadata": {},
   "outputs": [
    {
     "data": {
      "text/plain": [
       "<AxesSubplot:>"
      ]
     },
     "execution_count": 64,
     "metadata": {},
     "output_type": "execute_result"
    },
    {
     "data": {
      "image/png": "[encoded data removed]",
      "text/plain": [
       "<Figure size 720x720 with 2 Axes>"
      ]
     },
     "metadata": {
      "needs_background": "light"
     },
     "output_type": "display_data"
    }
   ],
   "source": [
    "ax=plt.subplots(figsize=(10,10))\n",
    "corr=X_final.corr()\n",
    "sns.heatmap(corr, cmap=sns.cm.rocket_r)"
   ]
  },
  {
   "cell_type": "code",
   "execution_count": 65,
   "id": "d3d3df09",
   "metadata": {},
   "outputs": [],
   "source": [
    "#get highly correlated pairs, ranked by absolute correlation values \n",
    "def get_redundant_pairs(df):\n",
    "    '''Get diagonal and lower triangular pairs of correlation matrix'''\n",
    "    pairs_to_drop = set()\n",
    "    cols = df.columns\n",
    "    for i in range(0, df.shape[1]):\n",
    "        for j in range(0, i+1):\n",
    "            pairs_to_drop.add((cols[i], cols[j]))\n",
    "    return pairs_to_drop\n",
    "\n",
    "def get_top_abs_correlations(df, n=5):\n",
    "    au_corr = df.corr().abs().unstack()\n",
    "    labels_to_drop = get_redundant_pairs(df)\n",
    "    au_corr = au_corr.drop(labels=labels_to_drop).sort_values(ascending=False)\n",
    "    return au_corr[0:n]"
   ]
  },
  {
   "cell_type": "code",
   "execution_count": 66,
   "id": "ec9256d1",
   "metadata": {},
   "outputs": [
    {
     "data": {
      "text/plain": [
       "FSDHH   FSDAD      0.987901\n",
       "PFQ049  PFQ051     0.746637\n",
       "HSD010  HUQ010     0.714833\n",
       "DLQ040  PFQ057     0.596463\n",
       "PFQ049  DLQ080     0.516978\n",
       "PFQ051  DLQ080     0.504094\n",
       "PFQ049  PFQ057     0.484363\n",
       "PFQ051  PFQ057     0.481912\n",
       "INQ020  SMQ856     0.478354\n",
       "MCQ080  MCQ365D    0.469357\n",
       "dtype: float64"
      ]
     },
     "execution_count": 66,
     "metadata": {},
     "output_type": "execute_result"
    }
   ],
   "source": [
    "get_top_abs_correlations(X_final, 10)"
   ]
  },
  {
   "cell_type": "markdown",
   "id": "b64bc919",
   "metadata": {},
   "source": [
    "### Narrowed down to 20 predictors; some of them are correlated but we can drop later."
   ]
  },
  {
   "cell_type": "code",
   "execution_count": 67,
   "id": "a8041ec2",
   "metadata": {},
   "outputs": [
    {
     "data": {
      "text/plain": [
       "(3060, 20)"
      ]
     },
     "execution_count": 67,
     "metadata": {},
     "output_type": "execute_result"
    }
   ],
   "source": [
    "X_final.shape"
   ]
  },
  {
   "cell_type": "markdown",
   "id": "3e48ed54",
   "metadata": {},
   "source": [
    "note: \n",
    "delete general health duplicate \n"
   ]
  },
  {
   "cell_type": "markdown",
   "id": "962cf911",
   "metadata": {},
   "source": [
    "# 4. Shortlist promising models "
   ]
  },
  {
   "cell_type": "code",
   "execution_count": 68,
   "id": "b3c75cb5",
   "metadata": {},
   "outputs": [
    {
     "name": "stdout",
     "output_type": "stream",
     "text": [
      "Training_X:  (1836, 20)\n",
      "Validation_X:  (1224, 20)\n",
      "Training_y:  (1836, 1)\n",
      "Validation_y:  (1224, 1)\n"
     ]
    }
   ],
   "source": [
    "#final dataset (after balancing and feature selection)\n",
    "train_X, valid_X, train_y, valid_y = train_test_split(X_final, y_final, test_size=0.4, random_state=42, stratify=y)\n",
    "print('Training_X: ', train_X.shape)\n",
    "print('Validation_X: ', valid_X.shape)\n",
    "print('Training_y: ', train_y.shape)\n",
    "print('Validation_y: ', valid_y.shape)"
   ]
  },
  {
   "cell_type": "markdown",
   "id": "cc322489",
   "metadata": {},
   "source": [
    "## 4.1 Baseline model: logistic regression "
   ]
  },
  {
   "cell_type": "code",
   "execution_count": 69,
   "id": "3b7911ed",
   "metadata": {},
   "outputs": [
    {
     "name": "stderr",
     "output_type": "stream",
     "text": [
      "/Users/beiw/opt/anaconda3/lib/python3.8/site-packages/sklearn/utils/validation.py:63: DataConversionWarning: A column-vector y was passed when a 1d array was expected. Please change the shape of y to (n_samples, ), for example using ravel().\n",
      "  return f(*args, **kwargs)\n",
      "/Users/beiw/opt/anaconda3/lib/python3.8/site-packages/sklearn/linear_model/_logistic.py:763: ConvergenceWarning: lbfgs failed to converge (status=1):\n",
      "STOP: TOTAL NO. of ITERATIONS REACHED LIMIT.\n",
      "\n",
      "Increase the number of iterations (max_iter) or scale the data as shown in:\n",
      "    https://scikit-learn.org/stable/modules/preprocessing.html\n",
      "Please also refer to the documentation for alternative solver options:\n",
      "    https://scikit-learn.org/stable/modules/linear_model.html#logistic-regression\n",
      "  n_iter_i = _check_optimize_result(\n"
     ]
    },
    {
     "data": {
      "text/plain": [
       "LogisticRegression()"
      ]
     },
     "execution_count": 69,
     "metadata": {},
     "output_type": "execute_result"
    }
   ],
   "source": [
    "logit=LogisticRegression()\n",
    "logit.fit(train_X, train_y)"
   ]
  },
  {
   "cell_type": "code",
   "execution_count": 70,
   "id": "3ba5fdb5",
   "metadata": {},
   "outputs": [],
   "source": [
    "coef= logit.coef_\n",
    "coef= coef.flatten()\n",
    "columns= train_X.columns\n",
    "df = pd.DataFrame({'feature': columns, \n",
    "                   'coefficients': coef})\n",
    "df = df.sort_values('coefficients', ascending=False)\n",
    "df.columns=['variable', 'coefficients']\n",
    "df['variable'] = df['variable'].apply(lambda x: x.upper())\n",
    "df = pd.merge(left=df, right=cbook, left_on='variable', right_on='variable', how='left')"
   ]
  },
  {
   "cell_type": "code",
   "execution_count": 71,
   "id": "0ad01422",
   "metadata": {
    "scrolled": true
   },
   "outputs": [
    {
     "data": {
      "text/html": [
       "<div>\n",
       "<style scoped>\n",
       "    .dataframe tbody tr th:only-of-type {\n",
       "        vertical-align: middle;\n",
       "    }\n",
       "\n",
       "    .dataframe tbody tr th {\n",
       "        vertical-align: top;\n",
       "    }\n",
       "\n",
       "    .dataframe thead th {\n",
       "        text-align: right;\n",
       "    }\n",
       "</style>\n",
       "<table border=\"1\" class=\"dataframe\">\n",
       "  <thead>\n",
       "    <tr style=\"text-align: right;\">\n",
       "      <th></th>\n",
       "      <th>variable</th>\n",
       "      <th>coefficients</th>\n",
       "      <th>label</th>\n",
       "    </tr>\n",
       "  </thead>\n",
       "  <tbody>\n",
       "    <tr>\n",
       "      <th>0</th>\n",
       "      <td>HSD010</td>\n",
       "      <td>0.589439</td>\n",
       "      <td>General health condition</td>\n",
       "    </tr>\n",
       "    <tr>\n",
       "      <th>1</th>\n",
       "      <td>FSDAD</td>\n",
       "      <td>0.560819</td>\n",
       "      <td>Adult food security category</td>\n",
       "    </tr>\n",
       "    <tr>\n",
       "      <th>2</th>\n",
       "      <td>HIQ011</td>\n",
       "      <td>0.539325</td>\n",
       "      <td>Covered by health insurance</td>\n",
       "    </tr>\n",
       "    <tr>\n",
       "      <th>3</th>\n",
       "      <td>MCQ053</td>\n",
       "      <td>0.391264</td>\n",
       "      <td>Taking treatment for anemia/past 3 mos</td>\n",
       "    </tr>\n",
       "    <tr>\n",
       "      <th>4</th>\n",
       "      <td>HUQ010</td>\n",
       "      <td>0.367484</td>\n",
       "      <td>General health condition</td>\n",
       "    </tr>\n",
       "    <tr>\n",
       "      <th>5</th>\n",
       "      <td>SMQ856</td>\n",
       "      <td>0.143682</td>\n",
       "      <td>Last 7-d worked at job not at home?</td>\n",
       "    </tr>\n",
       "    <tr>\n",
       "      <th>6</th>\n",
       "      <td>SMQ870</td>\n",
       "      <td>0.122946</td>\n",
       "      <td>Last 7-d rode in a car?</td>\n",
       "    </tr>\n",
       "    <tr>\n",
       "      <th>7</th>\n",
       "      <td>PFQ051</td>\n",
       "      <td>0.002001</td>\n",
       "      <td>Limited in amount of work you can do</td>\n",
       "    </tr>\n",
       "    <tr>\n",
       "      <th>8</th>\n",
       "      <td>DR1TSELE</td>\n",
       "      <td>-0.001838</td>\n",
       "      <td>Selenium (mcg)</td>\n",
       "    </tr>\n",
       "    <tr>\n",
       "      <th>9</th>\n",
       "      <td>INQ020</td>\n",
       "      <td>-0.021071</td>\n",
       "      <td>Income from wages/salaries</td>\n",
       "    </tr>\n",
       "    <tr>\n",
       "      <th>10</th>\n",
       "      <td>MCQ080</td>\n",
       "      <td>-0.035121</td>\n",
       "      <td>Doctor ever said you were overweight</td>\n",
       "    </tr>\n",
       "    <tr>\n",
       "      <th>11</th>\n",
       "      <td>PFQ057</td>\n",
       "      <td>-0.094744</td>\n",
       "      <td>Experience confusion/memory problems</td>\n",
       "    </tr>\n",
       "    <tr>\n",
       "      <th>12</th>\n",
       "      <td>MCQ300B</td>\n",
       "      <td>-0.139451</td>\n",
       "      <td>NaN</td>\n",
       "    </tr>\n",
       "    <tr>\n",
       "      <th>13</th>\n",
       "      <td>FSDHH</td>\n",
       "      <td>-0.289661</td>\n",
       "      <td>Household food security category</td>\n",
       "    </tr>\n",
       "    <tr>\n",
       "      <th>14</th>\n",
       "      <td>DLQ080</td>\n",
       "      <td>-0.345001</td>\n",
       "      <td>Have difficulty doing errands alone ?</td>\n",
       "    </tr>\n",
       "    <tr>\n",
       "      <th>15</th>\n",
       "      <td>HSQ520</td>\n",
       "      <td>-0.412070</td>\n",
       "      <td>SP have flu, pneumonia, ear infection?</td>\n",
       "    </tr>\n",
       "    <tr>\n",
       "      <th>16</th>\n",
       "      <td>SLQ060</td>\n",
       "      <td>-0.423220</td>\n",
       "      <td>Ever told by doctor have sleep disorder?</td>\n",
       "    </tr>\n",
       "    <tr>\n",
       "      <th>17</th>\n",
       "      <td>MCQ365D</td>\n",
       "      <td>-0.477857</td>\n",
       "      <td>Doctor told you to reduce fat/calories</td>\n",
       "    </tr>\n",
       "    <tr>\n",
       "      <th>18</th>\n",
       "      <td>PFQ049</td>\n",
       "      <td>-0.824406</td>\n",
       "      <td>Limitations keeping you from working</td>\n",
       "    </tr>\n",
       "    <tr>\n",
       "      <th>19</th>\n",
       "      <td>DLQ040</td>\n",
       "      <td>-1.054813</td>\n",
       "      <td>Have serious difficulty concentrating ?</td>\n",
       "    </tr>\n",
       "  </tbody>\n",
       "</table>\n",
       "</div>"
      ],
      "text/plain": [
       "    variable  coefficients                                     label\n",
       "0     HSD010      0.589439                  General health condition\n",
       "1      FSDAD      0.560819              Adult food security category\n",
       "2     HIQ011      0.539325               Covered by health insurance\n",
       "3     MCQ053      0.391264    Taking treatment for anemia/past 3 mos\n",
       "4     HUQ010      0.367484                  General health condition\n",
       "5     SMQ856      0.143682       Last 7-d worked at job not at home?\n",
       "6     SMQ870      0.122946                   Last 7-d rode in a car?\n",
       "7     PFQ051      0.002001      Limited in amount of work you can do\n",
       "8   DR1TSELE     -0.001838                            Selenium (mcg)\n",
       "9     INQ020     -0.021071                Income from wages/salaries\n",
       "10    MCQ080     -0.035121      Doctor ever said you were overweight\n",
       "11    PFQ057     -0.094744      Experience confusion/memory problems\n",
       "12   MCQ300B     -0.139451                                       NaN\n",
       "13     FSDHH     -0.289661          Household food security category\n",
       "14    DLQ080     -0.345001     Have difficulty doing errands alone ?\n",
       "15    HSQ520     -0.412070    SP have flu, pneumonia, ear infection?\n",
       "16    SLQ060     -0.423220  Ever told by doctor have sleep disorder?\n",
       "17   MCQ365D     -0.477857    Doctor told you to reduce fat/calories\n",
       "18    PFQ049     -0.824406      Limitations keeping you from working\n",
       "19    DLQ040     -1.054813   Have serious difficulty concentrating ?"
      ]
     },
     "execution_count": 71,
     "metadata": {},
     "output_type": "execute_result"
    }
   ],
   "source": [
    "df"
   ]
  },
  {
   "cell_type": "code",
   "execution_count": 72,
   "id": "2c2afc1f",
   "metadata": {},
   "outputs": [
    {
     "name": "stdout",
     "output_type": "stream",
     "text": [
      "Accuracy: 0.797 (0.023)\n"
     ]
    }
   ],
   "source": [
    "from sklearn.model_selection import KFold, cross_val_score\n",
    "from numpy import mean\n",
    "from numpy import std\n",
    "#cross-validation \n",
    "cv = KFold(n_splits=10, random_state=1, shuffle=True)\n",
    "# evaluate model\n",
    "scores = cross_val_score(logit, train_X,train_y, scoring='accuracy', cv=cv, n_jobs=-1)\n",
    "# report performance\n",
    "print('Accuracy: %.3f (%.3f)' % (mean(scores), std(scores)))"
   ]
  },
  {
   "cell_type": "code",
   "execution_count": 73,
   "id": "0a330f04",
   "metadata": {},
   "outputs": [
    {
     "name": "stdout",
     "output_type": "stream",
     "text": [
      "Optimization terminated successfully.\n",
      "         Current function value: 0.431236\n",
      "         Iterations 6\n"
     ]
    },
    {
     "data": {
      "text/html": [
       "<table class=\"simpletable\">\n",
       "<caption>Logit Regression Results</caption>\n",
       "<tr>\n",
       "  <th>Dep. Variable:</th>        <td>mod_dep</td>     <th>  No. Observations:  </th>   <td>  1836</td>  \n",
       "</tr>\n",
       "<tr>\n",
       "  <th>Model:</th>                 <td>Logit</td>      <th>  Df Residuals:      </th>   <td>  1816</td>  \n",
       "</tr>\n",
       "<tr>\n",
       "  <th>Method:</th>                 <td>MLE</td>       <th>  Df Model:          </th>   <td>    19</td>  \n",
       "</tr>\n",
       "<tr>\n",
       "  <th>Date:</th>            <td>Tue, 30 Nov 2021</td> <th>  Pseudo R-squ.:     </th>   <td>0.3225</td>  \n",
       "</tr>\n",
       "<tr>\n",
       "  <th>Time:</th>                <td>09:25:10</td>     <th>  Log-Likelihood:    </th>  <td> -791.75</td> \n",
       "</tr>\n",
       "<tr>\n",
       "  <th>converged:</th>             <td>True</td>       <th>  LL-Null:           </th>  <td> -1168.6</td> \n",
       "</tr>\n",
       "<tr>\n",
       "  <th>Covariance Type:</th>     <td>nonrobust</td>    <th>  LLR p-value:       </th> <td>1.410e-147</td>\n",
       "</tr>\n",
       "</table>\n",
       "<table class=\"simpletable\">\n",
       "<tr>\n",
       "      <td></td>        <th>coef</th>     <th>std err</th>      <th>z</th>      <th>P>|z|</th>  <th>[0.025</th>    <th>0.975]</th>  \n",
       "</tr>\n",
       "<tr>\n",
       "  <th>PFQ049</th>   <td>   -0.7908</td> <td>    0.213</td> <td>   -3.717</td> <td> 0.000</td> <td>   -1.208</td> <td>   -0.374</td>\n",
       "</tr>\n",
       "<tr>\n",
       "  <th>HSQ520</th>   <td>   -0.3092</td> <td>    0.254</td> <td>   -1.218</td> <td> 0.223</td> <td>   -0.807</td> <td>    0.188</td>\n",
       "</tr>\n",
       "<tr>\n",
       "  <th>PFQ051</th>   <td>   -0.0129</td> <td>    0.213</td> <td>   -0.061</td> <td> 0.952</td> <td>   -0.430</td> <td>    0.404</td>\n",
       "</tr>\n",
       "<tr>\n",
       "  <th>HSD010</th>   <td>    0.6337</td> <td>    0.095</td> <td>    6.671</td> <td> 0.000</td> <td>    0.448</td> <td>    0.820</td>\n",
       "</tr>\n",
       "<tr>\n",
       "  <th>DLQ040</th>   <td>   -1.0916</td> <td>    0.183</td> <td>   -5.970</td> <td> 0.000</td> <td>   -1.450</td> <td>   -0.733</td>\n",
       "</tr>\n",
       "<tr>\n",
       "  <th>INQ020</th>   <td>   -0.0521</td> <td>    0.168</td> <td>   -0.311</td> <td> 0.756</td> <td>   -0.380</td> <td>    0.276</td>\n",
       "</tr>\n",
       "<tr>\n",
       "  <th>HUQ010</th>   <td>    0.3617</td> <td>    0.090</td> <td>    4.007</td> <td> 0.000</td> <td>    0.185</td> <td>    0.539</td>\n",
       "</tr>\n",
       "<tr>\n",
       "  <th>SLQ060</th>   <td>   -0.4364</td> <td>    0.167</td> <td>   -2.620</td> <td> 0.009</td> <td>   -0.763</td> <td>   -0.110</td>\n",
       "</tr>\n",
       "<tr>\n",
       "  <th>MCQ300B</th>  <td>   -0.1444</td> <td>    0.152</td> <td>   -0.951</td> <td> 0.342</td> <td>   -0.442</td> <td>    0.153</td>\n",
       "</tr>\n",
       "<tr>\n",
       "  <th>FSDHH</th>    <td>   -0.5023</td> <td>    0.361</td> <td>   -1.393</td> <td> 0.164</td> <td>   -1.209</td> <td>    0.204</td>\n",
       "</tr>\n",
       "<tr>\n",
       "  <th>DLQ080</th>   <td>   -0.2845</td> <td>    0.210</td> <td>   -1.356</td> <td> 0.175</td> <td>   -0.696</td> <td>    0.127</td>\n",
       "</tr>\n",
       "<tr>\n",
       "  <th>PFQ057</th>   <td>   -0.1104</td> <td>    0.203</td> <td>   -0.543</td> <td> 0.587</td> <td>   -0.509</td> <td>    0.288</td>\n",
       "</tr>\n",
       "<tr>\n",
       "  <th>SMQ856</th>   <td>    0.2037</td> <td>    0.160</td> <td>    1.273</td> <td> 0.203</td> <td>   -0.110</td> <td>    0.517</td>\n",
       "</tr>\n",
       "<tr>\n",
       "  <th>FSDAD</th>    <td>    0.7629</td> <td>    0.353</td> <td>    2.163</td> <td> 0.031</td> <td>    0.072</td> <td>    1.454</td>\n",
       "</tr>\n",
       "<tr>\n",
       "  <th>SMQ870</th>   <td>    0.1555</td> <td>    0.172</td> <td>    0.905</td> <td> 0.365</td> <td>   -0.181</td> <td>    0.492</td>\n",
       "</tr>\n",
       "<tr>\n",
       "  <th>MCQ080</th>   <td>   -0.0205</td> <td>    0.150</td> <td>   -0.137</td> <td> 0.891</td> <td>   -0.314</td> <td>    0.273</td>\n",
       "</tr>\n",
       "<tr>\n",
       "  <th>MCQ365D</th>  <td>   -0.5287</td> <td>    0.153</td> <td>   -3.447</td> <td> 0.001</td> <td>   -0.829</td> <td>   -0.228</td>\n",
       "</tr>\n",
       "<tr>\n",
       "  <th>DR1TSELE</th> <td>   -0.0018</td> <td>    0.001</td> <td>   -1.734</td> <td> 0.083</td> <td>   -0.004</td> <td>    0.000</td>\n",
       "</tr>\n",
       "<tr>\n",
       "  <th>HIQ011</th>   <td>    0.6656</td> <td>    0.166</td> <td>    3.999</td> <td> 0.000</td> <td>    0.339</td> <td>    0.992</td>\n",
       "</tr>\n",
       "<tr>\n",
       "  <th>MCQ053</th>   <td>    0.4412</td> <td>    0.260</td> <td>    1.697</td> <td> 0.090</td> <td>   -0.068</td> <td>    0.951</td>\n",
       "</tr>\n",
       "</table>"
      ],
      "text/plain": [
       "<class 'statsmodels.iolib.summary.Summary'>\n",
       "\"\"\"\n",
       "                           Logit Regression Results                           \n",
       "==============================================================================\n",
       "Dep. Variable:                mod_dep   No. Observations:                 1836\n",
       "Model:                          Logit   Df Residuals:                     1816\n",
       "Method:                           MLE   Df Model:                           19\n",
       "Date:                Tue, 30 Nov 2021   Pseudo R-squ.:                  0.3225\n",
       "Time:                        09:25:10   Log-Likelihood:                -791.75\n",
       "converged:                       True   LL-Null:                       -1168.6\n",
       "Covariance Type:            nonrobust   LLR p-value:                1.410e-147\n",
       "==============================================================================\n",
       "                 coef    std err          z      P>|z|      [0.025      0.975]\n",
       "------------------------------------------------------------------------------\n",
       "PFQ049        -0.7908      0.213     -3.717      0.000      -1.208      -0.374\n",
       "HSQ520        -0.3092      0.254     -1.218      0.223      -0.807       0.188\n",
       "PFQ051        -0.0129      0.213     -0.061      0.952      -0.430       0.404\n",
       "HSD010         0.6337      0.095      6.671      0.000       0.448       0.820\n",
       "DLQ040        -1.0916      0.183     -5.970      0.000      -1.450      -0.733\n",
       "INQ020        -0.0521      0.168     -0.311      0.756      -0.380       0.276\n",
       "HUQ010         0.3617      0.090      4.007      0.000       0.185       0.539\n",
       "SLQ060        -0.4364      0.167     -2.620      0.009      -0.763      -0.110\n",
       "MCQ300B       -0.1444      0.152     -0.951      0.342      -0.442       0.153\n",
       "FSDHH         -0.5023      0.361     -1.393      0.164      -1.209       0.204\n",
       "DLQ080        -0.2845      0.210     -1.356      0.175      -0.696       0.127\n",
       "PFQ057        -0.1104      0.203     -0.543      0.587      -0.509       0.288\n",
       "SMQ856         0.2037      0.160      1.273      0.203      -0.110       0.517\n",
       "FSDAD          0.7629      0.353      2.163      0.031       0.072       1.454\n",
       "SMQ870         0.1555      0.172      0.905      0.365      -0.181       0.492\n",
       "MCQ080        -0.0205      0.150     -0.137      0.891      -0.314       0.273\n",
       "MCQ365D       -0.5287      0.153     -3.447      0.001      -0.829      -0.228\n",
       "DR1TSELE      -0.0018      0.001     -1.734      0.083      -0.004       0.000\n",
       "HIQ011         0.6656      0.166      3.999      0.000       0.339       0.992\n",
       "MCQ053         0.4412      0.260      1.697      0.090      -0.068       0.951\n",
       "==============================================================================\n",
       "\"\"\""
      ]
     },
     "execution_count": 73,
     "metadata": {},
     "output_type": "execute_result"
    }
   ],
   "source": [
    "import statsmodels.api as sm\n",
    "logit= sm.Logit(train_y, train_X).fit()\n",
    "logit.summary()"
   ]
  },
  {
   "cell_type": "markdown",
   "id": "ff56fdc2",
   "metadata": {},
   "source": [
    "note: add p values"
   ]
  },
  {
   "cell_type": "markdown",
   "id": "052e7dcb",
   "metadata": {},
   "source": [
    "## Cross-validation steps\n",
    "https://machinelearningmastery.com/how-to-configure-k-fold-cross-validation/\n",
    "cross-validation steps: first 3 steps are done using the training set; the test set will be held out till the end\n",
    "1. training dataset is used to train a few candidate models \n",
    "2. validation dataset is used to evaluate the candidate models\n",
    "3. one of the candidates is chosen\n",
    "4. the chosen model is trained with a new training dataset\n",
    "5. the trained model is evaluated with the test dataset"
   ]
  },
  {
   "cell_type": "markdown",
   "id": "d87540dd",
   "metadata": {},
   "source": [
    "## 4.2 Decision tree classifier"
   ]
  },
  {
   "cell_type": "code",
   "execution_count": 74,
   "id": "24e613cb",
   "metadata": {},
   "outputs": [
    {
     "name": "stdout",
     "output_type": "stream",
     "text": [
      "initial score:  0.881249259566402\n",
      "parameters:  {'criterion': 'gini', 'max_depth': 9, 'min_samples_split': 5, 'splitter': 'best'}\n"
     ]
    }
   ],
   "source": [
    "from sklearn.tree import DecisionTreeClassifier\n",
    "from sklearn.model_selection import train_test_split,cross_val_score,GridSearchCV,RandomizedSearchCV \n",
    "\n",
    "param_grid = {\n",
    "    'criterion': ['gini', 'entropy'],\n",
    "    'splitter': ['best', 'random'],\n",
    "    'max_depth': list(range(2,10)), \n",
    "    'min_samples_split': list(range(2,6))\n",
    "}\n",
    "\n",
    "gridSearch = GridSearchCV(DecisionTreeClassifier(random_state=42), param_grid, cv=5, \n",
    "                          n_jobs=-1)\n",
    "gridSearch.fit(train_X, train_y)\n",
    "print('initial score: ', gridSearch.best_score_)\n",
    "print('parameters: ', gridSearch.best_params_)\n",
    "\n",
    "bestClassTree = gridSearch.best_estimator_"
   ]
  },
  {
   "cell_type": "code",
   "execution_count": 75,
   "id": "1b144504",
   "metadata": {},
   "outputs": [
    {
     "name": "stdout",
     "output_type": "stream",
     "text": [
      "Accuracy: 0.879 (0.024)\n"
     ]
    }
   ],
   "source": [
    "#cross-validation using training set\n",
    "cv = KFold(n_splits=10, random_state=1, shuffle=True)\n",
    "# evaluate model\n",
    "scores = cross_val_score(bestClassTree, train_X,train_y, scoring='accuracy', cv=cv, n_jobs=-1)\n",
    "# report performance\n",
    "print('Accuracy: %.3f (%.3f)' % (mean(scores), std(scores)))"
   ]
  },
  {
   "cell_type": "markdown",
   "id": "e5c365e0",
   "metadata": {},
   "source": [
    "## 4.3 Nearest neighbor"
   ]
  },
  {
   "cell_type": "code",
   "execution_count": 77,
   "id": "cbfa7c31",
   "metadata": {},
   "outputs": [],
   "source": [
    "# from sklearn.neighbors import NearestNeighbors\n",
    "\n",
    "# param_grid = {\n",
    "#     'n_neighbors': list(range(2,7)),\n",
    "#     'radius': [1, 1.2, 1.5, 2],\n",
    "#     'leaf_size': [25,30, 35] \n",
    "# }\n",
    "\n",
    "# gridSearch = GridSearchCV(NearestNeighbors(), param_grid, cv=5, \n",
    "#                           n_jobs=-1)\n",
    "# gridSearch.fit(train_X, train_y)\n",
    "# print('initial score: ', gridSearch.best_score_)\n",
    "# print('parameters: ', gridSearch.best_params_)\n",
    "\n",
    "# bestClassTree = gridSearch.best_estimator_"
   ]
  },
  {
   "cell_type": "markdown",
   "id": "a90329be",
   "metadata": {},
   "source": [
    "## 4.4 SMV classification"
   ]
  },
  {
   "cell_type": "code",
   "execution_count": 78,
   "id": "f7c7aab3",
   "metadata": {
    "scrolled": true
   },
   "outputs": [
    {
     "name": "stdout",
     "output_type": "stream",
     "text": [
      "initial score:  0.7685093590806776\n",
      "parameters:  {'C': 1.5, 'loss': 'squared_hinge', 'penalty': 'l2'}\n"
     ]
    },
    {
     "name": "stderr",
     "output_type": "stream",
     "text": [
      "/Users/beiw/opt/anaconda3/lib/python3.8/site-packages/sklearn/model_selection/_search.py:918: UserWarning: One or more of the test scores are non-finite: [       nan 0.73694023        nan 0.70148827        nan 0.68408956\n",
      "        nan 0.74017           nan 0.60355852        nan 0.76850936\n",
      "        nan 0.63499585        nan 0.68536311]\n",
      "  warnings.warn(\n",
      "/Users/beiw/opt/anaconda3/lib/python3.8/site-packages/sklearn/utils/validation.py:63: DataConversionWarning: A column-vector y was passed when a 1d array was expected. Please change the shape of y to (n_samples, ), for example using ravel().\n",
      "  return f(*args, **kwargs)\n",
      "/Users/beiw/opt/anaconda3/lib/python3.8/site-packages/sklearn/svm/_base.py:985: ConvergenceWarning: Liblinear failed to converge, increase the number of iterations.\n",
      "  warnings.warn(\"Liblinear failed to converge, increase \"\n"
     ]
    }
   ],
   "source": [
    "from sklearn.svm import LinearSVC\n",
    "from scipy.stats import uniform\n",
    "\n",
    "param_grid = {\n",
    "    'penalty': ['l1', 'l2'],\n",
    "    'loss': ['hinge', 'squared_hinge'],\n",
    "    'C': [1, 1.2, 1.5, 2]\n",
    "}\n",
    "\n",
    "gridSearch = GridSearchCV(LinearSVC(random_state=42), param_grid, cv=5, \n",
    "                          n_jobs=-1)\n",
    "gridSearch.fit(train_X, train_y)\n",
    "print('initial score: ', gridSearch.best_score_)\n",
    "print('parameters: ', gridSearch.best_params_)\n",
    "\n",
    "bestClassTree = gridSearch.best_estimator_"
   ]
  },
  {
   "cell_type": "code",
   "execution_count": 79,
   "id": "4efc1975",
   "metadata": {},
   "outputs": [
    {
     "name": "stdout",
     "output_type": "stream",
     "text": [
      "Accuracy: 0.672 (0.159)\n"
     ]
    }
   ],
   "source": [
    "#cross-validation using training set\n",
    "cv = KFold(n_splits=10, random_state=1, shuffle=True)\n",
    "# evaluate model\n",
    "scores = cross_val_score(bestClassTree, train_X,train_y, scoring='accuracy', cv=cv, n_jobs=-1)\n",
    "# report performance\n",
    "print('Accuracy: %.3f (%.3f)' % (mean(scores), std(scores)))"
   ]
  },
  {
   "cell_type": "markdown",
   "id": "4302b478",
   "metadata": {},
   "source": [
    "## 4.5 ensemble: random forest classificaion"
   ]
  },
  {
   "cell_type": "code",
   "execution_count": 80,
   "id": "39c135c5",
   "metadata": {},
   "outputs": [
    {
     "name": "stdout",
     "output_type": "stream",
     "text": [
      "initial score:  0.9172136002843265\n",
      "parameters:  {'max_leaf_nodes': 99, 'min_samples_split': 7}\n"
     ]
    },
    {
     "name": "stderr",
     "output_type": "stream",
     "text": [
      "/Users/beiw/opt/anaconda3/lib/python3.8/site-packages/sklearn/model_selection/_search.py:880: DataConversionWarning: A column-vector y was passed when a 1d array was expected. Please change the shape of y to (n_samples,), for example using ravel().\n",
      "  self.best_estimator_.fit(X, y, **fit_params)\n"
     ]
    }
   ],
   "source": [
    "from sklearn.ensemble import RandomForestClassifier\n",
    "from sklearn.model_selection import train_test_split,cross_val_score,GridSearchCV,RandomizedSearchCV \n",
    "\n",
    "param_grid = {\n",
    "    'max_leaf_nodes': list(range(2, 100)),\n",
    "    'min_samples_split': [4,5,7,9]\n",
    "}\n",
    "gridSearch = GridSearchCV(RandomForestClassifier(random_state=42), param_grid, cv=5, \n",
    "                          n_jobs=-1)\n",
    "gridSearch.fit(train_X, train_y)\n",
    "print('initial score: ', gridSearch.best_score_)\n",
    "print('parameters: ', gridSearch.best_params_)\n",
    "\n",
    "bestClassTree = gridSearch.best_estimator_"
   ]
  },
  {
   "cell_type": "code",
   "execution_count": 81,
   "id": "df260e08",
   "metadata": {},
   "outputs": [
    {
     "name": "stdout",
     "output_type": "stream",
     "text": [
      "Accuracy: 0.916 (0.031)\n"
     ]
    }
   ],
   "source": [
    "#cross-validation using training set\n",
    "cv = KFold(n_splits=10, random_state=1, shuffle=True)\n",
    "# evaluate model\n",
    "scores = cross_val_score(bestClassTree, train_X,train_y, scoring='accuracy', cv=cv, n_jobs=-1)\n",
    "# report performance\n",
    "print('Accuracy: %.3f (%.3f)' % (mean(scores), std(scores)))"
   ]
  },
  {
   "cell_type": "markdown",
   "id": "93a5ba6a",
   "metadata": {},
   "source": [
    "next steps: \n",
    "1.classification tree \n",
    "2."
   ]
  },
  {
   "cell_type": "markdown",
   "id": "cbe3fdba",
   "metadata": {},
   "source": [
    "## 4.6 ensemble: boosting/bagging "
   ]
  },
  {
   "cell_type": "code",
   "execution_count": null,
   "id": "a64a2c7a",
   "metadata": {},
   "outputs": [],
   "source": []
  },
  {
   "cell_type": "code",
   "execution_count": null,
   "id": "d7dc1235",
   "metadata": {},
   "outputs": [],
   "source": []
  },
  {
   "cell_type": "code",
   "execution_count": null,
   "id": "bdaabf11",
   "metadata": {},
   "outputs": [],
   "source": []
  },
  {
   "cell_type": "code",
   "execution_count": null,
   "id": "9405dfe1",
   "metadata": {},
   "outputs": [],
   "source": []
  },
  {
   "cell_type": "code",
   "execution_count": null,
   "id": "08d03389",
   "metadata": {},
   "outputs": [],
   "source": []
  },
  {
   "cell_type": "code",
   "execution_count": null,
   "id": "ee62fe42",
   "metadata": {},
   "outputs": [],
   "source": []
  },
  {
   "cell_type": "code",
   "execution_count": null,
   "id": "359157e8",
   "metadata": {},
   "outputs": [],
   "source": []
  }
 ],
 "metadata": {
  "kernelspec": {
   "display_name": "Python 3",
   "language": "python",
   "name": "python3"
  },
  "language_info": {
   "codemirror_mode": {
    "name": "ipython",
    "version": 3
   },
   "file_extension": ".py",
   "mimetype": "text/x-python",
   "name": "python",
   "nbconvert_exporter": "python",
   "pygments_lexer": "ipython3",
   "version": "3.8.8"
  }
 },
 "nbformat": 4,
 "nbformat_minor": 5
}
