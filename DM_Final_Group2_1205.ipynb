{
 "cells": [
  {
   "cell_type": "markdown",
   "id": "d955e543",
   "metadata": {},
   "source": [
    "# Developing Depression Risk Prediction Models\n",
    "## Using the National Health and Nutrition Examination Survey Data 2013-2014\n",
    "\n",
    "Group 2: Bei Wang, Fangyuan Zhao, Kat Hutcheson,  Amro Hassan"
   ]
  },
  {
   "cell_type": "markdown",
   "id": "e80fe0eb",
   "metadata": {},
   "source": [
    "# 1. Introduction"
   ]
  },
  {
   "cell_type": "markdown",
   "id": "55d9ea22",
   "metadata": {},
   "source": [
    "In the US, it is estimated that almost ten million people suffer from depression, while only one-third of them received appropriate treatment. Social service and health care professionals are well-situated to assess depression risk of their clients or patients during brief encounters. But this has been challenging because people who are at higher risk of mental disorders might be reluctant to respond to standardized questionnaires (e.g. PHQ-2 and PHQ-9) for depression screening. Moreover, there is no efficient and user-friendly predictive tool for this purpose. \n",
    "\n",
    "Therefore, our ***main goal*** is to build an efficient depression risk prediction model for social service and healthcare practitioners to use to screen people who might be at risk of depression. Our ***second aim*** is to examine whether people of different racial/ethnic backgrounds have different predictors."
   ]
  },
  {
   "cell_type": "markdown",
   "id": "c4fd9c9f",
   "metadata": {},
   "source": [
    "# 2. Method"
   ]
  },
  {
   "cell_type": "markdown",
   "id": "c00221f6",
   "metadata": {},
   "source": [
    "We used the National Health and Nutrition Examination Survey (NHANES, 2013-2014) initiated by the Centers for Disease Control and Prevention (CDC) and the National Center for Health Statistics (NCHS). The NHANES aims to provide US national health data on the prevalence of major diseases and associated risk factors among adults and children. \n",
    "\n",
    "In our present project, we focus on NHANES survey questions that would be easy to ask in brief health care or social service encounters and does not require lengthy and expensive tests. Based on this criteria, we narrowed down to 1166 features in aspects of demographic, socioeconomic, dietary, socio-psychological, behavioral health, medical conditions, functional health, and life experience. \n",
    "\n",
    "We further selected features and applied several supervised learning techniques to develop a model with the best prediction performance. Our final model contains 20 features. **Please see our documentation for full details of our method.** "
   ]
  },
  {
   "cell_type": "markdown",
   "id": "0a1940a6",
   "metadata": {},
   "source": [
    "# 3. Prepare and explore the data"
   ]
  },
  {
   "cell_type": "markdown",
   "id": "6d5d840d",
   "metadata": {},
   "source": [
    "##  3.1 Merge data "
   ]
  },
  {
   "cell_type": "code",
   "execution_count": 1,
   "id": "aa45c515",
   "metadata": {},
   "outputs": [
    {
     "name": "stdout",
     "output_type": "stream",
     "text": [
      "no display found. Using non-interactive Agg backend\n"
     ]
    }
   ],
   "source": [
    "import sklearn \n",
    "import pandas as pd \n",
    "import numpy as np\n",
    "import matplotlib.pyplot as plt \n",
    "import seaborn as sns \n",
    "from functools import reduce\n",
    "import os\n",
    "from dmba import classificationSummary\n",
    "import warnings\n",
    "warnings.filterwarnings('ignore')\n",
    "#imputation \n",
    "from sklearn.impute import SimpleImputer\n",
    "%matplotlib inline"
   ]
  },
  {
   "cell_type": "code",
   "execution_count": 2,
   "id": "ce7a3fa3",
   "metadata": {},
   "outputs": [
    {
     "data": {
      "text/plain": [
       "'/Users/beiw/Google Drive/PHS@UChicago/2021 Autumn/data mining/project/final submission of project'"
      ]
     },
     "execution_count": 2,
     "metadata": {},
     "output_type": "execute_result"
    }
   ],
   "source": [
    "os.getcwd()"
   ]
  },
  {
   "cell_type": "code",
   "execution_count": 3,
   "id": "8ffc4b37",
   "metadata": {},
   "outputs": [],
   "source": [
    "#not including medications\n",
    "os.chdir('/Users/beiw/Google Drive/PHS@UChicago/2021 Autumn/data mining/project/data')\n",
    "files= ['demographic.csv', 'diet.csv', 'questionnaire.csv'] #only use demo, diet, and questionnaire \n",
    "demo= pd.read_csv('demographic.csv')\n",
    "diet= pd.read_csv('diet.csv')\n",
    "qr= pd.read_csv('questionnaire.csv')"
   ]
  },
  {
   "cell_type": "code",
   "execution_count": 4,
   "id": "03e285c0",
   "metadata": {},
   "outputs": [
    {
     "name": "stdout",
     "output_type": "stream",
     "text": [
      "demo (10175, 47)\n",
      "diet (9813, 168)\n",
      "ques (10175, 953)\n"
     ]
    }
   ],
   "source": [
    "print('demo', demo.shape)\n",
    "print('diet', diet.shape)\n",
    "print('ques', qr.shape)"
   ]
  },
  {
   "cell_type": "code",
   "execution_count": 5,
   "id": "c342e8df",
   "metadata": {
    "scrolled": true
   },
   "outputs": [
    {
     "name": "stdout",
     "output_type": "stream",
     "text": [
      "merged df shape: (9813, 1166)\n"
     ]
    }
   ],
   "source": [
    "ls=[]\n",
    "for file in files: \n",
    "    df= pd.read_csv(file)\n",
    "    ls.append(df)\n",
    "df_merge= reduce(lambda x,y: pd.merge(x, y,  how='inner', on= 'SEQN', suffixes=('', '_drop')), ls)\n",
    "df_merge.drop([col for col in df_merge.columns if 'drop' in col], axis=1, inplace=True)\n",
    "print(\"merged df shape:\", df_merge.shape)"
   ]
  },
  {
   "cell_type": "code",
   "execution_count": 6,
   "id": "5a1776d5",
   "metadata": {
    "scrolled": true
   },
   "outputs": [
    {
     "data": {
      "text/plain": [
       "False    9813\n",
       "Name: SEQN, dtype: int64"
      ]
     },
     "execution_count": 6,
     "metadata": {},
     "output_type": "execute_result"
    }
   ],
   "source": [
    "#check for duplicated SEQN\n",
    "df_merge.SEQN.duplicated().value_counts()"
   ]
  },
  {
   "cell_type": "markdown",
   "id": "b42205e3",
   "metadata": {},
   "source": [
    "### Get a codebook for the dataset for meaning of features\n",
    "This was done in a seperate files; some of the variables names are inconsistent, resulting in NaN, so I changed them manually. "
   ]
  },
  {
   "cell_type": "code",
   "execution_count": 7,
   "id": "130fac27",
   "metadata": {},
   "outputs": [],
   "source": [
    "cbook= pd.read_csv('nhanes_2013_2014_codebook.csv')\n",
    "#convert variable names to upper class to match with df_merge\n",
    "cbook['variable']= cbook['variable'].str.upper()"
   ]
  },
  {
   "cell_type": "markdown",
   "id": "3054b7df",
   "metadata": {},
   "source": [
    "## 3.2 Missingness \n",
    "Missing data in the dataset are all represented in 7s and 9s. We drop observations that have missing data in the target variable (phq9), which results in 3657 unique observations. Among the rest of the features, we drop those with more than 20% missing data or those are non-numeric, which results in 502 features. Within the dataset that has minimized missingness, we further prepare the data set by imputing the rest of the missingness using the most_frequent method in each column. "
   ]
  },
  {
   "cell_type": "code",
   "execution_count": 8,
   "id": "a232bc91",
   "metadata": {},
   "outputs": [],
   "source": [
    "#replace all 7s and 9s as null \n",
    "df_merge.replace({7:None, 9:None, 77:None,99:None,777:None,999:None,7777:None,9999:None,77777:None,99999:None,\n",
    "            777777:None,999999:None,55:None,555:None,5555:None,8:None,88:None}, inplace=True)"
   ]
  },
  {
   "cell_type": "markdown",
   "id": "abd2b60c",
   "metadata": {},
   "source": [
    "### Drop observations with missingness in target feature\n",
    "The target feature is PHQ9, which consists of 10 features from DPQ010 to DPQ100."
   ]
  },
  {
   "cell_type": "code",
   "execution_count": 9,
   "id": "f4fd4ec2",
   "metadata": {},
   "outputs": [
    {
     "data": {
      "text/plain": [
       "<bound method NDFrame.describe of 0       0.0\n",
       "1       0.0\n",
       "2       0.0\n",
       "3       NaN\n",
       "4       3.0\n",
       "       ... \n",
       "9808    0.0\n",
       "9809    NaN\n",
       "9810    NaN\n",
       "9811    NaN\n",
       "9812    NaN\n",
       "Name: DPQ050, Length: 9813, dtype: float64>"
      ]
     },
     "execution_count": 9,
     "metadata": {},
     "output_type": "execute_result"
    }
   ],
   "source": [
    "#test\n",
    "df_merge.DPQ050.describe"
   ]
  },
  {
   "cell_type": "code",
   "execution_count": 10,
   "id": "a93dfd92",
   "metadata": {
    "scrolled": true
   },
   "outputs": [],
   "source": [
    "#create phq9 scores and drop rows with any item missing \n",
    "df_merge['phq9']= df_merge[['DPQ010','DPQ020','DPQ030','DPQ040', 'DPQ050', 'DPQ060', 'DPQ070', 'DPQ080', 'DPQ090']].sum(axis=1, skipna=False)\n"
   ]
  },
  {
   "cell_type": "code",
   "execution_count": 11,
   "id": "46eb2c5a",
   "metadata": {},
   "outputs": [],
   "source": [
    "#To prep for visualization, assign categories to the original data and data after remving missing phq9 scores\n",
    "orig = df_merge #original data set to be used for comparison\n",
    "orig['DataSet'] = np.where(df_merge['phq9'].notna(), 'Cleaned Data', 'Original Data')  #add column"
   ]
  },
  {
   "cell_type": "code",
   "execution_count": 12,
   "id": "dedfcdb1",
   "metadata": {},
   "outputs": [
    {
     "name": "stdout",
     "output_type": "stream",
     "text": [
      "(5372, 1168)\n"
     ]
    }
   ],
   "source": [
    "#drop rows with any item missing for phq9 \n",
    "\n",
    "df_merge= df_merge[df_merge['phq9'].notna()]\n",
    "print(df_merge.shape)"
   ]
  },
  {
   "cell_type": "code",
   "execution_count": 13,
   "id": "c3277676",
   "metadata": {
    "scrolled": true
   },
   "outputs": [
    {
     "data": {
      "text/plain": [
       "count    5372.000000\n",
       "mean        3.311616\n",
       "std         4.396482\n",
       "min         0.000000\n",
       "25%         0.000000\n",
       "50%         2.000000\n",
       "75%         5.000000\n",
       "max        27.000000\n",
       "Name: phq9, dtype: float64"
      ]
     },
     "execution_count": 13,
     "metadata": {},
     "output_type": "execute_result"
    }
   ],
   "source": [
    "df_merge.phq9.describe()"
   ]
  },
  {
   "cell_type": "markdown",
   "id": "8a627be0",
   "metadata": {},
   "source": [
    "### Compare the Amount of Records by Ethnicity (pre and post dropping missing values)"
   ]
  },
  {
   "cell_type": "code",
   "execution_count": 14,
   "id": "14957bcc",
   "metadata": {},
   "outputs": [
    {
     "data": {
      "text/plain": [
       "<Figure size 1800x1800 with 0 Axes>"
      ]
     },
     "metadata": {},
     "output_type": "display_data"
    },
    {
     "data": {
      "image/png": "[encoded data removed]",
      "text/plain": [
       "<Figure size 432x288 with 1 Axes>"
      ]
     },
     "metadata": {
      "needs_background": "light"
     },
     "output_type": "display_data"
    }
   ],
   "source": [
    "font1 = {'family':'calibri','color':'darkgray','size':18}\n",
    "font2 = {'family':'calibri','color':'black','size':22}\n",
    "\n",
    "plt.figure(figsize=(25,25))\n",
    "ct = pd.crosstab(orig.RIDRETH3, orig.DataSet)\n",
    "    \n",
    "ax = ct.plot(kind='bar', stacked=True, rot= 45)\n",
    "ax.legend(ncol=1, shadow=True, loc='center left', bbox_to_anchor=(1, 0.5)) \n",
    "\n",
    "\n",
    "plt.xlabel(\"Ethnicity\", fontdict=font1)\n",
    "plt.ylabel(\"Count of Records\", fontdict = font1)\n",
    "plt.title(\"Figure 5. Data Set Comparison by Ethnicity\", fontdict = font2)\n",
    "ax.set_xticklabels(['Mexican American', 'Other Hispanic', 'non-H White', 'non-H Black', 'non-H Asian'])\n",
    "\n",
    "\n",
    "plt.show()"
   ]
  },
  {
   "cell_type": "markdown",
   "id": "5e64a3e0",
   "metadata": {},
   "source": [
    "When reviewing the % of data removed due to missing values, the records for non-H White had a higher % of their original data represented (48%) vs other ethnicities only having 30-35% of their original data included."
   ]
  },
  {
   "cell_type": "markdown",
   "id": "888ac0f4",
   "metadata": {},
   "source": [
    "### Drop feature columns with more than 20% missing data "
   ]
  },
  {
   "cell_type": "code",
   "execution_count": 15,
   "id": "4884cb5e",
   "metadata": {
    "scrolled": true
   },
   "outputs": [],
   "source": [
    "#drop columns with more than no missing data\n",
    "df_merge= df_merge.dropna(thresh= 0.8*len(df_merge), axis=1)"
   ]
  },
  {
   "cell_type": "markdown",
   "id": "157ada07",
   "metadata": {},
   "source": [
    "### Drop non-numeric columns"
   ]
  },
  {
   "cell_type": "code",
   "execution_count": 16,
   "id": "09a954dd",
   "metadata": {
    "scrolled": true
   },
   "outputs": [
    {
     "name": "stdout",
     "output_type": "stream",
     "text": [
      "291 columns left\n"
     ]
    }
   ],
   "source": [
    "# exclude non-numeric values\n",
    "df_merge = df_merge.select_dtypes(['number'])\n",
    "print(len(df_merge.columns), 'columns left')"
   ]
  },
  {
   "cell_type": "code",
   "execution_count": 17,
   "id": "88fc015e",
   "metadata": {
    "scrolled": true
   },
   "outputs": [
    {
     "name": "stdout",
     "output_type": "stream",
     "text": [
      "<class 'pandas.core.frame.DataFrame'>\n",
      "Int64Index: 5372 entries, 0 to 9808\n",
      "Columns: 291 entries, SEQN to phq9\n",
      "dtypes: float64(278), int64(13)\n",
      "memory usage: 12.0 MB\n"
     ]
    }
   ],
   "source": [
    "df_merge.info()"
   ]
  },
  {
   "cell_type": "markdown",
   "id": "74bc01c3",
   "metadata": {},
   "source": [
    "### Impute missing values "
   ]
  },
  {
   "cell_type": "code",
   "execution_count": 18,
   "id": "bafccb75",
   "metadata": {},
   "outputs": [],
   "source": [
    "imp_mode=SimpleImputer(strategy='most_frequent')\n",
    "df_merge = pd.DataFrame(imp_mode.fit_transform(df_merge), columns=df_merge.columns)\n",
    "#could try other imputation method KNN"
   ]
  },
  {
   "cell_type": "markdown",
   "id": "5c905779",
   "metadata": {},
   "source": [
    "## 3.3 Feature selection (initial selection)\n",
    "\n",
    "To achieve our goal of building a model with questions that are brief and easy to ask, we went through a manual selection of features. This step includes dropping administration-related features (e.g., language of interview, interpreter code), features that require lengthy dietary assessments, and duplicated questions."
   ]
  },
  {
   "cell_type": "code",
   "execution_count": 19,
   "id": "bc9b98e6",
   "metadata": {},
   "outputs": [],
   "source": [
    "#go over the dictionary manually and drop the unwanted variables\n",
    "col = df_merge.columns\n",
    "df_col = cbook[cbook['variable'].isin(col)]\n",
    "df_col.to_csv(r'df_col.csv') #done in excel"
   ]
  },
  {
   "cell_type": "code",
   "execution_count": 20,
   "id": "48160d0c",
   "metadata": {},
   "outputs": [],
   "source": [
    "#remove variables that are related to administration/operation (e.g. language of interview, interpreter code)\n",
    "#admin = pd.read_csv('C:/Users/AmroHassan/Google Drive/Classroom/31008 1-Data Mining Principles/Project/Depression-risk-main/Project Data/Depression-risk-main/data/administrative_col.csv')\n",
    "admin = pd.read_csv('administrative_col.csv')\n",
    "admin_col = admin.columns\n",
    "df_merge = df_merge.drop(admin.columns, 1)"
   ]
  },
  {
   "cell_type": "code",
   "execution_count": 21,
   "id": "794702ad",
   "metadata": {},
   "outputs": [
    {
     "ename": "FileNotFoundError",
     "evalue": "[Errno 2] No such file or directory: 'diet_col.csv'",
     "output_type": "error",
     "traceback": [
      "\u001b[0;31m---------------------------------------------------------------------------\u001b[0m",
      "\u001b[0;31mFileNotFoundError\u001b[0m                         Traceback (most recent call last)",
      "\u001b[0;32m<ipython-input-21-06f1fbbcc522>\u001b[0m in \u001b[0;36m<module>\u001b[0;34m\u001b[0m\n\u001b[1;32m      4\u001b[0m \u001b[0;31m#(e.g. Total bottled water drank yesterday)\u001b[0m\u001b[0;34m\u001b[0m\u001b[0;34m\u001b[0m\u001b[0;34m\u001b[0m\u001b[0m\n\u001b[1;32m      5\u001b[0m \u001b[0;31m#dietary = pd.read_csv('C:/Users/AmroHassan/Google Drive/Classroom/31008 1-Data Mining Principles/Project/Depression-risk-main/Project Data/Depression-risk-main/data/diet_col.csv')\u001b[0m\u001b[0;34m\u001b[0m\u001b[0;34m\u001b[0m\u001b[0;34m\u001b[0m\u001b[0m\n\u001b[0;32m----> 6\u001b[0;31m \u001b[0mdietary\u001b[0m \u001b[0;34m=\u001b[0m \u001b[0mpd\u001b[0m\u001b[0;34m.\u001b[0m\u001b[0mread_csv\u001b[0m\u001b[0;34m(\u001b[0m\u001b[0;34m'diet_col.csv'\u001b[0m\u001b[0;34m)\u001b[0m\u001b[0;34m\u001b[0m\u001b[0;34m\u001b[0m\u001b[0m\n\u001b[0m\u001b[1;32m      7\u001b[0m \u001b[0mdiet_col\u001b[0m \u001b[0;34m=\u001b[0m \u001b[0mdietary\u001b[0m\u001b[0;34m.\u001b[0m\u001b[0mcolumns\u001b[0m\u001b[0;34m\u001b[0m\u001b[0;34m\u001b[0m\u001b[0m\n\u001b[1;32m      8\u001b[0m \u001b[0mdf_merge\u001b[0m \u001b[0;34m=\u001b[0m \u001b[0mdf_merge\u001b[0m\u001b[0;34m.\u001b[0m\u001b[0mdrop\u001b[0m\u001b[0;34m(\u001b[0m\u001b[0mdietary\u001b[0m\u001b[0;34m.\u001b[0m\u001b[0mcolumns\u001b[0m\u001b[0;34m,\u001b[0m \u001b[0;36m1\u001b[0m\u001b[0;34m)\u001b[0m\u001b[0;34m\u001b[0m\u001b[0;34m\u001b[0m\u001b[0m\n",
      "\u001b[0;32m~/opt/anaconda3/lib/python3.8/site-packages/pandas/io/parsers.py\u001b[0m in \u001b[0;36mread_csv\u001b[0;34m(filepath_or_buffer, sep, delimiter, header, names, index_col, usecols, squeeze, prefix, mangle_dupe_cols, dtype, engine, converters, true_values, false_values, skipinitialspace, skiprows, skipfooter, nrows, na_values, keep_default_na, na_filter, verbose, skip_blank_lines, parse_dates, infer_datetime_format, keep_date_col, date_parser, dayfirst, cache_dates, iterator, chunksize, compression, thousands, decimal, lineterminator, quotechar, quoting, doublequote, escapechar, comment, encoding, dialect, error_bad_lines, warn_bad_lines, delim_whitespace, low_memory, memory_map, float_precision, storage_options)\u001b[0m\n\u001b[1;32m    608\u001b[0m     \u001b[0mkwds\u001b[0m\u001b[0;34m.\u001b[0m\u001b[0mupdate\u001b[0m\u001b[0;34m(\u001b[0m\u001b[0mkwds_defaults\u001b[0m\u001b[0;34m)\u001b[0m\u001b[0;34m\u001b[0m\u001b[0;34m\u001b[0m\u001b[0m\n\u001b[1;32m    609\u001b[0m \u001b[0;34m\u001b[0m\u001b[0m\n\u001b[0;32m--> 610\u001b[0;31m     \u001b[0;32mreturn\u001b[0m \u001b[0m_read\u001b[0m\u001b[0;34m(\u001b[0m\u001b[0mfilepath_or_buffer\u001b[0m\u001b[0;34m,\u001b[0m \u001b[0mkwds\u001b[0m\u001b[0;34m)\u001b[0m\u001b[0;34m\u001b[0m\u001b[0;34m\u001b[0m\u001b[0m\n\u001b[0m\u001b[1;32m    611\u001b[0m \u001b[0;34m\u001b[0m\u001b[0m\n\u001b[1;32m    612\u001b[0m \u001b[0;34m\u001b[0m\u001b[0m\n",
      "\u001b[0;32m~/opt/anaconda3/lib/python3.8/site-packages/pandas/io/parsers.py\u001b[0m in \u001b[0;36m_read\u001b[0;34m(filepath_or_buffer, kwds)\u001b[0m\n\u001b[1;32m    460\u001b[0m \u001b[0;34m\u001b[0m\u001b[0m\n\u001b[1;32m    461\u001b[0m     \u001b[0;31m# Create the parser.\u001b[0m\u001b[0;34m\u001b[0m\u001b[0;34m\u001b[0m\u001b[0;34m\u001b[0m\u001b[0m\n\u001b[0;32m--> 462\u001b[0;31m     \u001b[0mparser\u001b[0m \u001b[0;34m=\u001b[0m \u001b[0mTextFileReader\u001b[0m\u001b[0;34m(\u001b[0m\u001b[0mfilepath_or_buffer\u001b[0m\u001b[0;34m,\u001b[0m \u001b[0;34m**\u001b[0m\u001b[0mkwds\u001b[0m\u001b[0;34m)\u001b[0m\u001b[0;34m\u001b[0m\u001b[0;34m\u001b[0m\u001b[0m\n\u001b[0m\u001b[1;32m    463\u001b[0m \u001b[0;34m\u001b[0m\u001b[0m\n\u001b[1;32m    464\u001b[0m     \u001b[0;32mif\u001b[0m \u001b[0mchunksize\u001b[0m \u001b[0;32mor\u001b[0m \u001b[0miterator\u001b[0m\u001b[0;34m:\u001b[0m\u001b[0;34m\u001b[0m\u001b[0;34m\u001b[0m\u001b[0m\n",
      "\u001b[0;32m~/opt/anaconda3/lib/python3.8/site-packages/pandas/io/parsers.py\u001b[0m in \u001b[0;36m__init__\u001b[0;34m(self, f, engine, **kwds)\u001b[0m\n\u001b[1;32m    817\u001b[0m             \u001b[0mself\u001b[0m\u001b[0;34m.\u001b[0m\u001b[0moptions\u001b[0m\u001b[0;34m[\u001b[0m\u001b[0;34m\"has_index_names\"\u001b[0m\u001b[0;34m]\u001b[0m \u001b[0;34m=\u001b[0m \u001b[0mkwds\u001b[0m\u001b[0;34m[\u001b[0m\u001b[0;34m\"has_index_names\"\u001b[0m\u001b[0;34m]\u001b[0m\u001b[0;34m\u001b[0m\u001b[0;34m\u001b[0m\u001b[0m\n\u001b[1;32m    818\u001b[0m \u001b[0;34m\u001b[0m\u001b[0m\n\u001b[0;32m--> 819\u001b[0;31m         \u001b[0mself\u001b[0m\u001b[0;34m.\u001b[0m\u001b[0m_engine\u001b[0m \u001b[0;34m=\u001b[0m \u001b[0mself\u001b[0m\u001b[0;34m.\u001b[0m\u001b[0m_make_engine\u001b[0m\u001b[0;34m(\u001b[0m\u001b[0mself\u001b[0m\u001b[0;34m.\u001b[0m\u001b[0mengine\u001b[0m\u001b[0;34m)\u001b[0m\u001b[0;34m\u001b[0m\u001b[0;34m\u001b[0m\u001b[0m\n\u001b[0m\u001b[1;32m    820\u001b[0m \u001b[0;34m\u001b[0m\u001b[0m\n\u001b[1;32m    821\u001b[0m     \u001b[0;32mdef\u001b[0m \u001b[0mclose\u001b[0m\u001b[0;34m(\u001b[0m\u001b[0mself\u001b[0m\u001b[0;34m)\u001b[0m\u001b[0;34m:\u001b[0m\u001b[0;34m\u001b[0m\u001b[0;34m\u001b[0m\u001b[0m\n",
      "\u001b[0;32m~/opt/anaconda3/lib/python3.8/site-packages/pandas/io/parsers.py\u001b[0m in \u001b[0;36m_make_engine\u001b[0;34m(self, engine)\u001b[0m\n\u001b[1;32m   1048\u001b[0m             )\n\u001b[1;32m   1049\u001b[0m         \u001b[0;31m# error: Too many arguments for \"ParserBase\"\u001b[0m\u001b[0;34m\u001b[0m\u001b[0;34m\u001b[0m\u001b[0;34m\u001b[0m\u001b[0m\n\u001b[0;32m-> 1050\u001b[0;31m         \u001b[0;32mreturn\u001b[0m \u001b[0mmapping\u001b[0m\u001b[0;34m[\u001b[0m\u001b[0mengine\u001b[0m\u001b[0;34m]\u001b[0m\u001b[0;34m(\u001b[0m\u001b[0mself\u001b[0m\u001b[0;34m.\u001b[0m\u001b[0mf\u001b[0m\u001b[0;34m,\u001b[0m \u001b[0;34m**\u001b[0m\u001b[0mself\u001b[0m\u001b[0;34m.\u001b[0m\u001b[0moptions\u001b[0m\u001b[0;34m)\u001b[0m  \u001b[0;31m# type: ignore[call-arg]\u001b[0m\u001b[0;34m\u001b[0m\u001b[0;34m\u001b[0m\u001b[0m\n\u001b[0m\u001b[1;32m   1051\u001b[0m \u001b[0;34m\u001b[0m\u001b[0m\n\u001b[1;32m   1052\u001b[0m     \u001b[0;32mdef\u001b[0m \u001b[0m_failover_to_python\u001b[0m\u001b[0;34m(\u001b[0m\u001b[0mself\u001b[0m\u001b[0;34m)\u001b[0m\u001b[0;34m:\u001b[0m\u001b[0;34m\u001b[0m\u001b[0;34m\u001b[0m\u001b[0m\n",
      "\u001b[0;32m~/opt/anaconda3/lib/python3.8/site-packages/pandas/io/parsers.py\u001b[0m in \u001b[0;36m__init__\u001b[0;34m(self, src, **kwds)\u001b[0m\n\u001b[1;32m   1865\u001b[0m \u001b[0;34m\u001b[0m\u001b[0m\n\u001b[1;32m   1866\u001b[0m         \u001b[0;31m# open handles\u001b[0m\u001b[0;34m\u001b[0m\u001b[0;34m\u001b[0m\u001b[0;34m\u001b[0m\u001b[0m\n\u001b[0;32m-> 1867\u001b[0;31m         \u001b[0mself\u001b[0m\u001b[0;34m.\u001b[0m\u001b[0m_open_handles\u001b[0m\u001b[0;34m(\u001b[0m\u001b[0msrc\u001b[0m\u001b[0;34m,\u001b[0m \u001b[0mkwds\u001b[0m\u001b[0;34m)\u001b[0m\u001b[0;34m\u001b[0m\u001b[0;34m\u001b[0m\u001b[0m\n\u001b[0m\u001b[1;32m   1868\u001b[0m         \u001b[0;32massert\u001b[0m \u001b[0mself\u001b[0m\u001b[0;34m.\u001b[0m\u001b[0mhandles\u001b[0m \u001b[0;32mis\u001b[0m \u001b[0;32mnot\u001b[0m \u001b[0;32mNone\u001b[0m\u001b[0;34m\u001b[0m\u001b[0;34m\u001b[0m\u001b[0m\n\u001b[1;32m   1869\u001b[0m         \u001b[0;32mfor\u001b[0m \u001b[0mkey\u001b[0m \u001b[0;32min\u001b[0m \u001b[0;34m(\u001b[0m\u001b[0;34m\"storage_options\"\u001b[0m\u001b[0;34m,\u001b[0m \u001b[0;34m\"encoding\"\u001b[0m\u001b[0;34m,\u001b[0m \u001b[0;34m\"memory_map\"\u001b[0m\u001b[0;34m,\u001b[0m \u001b[0;34m\"compression\"\u001b[0m\u001b[0;34m)\u001b[0m\u001b[0;34m:\u001b[0m\u001b[0;34m\u001b[0m\u001b[0;34m\u001b[0m\u001b[0m\n",
      "\u001b[0;32m~/opt/anaconda3/lib/python3.8/site-packages/pandas/io/parsers.py\u001b[0m in \u001b[0;36m_open_handles\u001b[0;34m(self, src, kwds)\u001b[0m\n\u001b[1;32m   1360\u001b[0m         \u001b[0mLet\u001b[0m \u001b[0mthe\u001b[0m \u001b[0mreaders\u001b[0m \u001b[0mopen\u001b[0m \u001b[0mIOHanldes\u001b[0m \u001b[0mafter\u001b[0m \u001b[0mthey\u001b[0m \u001b[0mare\u001b[0m \u001b[0mdone\u001b[0m \u001b[0;32mwith\u001b[0m \u001b[0mtheir\u001b[0m \u001b[0mpotential\u001b[0m \u001b[0mraises\u001b[0m\u001b[0;34m.\u001b[0m\u001b[0;34m\u001b[0m\u001b[0;34m\u001b[0m\u001b[0m\n\u001b[1;32m   1361\u001b[0m         \"\"\"\n\u001b[0;32m-> 1362\u001b[0;31m         self.handles = get_handle(\n\u001b[0m\u001b[1;32m   1363\u001b[0m             \u001b[0msrc\u001b[0m\u001b[0;34m,\u001b[0m\u001b[0;34m\u001b[0m\u001b[0;34m\u001b[0m\u001b[0m\n\u001b[1;32m   1364\u001b[0m             \u001b[0;34m\"r\"\u001b[0m\u001b[0;34m,\u001b[0m\u001b[0;34m\u001b[0m\u001b[0;34m\u001b[0m\u001b[0m\n",
      "\u001b[0;32m~/opt/anaconda3/lib/python3.8/site-packages/pandas/io/common.py\u001b[0m in \u001b[0;36mget_handle\u001b[0;34m(path_or_buf, mode, encoding, compression, memory_map, is_text, errors, storage_options)\u001b[0m\n\u001b[1;32m    640\u001b[0m                 \u001b[0merrors\u001b[0m \u001b[0;34m=\u001b[0m \u001b[0;34m\"replace\"\u001b[0m\u001b[0;34m\u001b[0m\u001b[0;34m\u001b[0m\u001b[0m\n\u001b[1;32m    641\u001b[0m             \u001b[0;31m# Encoding\u001b[0m\u001b[0;34m\u001b[0m\u001b[0;34m\u001b[0m\u001b[0;34m\u001b[0m\u001b[0m\n\u001b[0;32m--> 642\u001b[0;31m             handle = open(\n\u001b[0m\u001b[1;32m    643\u001b[0m                 \u001b[0mhandle\u001b[0m\u001b[0;34m,\u001b[0m\u001b[0;34m\u001b[0m\u001b[0;34m\u001b[0m\u001b[0m\n\u001b[1;32m    644\u001b[0m                 \u001b[0mioargs\u001b[0m\u001b[0;34m.\u001b[0m\u001b[0mmode\u001b[0m\u001b[0;34m,\u001b[0m\u001b[0;34m\u001b[0m\u001b[0;34m\u001b[0m\u001b[0m\n",
      "\u001b[0;31mFileNotFoundError\u001b[0m: [Errno 2] No such file or directory: 'diet_col.csv'"
     ]
    }
   ],
   "source": [
    "#remove variables that are collected and calculated after very detailed Dietary Interviews\n",
    "#(e.g. total dietary fiber)\n",
    "#Can keep variables that can be easily answered\n",
    "#(e.g. Total bottled water drank yesterday)\n",
    "#dietary = pd.read_csv('C:/Users/AmroHassan/Google Drive/Classroom/31008 1-Data Mining Principles/Project/Depression-risk-main/Project Data/Depression-risk-main/data/diet_col.csv')\n",
    "dietary = pd.read_csv('diet_col.csv')\n",
    "diet_col = dietary.columns\n",
    "df_merge = df_merge.drop(dietary.columns, 1)"
   ]
  },
  {
   "cell_type": "code",
   "execution_count": null,
   "id": "57c015d8",
   "metadata": {},
   "outputs": [],
   "source": [
    "# remove one of HUQ010 and HSD010 (identical question asked in different surveys, highly correlated)\n",
    "df_merge = df_merge.drop('HUQ010', 1)"
   ]
  },
  {
   "cell_type": "code",
   "execution_count": null,
   "id": "64cb7b71",
   "metadata": {},
   "outputs": [],
   "source": [
    "df_merge.info()"
   ]
  },
  {
   "cell_type": "code",
   "execution_count": null,
   "id": "77a487e2",
   "metadata": {},
   "outputs": [],
   "source": [
    "df_merge.to_csv(r'df_merge.csv')"
   ]
  },
  {
   "cell_type": "code",
   "execution_count": null,
   "id": "1ef7daac",
   "metadata": {},
   "outputs": [],
   "source": [
    "df_merge.shape"
   ]
  },
  {
   "cell_type": "markdown",
   "id": "52fd65d7",
   "metadata": {},
   "source": [
    "Now, after cleaning, only 211 columns left"
   ]
  },
  {
   "cell_type": "markdown",
   "id": "8717a00d",
   "metadata": {},
   "source": [
    "## 3.4 Target variable (PHQ9) definition and visualization\n",
    "\n",
    "The PHQ-9 was found to have acceptable diagnostic properties for detecting major depressive disorder for cut-off scores between 8 and 11. We explore this variable in two different ways: \n",
    "\n",
    "* PHQ9 itself is a numeric feature with a possible range from 0 to 27\n",
    "* PHQ9 was dichotomized in (>=8/<8) to determine depression\n",
    "* We also explored more restrict thresholds that have been used conventionally to define depression such as moderate and severe depression. \n",
    "* We further explored frequencies of suicidal ideation. \n",
    "* We end up using the \">=8/<8\" threshold to define depression in the current project for the other definitions result in too few cases of depression to develop a prediction model. "
   ]
  },
  {
   "cell_type": "markdown",
   "id": "30ed3e7f",
   "metadata": {},
   "source": [
    "#### Numeric PHQ9 "
   ]
  },
  {
   "cell_type": "code",
   "execution_count": null,
   "id": "200953e2",
   "metadata": {
    "scrolled": true
   },
   "outputs": [],
   "source": [
    "sns.histplot(df_merge.phq9, discrete=True)\n",
    "plt.xlabel(\"Numeric PHQ9 Score\", fontdict=font1)\n",
    "plt.ylabel(\"Count of Records\", fontdict = font1)\n",
    "plt.title(\"Figure 2. Distribution of PHQ9 Score\", fontdict = font2)"
   ]
  },
  {
   "cell_type": "markdown",
   "id": "e3c40cfb",
   "metadata": {},
   "source": [
    "#### Depression (dichotomized)"
   ]
  },
  {
   "cell_type": "code",
   "execution_count": null,
   "id": "bbe76cd9",
   "metadata": {},
   "outputs": [],
   "source": [
    "df_merge['mild_dep']= np.where(df_merge['phq9']>=8,1,0)\n",
    "print('mild', df_merge['mild_dep'].value_counts())"
   ]
  },
  {
   "cell_type": "code",
   "execution_count": null,
   "id": "b9664f4c",
   "metadata": {},
   "outputs": [],
   "source": [
    "dx = sns.countplot(x='mild_dep', data = df_merge, palette = \"GnBu\")\n",
    "dx.set_ylabel(\"Count of Records\", fontdict = font1)\n",
    "dx.set_xlabel(\"PHQ9 Category\", fontdict=font1)\n",
    "dx.set_title('Figure 3. Depression Count (phq9>=8)', y=1.03, fontdict=font2)\n",
    "dx.set_xticklabels(['Non- Dep','Dep'])\n",
    "\n",
    "plt.show()"
   ]
  },
  {
   "cell_type": "markdown",
   "id": "76bcd82c",
   "metadata": {},
   "source": [
    "#### Moderate depression"
   ]
  },
  {
   "cell_type": "code",
   "execution_count": null,
   "id": "7ef9ebe9",
   "metadata": {},
   "outputs": [],
   "source": [
    "df_merge['mod_dep']= np.where(df_merge['phq9']>=15,1,0)\n",
    "print('modereate', df_merge['mod_dep'].value_counts())"
   ]
  },
  {
   "cell_type": "code",
   "execution_count": null,
   "id": "0fd045a2",
   "metadata": {},
   "outputs": [],
   "source": [
    "dx = sns.countplot(x='mod_dep', data = df_merge, palette = \"GnBu\")\n",
    "dx.set_ylabel(\"Count of Records\", fontdict = font1)\n",
    "dx.set_xlabel(\"PHQ9 Category\", fontdict=font1)\n",
    "dx.set_title('Mod Depression Count', y=1.03, fontdict=font2)\n",
    "dx.set_xticklabels(['Non-Mod Dep','Mod Dep'])"
   ]
  },
  {
   "cell_type": "markdown",
   "id": "528c924b",
   "metadata": {},
   "source": [
    "#### Severe depression"
   ]
  },
  {
   "cell_type": "code",
   "execution_count": null,
   "id": "5e3c3211",
   "metadata": {},
   "outputs": [],
   "source": [
    "df_merge['sev_dep']= np.where(df_merge['phq9']>=20,1,0)\n",
    "print('severe', df_merge['sev_dep'].value_counts())"
   ]
  },
  {
   "cell_type": "code",
   "execution_count": null,
   "id": "affa32a3",
   "metadata": {},
   "outputs": [],
   "source": [
    "dx = sns.countplot(x='sev_dep', data = df_merge, palette = \"GnBu\")\n",
    "dx.set_ylabel(\"Count of Records\", fontdict = font1)\n",
    "dx.set_xlabel(\"PHQ9 Category\", fontdict=font1)\n",
    "dx.set_title('Severe Depression Count', y=1.03, fontdict=font2)\n",
    "dx.set_xticklabels(['Non-Sev Dep','Sev Dep'])\n",
    "\n",
    "plt.show()"
   ]
  },
  {
   "cell_type": "markdown",
   "id": "5f55eeb6",
   "metadata": {},
   "source": [
    "#### Suicidal ideation"
   ]
  },
  {
   "cell_type": "code",
   "execution_count": null,
   "id": "93318b17",
   "metadata": {
    "scrolled": true
   },
   "outputs": [],
   "source": [
    "df_merge['suicidal']= np.where(df_merge['DPQ090']>0,1,0)\n",
    "print('suicidal', df_merge['suicidal'].value_counts())"
   ]
  },
  {
   "cell_type": "code",
   "execution_count": null,
   "id": "83f59523",
   "metadata": {
    "scrolled": true
   },
   "outputs": [],
   "source": [
    "dx = sns.countplot(x='suicidal', data = df_merge, palette = \"GnBu\")\n",
    "dx.set_ylabel(\"Count of Records\", fontdict = font1)\n",
    "dx.set_xlabel(\"PHQ9 Category\", fontdict=font1)\n",
    "dx.set_title('Suicidal Depression Count', y=1.03, fontdict=font2)\n",
    "dx.set_xticklabels(['Non-Suicidal','Suicidal'])\n",
    "\n",
    "plt.show()"
   ]
  },
  {
   "cell_type": "markdown",
   "id": "98e749b1",
   "metadata": {},
   "source": [
    "## 3.4 Other key features exploration\n",
    "We explored other key demographic features to describe this population. \n",
    "\n",
    "* A large proportion of the population is non-Hispanic white while there are also Hispanics, non-Hispanic blacks, and non-Hispanic Asians. \n",
    "\n",
    "* People's age ranges from 18 to 80 with larger proportions of the youngest and the oldest group. \n",
    "\n",
    "* There are more females than males. This population is also highly educated. About a quarter of the population was not US-born. "
   ]
  },
  {
   "cell_type": "markdown",
   "id": "7f15e19c",
   "metadata": {},
   "source": [
    "### Race and ethnicity "
   ]
  },
  {
   "cell_type": "code",
   "execution_count": null,
   "id": "643c4905",
   "metadata": {},
   "outputs": [],
   "source": [
    "dx = sns.countplot(x='RIDRETH3', data = df_merge, palette = \"GnBu\")\n",
    "dx.set_ylabel(\"Count of Records\", fontdict = font1)\n",
    "dx.set_xlabel(\"Ethnicity\", fontdict=font1)\n",
    "dx.set_title('Records by Ethnicity', y=1.03, fontdict=font2)\n",
    "dx.set_xticklabels(['Mexican American', 'Other Hispanic', 'non-H White', 'non-H Black', 'non-H Asian'])\n",
    "\n",
    "plt.show()"
   ]
  },
  {
   "cell_type": "markdown",
   "id": "8c6e7b9a",
   "metadata": {},
   "source": [
    "### Explore Age, Education, Country of Birth, and Gender"
   ]
  },
  {
   "cell_type": "code",
   "execution_count": null,
   "id": "b808992d",
   "metadata": {},
   "outputs": [],
   "source": [
    "fig, axs = plt.subplots(2, 2, figsize=(9, 9))\n",
    "font1 = {'family':'calibri','color':'gray','size':10}\n",
    "font2 = {'family':'calibri','color':'black','size':15}\n",
    "\n",
    "d1=sns.histplot(data=df_merge, x=\"RIDAGEYR\", kde=True, color=\"skyblue\", ax=axs[0, 0])\n",
    "d2=sns.countplot(data=df_merge, x=\"RIAGENDR\", palette=\"GnBu\", ax=axs[0, 1])\n",
    "d3=sns.countplot(data=df_merge, x=\"DMDBORN4\", palette='GnBu', ax=axs[1, 0])\n",
    "d4=sns.countplot(data=df_merge, x=\"DMDEDUC2\", palette=\"GnBu\", ax=axs[1, 1])\n",
    "\n",
    "d1.set_ylabel(\"Count of Records\", fontdict = font1)\n",
    "d1.set_xlabel(\"Age in Years\", fontdict=font1)\n",
    "d1.set_title('Age', y=1.03, fontdict=font2)\n",
    "\n",
    "\n",
    "d2.set_ylabel(\"Count of Records\", fontdict = font1)\n",
    "d2.set_xlabel(\"Gender\", fontdict=font1)\n",
    "d2.set_title('Gender', y=1.03, fontdict=font2)\n",
    "d2.set_xticklabels(['Male (1)','Female (2)'])\n",
    "\n",
    "d3.set_ylabel(\"Count of Records\", fontdict = font1)\n",
    "d3.set_xlabel(\"Country of Birth\", fontdict=font1)\n",
    "d3.set_title('Country of Birth', y=1.03, fontdict=font2)\n",
    "d3.set_xticklabels(['United States (1)','Not in United States (2)'])\n",
    "\n",
    "d4.set_ylabel(\"Count of Records\", fontdict = font1)\n",
    "d4.set_xlabel(\"Level\", fontdict=font1)\n",
    "d4.set_title('Education Attainment', y=1.03, fontdict=font2)\n",
    "d4.set_xticklabels(['less than high school', 'some high school', 'high school graduate/GED or equivalent',  \n",
    "                    'some college or AA degree)', 'college graduate or above'], rotation = 90)\n",
    "\n",
    "plt.show()"
   ]
  },
  {
   "cell_type": "markdown",
   "id": "32b7d04c",
   "metadata": {},
   "source": [
    "## 3.5 Feature selection (feature importance)"
   ]
  },
  {
   "cell_type": "markdown",
   "id": "89e86de1",
   "metadata": {},
   "source": [
    "### Create a function for normalizing data "
   ]
  },
  {
   "cell_type": "code",
   "execution_count": null,
   "id": "a7eec9fc",
   "metadata": {},
   "outputs": [],
   "source": [
    "from sklearn.preprocessing import StandardScaler \n",
    "def normalize_data(X): \n",
    "    X_std= pd.DataFrame(StandardScaler().fit_transform(X))\n",
    "    X_std.columns= X.columns\n",
    "    return X_std"
   ]
  },
  {
   "cell_type": "code",
   "execution_count": null,
   "id": "55aca89e",
   "metadata": {},
   "outputs": [],
   "source": [
    "from sklearn.metrics import accuracy_score\n",
    "from matplotlib import pyplot\n",
    "from sklearn.model_selection import train_test_split\n",
    "#partition into X and y\n",
    "target=['mild_dep']\n",
    "drop_features= ['phq9',\n",
    "                'SEQN',\n",
    "                'DPQ010', 'DPQ020', 'DPQ030', 'DPQ040', 'DPQ050', 'DPQ060','DPQ070','DPQ080', 'DPQ090',\n",
    "               'mild_dep', 'sev_dep', 'suicidal', 'mod_dep']\n",
    "X = df_merge[df_merge.columns.drop(drop_features)]\n",
    "y= df_merge[target]\n",
    "#normalize predictors\n",
    "X= normalize_data(X)\n",
    "# training and validation sets split\n",
    "train_X, valid_X, train_y, valid_y = train_test_split(X, y, test_size=0.4, random_state=42, stratify=y)\n",
    "print('Training_X: ', train_X.shape)\n",
    "print('Validation_X: ', valid_X.shape)\n",
    "print('Training_y: ', train_y.shape)\n",
    "print('Validation_y: ', valid_y.shape)\n"
   ]
  },
  {
   "cell_type": "markdown",
   "id": "588c6074",
   "metadata": {},
   "source": [
    "### XGboost for feature selection"
   ]
  },
  {
   "cell_type": "markdown",
   "id": "e916f14d",
   "metadata": {},
   "source": [
    "We used XGBoost to estimate the importance of features and selected the top 30 features with highest importance. Importance provides a score that indicates how useful or valuable each feature was in the construction of the boosted decision trees within the model. Importance is calculated from each single decision tree by the among that each attribute split improves the performance measure, weighted by the number of observations the node is responsible for. Feature importances were then averaged across all trees in the model. "
   ]
  },
  {
   "cell_type": "code",
   "execution_count": null,
   "id": "4d0c06f6",
   "metadata": {
    "scrolled": true
   },
   "outputs": [],
   "source": [
    "from xgboost import XGBClassifier\n",
    "from sklearn.metrics import classification_report, accuracy_score, confusion_matrix\n",
    "xgboost = XGBClassifier()\n",
    "xgboost.fit(train_X, train_y)\n",
    "importance= xgboost.feature_importances_\n",
    "columns= df_merge.columns\n",
    "df = pd.DataFrame({'feature': train_X.columns, 'importance': importance})\n",
    "df = df.sort_values('importance', ascending=False)"
   ]
  },
  {
   "cell_type": "code",
   "execution_count": null,
   "id": "ccc4a7ef",
   "metadata": {
    "scrolled": true
   },
   "outputs": [],
   "source": [
    "#select top 30 features \n",
    "df30= df[:30]\n",
    "df30.columns=['variable', 'importance']\n",
    "df30['variable'] = df30['variable'].apply(lambda x: x.upper())\n",
    "df30 = pd.merge(left=df30, right=cbook, left_on='variable', right_on='variable', how='left')"
   ]
  },
  {
   "cell_type": "code",
   "execution_count": null,
   "id": "280c1abc",
   "metadata": {
    "scrolled": true
   },
   "outputs": [],
   "source": [
    "df30"
   ]
  },
  {
   "cell_type": "code",
   "execution_count": null,
   "id": "81160ffe",
   "metadata": {
    "scrolled": true
   },
   "outputs": [],
   "source": [
    "#confusion matrix\n",
    "classificationSummary(valid_y, xgboost.predict(valid_X))"
   ]
  },
  {
   "cell_type": "markdown",
   "id": "e6957815",
   "metadata": {},
   "source": [
    "#### above shows the problem of imbalanced data"
   ]
  },
  {
   "cell_type": "markdown",
   "id": "1e290685",
   "metadata": {},
   "source": [
    "## 3.6 Apply SMOTE to the training set\n",
    "A problem with imbalanced classification is that there are too few examples of the minority class for a model to effectively learn the decision boundary. One way to solve this problem is to oversample the examples in the minority class. SMOTE works by selecting examples that are close in the feature space, drawing a line between the examples in the feature space and drawing a new sample at a point along that line. Specifically, a random example from the minority class is first chosen. Then k of the nearest neighbors for that example are found (typically k=5). A randomly selected neighbor is chosen and a synthetic example is created at a randomly selected point between the two examples in feature space. (https://machinelearningmastery.com/smote-oversampling-for-imbalanced-classification/)"
   ]
  },
  {
   "cell_type": "code",
   "execution_count": null,
   "id": "de0049d4",
   "metadata": {},
   "outputs": [],
   "source": [
    "import imblearn\n",
    "from collections import Counter\n",
    "from sklearn.datasets import make_classification\n",
    "print(imblearn.__version__)"
   ]
  },
  {
   "cell_type": "code",
   "execution_count": null,
   "id": "224fb39c",
   "metadata": {},
   "outputs": [],
   "source": [
    "#recreate X,y for mild depression\n",
    "target=['mild_dep']\n",
    "drop_features= ['phq9',\n",
    "                'SEQN',\n",
    "                'DPQ010', 'DPQ020', 'DPQ030', 'DPQ040', 'DPQ050', 'DPQ060','DPQ070','DPQ080', 'DPQ090',\n",
    "               'mild_dep', 'sev_dep', 'suicidal', 'mod_dep']\n",
    "X = df_merge[df_merge.columns.drop(drop_features)]\n",
    "y= df_merge[target]\n",
    "#normalize predictors\n",
    "X= normalize_data(X)\n",
    "# training and validation sets split\n",
    "train_X, valid_X, train_y, valid_y = train_test_split(X, y, test_size=0.4, random_state=42, stratify=y)\n",
    "print('Training_X: ', train_X.shape)\n",
    "print('Validation_X: ', valid_X.shape)\n",
    "print('Training_y: ', train_y.shape)\n",
    "print('Validation_y: ', valid_y.shape)"
   ]
  },
  {
   "cell_type": "code",
   "execution_count": null,
   "id": "c9b15f8f",
   "metadata": {
    "scrolled": false
   },
   "outputs": [],
   "source": [
    "train_y.value_counts()"
   ]
  },
  {
   "cell_type": "code",
   "execution_count": null,
   "id": "e07a7060",
   "metadata": {},
   "outputs": [],
   "source": [
    "valid_y.value_counts()"
   ]
  },
  {
   "cell_type": "markdown",
   "id": "07f65965",
   "metadata": {},
   "source": [
    "### The combination of SMOTE and under-sampling (trim the majority class) performs bettern than plain under-sampling (https://arxiv.org/abs/1106.1813)"
   ]
  },
  {
   "cell_type": "code",
   "execution_count": null,
   "id": "3704f89d",
   "metadata": {},
   "outputs": [],
   "source": [
    "from imblearn.over_sampling import SMOTE\n",
    "from imblearn.under_sampling import RandomUnderSampler\n",
    "from imblearn.pipeline import Pipeline"
   ]
  },
  {
   "cell_type": "code",
   "execution_count": null,
   "id": "6a2610f8",
   "metadata": {},
   "outputs": [],
   "source": [
    "#oversample the minority class to have 40% the number of examples of the majority class\n",
    "over = SMOTE(sampling_strategy=0.4)\n",
    "#reduce the number of examples in the majority class to have 50% more than the minority class\n",
    "under = RandomUnderSampler(sampling_strategy=0.5)\n",
    "steps = [('o', over), ('u', under)]\n",
    "pipeline = Pipeline(steps=steps)"
   ]
  },
  {
   "cell_type": "code",
   "execution_count": null,
   "id": "9e3c677d",
   "metadata": {},
   "outputs": [],
   "source": [
    "train_X, train_y=pipeline.fit_resample(train_X, train_y)"
   ]
  },
  {
   "cell_type": "code",
   "execution_count": null,
   "id": "fedcaf05",
   "metadata": {
    "scrolled": true
   },
   "outputs": [],
   "source": [
    "train_y.value_counts()"
   ]
  },
  {
   "cell_type": "code",
   "execution_count": null,
   "id": "dcc6368d",
   "metadata": {},
   "outputs": [],
   "source": [
    "#test set remain the same\n",
    "valid_y.value_counts()"
   ]
  },
  {
   "cell_type": "markdown",
   "id": "f26aedad",
   "metadata": {},
   "source": [
    "### Re-run feature selection using the more balanced data "
   ]
  },
  {
   "cell_type": "code",
   "execution_count": null,
   "id": "bf8e1b3d",
   "metadata": {},
   "outputs": [],
   "source": [
    "xgboost.fit(train_X, train_y)\n",
    "importance= xgboost.feature_importances_\n",
    "columns= df_merge.columns\n",
    "df = pd.DataFrame({'feature': train_X.columns, 'importance': importance})\n",
    "df = df.sort_values('importance', ascending=False)\n",
    "#select top 20 features \n",
    "df20= df[:20]\n",
    "df20.columns=['variable', 'importance']\n",
    "df20['variable'] = df20['variable'].apply(lambda x: x.upper())\n",
    "df20 = pd.merge(left=df20, right=cbook, left_on='variable', right_on='variable', how='left')"
   ]
  },
  {
   "cell_type": "code",
   "execution_count": null,
   "id": "928a91ec",
   "metadata": {
    "scrolled": true
   },
   "outputs": [],
   "source": [
    "df20"
   ]
  },
  {
   "cell_type": "code",
   "execution_count": null,
   "id": "1d44d2e4",
   "metadata": {},
   "outputs": [],
   "source": [
    "df20.to_csv(r'df20.csv')"
   ]
  },
  {
   "cell_type": "markdown",
   "id": "9e0bda0a",
   "metadata": {},
   "source": [
    "### The classification results are improved (more true positive) after balancing data\n",
    "However, this does not fully solve the problem of having way too fewer minority than majority class in the target variable. One could applied resampling strategies as we did to both training and testing sets to get a better results in this regards. But we decided to remain the testing set \"real\" to reduced bias from resampling. "
   ]
  },
  {
   "cell_type": "code",
   "execution_count": null,
   "id": "ae82d3e0",
   "metadata": {
    "scrolled": true
   },
   "outputs": [],
   "source": [
    "classificationSummary(valid_y, xgboost.predict(valid_X))"
   ]
  },
  {
   "cell_type": "markdown",
   "id": "99f5f01f",
   "metadata": {},
   "source": [
    "## 3.7 Selected variables and correlation matrix "
   ]
  },
  {
   "cell_type": "code",
   "execution_count": null,
   "id": "f9b70f44",
   "metadata": {},
   "outputs": [],
   "source": [
    "var_list= df20.variable.tolist()\n",
    "var_list.append('mild_dep')\n",
    "print(var_list)"
   ]
  },
  {
   "cell_type": "code",
   "execution_count": null,
   "id": "d8670aff",
   "metadata": {},
   "outputs": [],
   "source": [
    "#final dfs of balanced training data \n",
    "train_y= train_y.filter(var_list)\n",
    "train_X= train_X.filter(var_list)\n",
    "#final testing set \n",
    "valid_y= valid_y.filter(var_list)\n",
    "valid_X= valid_X.filter(var_list)"
   ]
  },
  {
   "cell_type": "code",
   "execution_count": null,
   "id": "948b60cf",
   "metadata": {
    "scrolled": false
   },
   "outputs": [],
   "source": [
    "train_y.value_counts()"
   ]
  },
  {
   "cell_type": "code",
   "execution_count": null,
   "id": "20052b84",
   "metadata": {},
   "outputs": [],
   "source": [
    "valid_y.value_counts()"
   ]
  },
  {
   "cell_type": "code",
   "execution_count": null,
   "id": "f9e8ebc1",
   "metadata": {},
   "outputs": [],
   "source": [
    "ax=plt.subplots(figsize=(6,6))\n",
    "corr=train_X.corr()\n",
    "sns.heatmap(corr, cmap=sns.cm.rocket_r)"
   ]
  },
  {
   "cell_type": "code",
   "execution_count": null,
   "id": "e2ad9be8",
   "metadata": {},
   "outputs": [],
   "source": [
    "#get highly correlated pairs, ranked by absolute correlation values \n",
    "def get_redundant_pairs(df):\n",
    "    '''Get diagonal and lower triangular pairs of correlation matrix'''\n",
    "    pairs_to_drop = set()\n",
    "    cols = df.columns\n",
    "    for i in range(0, df.shape[1]):\n",
    "        for j in range(0, i+1):\n",
    "            pairs_to_drop.add((cols[i], cols[j]))\n",
    "    return pairs_to_drop\n",
    "\n",
    "def get_top_abs_correlations(df, n=5):\n",
    "    au_corr = df.corr().abs().unstack()\n",
    "    labels_to_drop = get_redundant_pairs(df)\n",
    "    au_corr = au_corr.drop(labels=labels_to_drop).sort_values(ascending=False)\n",
    "    return au_corr[0:n]"
   ]
  },
  {
   "cell_type": "code",
   "execution_count": null,
   "id": "3fdb1609",
   "metadata": {},
   "outputs": [],
   "source": [
    "get_top_abs_correlations(train_X, 10)"
   ]
  },
  {
   "cell_type": "markdown",
   "id": "d5032a7d",
   "metadata": {},
   "source": [
    "Narrowed down to 20 predictors; some of them are correlated but since we are interested in prediction instead of inference, this level of multicolineraity between variables is acceptable."
   ]
  },
  {
   "cell_type": "code",
   "execution_count": null,
   "id": "4b837f09",
   "metadata": {},
   "outputs": [],
   "source": [
    "train_X.shape"
   ]
  },
  {
   "cell_type": "markdown",
   "id": "56b8f80a",
   "metadata": {},
   "source": [
    "# 4. Shortlist promising models "
   ]
  },
  {
   "cell_type": "markdown",
   "id": "11c9d6ba",
   "metadata": {},
   "source": [
    "The training set is used to fit a few candidate models with repeated 10-folds cross-validation. We evaluated these models using average accuracy scores and average Receiver Operation Characteristics (ROC) Area Under Curve (AUC) scores from the cross-validation. The AUC score is a more unbiased estimate with imbalanced classification like ours (Brownlee, 2021). After an optimal model is selected based on the best cross-validation results, we re-trained the selected model using the full training set. This trained model would be our final model and its performance would be evaluated for its AUC score using the held-out test set. \n",
    "\n",
    "We used multiple supervised learning models for classification of moderate depression. We started with a **logistic regression** model and a **decision tree classification** as our baseline models. We then used ensemble methods that synthesize the results of multiple learning algorithms to achieve better predictive performance over a single estimator. These ensemble models include **random forests, adaptive boosting, and gradient boosting**. Grid search was used in tuning hyper-parameters of these models for the best performance."
   ]
  },
  {
   "cell_type": "markdown",
   "id": "530c648a",
   "metadata": {},
   "source": [
    "## 4.1 Baseline model: logistic regression "
   ]
  },
  {
   "cell_type": "code",
   "execution_count": null,
   "id": "57872fa3",
   "metadata": {
    "scrolled": false
   },
   "outputs": [],
   "source": [
    "from sklearn.linear_model import LogisticRegression\n",
    "logit=LogisticRegression()\n",
    "logit.fit(train_X, train_y)"
   ]
  },
  {
   "cell_type": "code",
   "execution_count": null,
   "id": "718e8bfb",
   "metadata": {},
   "outputs": [],
   "source": [
    "classificationSummary(train_y, logit.predict(train_X))"
   ]
  },
  {
   "cell_type": "code",
   "execution_count": null,
   "id": "3ee32e59",
   "metadata": {},
   "outputs": [],
   "source": [
    "from sklearn.model_selection import KFold, cross_val_score\n",
    "from numpy import mean\n",
    "from numpy import std\n",
    "#cross-validation \n",
    "cv = KFold(n_splits=10, random_state=1, shuffle=True)\n",
    "# evaluate model\n",
    "scores = cross_val_score(logit, train_X,train_y, scoring='accuracy', cv=cv, n_jobs=-1)\n",
    "# report performance\n",
    "print('Accuracy: %.3f (%.3f)' % (mean(scores), std(scores)))"
   ]
  },
  {
   "cell_type": "code",
   "execution_count": null,
   "id": "ddfd47c7",
   "metadata": {},
   "outputs": [],
   "source": [
    "coef= logit.coef_\n",
    "coef= coef.flatten()\n",
    "columns= train_X.columns\n",
    "df = pd.DataFrame({'feature': columns, \n",
    "                   'coefficients': coef})\n",
    "df = df.sort_values('coefficients', ascending=False)\n",
    "df.columns=['variable', 'coefficients']\n",
    "df['variable'] = df['variable'].apply(lambda x: x.upper())\n",
    "df = pd.merge(left=df, right=cbook, left_on='variable', right_on='variable', how='left')"
   ]
  },
  {
   "cell_type": "code",
   "execution_count": null,
   "id": "71c6f975",
   "metadata": {
    "scrolled": true
   },
   "outputs": [],
   "source": [
    "df"
   ]
  },
  {
   "cell_type": "code",
   "execution_count": null,
   "id": "79a2c805",
   "metadata": {},
   "outputs": [],
   "source": [
    "import statsmodels.api as sm\n",
    "logitsm= sm.Logit(train_y, train_X).fit()\n",
    "logitsm.summary()"
   ]
  },
  {
   "cell_type": "markdown",
   "id": "8df0bb67",
   "metadata": {},
   "source": [
    "### ROC curve"
   ]
  },
  {
   "cell_type": "code",
   "execution_count": null,
   "id": "b44f7f27",
   "metadata": {},
   "outputs": [],
   "source": [
    "from sklearn.svm import SVC\n",
    "from sklearn.metrics import roc_curve\n",
    "from sklearn.metrics import auc\n",
    "import matplotlib.pyplot as plt\n",
    "import numpy as np\n",
    "from sklearn.metrics import RocCurveDisplay\n",
    "from scipy import interp"
   ]
  },
  {
   "cell_type": "code",
   "execution_count": null,
   "id": "50b65421",
   "metadata": {},
   "outputs": [],
   "source": [
    "fig2 = plt.figure(figsize=[6,6])\n",
    "clf= logit\n",
    "tprs = []\n",
    "aucs = []\n",
    "mean_fpr = np.linspace(0,1,100)\n",
    "i = 1\n",
    "for train,test in cv.split(train_X,train_y):\n",
    "    prediction = clf.fit(train_X.iloc[train],train_y.iloc[train]).predict_proba(train_X.iloc[test])\n",
    "    fpr, tpr, t = roc_curve(train_y.iloc[test], prediction[:, 1])\n",
    "    tprs.append(interp(mean_fpr, fpr, tpr))\n",
    "    roc_auc = auc(fpr, tpr)\n",
    "    aucs.append(roc_auc)\n",
    "    plt.plot(fpr, tpr, lw=2, alpha=0.3, label='ROC fold %d (AUC = %0.3f)' % (i, roc_auc))\n",
    "    i= i+1\n",
    "\n",
    "plt.plot([0,1],[0,1],linestyle = '--',lw = 2,color = 'black')\n",
    "mean_tpr = np.mean(tprs, axis=0)\n",
    "mean_auc = auc(mean_fpr, mean_tpr)\n",
    "plt.plot(mean_fpr, mean_tpr, color='blue',\n",
    "         label=r'Mean ROC (AUC = %0.3f )' % (mean_auc),lw=2, alpha=1)\n",
    "\n",
    "plt.xlabel('False Positive Rate')\n",
    "plt.ylabel('True Positive Rate')\n",
    "plt.title('ROC of logistic regression with 10-fold cross validation')\n",
    "plt.legend(loc=\"lower right\")\n",
    "plt.text(0.32,0.7,'More accurate area',fontsize = 12)\n",
    "plt.text(0.63,0.4,'Less accurate area',fontsize = 12)\n",
    "plt.show()"
   ]
  },
  {
   "cell_type": "markdown",
   "id": "88d4dabf",
   "metadata": {},
   "source": [
    "## 4.2 Baseline model: Decision tree classifier"
   ]
  },
  {
   "cell_type": "code",
   "execution_count": null,
   "id": "50ffd774",
   "metadata": {},
   "outputs": [],
   "source": [
    "from sklearn.tree import DecisionTreeClassifier\n",
    "from sklearn.model_selection import train_test_split,cross_val_score,GridSearchCV,RandomizedSearchCV \n",
    "\n",
    "param_grid = {\n",
    "    'criterion': ['gini', 'entropy'],\n",
    "    'splitter': ['best', 'random'],\n",
    "    'max_depth': list(range(2,10)), \n",
    "    'min_samples_split': list(range(2,6))\n",
    "}\n",
    "\n",
    "gridSearch = GridSearchCV(DecisionTreeClassifier(random_state=42), param_grid, cv=5, \n",
    "                          n_jobs=-1)\n",
    "gridSearch.fit(train_X, train_y)\n",
    "print('initial score: ', gridSearch.best_score_)\n",
    "print('parameters: ', gridSearch.best_params_)\n",
    "\n",
    "dtree = gridSearch.best_estimator_"
   ]
  },
  {
   "cell_type": "code",
   "execution_count": null,
   "id": "569139bb",
   "metadata": {},
   "outputs": [],
   "source": [
    "#cross-validation using training set\n",
    "cv = KFold(n_splits=10, random_state=1, shuffle=True)\n",
    "# evaluate model\n",
    "scores = cross_val_score(dtree, train_X,train_y, scoring='accuracy', cv=cv, n_jobs=-1)\n",
    "# report performance\n",
    "print('Accuracy: %.3f (%.3f)' % (mean(scores), std(scores)))"
   ]
  },
  {
   "cell_type": "code",
   "execution_count": null,
   "id": "d3aa3ed5",
   "metadata": {
    "scrolled": true
   },
   "outputs": [],
   "source": [
    "fig2 = plt.figure(figsize=[6,6])\n",
    "clf= dtree\n",
    "tprs = []\n",
    "aucs = []\n",
    "mean_fpr = np.linspace(0,1,100)\n",
    "i = 1\n",
    "for train,test in cv.split(train_X,train_y):\n",
    "    prediction = clf.fit(train_X.iloc[train],train_y.iloc[train]).predict_proba(train_X.iloc[test])\n",
    "    fpr, tpr, t = roc_curve(train_y.iloc[test], prediction[:, 1])\n",
    "    tprs.append(interp(mean_fpr, fpr, tpr))\n",
    "    roc_auc = auc(fpr, tpr)\n",
    "    aucs.append(roc_auc)\n",
    "    plt.plot(fpr, tpr, lw=2, alpha=0.3, label='ROC fold %d (AUC = %0.3f)' % (i, roc_auc))\n",
    "    i= i+1\n",
    "\n",
    "plt.plot([0,1],[0,1],linestyle = '--',lw = 2,color = 'black')\n",
    "mean_tpr = np.mean(tprs, axis=0)\n",
    "mean_auc = auc(mean_fpr, mean_tpr)\n",
    "plt.plot(mean_fpr, mean_tpr, color='blue',\n",
    "         label=r'Mean ROC (AUC = %0.3f )' % (mean_auc),lw=2, alpha=1)\n",
    "\n",
    "plt.xlabel('False Positive Rate')\n",
    "plt.ylabel('True Positive Rate')\n",
    "plt.title('ROC of decision tree classifier with 10-fold cross validation')\n",
    "plt.legend(loc=\"lower right\")\n",
    "plt.text(0.32,0.7,'More accurate area',fontsize = 12)\n",
    "plt.text(0.63,0.4,'Less accurate area',fontsize = 12)\n",
    "plt.show()"
   ]
  },
  {
   "cell_type": "markdown",
   "id": "6c6a2b39",
   "metadata": {},
   "source": [
    "## 4.3 Tree-based ensemble classification models: Random Forest"
   ]
  },
  {
   "cell_type": "code",
   "execution_count": null,
   "id": "99ec8654",
   "metadata": {},
   "outputs": [],
   "source": [
    "from sklearn.ensemble import RandomForestClassifier\n",
    "from sklearn.model_selection import train_test_split,cross_val_score,GridSearchCV,RandomizedSearchCV \n",
    "\n",
    "param_grid = {\n",
    "    'max_leaf_nodes': list(range(2, 100)),\n",
    "    'min_samples_split': [3,4,5,7]\n",
    "}\n",
    "gridSearch = GridSearchCV(RandomForestClassifier(random_state=42), param_grid, cv=5, \n",
    "                          n_jobs=-1)\n",
    "gridSearch.fit(train_X, train_y)\n",
    "print('initial score: ', gridSearch.best_score_)\n",
    "print('parameters: ', gridSearch.best_params_)\n",
    "\n",
    "rf = gridSearch.best_estimator_"
   ]
  },
  {
   "cell_type": "code",
   "execution_count": null,
   "id": "39fceb58",
   "metadata": {},
   "outputs": [],
   "source": [
    "#cross-validation using training set\n",
    "cv = KFold(n_splits=10, random_state=1, shuffle=True)\n",
    "# evaluate model\n",
    "scores = cross_val_score(rf, train_X,train_y, scoring='accuracy', cv=cv, n_jobs=-1)\n",
    "# report performance\n",
    "print('Accuracy: %.3f (%.3f)' % (mean(scores), std(scores)))"
   ]
  },
  {
   "cell_type": "markdown",
   "id": "cd3c011f",
   "metadata": {},
   "source": [
    "### ROC curve"
   ]
  },
  {
   "cell_type": "code",
   "execution_count": null,
   "id": "3c94e624",
   "metadata": {},
   "outputs": [],
   "source": [
    "fig2 = plt.figure(figsize=[6,6])\n",
    "clf= rf\n",
    "tprs = []\n",
    "aucs = []\n",
    "mean_fpr = np.linspace(0,1,100)\n",
    "i = 1\n",
    "for train,test in cv.split(train_X,train_y):\n",
    "    prediction = clf.fit(train_X.iloc[train],train_y.iloc[train]).predict_proba(train_X.iloc[test])\n",
    "    fpr, tpr, t = roc_curve(train_y.iloc[test], prediction[:, 1])\n",
    "    tprs.append(interp(mean_fpr, fpr, tpr))\n",
    "    roc_auc = auc(fpr, tpr)\n",
    "    aucs.append(roc_auc)\n",
    "    plt.plot(fpr, tpr, lw=2, alpha=0.3, label='ROC fold %d (AUC = %0.3f)' % (i, roc_auc))\n",
    "    i= i+1\n",
    "\n",
    "plt.plot([0,1],[0,1],linestyle = '--',lw = 2,color = 'black')\n",
    "mean_tpr = np.mean(tprs, axis=0)\n",
    "mean_auc = auc(mean_fpr, mean_tpr)\n",
    "plt.plot(mean_fpr, mean_tpr, color='blue',\n",
    "         label=r'Mean ROC (AUC = %0.3f )' % (mean_auc),lw=2, alpha=1)\n",
    "\n",
    "plt.xlabel('False Positive Rate')\n",
    "plt.ylabel('True Positive Rate')\n",
    "plt.title('random forest classification')\n",
    "plt.legend(loc=\"lower right\")\n",
    "plt.text(0.32,0.7,'More accurate area',fontsize = 12)\n",
    "plt.text(0.63,0.4,'Less accurate area',fontsize = 12)\n",
    "plt.show()"
   ]
  },
  {
   "cell_type": "markdown",
   "id": "55c3c346",
   "metadata": {},
   "source": [
    "## 4.4 Tree-based ensemble classification models: AdaBoost "
   ]
  },
  {
   "cell_type": "code",
   "execution_count": null,
   "id": "6072d021",
   "metadata": {},
   "outputs": [],
   "source": [
    "from sklearn.ensemble import AdaBoostClassifier\n",
    "\n",
    "param_grid = {\n",
    "    'n_estimators': [40, 50, 60],\n",
    "    'learning_rate': [1, 1.2, 1.5, 1.9]\n",
    "}\n",
    "gridSearch = GridSearchCV(AdaBoostClassifier(random_state=42), param_grid, cv=5, \n",
    "                          n_jobs=-1)\n",
    "gridSearch.fit(train_X, train_y)\n",
    "print('initial score: ', gridSearch.best_score_)\n",
    "print('parameters: ', gridSearch.best_params_)\n",
    "\n",
    "ada = gridSearch.best_estimator_"
   ]
  },
  {
   "cell_type": "code",
   "execution_count": null,
   "id": "d771eaf2",
   "metadata": {},
   "outputs": [],
   "source": [
    "#cross-validation using training set\n",
    "cv = KFold(n_splits=10, random_state=1, shuffle=True)\n",
    "# evaluate model\n",
    "scores = cross_val_score(ada, train_X,train_y, scoring='accuracy', cv=cv, n_jobs=-1)\n",
    "# report performance\n",
    "print('Accuracy: %.3f (%.3f)' % (mean(scores), std(scores)))"
   ]
  },
  {
   "cell_type": "markdown",
   "id": "3427254b",
   "metadata": {},
   "source": [
    "### ROC curve "
   ]
  },
  {
   "cell_type": "code",
   "execution_count": null,
   "id": "cfda5d6b",
   "metadata": {},
   "outputs": [],
   "source": [
    "fig3 = plt.figure(figsize=[6,6])\n",
    "clf= ada\n",
    "tprs = []\n",
    "aucs = []\n",
    "mean_fpr = np.linspace(0,1,100)\n",
    "i = 1\n",
    "for train,test in cv.split(train_X,train_y):\n",
    "    prediction = clf.fit(train_X.iloc[train],train_y.iloc[train]).predict_proba(train_X.iloc[test])\n",
    "    fpr, tpr, t = roc_curve(train_y.iloc[test], prediction[:, 1])\n",
    "    tprs.append(interp(mean_fpr, fpr, tpr))\n",
    "    roc_auc = auc(fpr, tpr)\n",
    "    aucs.append(roc_auc)\n",
    "    plt.plot(fpr, tpr, lw=2, alpha=0.3, label='ROC fold %d (AUC = %0.3f)' % (i, roc_auc))\n",
    "    i= i+1\n",
    "\n",
    "plt.plot([0,1],[0,1],linestyle = '--',lw = 2,color = 'black')\n",
    "mean_tpr = np.mean(tprs, axis=0)\n",
    "mean_auc = auc(mean_fpr, mean_tpr)\n",
    "plt.plot(mean_fpr, mean_tpr, color='blue',\n",
    "         label=r'Mean ROC (AUC = %0.3f )' % (mean_auc),lw=2, alpha=1)\n",
    "\n",
    "plt.xlabel('False Positive Rate')\n",
    "plt.ylabel('True Positive Rate')\n",
    "plt.title('adaptive boosting')\n",
    "plt.legend(loc=\"lower right\")\n",
    "plt.text(0.32,0.7,'More accurate area',fontsize = 12)\n",
    "plt.text(0.63,0.4,'Less accurate area',fontsize = 12)\n",
    "plt.show()"
   ]
  },
  {
   "cell_type": "markdown",
   "id": "5bb2552b",
   "metadata": {},
   "source": [
    "## 4.5 Tree-based ensemble classification models: Gradient Boosting "
   ]
  },
  {
   "cell_type": "code",
   "execution_count": null,
   "id": "bf99d588",
   "metadata": {},
   "outputs": [],
   "source": [
    "from sklearn.ensemble import GradientBoostingClassifier\n",
    "\n",
    "param_grid = {\n",
    "    'n_estimators': [60, 70, 80],\n",
    "    'max_depth': [ 7,8,9], \n",
    "    'min_impurity_decrease': [0.1, 0.2, 0.3]\n",
    "}\n",
    "gridSearch = GridSearchCV(GradientBoostingClassifier(random_state=42), param_grid, cv=5, \n",
    "                          n_jobs=-1)\n",
    "gridSearch.fit(train_X, train_y)\n",
    "print('initial score: ', gridSearch.best_score_)\n",
    "print('parameters: ', gridSearch.best_params_)\n",
    "\n",
    "gradient = gridSearch.best_estimator_"
   ]
  },
  {
   "cell_type": "code",
   "execution_count": null,
   "id": "b6b77f68",
   "metadata": {},
   "outputs": [],
   "source": [
    "#cross-validation using training set\n",
    "cv = KFold(n_splits=10, random_state=1, shuffle=True)\n",
    "# evaluate model\n",
    "scores = cross_val_score(gradient, train_X,train_y, scoring='accuracy', cv=cv, n_jobs=-1)\n",
    "# report performance\n",
    "print('Accuracy: %.3f (%.3f)' % (mean(scores), std(scores)))"
   ]
  },
  {
   "cell_type": "code",
   "execution_count": null,
   "id": "a5acd0ad",
   "metadata": {},
   "outputs": [],
   "source": [
    "fig4 = plt.figure(figsize=[6,6])\n",
    "clf= gradient\n",
    "tprs = []\n",
    "aucs = []\n",
    "mean_fpr = np.linspace(0,1,100)\n",
    "i = 1\n",
    "for train,test in cv.split(train_X,train_y):\n",
    "    prediction = clf.fit(train_X.iloc[train],train_y.iloc[train]).predict_proba(train_X.iloc[test])\n",
    "    fpr, tpr, t = roc_curve(train_y.iloc[test], prediction[:, 1])\n",
    "    tprs.append(interp(mean_fpr, fpr, tpr))\n",
    "    roc_auc = auc(fpr, tpr)\n",
    "    aucs.append(roc_auc)\n",
    "    plt.plot(fpr, tpr, lw=2, alpha=0.3, label='ROC fold %d (AUC = %0.3f)' % (i, roc_auc))\n",
    "    i= i+1\n",
    "\n",
    "plt.plot([0,1],[0,1],linestyle = '--',lw = 2,color = 'black')\n",
    "mean_tpr = np.mean(tprs, axis=0)\n",
    "mean_auc = auc(mean_fpr, mean_tpr)\n",
    "plt.plot(mean_fpr, mean_tpr, color='blue',\n",
    "         label=r'Mean ROC (AUC = %0.3f )' % (mean_auc),lw=2, alpha=1)\n",
    "\n",
    "plt.xlabel('False Positive Rate')\n",
    "plt.ylabel('True Positive Rate')\n",
    "plt.title('gradient boosting')\n",
    "plt.legend(loc=\"lower right\")\n",
    "plt.text(0.32,0.7,'More accurate area',fontsize = 12)\n",
    "plt.text(0.63,0.4,'Less accurate area',fontsize = 12)\n",
    "plt.show()"
   ]
  },
  {
   "cell_type": "markdown",
   "id": "3be8eee6",
   "metadata": {},
   "source": [
    "## 4.6 Tree-based ensemble classification models: XGBoost "
   ]
  },
  {
   "cell_type": "code",
   "execution_count": null,
   "id": "e9de4e59",
   "metadata": {},
   "outputs": [],
   "source": [
    "param_grid = {\n",
    "    'n_estimators': [60, 70, 80],\n",
    "    'max_depth': [ 7,8,9], \n",
    "    'min_impurity_decrease': [0.1, 0.2, 0.3]\n",
    "}\n",
    "gridSearch = GridSearchCV(XGBClassifier(random_state=42), param_grid, cv=5, \n",
    "                          n_jobs=-1)\n",
    "gridSearch.fit(train_X, train_y)\n",
    "print('initial score: ', gridSearch.best_score_)\n",
    "print('parameters: ', gridSearch.best_params_)\n",
    "\n",
    "xgboost = gridSearch.best_estimator_"
   ]
  },
  {
   "cell_type": "code",
   "execution_count": null,
   "id": "587af024",
   "metadata": {},
   "outputs": [],
   "source": [
    "#cross-validation using training set\n",
    "cv = KFold(n_splits=10, random_state=1, shuffle=True)\n",
    "# evaluate model\n",
    "scores = cross_val_score(xgboost, train_X,train_y, scoring='accuracy', cv=cv, n_jobs=-1)\n",
    "# report performance\n",
    "print('Accuracy: %.3f (%.3f)' % (mean(scores), std(scores)))"
   ]
  },
  {
   "cell_type": "code",
   "execution_count": null,
   "id": "413eb2f9",
   "metadata": {},
   "outputs": [],
   "source": [
    "fig5 = plt.figure(figsize=[6,6])\n",
    "clf= xgboost\n",
    "tprs = []\n",
    "aucs = []\n",
    "mean_fpr = np.linspace(0,1,100)\n",
    "i = 1\n",
    "for train,test in cv.split(train_X,train_y):\n",
    "    prediction = clf.fit(train_X.iloc[train],train_y.iloc[train]).predict_proba(train_X.iloc[test])\n",
    "    fpr, tpr, t = roc_curve(train_y.iloc[test], prediction[:, 1])\n",
    "    tprs.append(interp(mean_fpr, fpr, tpr))\n",
    "    roc_auc = auc(fpr, tpr)\n",
    "    aucs.append(roc_auc)\n",
    "    plt.plot(fpr, tpr, lw=2, alpha=0.3, label='ROC fold %d (AUC = %0.3f)' % (i, roc_auc))\n",
    "    i= i+1\n",
    "\n",
    "plt.plot([0,1],[0,1],linestyle = '--',lw = 2,color = 'black')\n",
    "mean_tpr = np.mean(tprs, axis=0)\n",
    "mean_auc = auc(mean_fpr, mean_tpr)\n",
    "plt.plot(mean_fpr, mean_tpr, color='blue',\n",
    "         label=r'Mean ROC (AUC = %0.3f )' % (mean_auc),lw=2, alpha=1)\n",
    "\n",
    "plt.xlabel('False Positive Rate')\n",
    "plt.ylabel('True Positive Rate')\n",
    "plt.title('xgboost')\n",
    "plt.legend(loc=\"lower right\")\n",
    "plt.text(0.32,0.7,'More accurate area',fontsize = 12)\n",
    "plt.text(0.63,0.4,'Less accurate area',fontsize = 12)\n",
    "plt.show()"
   ]
  },
  {
   "cell_type": "markdown",
   "id": "0acc5245",
   "metadata": {},
   "source": [
    "# 5. Evaluate the best model in the testing set"
   ]
  },
  {
   "cell_type": "markdown",
   "id": "552ddf17",
   "metadata": {},
   "source": [
    "## 5.1 Test it in the held-out test set "
   ]
  },
  {
   "cell_type": "code",
   "execution_count": null,
   "id": "b0eb9077",
   "metadata": {
    "scrolled": true
   },
   "outputs": [],
   "source": [
    "valid_y.value_counts()"
   ]
  },
  {
   "cell_type": "code",
   "execution_count": null,
   "id": "a4cd3acc",
   "metadata": {},
   "outputs": [],
   "source": [
    "valid_X.shape"
   ]
  },
  {
   "cell_type": "markdown",
   "id": "f528f9e3",
   "metadata": {},
   "source": [
    "We decide to use the Random Forest model as the final model because it has the highest AUC, which is our major consideration of model performance. It also has a pretty high accuracy score, very close to the highest ones achieved by AdaBoost and Gradient Boosting."
   ]
  },
  {
   "cell_type": "code",
   "execution_count": null,
   "id": "89732d5a",
   "metadata": {},
   "outputs": [],
   "source": [
    "#retrain the selected model with full training set \n",
    "rf= sklearn.base.clone(rf)\n",
    "rf.fit(train_X, train_y)\n",
    "#test in the hold-out test set\n",
    "classificationSummary(valid_y, rf.predict(valid_X))"
   ]
  },
  {
   "cell_type": "code",
   "execution_count": null,
   "id": "171f22a3",
   "metadata": {},
   "outputs": [],
   "source": [
    "from sklearn import metrics\n",
    "y_pred_proba = rf.predict_proba(valid_X)[::,1]\n",
    "\n",
    "#calculate AUC of model\n",
    "auc = metrics.roc_auc_score(valid_y, y_pred_proba)\n",
    "\n",
    "#print AUC score\n",
    "print(auc)"
   ]
  },
  {
   "cell_type": "code",
   "execution_count": null,
   "id": "a74cef4a",
   "metadata": {
    "scrolled": false
   },
   "outputs": [],
   "source": [
    "from sklearn.metrics import plot_roc_curve\n",
    "\n",
    "plot_roc_curve(rf, valid_X, valid_y)"
   ]
  },
  {
   "cell_type": "markdown",
   "id": "443c27eb",
   "metadata": {},
   "source": [
    "For model performance, we are more interested in AUC than accuracy scores because of our imbalanced data as well as our research aim, where we care about the sensitivity and specificity of our model. Our final best model has an AUC of 0.82. In general, 0.7 to 0.8 is considered acceptable, 0.8 to 0.9 is considered excellent, and more than 0.9 is considered outstanding."
   ]
  },
  {
   "cell_type": "markdown",
   "id": "31ff4486",
   "metadata": {},
   "source": [
    "## 5.2 Final visualization"
   ]
  },
  {
   "cell_type": "code",
   "execution_count": null,
   "id": "148c29f3",
   "metadata": {},
   "outputs": [],
   "source": [
    "def plot_feature_importance(importance,names,model_type):\n",
    "    #Create arrays from feature importance and feature names\n",
    "    feature_importance = np.array(importance)\n",
    "    feature_names = np.array(names)\n",
    "    #Create a DataFrame using a Dictionary\n",
    "    data={'feature_names':feature_names,'feature_importance':feature_importance}\n",
    "    fi_df = pd.DataFrame(data)\n",
    "    #Sort the DataFrame in order decreasing feature importance\n",
    "    fi_df.sort_values(by=['feature_importance'], ascending=False,inplace=True)\n",
    "    #Define size of bar plot\n",
    "    plt.figure(figsize=(10,8))\n",
    "    #Plot Searborn bar chart\n",
    "    sns.barplot(x=fi_df['feature_importance'], y=fi_df['feature_names'])\n",
    "    #Add chart labels\n",
    "    plt.title(model_type + 'FEATURE IMPORTANCE')\n",
    "    plt.xlabel('FEATURE IMPORTANCE')\n",
    "    plt.ylabel('FEATURE NAMES')"
   ]
  },
  {
   "cell_type": "code",
   "execution_count": null,
   "id": "d2f9d3eb",
   "metadata": {},
   "outputs": [],
   "source": [
    "#add codebook names \n",
    "importance= rf.feature_importances_\n",
    "columns= train_X.columns\n",
    "df = pd.DataFrame({'feature': columns, \n",
    "                   'importance': importance})\n",
    "df = df.sort_values('importance', ascending=False)\n",
    "df.columns=['variable', 'importance']\n",
    "df['variable'] = df['variable'].apply(lambda x: x.upper())\n",
    "df = pd.merge(left=df, right=cbook, left_on='variable', right_on='variable', how='left')"
   ]
  },
  {
   "cell_type": "code",
   "execution_count": null,
   "id": "8269c61b",
   "metadata": {
    "scrolled": true
   },
   "outputs": [],
   "source": [
    "plot_feature_importance(rf.feature_importances_,df.label,'RANDOM FOREST ')"
   ]
  }
 ],
 "metadata": {
  "kernelspec": {
   "display_name": "Python 3",
   "language": "python",
   "name": "python3"
  },
  "language_info": {
   "codemirror_mode": {
    "name": "ipython",
    "version": 3
   },
   "file_extension": ".py",
   "mimetype": "text/x-python",
   "name": "python",
   "nbconvert_exporter": "python",
   "pygments_lexer": "ipython3",
   "version": "3.8.8"
  }
 },
 "nbformat": 4,
 "nbformat_minor": 5
}
